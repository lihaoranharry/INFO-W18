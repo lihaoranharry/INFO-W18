{
 "cells": [
  {
   "cell_type": "markdown",
   "metadata": {},
   "source": [
    "# Object-Oriented Programming"
   ]
  },
  {
   "cell_type": "markdown",
   "metadata": {},
   "source": [
    "You don't always need clsses. For smll software projects, or for a script to run a one-time analysis of a data set, it is okay to program in a script style.\n",
    "\n",
    "But as they grow larger -> onject oriented programming\n",
    "    \n",
    "    Codig becomes a process of desingning types and the interfaces that governtheir interaction\n",
    "    \n",
    "When program gets bigger and classes might be similar, we need **inheritance** (a relationship between classes )\n",
    "\n",
    "when we create a class, we can also specify a parent clas. a child class inherits the attributes of its parent. The child class can also define new attributes, or overwrite those of its parent.\n",
    "\n",
    "One class can have multiple children. in fact a class can have multiple parents in Python too.\n",
    "\n",
    "Python has an entire hierarchy of classes and we add on to that hierarchy when we make our own classes. \n",
    "    at the very top of the hierachy is the class \"object\" everthing we create actually inherie from this object class.\n",
    "\n",
    "suppose we want a variable, self.x or a method, self.x() inside an object. How does Python find the attribute?\n",
    "\n",
    "1. Look in the instance for attribute \n",
    "2. If not in the instance, look to the object's class for attribute \n",
    "3. if not in the object's class, look up the hierarchy of that class for attribute.\n",
    "4. if you hit object, then the attribute does not exist \n",
    "\n",
    "Benefits of Inheritance \n",
    "\n",
    "- Inheritancs allows subclasses to reuse coode found in parent class \n",
    "\n",
    "- Instead of writing a class from scratch, one can try to specialize an existing class by extending it.\n",
    "\n",
    "- Parent clss can define an interface that allows many subclasses to interact with a program \n",
    "\n",
    "- inheritance allows a programmer to organize related objects.\n"
   ]
  },
  {
   "cell_type": "markdown",
   "metadata": {
    "collapsed": true
   },
   "source": [
    "## Class inheritance "
   ]
  },
  {
   "cell_type": "markdown",
   "metadata": {},
   "source": [
    "### simulations \n",
    "\n",
    "Stochastic Process  : a single varibale changes over time \n",
    "\n",
    "(we are looking at discrete time) stochastic process $x_1$ $x_2$ ...\n",
    "\n"
   ]
  },
  {
   "cell_type": "markdown",
   "metadata": {},
   "source": [
    "e.g.\n",
    "\n",
    "1. stock price over time \n",
    "2. measurements of solar radiation for each day \n",
    "3. average planetary surface temperature "
   ]
  },
  {
   "cell_type": "code",
   "execution_count": 39,
   "metadata": {
    "collapsed": true
   },
   "outputs": [],
   "source": [
    "class Process:\n",
    "    \"\"\"Represetation of Stochastic Process\"\"\"\n",
    "    \n",
    "    def __init__(self, start_value = 0):\n",
    "        self.value = start_value # define an attribute \n",
    "    \n",
    "    def time_step(self):\n",
    "        raise NotImplementedError()\n",
    "        #pass #pass basiclly means does nothing \n",
    "    "
   ]
  },
  {
   "cell_type": "code",
   "execution_count": 40,
   "metadata": {
    "collapsed": false
   },
   "outputs": [
    {
     "ename": "NotImplementedError",
     "evalue": "",
     "output_type": "error",
     "traceback": [
      "\u001b[1;31m---------------------------------------------------------------------------\u001b[0m",
      "\u001b[1;31mNotImplementedError\u001b[0m                       Traceback (most recent call last)",
      "\u001b[1;32m<ipython-input-40-96d0c33b6112>\u001b[0m in \u001b[0;36m<module>\u001b[1;34m()\u001b[0m\n\u001b[0;32m      1\u001b[0m \u001b[0mp1\u001b[0m \u001b[1;33m=\u001b[0m \u001b[0mProcess\u001b[0m\u001b[1;33m(\u001b[0m\u001b[1;33m)\u001b[0m \u001b[1;31m# define a variable p1\u001b[0m\u001b[1;33m\u001b[0m\u001b[0m\n\u001b[1;32m----> 2\u001b[1;33m \u001b[0mp1\u001b[0m\u001b[1;33m.\u001b[0m\u001b[0mtime_step\u001b[0m\u001b[1;33m(\u001b[0m\u001b[1;33m)\u001b[0m \u001b[1;31m# call the time_step() method\u001b[0m\u001b[1;33m\u001b[0m\u001b[0m\n\u001b[0m",
      "\u001b[1;32m<ipython-input-39-53098bdcd76b>\u001b[0m in \u001b[0;36mtime_step\u001b[1;34m(self)\u001b[0m\n\u001b[0;32m      5\u001b[0m \u001b[1;33m\u001b[0m\u001b[0m\n\u001b[0;32m      6\u001b[0m     \u001b[1;32mdef\u001b[0m \u001b[0mtime_step\u001b[0m\u001b[1;33m(\u001b[0m\u001b[0mself\u001b[0m\u001b[1;33m)\u001b[0m\u001b[1;33m:\u001b[0m\u001b[1;33m\u001b[0m\u001b[0m\n\u001b[1;32m----> 7\u001b[1;33m         \u001b[1;32mraise\u001b[0m \u001b[0mNotImplementedError\u001b[0m\u001b[1;33m(\u001b[0m\u001b[1;33m)\u001b[0m\u001b[1;33m\u001b[0m\u001b[0m\n\u001b[0m\u001b[0;32m      8\u001b[0m         \u001b[1;31m#pass #pass basiclly means does nothing\u001b[0m\u001b[1;33m\u001b[0m\u001b[1;33m\u001b[0m\u001b[0m\n\u001b[0;32m      9\u001b[0m \u001b[1;33m\u001b[0m\u001b[0m\n",
      "\u001b[1;31mNotImplementedError\u001b[0m: "
     ]
    }
   ],
   "source": [
    "p1 = Process() # define a variable p1 \n",
    "p1.time_step() # call the time_step() method "
   ]
  },
  {
   "cell_type": "markdown",
   "metadata": {},
   "source": [
    "another way is to use **pass** which basically does nothing "
   ]
  },
  {
   "cell_type": "code",
   "execution_count": 159,
   "metadata": {
    "collapsed": true
   },
   "outputs": [],
   "source": [
    "class Process:\n",
    "    \"\"\"Represetation of Stochastic Process\"\"\"\n",
    "    def __init__(self, start_value = 0):\n",
    "        self.value = start_value # define an attribute \n",
    "    \n",
    "    def time_step(self):\n",
    "        pass #pass basiclly means does nothing \n",
    "    "
   ]
  },
  {
   "cell_type": "code",
   "execution_count": 52,
   "metadata": {
    "collapsed": false
   },
   "outputs": [
    {
     "name": "stdout",
     "output_type": "stream",
     "text": [
      "The default p1.value is:  0\n",
      "We assigned a value 10 when we create p2, and p2.value is:  10 instead of the default 0\n"
     ]
    }
   ],
   "source": [
    "p1 = Process() # create a variable p1 \n",
    "print(\"The default p1.value is: \", p1.value)\n",
    "p1.time_step() # call the time_step() method, which does nothing right now \n",
    "\n",
    "p2 = Process(10) # create a variable p2\n",
    "print(\"We assigned a value 10 when we create p2, and\" \n",
    "      \" p2.value is: \", p2.value, \"instead of the default 0\")"
   ]
  },
  {
   "cell_type": "markdown",
   "metadata": {},
   "source": [
    "let's go ahead and create a sub class"
   ]
  },
  {
   "cell_type": "code",
   "execution_count": 160,
   "metadata": {
    "collapsed": false
   },
   "outputs": [],
   "source": [
    "class BoundeLinearProcess(Process):\n",
    "    \"\"\"A stochastic process that develops linearly. Increases \n",
    "    by velocity in every time period, but is bounded between 0 and 1.\"\"\"\n",
    "    \n",
    "    def __init__(self,start_value = 0,velocity = 0):\n",
    "        # this interesting super function actually returns to the super \n",
    "        # class which in this case the Process, the parent class. \n",
    "        # by adding __init__() we go to the Process init function\n",
    "        super().__init__(start_value)\n",
    "        self.velocity = velocity\n",
    "    \n",
    "    def time_step(self):\n",
    "        # this function will first add the velocity to its initial value \n",
    "        # which assigned to self.value.\n",
    "        # and than, it will check if the updated self.value is less than 0\n",
    "        # if it is < 0, it will reflect the value and the velocity \n",
    "        # if self.value is actually greater than 1, it will do the thing\n",
    "        # defined in the if statement\n",
    "        self.value += self.velocity\n",
    "        if self.value < 0:\n",
    "            self.value = -self.value \n",
    "            self.velocity = -self.velocity \n",
    "        if self.value > 1:\n",
    "            self.value = 1 - (self.value -1)\n",
    "            self.velocity = -self.velocity\n",
    "        # this go to the Process super eventhough now super does nothing\n",
    "        super().time_step"
   ]
  },
  {
   "cell_type": "code",
   "execution_count": 61,
   "metadata": {
    "collapsed": false
   },
   "outputs": [
    {
     "name": "stdout",
     "output_type": "stream",
     "text": [
      "Current Process value:  0.3\n",
      "Current Process value:  0.6\n",
      "Current Process value:  0.8999999999999999\n",
      "Current Process value:  0.8\n"
     ]
    }
   ],
   "source": [
    "p1 = BoundeLinearProcess(0, .3)\n",
    "# we creat a object p1 with start_value = 0 and velocity = 0.3\n",
    "# notice we can do this because when we def the  __init__ function in\n",
    "# BoundeLinearProcess class, there are two initial values: start_value\n",
    "# and velocity\n",
    "for i in range(4):\n",
    "    # than we call time_step 4 times \n",
    "    p1.time_step()\n",
    "    print(\"Current Process value: \", p1.value)"
   ]
  },
  {
   "cell_type": "markdown",
   "metadata": {},
   "source": [
    "**There is a good way to check your instance without doing this print \n",
    "statement. **\n",
    "\n",
    "**The use of _ _str_ _(self)**\n",
    "\n",
    "**The use of _ _repr_ _(self)**"
   ]
  },
  {
   "cell_type": "code",
   "execution_count": 161,
   "metadata": {
    "collapsed": false
   },
   "outputs": [],
   "source": [
    "class Process:\n",
    "    \"\"\"Represetation of Stochastic Process\"\"\"\n",
    "    def __init__(self, start_value = 0):\n",
    "        self.value = start_value # define an attribute \n",
    "    \n",
    "    def time_step(self):\n",
    "        pass #pass basiclly means does nothing \n",
    "    \n",
    "    def __str__(self):\n",
    "        # this is a \"magic method\"\n",
    "        return \"Process with current value\" + str(self.value)\n",
    "# or we can add the floowing if str does not work    \n",
    "    #def __repr__(self):\n",
    "    #    # this is another \"magic method\"\n",
    "    #    return __str__(self)"
   ]
  },
  {
   "cell_type": "code",
   "execution_count": 71,
   "metadata": {
    "collapsed": true
   },
   "outputs": [],
   "source": [
    "class BoundeLinearProcess(Process):\n",
    "    \"\"\"A stochastic process that develops linearly. Increases \n",
    "    by velocity in every time period, but is bounded between 0 and 1.\"\"\"\n",
    "    \n",
    "    def __init__(self,start_value = 0,velocity = 0):\n",
    "        super().__init__(start_value)\n",
    "        self.velocity = velocity\n",
    "    \n",
    "    def time_step(self):\n",
    "        self.value += self.velocity\n",
    "        if self.value < 0:\n",
    "            self.value = -self.value \n",
    "            self.velocity = -self.velocity \n",
    "        if self.value > 1:\n",
    "            self.value = 1 - (self.value -1)\n",
    "            self.velocity = -self.velocity\n",
    "        super().time_step"
   ]
  },
  {
   "cell_type": "code",
   "execution_count": 141,
   "metadata": {
    "collapsed": false
   },
   "outputs": [
    {
     "name": "stdout",
     "output_type": "stream",
     "text": [
      "      *\n",
      "            *\n",
      "                  *\n",
      "                *\n"
     ]
    }
   ],
   "source": [
    "p1 = BoundeLinearProcess(0, .3)\n",
    "for i in range(4):\n",
    "    p1.time_step()\n",
    "    print(p1)"
   ]
  },
  {
   "cell_type": "markdown",
   "metadata": {},
   "source": [
    "**Now lets check how to override _ _str_ _(self)**"
   ]
  },
  {
   "cell_type": "code",
   "execution_count": 77,
   "metadata": {
    "collapsed": true
   },
   "outputs": [],
   "source": [
    "class BoundeLinearProcess(Process):\n",
    "    \"\"\"A stochastic process that develops linearly. Increases \n",
    "    by velocity in every time period, but is bounded between 0 and 1.\"\"\"\n",
    "    \n",
    "    def __init__(self,start_value = 0,velocity = 0):\n",
    "        super().__init__(start_value)\n",
    "        self.velocity = velocity\n",
    "    \n",
    "    def time_step(self):\n",
    "        self.value += self.velocity\n",
    "        if self.value < 0:\n",
    "            self.value = -self.value \n",
    "            self.velocity = -self.velocity \n",
    "        if self.value > 1:\n",
    "            self.value = 1 - (self.value -1)\n",
    "            self.velocity = -self.velocity\n",
    "        super().time_step\n",
    "        \n",
    "    def __str__(self):\n",
    "        return \" \" * int(self.value*20) + \"*\""
   ]
  },
  {
   "cell_type": "code",
   "execution_count": 80,
   "metadata": {
    "collapsed": false
   },
   "outputs": [
    {
     "name": "stdout",
     "output_type": "stream",
     "text": [
      "  *\n",
      "    *\n",
      "      *\n",
      "        *\n",
      "          *\n",
      "            *\n",
      "              *\n",
      "               *\n",
      "                  *\n",
      "                   *\n",
      "                  *\n",
      "                *\n",
      "              *\n",
      "            *\n",
      "          *\n",
      "        *\n",
      "      *\n",
      "    *\n",
      "  *\n",
      "*\n"
     ]
    }
   ],
   "source": [
    "p1 = BoundeLinearProcess(0, .1)\n",
    "for i in range(20):\n",
    "    p1.time_step()\n",
    "    print(p1)"
   ]
  },
  {
   "cell_type": "markdown",
   "metadata": {},
   "source": [
    "## More Class Inheritance "
   ]
  },
  {
   "cell_type": "code",
   "execution_count": 142,
   "metadata": {
    "collapsed": true
   },
   "outputs": [],
   "source": [
    "class Process:\n",
    "    \"\"\"Represetation of Stochastic Process\"\"\"\n",
    "    def __init__(self, start_value = 0):\n",
    "        self.value = start_value # define an attribute \n",
    "    \n",
    "    def time_step(self):\n",
    "        pass \n",
    "    \n",
    "    def __str__(self):\n",
    "        return \"Process with current value\" + str(self.value)\n",
    "    \n",
    "    def simulate(self,steps = 20):\n",
    "        for i in range(steps):\n",
    "            print(self)\n",
    "            self.time_step()\n"
   ]
  },
  {
   "cell_type": "code",
   "execution_count": 143,
   "metadata": {
    "collapsed": true
   },
   "outputs": [],
   "source": [
    "class BoundeLinearProcess(Process):\n",
    "    \"\"\"A stochastic process that develops linearly. Increases \n",
    "    by velocity in every time period, but is bounded between 0 and 1.\"\"\"\n",
    "    \n",
    "    def __init__(self,start_value = 0,velocity = 0):\n",
    "        super().__init__(start_value)\n",
    "        self.velocity = velocity\n",
    "    \n",
    "    def time_step(self):\n",
    "        self.value += self.velocity\n",
    "        if self.value < 0:\n",
    "            self.value = -self.value \n",
    "            self.velocity = -self.velocity \n",
    "        if self.value > 1:\n",
    "            self.value = 1 - (self.value -1)\n",
    "            self.velocity = -self.velocity\n",
    "        super().time_step\n",
    "        \n",
    "    def __str__(self):\n",
    "        return \" \" * int(self.value*20) + \"*\""
   ]
  },
  {
   "cell_type": "markdown",
   "metadata": {},
   "source": [
    "Autoregressive Process of order 1.\n",
    "\n",
    "AR(1)\n",
    "\n",
    "$x_t = \\alpha x_{t-1} + w_t$"
   ]
  },
  {
   "cell_type": "code",
   "execution_count": 144,
   "metadata": {
    "collapsed": false
   },
   "outputs": [],
   "source": [
    "import numpy as np\n",
    "\n",
    "class ARProcess(Process):   # create the ARProcess under the parent Process\n",
    "    def __init__(self, alpha = 0.5, sigma = 1, start_value = 0):\n",
    "        super().__init__(start_value)\n",
    "        self.alpha = alpha \n",
    "        self.sigma = sigma \n",
    "        \n",
    "    def time_step(self):\n",
    "        self.value = self.alpha * self.value \\\n",
    "                     + np.random.normal(scale = self.sigma)\n",
    "        super().time_step()\n",
    "    \n",
    "    def __str__(self):\n",
    "        if self.value < 0:\n",
    "            s = \" \" *int( 5 * (self.value + 3)) + \"*\"  + \" \" * int(-self.value * 5) + \"|\"\n",
    "        elif self.value == 0:\n",
    "            s = \" \" * 15 + \"*\"\n",
    "        else:\n",
    "            s = \" \" * 15 + \"|\" + \" \" * int(5*self.value) + \"*\"\n",
    "        return s"
   ]
  },
  {
   "cell_type": "code",
   "execution_count": 145,
   "metadata": {
    "collapsed": false
   },
   "outputs": [],
   "source": [
    "p1= BoundeLinearProcess(0,0.1)\n",
    "p2 = ARProcess(alpha = .9)"
   ]
  },
  {
   "cell_type": "code",
   "execution_count": 146,
   "metadata": {
    "collapsed": false
   },
   "outputs": [
    {
     "name": "stdout",
     "output_type": "stream",
     "text": [
      "*\n",
      "  *\n",
      "    *\n",
      "      *\n",
      "        *\n",
      "          *\n",
      "            *\n",
      "              *\n",
      "               *\n",
      "                  *\n",
      "                   *\n",
      "                  *\n",
      "                *\n",
      "              *\n",
      "            *\n",
      "          *\n",
      "        *\n",
      "      *\n",
      "    *\n",
      "  *\n",
      "               *\n",
      "               |     *\n",
      "               |*\n",
      "               |    *\n",
      "               |         *\n",
      "               |                       *\n",
      "               |              *\n",
      "               |              *\n",
      "               |   *\n",
      "               |   *\n",
      "            *  |\n",
      "               |*\n",
      "               |       *\n",
      "               | *\n",
      "            *  |\n",
      "        *      |\n",
      "          *    |\n",
      "             * |\n",
      "        *      |\n",
      "   *           |\n"
     ]
    }
   ],
   "source": [
    "p1.simulate()\n",
    "p2.simulate()"
   ]
  },
  {
   "cell_type": "markdown",
   "metadata": {},
   "source": [
    "Random Walk\n",
    "\n",
    "$x_t = x_{t-1} + w_t$\n",
    "\n",
    "Notice this is very similar to the previous one the only difference is that the alpha is now equals to 1"
   ]
  },
  {
   "cell_type": "code",
   "execution_count": 156,
   "metadata": {
    "collapsed": true
   },
   "outputs": [],
   "source": [
    "# We can see that this RandomWalk is so easy to create !!!!!\n",
    "class RandomWalk(ARProcess):\n",
    "    def __init__(self, sigma = 1):\n",
    "        super().__init__(alpha = 1, sigma = sigma)"
   ]
  },
  {
   "cell_type": "code",
   "execution_count": 158,
   "metadata": {
    "collapsed": false
   },
   "outputs": [
    {
     "name": "stdout",
     "output_type": "stream",
     "text": [
      "               *\n",
      "            *  |\n",
      "               |       *\n",
      "               |            *\n",
      "               |          *\n",
      "               |     *\n",
      "               |    *\n",
      "               |       *\n",
      "               |      *\n",
      "               |      *\n",
      "               |  *\n",
      "               |       *\n",
      "               |    *\n",
      "               |   *\n",
      "               |     *\n",
      "               |        *\n",
      "               |               *\n",
      "               |                    *\n",
      "               |                              *\n",
      "               |                                 *\n"
     ]
    }
   ],
   "source": [
    "p3 = RandomWalk()\n",
    "p3.simulate()"
   ]
  },
  {
   "cell_type": "markdown",
   "metadata": {},
   "source": [
    "## Object-Oriented Programming"
   ]
  },
  {
   "cell_type": "markdown",
   "metadata": {},
   "source": [
    "It is a way of conceptualizing an entire program as a set of objects that interact with each other \n",
    "- a focus placed on objects instead of tasks. All of the tasks that have to be done in a program are encoded in the behavior of objects \n",
    "\n",
    "\n",
    "- instead of a method to scramble text, start thinking about a text scrambler class.\n",
    "\n",
    "    - what attributes would makes sense for this class?\n",
    "    \n",
    "    - How should it interact with other objects in your program?\n",
    "\n",
    "- A problem must be divided into a set of component objects that have behaviors and pass messages to each other.\n"
   ]
  },
  {
   "cell_type": "markdown",
   "metadata": {},
   "source": [
    "### Principles of OOP"
   ]
  },
  {
   "cell_type": "markdown",
   "metadata": {},
   "source": [
    "- **Encapsulation**: we can break a problem down into different layers \n",
    "\n",
    "    - there can be calsses that do low-level tasks and present a simple abstraction to other classes.\n",
    "    \n",
    "    - other classes can relate to high-level tasks and use the functionality in lower-level classes.\n",
    "    \n",
    "- **Modularity**: we can easily switch out one class for another to introduce different functionality and envolve a program.\n",
    "\n",
    "- **Inheritance**: classes can take on the attributrs of parent classes. We can easily organize related classes and understand their funtionality\n",
    "\n",
    "- **_Polymorphism_**: \"polymorphism describes a pattern in object oriented programming in which classes have different functionality while sharing a common interface.\" \n",
    "    \n",
    "    - We can write  diffrent classes that define the same attributes.\n",
    "        - They have different behaviours on the inside but are used in the same way.\n",
    "        - They share the same interface \n",
    "    - You can write code that can work with these different types of objects, and it doesn't have to know which exact type it has \n",
    "    \n",
    "    - e.g. \n",
    "        - say we have a function def is_passing(student):\n",
    "    \n",
    "        return student.grade >70.\n",
    "        - pass in an object of type UndergradStudent or one of type GradStudent.\n",
    "            - As long as they both define a grade attribute, out function doesn't have to know what type of object it has.\n",
    "        - we could even pass in an object Gasoline as long as it has the attribute grade. **Python does not check the types of objects at all!**At runtime, you just need to check that the objects you use have the attributes needed. This is something called **Duck typing**.\n",
    "        \n",
    "        **Duck Typing** helps speed up development, but there's potential for more errors at runtime!                                      "
   ]
  },
  {
   "cell_type": "markdown",
   "metadata": {},
   "source": [
    "## Using Polymorphism"
   ]
  },
  {
   "cell_type": "code",
   "execution_count": 2,
   "metadata": {
    "collapsed": true
   },
   "outputs": [],
   "source": [
    "import numpy as np\n",
    "\n",
    "class Process:\n",
    "    def __init__(self, start_value = 0):\n",
    "        self.value = start_value # define an attribute \n",
    "        self.history = []\n",
    "        \n",
    "    def time_step(self):\n",
    "        self.history.append(self.value)\n",
    "    \n",
    "    def __str__(self):\n",
    "        return \"Process with current value\" + str(self.value)\n",
    "    \n",
    "    def simulate(self,steps = 20):\n",
    "        for i in range(steps):\n",
    "            self.time_step()\n",
    "            \n",
    "class BoundeLinearProcess(Process):\n",
    "    def __init__(self,start_value = 0,velocity = 0):\n",
    "        super().__init__(start_value)\n",
    "        self.velocity = velocity\n",
    "    \n",
    "    def time_step(self):\n",
    "        self.value += self.velocity\n",
    "        if self.value < 0:\n",
    "            self.value = -self.value \n",
    "            self.velocity = -self.velocity \n",
    "        if self.value > 1:\n",
    "            self.value = 1 - (self.value -1)\n",
    "            self.velocity = -self.velocity\n",
    "        super().time_step\n",
    "        \n",
    "    def __str__(self):\n",
    "        return \" \" * int(self.value*20) + \"*\"            \n",
    "\n",
    "class ARProcess(Process):   \n",
    "    def __init__(self, alpha = 0.5, sigma = 1, start_value = 0):\n",
    "        super().__init__(start_value)\n",
    "        self.alpha = alpha \n",
    "        self.sigma = sigma \n",
    "        \n",
    "    def time_step(self):\n",
    "        self.value = self.alpha * self.value \\\n",
    "                     + np.random.normal(scale = self.sigma)\n",
    "        super().time_step()\n",
    "    \n",
    "    def __str__(self):\n",
    "        if self.value < 0:\n",
    "            s = \" \" *int( 5 * (self.value + 3)) + \"*\"  + \" \" * int(-self.value * 5) + \"|\"\n",
    "        elif self.value == 0:\n",
    "            s = \" \" * 15 + \"*\"\n",
    "        else:\n",
    "            s = \" \" * 15 + \"|\" + \" \" * int(5*self.value) + \"*\"\n",
    "        return s\n",
    "\n",
    "class RandomWalk(ARProcess):\n",
    "    def __init__(self, sigma = 0.5):\n",
    "        super().__init__(alpha = 1, sigma = sigma)"
   ]
  },
  {
   "cell_type": "code",
   "execution_count": 3,
   "metadata": {
    "collapsed": true
   },
   "outputs": [],
   "source": [
    "class ProcessPlotter:\n",
    "    \"\"\"An object to display the history of a process\"\"\"\n",
    "    def __init__(self, process = None):\n",
    "        self.process = process \n",
    "    \n",
    "    def plot(self):\n",
    "        pass"
   ]
  },
  {
   "cell_type": "code",
   "execution_count": 4,
   "metadata": {
    "collapsed": true
   },
   "outputs": [],
   "source": [
    "class TextProcessPlotter(ProcessPlotter):\n",
    "    def plot(self):\n",
    "        upper = max(self.process.history)\n",
    "        lower = min(self. process.history)\n",
    "        if upper == lower:\n",
    "            upper += 1\n",
    "        for val in self.process.history:\n",
    "            print(\" \" * int(20 * (val-lower)/(upper - lower)) + \"*\")\n",
    "            "
   ]
  },
  {
   "cell_type": "code",
   "execution_count": 5,
   "metadata": {
    "collapsed": false
   },
   "outputs": [
    {
     "name": "stdout",
     "output_type": "stream",
     "text": [
      "*\n",
      "        *\n",
      "             *\n",
      "        *\n",
      "                 *\n",
      "                    *\n",
      "               *\n",
      "        *\n",
      "  *\n",
      "       *\n"
     ]
    }
   ],
   "source": [
    "p1 = ARProcess(alpha = 0.9)\n",
    "plotter1 = TextProcessPlotter(p1)\n",
    "p1.simulate(10)\n",
    "plotter1.plot()"
   ]
  },
  {
   "cell_type": "code",
   "execution_count": 7,
   "metadata": {
    "collapsed": false
   },
   "outputs": [
    {
     "name": "stdout",
     "output_type": "stream",
     "text": [
      "           *\n",
      "                    *\n",
      "           *\n",
      "              *\n",
      "                   *\n",
      "               *\n",
      "         *\n",
      "       *\n",
      "   *\n",
      "              *\n",
      "        *\n",
      "      *\n",
      "                *\n",
      "        *\n",
      "       *\n",
      "             *\n",
      "       *\n",
      " *\n",
      "*\n",
      "           *\n"
     ]
    }
   ],
   "source": [
    "p2 = RandomWalk()\n",
    "plotter2 = TextProcessPlotter(p2)\n",
    "p2.simulate()\n",
    "plotter2.plot()"
   ]
  },
  {
   "cell_type": "code",
   "execution_count": 9,
   "metadata": {
    "collapsed": true
   },
   "outputs": [],
   "source": [
    "import matplotlib\n",
    "%matplotlib inline \n",
    "class GraphicProcessPlotter(ProcessPlotter):\n",
    "    def plot(self):\n",
    "        matplotlib.pyplot.plot(self.process.history)\n",
    "        matplotlib.pyplot.title(\"Process Time Plot\")"
   ]
  },
  {
   "cell_type": "code",
   "execution_count": 11,
   "metadata": {
    "collapsed": false
   },
   "outputs": [
    {
     "data": {
      "image/png": "[encoded data removed]",
      "text/plain": [
       "<matplotlib.figure.Figure at 0x26e093f04e0>"
      ]
     },
     "metadata": {},
     "output_type": "display_data"
    }
   ],
   "source": [
    "plotter3 = GraphicProcessPlotter(p1)\n",
    "plotter3.plot()"
   ]
  },
  {
   "cell_type": "code",
   "execution_count": 13,
   "metadata": {
    "collapsed": false
   },
   "outputs": [
    {
     "data": {
      "image/png": "[encoded data removed]",
      "text/plain": [
       "<matplotlib.figure.Figure at 0x26e0908add8>"
      ]
     },
     "metadata": {},
     "output_type": "display_data"
    }
   ],
   "source": [
    "plotter4 = GraphicProcessPlotter(p2)\n",
    "plotter4.plot()"
   ]
  },
  {
   "cell_type": "markdown",
   "metadata": {
    "collapsed": true
   },
   "source": [
    "## Magic Methods\n",
    "The magic method in python is denoted with the double underscore"
   ]
  },
  {
   "cell_type": "code",
   "execution_count": 23,
   "metadata": {
    "collapsed": true
   },
   "outputs": [],
   "source": [
    "class Card:\n",
    "    def __init__(self,value,suit):\n",
    "        self.value = value\n",
    "        self.suit = suit"
   ]
  },
  {
   "cell_type": "code",
   "execution_count": 14,
   "metadata": {
    "collapsed": false
   },
   "outputs": [
    {
     "data": {
      "text/plain": [
       "False"
      ]
     },
     "execution_count": 14,
     "metadata": {},
     "output_type": "execute_result"
    }
   ],
   "source": [
    "Card(5,\"Spades\") == Card(6,\"Diamonds\")"
   ]
  },
  {
   "cell_type": "code",
   "execution_count": 22,
   "metadata": {
    "collapsed": false
   },
   "outputs": [
    {
     "name": "stdout",
     "output_type": "stream",
     "text": [
      "False\n",
      "\n",
      "The reason why the previous comparison is not equal is because if you do the following you can se that: \n",
      "Card(5,\"Spades\") is:  <__main__.Card object at 0x000001E952C1A048>\n",
      "Card(6,\"Spades\") is:  <__main__.Card object at 0x000001E952C1A0B8>\n",
      "\n",
      "They are just memory addreses!\n"
     ]
    }
   ],
   "source": [
    "print(Card(5,\"Spades\") == Card(5,\"Spades\"))\n",
    "print()\n",
    "print(\"The reason why the previous comparison is not equal\"\n",
    "      \" is because if you do the following you can se that: \")\n",
    "print(\"Card(5,\\\"Spades\\\") is: \", Card(5,\"Spades\"))\n",
    "print(\"Card(6,\\\"Spades\\\") is: \", Card(6,\"Spades\"))\n",
    "print()\n",
    "print(\"They are just memory addreses!\")"
   ]
  },
  {
   "cell_type": "code",
   "execution_count": 29,
   "metadata": {
    "collapsed": true
   },
   "outputs": [],
   "source": [
    "class Card:\n",
    "    def __init__(self,value,suit):\n",
    "        self.value = value\n",
    "        self.suit = suit\n",
    "        \n",
    "    def __eq__(self,other):\n",
    "        if self.value == other.value:\n",
    "            return True\n",
    "        else:\n",
    "            return False "
   ]
  },
  {
   "cell_type": "code",
   "execution_count": 30,
   "metadata": {
    "collapsed": false
   },
   "outputs": [
    {
     "name": "stdout",
     "output_type": "stream",
     "text": [
      "True\n",
      "\n",
      "Now if we use the magic method __eq__, it is true now\n",
      "The __eq__ checks the content not the memory address\n"
     ]
    }
   ],
   "source": [
    "print(Card(5,\"Spades\") == Card(5,\"Spades\"))\n",
    "print()\n",
    "print(\"Now if we use the magic method __eq__, it is true now\")\n",
    "print(\"The __eq__ checks the content not the memory address\")"
   ]
  },
  {
   "cell_type": "code",
   "execution_count": 31,
   "metadata": {
    "collapsed": true
   },
   "outputs": [],
   "source": [
    "# Let's do some more!\n",
    "class Card:\n",
    "    def __init__(self,value,suit):\n",
    "        self.value = value\n",
    "        self.suit = suit\n",
    "        \n",
    "    def __eq__(self,other):\n",
    "        if self.value == other.value:\n",
    "            return True\n",
    "        else:\n",
    "            return False \n",
    "    def __lt__(self,other):\n",
    "        if self.value < other.value:\n",
    "            return True\n",
    "        else:\n",
    "            return False \n",
    "    def __gt__(self,other):\n",
    "        if self.value > other.value:\n",
    "            return True\n",
    "        else:\n",
    "            return False "
   ]
  },
  {
   "cell_type": "code",
   "execution_count": 33,
   "metadata": {
    "collapsed": true
   },
   "outputs": [],
   "source": [
    "cards = []\n",
    "for suit in ['Hearts','Spades','Diamonds','Clubs']:\n",
    "    for value in range(0,13):\n",
    "        cards.append(Card(value,suit))"
   ]
  },
  {
   "cell_type": "code",
   "execution_count": 36,
   "metadata": {
    "collapsed": false
   },
   "outputs": [
    {
     "data": {
      "text/plain": [
       "[<__main__.Card at 0x1e952c02b70>,\n",
       " <__main__.Card at 0x1e952c02a58>,\n",
       " <__main__.Card at 0x1e952c025c0>,\n",
       " <__main__.Card at 0x1e952c029e8>,\n",
       " <__main__.Card at 0x1e952c02f28>]"
      ]
     },
     "execution_count": 36,
     "metadata": {},
     "output_type": "execute_result"
    }
   ],
   "source": [
    "# Let's see the first 5 \n",
    "# The result obviously does not make any use to us\n",
    "cards[:5]"
   ]
  },
  {
   "cell_type": "code",
   "execution_count": 38,
   "metadata": {
    "collapsed": false
   },
   "outputs": [
    {
     "data": {
      "text/plain": [
       "True"
      ]
     },
     "execution_count": 38,
     "metadata": {},
     "output_type": "execute_result"
    }
   ],
   "source": [
    "cards[0] < cards[12]"
   ]
  },
  {
   "cell_type": "code",
   "execution_count": 40,
   "metadata": {
    "collapsed": true
   },
   "outputs": [],
   "source": [
    "# Let's do some more!\n",
    "class Card:\n",
    "    def __init__(self,value,suit):\n",
    "        self.value = value\n",
    "        self.suit = suit\n",
    "        \n",
    "    def __eq__(self,other):\n",
    "        if self.value == other.value:\n",
    "            return True\n",
    "        else:\n",
    "            return False \n",
    "    def __lt__(self,other):\n",
    "        if self.value < other.value:\n",
    "            return True\n",
    "        else:\n",
    "            return False \n",
    "    def __gt__(self,other):\n",
    "        if self.value > other.value:\n",
    "            return True\n",
    "        else:\n",
    "            return False \n",
    "    def __repr__(self):\n",
    "        return\"%i of %s\" % (self.value,self.suit)"
   ]
  },
  {
   "cell_type": "code",
   "execution_count": 42,
   "metadata": {
    "collapsed": false
   },
   "outputs": [
    {
     "name": "stdout",
     "output_type": "stream",
     "text": [
      "10 of hearts\n"
     ]
    }
   ],
   "source": [
    "#now, it looks much much better \n",
    "print(Card(10,\"hearts\"))"
   ]
  },
  {
   "cell_type": "code",
   "execution_count": 55,
   "metadata": {
    "collapsed": true
   },
   "outputs": [],
   "source": [
    "cards = []\n",
    "for suit in ['Hearts','Spades','Diamonds','Clubs']:\n",
    "    for value in range(0,13):\n",
    "        cards.append(Card(value+1,suit))"
   ]
  },
  {
   "cell_type": "code",
   "execution_count": 56,
   "metadata": {
    "collapsed": false
   },
   "outputs": [
    {
     "name": "stdout",
     "output_type": "stream",
     "text": [
      "[1 of Hearts, 2 of Hearts, 3 of Hearts, 4 of Hearts, 5 of Hearts, 6 of Hearts, 7 of Hearts, 8 of Hearts, 9 of Hearts, 10 of Hearts, 11 of Hearts, 12 of Hearts, 13 of Hearts, 1 of Spades, 2 of Spades, 3 of Spades, 4 of Spades, 5 of Spades, 6 of Spades, 7 of Spades, 8 of Spades, 9 of Spades, 10 of Spades, 11 of Spades, 12 of Spades, 13 of Spades, 1 of Diamonds, 2 of Diamonds, 3 of Diamonds, 4 of Diamonds, 5 of Diamonds, 6 of Diamonds, 7 of Diamonds, 8 of Diamonds, 9 of Diamonds, 10 of Diamonds, 11 of Diamonds, 12 of Diamonds, 13 of Diamonds, 1 of Clubs, 2 of Clubs, 3 of Clubs, 4 of Clubs, 5 of Clubs, 6 of Clubs, 7 of Clubs, 8 of Clubs, 9 of Clubs, 10 of Clubs, 11 of Clubs, 12 of Clubs, 13 of Clubs]\n",
      "\n"
     ]
    },
    {
     "data": {
      "text/plain": [
       "'1 of Hearts'"
      ]
     },
     "execution_count": 56,
     "metadata": {},
     "output_type": "execute_result"
    }
   ],
   "source": [
    "print(cards)\n",
    "print()\n",
    "str(cards[0])\n",
    "# now this make sense "
   ]
  },
  {
   "cell_type": "code",
   "execution_count": 57,
   "metadata": {
    "collapsed": false
   },
   "outputs": [
    {
     "name": "stdout",
     "output_type": "stream",
     "text": [
      "[3 of Diamonds, 4 of Hearts, 1 of Clubs, 4 of Clubs, 6 of Clubs, 7 of Spades, 5 of Clubs, 8 of Diamonds, 13 of Spades, 5 of Hearts, 6 of Hearts, 9 of Hearts, 3 of Hearts, 12 of Clubs, 7 of Clubs, 11 of Diamonds, 3 of Spades, 10 of Diamonds, 8 of Clubs, 8 of Spades, 9 of Diamonds, 2 of Spades, 6 of Spades, 9 of Spades, 5 of Diamonds, 12 of Hearts, 11 of Spades, 2 of Diamonds, 9 of Clubs, 10 of Spades, 12 of Diamonds, 8 of Hearts, 1 of Diamonds, 3 of Clubs, 11 of Clubs, 10 of Hearts, 1 of Hearts, 13 of Hearts, 12 of Spades, 7 of Hearts, 1 of Spades, 4 of Spades, 6 of Diamonds, 13 of Diamonds, 4 of Diamonds, 2 of Clubs, 10 of Clubs, 2 of Hearts, 7 of Diamonds, 5 of Spades, 11 of Hearts, 13 of Clubs]\n"
     ]
    }
   ],
   "source": [
    "from random import shuffle\n",
    "shuffle(cards)\n",
    "print(cards)"
   ]
  },
  {
   "cell_type": "code",
   "execution_count": 58,
   "metadata": {
    "collapsed": false
   },
   "outputs": [
    {
     "data": {
      "text/plain": [
       "[1 of Clubs,\n",
       " 1 of Diamonds,\n",
       " 1 of Hearts,\n",
       " 1 of Spades,\n",
       " 2 of Spades,\n",
       " 2 of Diamonds,\n",
       " 2 of Clubs,\n",
       " 2 of Hearts,\n",
       " 3 of Diamonds,\n",
       " 3 of Hearts,\n",
       " 3 of Spades,\n",
       " 3 of Clubs,\n",
       " 4 of Hearts,\n",
       " 4 of Clubs,\n",
       " 4 of Spades,\n",
       " 4 of Diamonds,\n",
       " 5 of Clubs,\n",
       " 5 of Hearts,\n",
       " 5 of Diamonds,\n",
       " 5 of Spades,\n",
       " 6 of Clubs,\n",
       " 6 of Hearts,\n",
       " 6 of Spades,\n",
       " 6 of Diamonds,\n",
       " 7 of Spades,\n",
       " 7 of Clubs,\n",
       " 7 of Hearts,\n",
       " 7 of Diamonds,\n",
       " 8 of Diamonds,\n",
       " 8 of Clubs,\n",
       " 8 of Spades,\n",
       " 8 of Hearts,\n",
       " 9 of Hearts,\n",
       " 9 of Diamonds,\n",
       " 9 of Spades,\n",
       " 9 of Clubs,\n",
       " 10 of Diamonds,\n",
       " 10 of Spades,\n",
       " 10 of Hearts,\n",
       " 10 of Clubs,\n",
       " 11 of Diamonds,\n",
       " 11 of Spades,\n",
       " 11 of Clubs,\n",
       " 11 of Hearts,\n",
       " 12 of Clubs,\n",
       " 12 of Hearts,\n",
       " 12 of Diamonds,\n",
       " 12 of Spades,\n",
       " 13 of Spades,\n",
       " 13 of Hearts,\n",
       " 13 of Diamonds,\n",
       " 13 of Clubs]"
      ]
     },
     "execution_count": 58,
     "metadata": {},
     "output_type": "execute_result"
    }
   ],
   "source": [
    "sorted(cards)"
   ]
  },
  {
   "cell_type": "code",
   "execution_count": 60,
   "metadata": {
    "collapsed": true
   },
   "outputs": [],
   "source": []
  },
  {
   "cell_type": "code",
   "execution_count": null,
   "metadata": {
    "collapsed": true
   },
   "outputs": [],
   "source": []
  }
 ],
 "metadata": {
  "kernelspec": {
   "display_name": "Python 3",
   "language": "python",
   "name": "python3"
  },
  "language_info": {
   "codemirror_mode": {
    "name": "ipython",
    "version": 3
   },
   "file_extension": ".py",
   "mimetype": "text/x-python",
   "name": "python",
   "nbconvert_exporter": "python",
   "pygments_lexer": "ipython3",
   "version": "3.5.1"
  }
 },
 "nbformat": 4,
 "nbformat_minor": 0
}
