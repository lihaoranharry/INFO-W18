{
 "cells": [
  {
   "cell_type": "markdown",
   "metadata": {},
   "source": [
    "# 1.  For Loops\n",
    "For printing purpose, we can do print(x, end = \"\") to avoid change in line "
   ]
  },
  {
   "cell_type": "markdown",
   "metadata": {},
   "source": [
    "## 1.1 an example of print(x,end=\"\")"
   ]
  },
  {
   "cell_type": "code",
   "execution_count": 26,
   "metadata": {
    "collapsed": false
   },
   "outputs": [
    {
     "name": "stdout",
     "output_type": "stream",
     "text": [
      "n\n",
      "a\n",
      "m\n",
      "e\n",
      "--------\n",
      "name"
     ]
    }
   ],
   "source": [
    "x = \"name\"\n",
    "\n",
    "for a in x:\n",
    "    print(a)\n",
    "print(\"--------\")\n",
    "\n",
    "for b in x:\n",
    "    print(b , end = \"\")\n"
   ]
  },
  {
   "cell_type": "markdown",
   "metadata": {},
   "source": [
    "## 1.2 While and For countdown"
   ]
  },
  {
   "cell_type": "code",
   "execution_count": 1,
   "metadata": {
    "collapsed": false
   },
   "outputs": [
    {
     "name": "stdout",
     "output_type": "stream",
     "text": [
      "5\n",
      "4\n",
      "3\n",
      "2\n",
      "1\n",
      "Blast off!\n"
     ]
    }
   ],
   "source": [
    "countdown = 5\n",
    "while countdown > 0:\n",
    "    print(countdown)\n",
    "    countdown -=1\n",
    "print(\"Blast off!\")"
   ]
  },
  {
   "cell_type": "code",
   "execution_count": 4,
   "metadata": {
    "collapsed": false
   },
   "outputs": [
    {
     "name": "stdout",
     "output_type": "stream",
     "text": [
      "5\n",
      "4\n",
      "3\n",
      "2\n",
      "1\n",
      "Blast off!\n"
     ]
    }
   ],
   "source": [
    "countdown = 5\n",
    "for x in range(countdown,0,-1):\n",
    "# range(a,b,c) : a range starting from countdown uptill b but not \n",
    "# including 0 with step size -1\n",
    "    print(x)\n",
    "print(\"Blast off!\")"
   ]
  },
  {
   "cell_type": "markdown",
   "metadata": {},
   "source": [
    "## 1.3 While and For nested "
   ]
  },
  {
   "cell_type": "code",
   "execution_count": 10,
   "metadata": {
    "collapsed": false
   },
   "outputs": [
    {
     "name": "stdout",
     "output_type": "stream",
     "text": [
      "enter an integer: 5\n",
      "0 1 2 3 4 5 \n",
      "0 1 2 3 4 \n",
      "0 1 2 3 \n",
      "0 1 2 \n",
      "0 1 \n",
      "0 \n"
     ]
    }
   ],
   "source": [
    "row = int(input(\"enter an integer: \"))\n",
    "while row >=0:\n",
    "    # inner loop\n",
    "    j = 0\n",
    "    while j <= row:\n",
    "        print(j,end = \" \")\n",
    "        j += 1\n",
    "    print(\"\")\n",
    "    row -=1"
   ]
  },
  {
   "cell_type": "code",
   "execution_count": 20,
   "metadata": {
    "collapsed": false
   },
   "outputs": [
    {
     "name": "stdout",
     "output_type": "stream",
     "text": [
      "enter an integer: 5\n",
      "0 1 2 3 4 5  \n",
      "0 1 2 3 4  \n",
      "0 1 2 3  \n",
      "0 1 2  \n",
      "0 1  \n",
      "0  \n"
     ]
    }
   ],
   "source": [
    "row = int(input(\"enter an integer: \"))\n",
    "for x in range(row,-1,-1):\n",
    "    for y in range(0,x+1,1):\n",
    "        print(y,end = \" \")\n",
    "    print(\" \")"
   ]
  },
  {
   "cell_type": "code",
   "execution_count": 30,
   "metadata": {
    "collapsed": false
   },
   "outputs": [
    {
     "name": "stdout",
     "output_type": "stream",
     "text": [
      "Enter your name: Paul\n",
      "Pl"
     ]
    }
   ],
   "source": [
    "x = input(\"Enter your name: \")\n",
    "for char in x:\n",
    "    if char.lower() not in \"aeiou\":\n",
    "        print(char, end = \"\")"
   ]
  },
  {
   "cell_type": "code",
   "execution_count": 33,
   "metadata": {
    "collapsed": false
   },
   "outputs": [
    {
     "name": "stdout",
     "output_type": "stream",
     "text": [
      "Paul, as himself\n",
      "Bill, as himself\n",
      "Kay, as himself\n"
     ]
    }
   ],
   "source": [
    "x = [\"Paul\", \"Bill\", \"Kay\"]\n",
    "for name in x:\n",
    "    print(name + \", as himself\")"
   ]
  },
  {
   "cell_type": "markdown",
   "metadata": {},
   "source": [
    "# 2. Fancy Loops Exits\n"
   ]
  },
  {
   "cell_type": "markdown",
   "metadata": {},
   "source": [
    "## 2.1 Bool Flag\n",
    "we want to end the loop earlier!"
   ]
  },
  {
   "cell_type": "code",
   "execution_count": 39,
   "metadata": {
    "collapsed": false
   },
   "outputs": [
    {
     "name": "stdout",
     "output_type": "stream",
     "text": [
      "Enter a number: 2000\n",
      "2000 is not a prime.\n"
     ]
    }
   ],
   "source": [
    "x = int(input(\"Enter a number: \"))\n",
    "prime = True\n",
    "for i in range(2,x):\n",
    "    #check if i divides x.\n",
    "    if x % i == 0:\n",
    "        # now I know x is not prime\n",
    "        prime = False\n",
    "if prime == True:\n",
    "    print(x, \"is prime.\")\n",
    "else:\n",
    "    print(x,\"is not a prime.\")"
   ]
  },
  {
   "cell_type": "code",
   "execution_count": 45,
   "metadata": {
    "collapsed": false
   },
   "outputs": [
    {
     "name": "stdout",
     "output_type": "stream",
     "text": [
      "Enter a number: 2000\n",
      "kept looping until i is 3\n",
      "2000 is not a prime.\n"
     ]
    }
   ],
   "source": [
    "x = int(input(\"Enter a number: \"))\n",
    "prime = True\n",
    "\n",
    "i = 2\n",
    "while i < x and prime == True:\n",
    "# since prime is a bool and it is initially true, we can simply do\n",
    "# while i < x and prime :\n",
    "    #check if i divides x.\n",
    "    if x % i == 0:\n",
    "        # now I know x is not prime\n",
    "        prime = False\n",
    "    i += 1\n",
    "print(\"kept looping until i is\", i)\n",
    "if prime == True:\n",
    "    print(x, \"is prime.\")\n",
    "else:\n",
    "    print(x,\"is not a prime.\")"
   ]
  },
  {
   "cell_type": "markdown",
   "metadata": {},
   "source": [
    "## 2.2 Break"
   ]
  },
  {
   "cell_type": "code",
   "execution_count": 3,
   "metadata": {
    "collapsed": false
   },
   "outputs": [
    {
     "name": "stdout",
     "output_type": "stream",
     "text": [
      "Enter a number: 13\n",
      "Now checking possible divisor 2\n",
      "Now checking possible divisor 3\n",
      "Now checking possible divisor 4\n",
      "Now checking possible divisor 5\n",
      "Now checking possible divisor 6\n",
      "Now checking possible divisor 7\n",
      "Now checking possible divisor 8\n",
      "Now checking possible divisor 9\n",
      "Now checking possible divisor 10\n",
      "Now checking possible divisor 11\n",
      "Now checking possible divisor 12\n",
      "13 is prime.\n"
     ]
    }
   ],
   "source": [
    "x = int(input(\"Enter a number: \"))\n",
    "prime = True\n",
    "for i in range(2,x):\n",
    "    #check if i divides x.\n",
    "    print(\"Now checking possible divisor\", i)\n",
    "    if x % i == 0:\n",
    "        # now I know x is not prime\n",
    "        prime = False\n",
    "        break\n",
    "if prime == True:\n",
    "    print(x, \"is prime.\")\n",
    "else:\n",
    "    print(x,\"is not a prime.\")"
   ]
  },
  {
   "cell_type": "markdown",
   "metadata": {},
   "source": [
    "## 2.3 else  in For\n",
    "else only executed when it ends smoothly,r.g. without going to a break"
   ]
  },
  {
   "cell_type": "code",
   "execution_count": 12,
   "metadata": {
    "collapsed": false
   },
   "outputs": [
    {
     "name": "stdout",
     "output_type": "stream",
     "text": [
      "Enter a number: 15\n",
      "Now checking possible divisor 2\n",
      "Now checking possible divisor 3\n",
      "15 is not a prime.\n"
     ]
    }
   ],
   "source": [
    "x = int(input(\"Enter a number: \"))\n",
    "\n",
    "for i in range(2,x):\n",
    "    # check if i divides x.\n",
    "    print(\"Now checking possible divisor\", i)\n",
    "    if x % i == 0:\n",
    "        # now I know x is not prime\n",
    "        print(x, \"is not a prime.\")\n",
    "        break\n",
    "else:\n",
    "    print(x, \"is prime.\")"
   ]
  },
  {
   "cell_type": "markdown",
   "metadata": {},
   "source": [
    "## 2.4 perfome a basic check before the loop\n",
    "e.g. are the vowels in a word in alphabetical order?"
   ]
  },
  {
   "cell_type": "code",
   "execution_count": 18,
   "metadata": {
    "collapsed": false
   },
   "outputs": [
    {
     "name": "stdout",
     "output_type": "stream",
     "text": [
      "Enter a word: Paul\n",
      "a\n",
      "u\n",
      "The vowels in paul are in order.\n"
     ]
    }
   ],
   "source": [
    "word = input(\"Enter a word: \").lower()\n",
    "last = \"a\"\n",
    "\n",
    "for letter in word:\n",
    "    if letter in \"aeiou\":\n",
    "        print(letter)\n",
    "        # check to see if order looks good\n",
    "        \n",
    "        if letter < last:\n",
    "            print(\"The vowels in\", word, \"are out of order.\")\n",
    "            break\n",
    "        last = letter\n",
    "else:\n",
    "    print(\"The vowels in\", word, \"are in order.\")"
   ]
  },
  {
   "cell_type": "markdown",
   "metadata": {},
   "source": [
    "## 2.5 Continue Statement\n",
    "e.g. parallal checking conditions.\n",
    "what continue does is to skip the rest of this one loop"
   ]
  },
  {
   "cell_type": "code",
   "execution_count": 20,
   "metadata": {
    "collapsed": false,
    "scrolled": true
   },
   "outputs": [
    {
     "name": "stdout",
     "output_type": "stream",
     "text": [
      "Enter a word: llks\n",
      "The vowels in llks are in order.\n"
     ]
    }
   ],
   "source": [
    "word = input(\"Enter a word: \").lower()\n",
    "last = \"a\"\n",
    "\n",
    "for letter in word:\n",
    "    if letter not in \"aeiou\":\n",
    "        continue\n",
    "# what continue does is to skip the rest of this one loop and go back to \n",
    "# the for statement!\n",
    "        \n",
    "    print(letter)\n",
    "    \n",
    "    # check to see if order looks good\n",
    "        \n",
    "    if letter < last:\n",
    "        print(\"The vowels in\", word, \"are out of order.\")\n",
    "        break\n",
    "    last = letter\n",
    "else:\n",
    "    print(\"The vowels in\", word, \"are in order.\")"
   ]
  },
  {
   "cell_type": "markdown",
   "metadata": {},
   "source": [
    "# 3. Algorithms\n",
    "algorithm:\n",
    "1. abstract set of steps a progra will execute\n",
    "2. plan for solving a problem\n",
    "\n",
    "problem: how do you find the square root of x with x>0\n",
    "want to be within esillon of the real square root. \n",
    "\n",
    "x ** 0.5\n"
   ]
  },
  {
   "cell_type": "markdown",
   "metadata": {},
   "source": [
    "## 3.1 Exhaustive search: Brute Force "
   ]
  },
  {
   "cell_type": "code",
   "execution_count": 26,
   "metadata": {
    "collapsed": false
   },
   "outputs": [
    {
     "name": "stdout",
     "output_type": "stream",
     "text": [
      "Enter a number: 12345\n",
      "number of guesses 11110806\n",
      "111.1080600240677 is close to the square root of 12345.0\n"
     ]
    }
   ],
   "source": [
    "x = float(input(\"Enter a number: \"))\n",
    "\n",
    "num_guesses = 0\n",
    "epsilon = 0.00001\n",
    "ans = 0.0\n",
    "\n",
    "while ans ** 2 <= x:\n",
    "    ans += epsilon\n",
    "    num_guesses += 1\n",
    "print(\"number of guesses\", num_guesses)\n",
    "print(ans, \"is close to the square root of\", x)"
   ]
  },
  {
   "cell_type": "markdown",
   "metadata": {},
   "source": [
    "## 3.2 Bisection Search"
   ]
  },
  {
   "cell_type": "code",
   "execution_count": 2,
   "metadata": {
    "collapsed": false
   },
   "outputs": [
    {
     "name": "stdout",
     "output_type": "stream",
     "text": [
      "Enter a number: 12345\n",
      "low =  0 high=  12345.0\n",
      "low =  0 high=  6172.5\n",
      "low =  0 high=  3086.25\n",
      "low =  0 high=  1543.125\n",
      "low =  0 high=  771.5625\n",
      "low =  0 high=  385.78125\n",
      "low =  0 high=  192.890625\n",
      "low =  96.4453125 high=  192.890625\n",
      "low =  96.4453125 high=  144.66796875\n",
      "low =  96.4453125 high=  120.556640625\n",
      "low =  108.5009765625 high=  120.556640625\n",
      "low =  108.5009765625 high=  114.52880859375\n",
      "low =  108.5009765625 high=  111.514892578125\n",
      "low =  110.0079345703125 high=  111.514892578125\n",
      "low =  110.76141357421875 high=  111.514892578125\n",
      "low =  110.76141357421875 high=  111.13815307617188\n",
      "low =  110.94978332519531 high=  111.13815307617188\n",
      "low =  111.0439682006836 high=  111.13815307617188\n",
      "low =  111.09106063842773 high=  111.13815307617188\n",
      "low =  111.09106063842773 high=  111.1146068572998\n",
      "low =  111.10283374786377 high=  111.1146068572998\n",
      "low =  111.10283374786377 high=  111.10872030258179\n",
      "low =  111.10577702522278 high=  111.10872030258179\n",
      "low =  111.10724866390228 high=  111.10872030258179\n",
      "low =  111.10798448324203 high=  111.10872030258179\n",
      "low =  111.10798448324203 high=  111.10835239291191\n",
      "low =  111.10798448324203 high=  111.10816843807697\n",
      "low =  111.10798448324203 high=  111.1080764606595\n",
      "low =  111.10803047195077 high=  111.1080764606595\n",
      "low =  111.10805346630514 high=  111.1080764606595\n",
      "111.10805921489373 is close to the square root of 12345.0\n",
      "Number of guesses: 30\n"
     ]
    }
   ],
   "source": [
    "x = float(input(\"Enter a number: \"))\n",
    "\n",
    "epsilon = 0.00001\n",
    "num_guesses = 0\n",
    "low = 0\n",
    "high = x\n",
    "ans = (high + low)/2.0\n",
    "\n",
    "while high-low >= 2 * epsilon:\n",
    "    print(\"low = \", low, \"high= \", high)\n",
    "    num_guesses += 1\n",
    "    if ans**2 < x:\n",
    "        low = ans\n",
    "    else:\n",
    "        high= ans\n",
    "    ans = (high+low)/2.0\n",
    "print(ans,\"is close to the square root of\", x)\n",
    "print(\"Number of guesses:\",num_guesses)"
   ]
  },
  {
   "cell_type": "markdown",
   "metadata": {},
   "source": [
    "## 3.3 Heron's Method\n",
    "\n",
    "find ans close to the square root of x\n",
    "\n",
    "ans\n",
    "consider x/ans and ans* (x/ans) = x\n",
    "\n",
    "next guess: ans = (x/ans + ans) / 2\n",
    "\n",
    "A special case of Newton's Method.\n",
    "let f(ans) = ans ** 2 -x\n",
    "find ans such that f(ans) = 0"
   ]
  },
  {
   "cell_type": "code",
   "execution_count": 4,
   "metadata": {
    "collapsed": false
   },
   "outputs": [
    {
     "name": "stdout",
     "output_type": "stream",
     "text": [
      "Enter a number: 12345\n",
      "111.10805770848404 is close to the square root of, 12345.0\n",
      "Number of guesses:  10\n"
     ]
    }
   ],
   "source": [
    "x = float(input(\"Enter a number: \"))\n",
    "\n",
    "eqsilon = 0.00001\n",
    "num_guesses = 0\n",
    "ans = 1\n",
    "\n",
    "while abs(x/ans - ans) > epsilon:\n",
    "    ans = (x/ans + ans) / 2\n",
    "    num_guesses += 1\n",
    "print(ans, \"is close to the square root of,\", x)\n",
    "print(\"Number of guesses: \", num_guesses)\n"
   ]
  },
  {
   "cell_type": "markdown",
   "metadata": {},
   "source": [
    "# 4. Array\n",
    "\n",
    "Array is not built in basic Python! \n",
    "\n",
    "it is available in numpy, a very important package\n",
    "\n",
    "in order to use a package, we need to import it \n",
    "\n",
    "e.g. import numpy \n",
    "\n",
    "or sometimes import numpy as np\n",
    "\n",
    "Arrays are used to optimized for computational performance "
   ]
  },
  {
   "cell_type": "code",
   "execution_count": 2,
   "metadata": {
    "collapsed": true
   },
   "outputs": [],
   "source": [
    "import numpy as np"
   ]
  },
  {
   "cell_type": "code",
   "execution_count": 4,
   "metadata": {
    "collapsed": false
   },
   "outputs": [
    {
     "data": {
      "text/plain": [
       "array([ 0,  1,  2,  3,  4,  5,  6,  7,  8,  9, 10, 11, 12, 13, 14, 15, 16,\n",
       "       17, 18, 19])"
      ]
     },
     "execution_count": 4,
     "metadata": {},
     "output_type": "execute_result"
    }
   ],
   "source": [
    "# create an array! \n",
    "np.arange(0,20)"
   ]
  },
  {
   "cell_type": "code",
   "execution_count": 7,
   "metadata": {
    "collapsed": false
   },
   "outputs": [
    {
     "data": {
      "text/plain": [
       "array([ 0,  1,  2,  3,  4,  5,  6,  7,  8,  9, 10, 11, 12, 13, 14, 15, 16,\n",
       "       17, 18, 19])"
      ]
     },
     "execution_count": 7,
     "metadata": {},
     "output_type": "execute_result"
    }
   ],
   "source": [
    "x = np.arange(0,20)\n",
    "x"
   ]
  },
  {
   "cell_type": "code",
   "execution_count": 8,
   "metadata": {
    "collapsed": false
   },
   "outputs": [
    {
     "data": {
      "text/plain": [
       "array([ 0,  1, 12,  3,  4,  5,  6,  7,  8,  9, 10, 11, 12, 13, 14, 15, 16,\n",
       "       17, 18, 19])"
      ]
     },
     "execution_count": 8,
     "metadata": {},
     "output_type": "execute_result"
    }
   ],
   "source": [
    "x[2] = 12\n",
    "x"
   ]
  },
  {
   "cell_type": "code",
   "execution_count": 11,
   "metadata": {
    "collapsed": false
   },
   "outputs": [
    {
     "data": {
      "text/plain": [
       "dtype('int32')"
      ]
     },
     "execution_count": 11,
     "metadata": {},
     "output_type": "execute_result"
    }
   ],
   "source": [
    "# check for datatype \n",
    "# every elements in an array has to be in the same type \n",
    "x.dtype"
   ]
  },
  {
   "cell_type": "code",
   "execution_count": 12,
   "metadata": {
    "collapsed": false
   },
   "outputs": [
    {
     "ename": "ValueError",
     "evalue": "invalid literal for int() with base 10: 'shoe'",
     "output_type": "error",
     "traceback": [
      "\u001b[1;31m---------------------------------------------------------------------------\u001b[0m",
      "\u001b[1;31mValueError\u001b[0m                                Traceback (most recent call last)",
      "\u001b[1;32m<ipython-input-12-e6d50a5b8a15>\u001b[0m in \u001b[0;36m<module>\u001b[1;34m()\u001b[0m\n\u001b[0;32m      1\u001b[0m \u001b[1;31m# e.g if I do this will give an error\u001b[0m\u001b[1;33m\u001b[0m\u001b[1;33m\u001b[0m\u001b[0m\n\u001b[1;32m----> 2\u001b[1;33m \u001b[0mx\u001b[0m\u001b[1;33m[\u001b[0m\u001b[1;36m10\u001b[0m\u001b[1;33m]\u001b[0m \u001b[1;33m=\u001b[0m \u001b[1;34m\"shoe\"\u001b[0m\u001b[1;33m\u001b[0m\u001b[0m\n\u001b[0m",
      "\u001b[1;31mValueError\u001b[0m: invalid literal for int() with base 10: 'shoe'"
     ]
    }
   ],
   "source": [
    "# e.g if I do this will give an error\n",
    "x[10] = \"shoe\""
   ]
  },
  {
   "cell_type": "code",
   "execution_count": 13,
   "metadata": {
    "collapsed": false
   },
   "outputs": [
    {
     "ename": "AttributeError",
     "evalue": "'numpy.ndarray' object has no attribute 'append'",
     "output_type": "error",
     "traceback": [
      "\u001b[1;31m---------------------------------------------------------------------------\u001b[0m",
      "\u001b[1;31mAttributeError\u001b[0m                            Traceback (most recent call last)",
      "\u001b[1;32m<ipython-input-13-e67d644ad88d>\u001b[0m in \u001b[0;36m<module>\u001b[1;34m()\u001b[0m\n\u001b[0;32m      1\u001b[0m \u001b[1;31m# the length of an array is fixed !!!!!!\u001b[0m\u001b[1;33m\u001b[0m\u001b[1;33m\u001b[0m\u001b[0m\n\u001b[0;32m      2\u001b[0m \u001b[1;31m# e.g. the following two will give errors\u001b[0m\u001b[1;33m\u001b[0m\u001b[1;33m\u001b[0m\u001b[0m\n\u001b[1;32m----> 3\u001b[1;33m \u001b[0mx\u001b[0m\u001b[1;33m.\u001b[0m\u001b[0mappend\u001b[0m\u001b[1;33m(\u001b[0m\u001b[1;36m3\u001b[0m\u001b[1;33m)\u001b[0m\u001b[1;33m\u001b[0m\u001b[0m\n\u001b[0m\u001b[0;32m      4\u001b[0m \u001b[0mx\u001b[0m\u001b[1;33m.\u001b[0m\u001b[0mpop\u001b[0m\u001b[1;33m\u001b[0m\u001b[0m\n",
      "\u001b[1;31mAttributeError\u001b[0m: 'numpy.ndarray' object has no attribute 'append'"
     ]
    }
   ],
   "source": [
    "# the length of an array is fixed !!!!!!\n",
    "# e.g. the following two will give errors\n",
    "x.append(3)\n",
    "x.pop\n"
   ]
  },
  {
   "cell_type": "code",
   "execution_count": 16,
   "metadata": {
    "collapsed": false
   },
   "outputs": [
    {
     "data": {
      "text/plain": [
       "array([[ 0.43412768,  0.70650482,  0.57834829,  0.30760445,  0.66411115],\n",
       "       [ 0.68718037,  0.64103205,  0.37015391,  0.53455498,  0.69730488],\n",
       "       [ 0.24446339,  0.51349599,  0.5594937 ,  0.31504148,  0.57464194],\n",
       "       [ 0.97181812,  0.31563402,  0.60238264,  0.6208236 ,  0.5138505 ],\n",
       "       [ 0.94491418,  0.12789558,  0.13728023,  0.87259091,  0.63355134]])"
      ]
     },
     "execution_count": 16,
     "metadata": {},
     "output_type": "execute_result"
    }
   ],
   "source": [
    "# asking for a 5*5 random array\n",
    "# notice the numbers are from 0 to 1, because they are getting from a \n",
    "# uniform distribution\n",
    "np.random.rand(5,5)"
   ]
  },
  {
   "cell_type": "code",
   "execution_count": 17,
   "metadata": {
    "collapsed": true
   },
   "outputs": [],
   "source": [
    "#asking for help\n",
    "np.random?"
   ]
  },
  {
   "cell_type": "code",
   "execution_count": 29,
   "metadata": {
    "collapsed": false
   },
   "outputs": [
    {
     "data": {
      "text/plain": [
       "array([ 1.59924634, -1.14521362, -0.78834045,  0.58941176,  0.80687964,\n",
       "       -0.0490016 ,  0.76980544,  1.34178542,  0.41562246,  0.26707351,\n",
       "       -0.91954996,  0.68791742,  0.96076847,  1.12851396, -0.36312592,\n",
       "       -0.7124818 ,  0.04828918,  0.79401736, -1.75099179, -0.70485244])"
      ]
     },
     "execution_count": 29,
     "metadata": {},
     "output_type": "execute_result"
    }
   ],
   "source": [
    "ar = np.random.randn(20)\n",
    "ar"
   ]
  },
  {
   "cell_type": "code",
   "execution_count": 31,
   "metadata": {
    "collapsed": false
   },
   "outputs": [
    {
     "name": "stdout",
     "output_type": "stream",
     "text": [
      "ar.mean is  0.148788668611 \n",
      "ar.std is 0.895439586514\n"
     ]
    }
   ],
   "source": [
    "m = ar.mean()\n",
    "s = ar.std()\n",
    "print(\"ar.mean is \",m,\"\\nar.std is\",s )"
   ]
  },
  {
   "cell_type": "code",
   "execution_count": 33,
   "metadata": {
    "collapsed": false
   },
   "outputs": [
    {
     "data": {
      "text/plain": [
       "array([[ 1.59924634, -1.14521362, -0.78834045,  0.58941176],\n",
       "       [ 0.80687964, -0.0490016 ,  0.76980544,  1.34178542],\n",
       "       [ 0.41562246,  0.26707351, -0.91954996,  0.68791742],\n",
       "       [ 0.96076847,  1.12851396, -0.36312592, -0.7124818 ],\n",
       "       [ 0.04828918,  0.79401736, -1.75099179, -0.70485244]])"
      ]
     },
     "execution_count": 33,
     "metadata": {},
     "output_type": "execute_result"
    }
   ],
   "source": [
    "# I can use reshape to give a new set of dimension\n",
    "ar = ar.reshape(5,4)\n",
    "ar"
   ]
  },
  {
   "cell_type": "code",
   "execution_count": 35,
   "metadata": {
    "collapsed": false
   },
   "outputs": [
    {
     "name": "stdout",
     "output_type": "stream",
     "text": [
      "mean of each collom is  [ 0.76616122  0.19907792 -0.61044054  0.24035607] \n",
      "mean of each row is  [ 0.06377601  0.71736723  0.11276586  0.25341868 -0.40338442]\n"
     ]
    }
   ],
   "source": [
    "# if I want the mean of each collom I can do \n",
    "mc = ar.mean(axis = 0)\n",
    "# if I want the mean of each row I can do \n",
    "mr = ar.mean(axis = 1)\n",
    "print(\"mean of each collom is \",mc,\"\\nmean of each row is \",mr )"
   ]
  },
  {
   "cell_type": "markdown",
   "metadata": {},
   "source": [
    "# 5. Comprehensions\n"
   ]
  },
  {
   "cell_type": "code",
   "execution_count": 37,
   "metadata": {
    "collapsed": false
   },
   "outputs": [
    {
     "name": "stdout",
     "output_type": "stream",
     "text": [
      "[1, 4, 9, 16, 25, 36, 49, 64, 81, 100]\n"
     ]
    }
   ],
   "source": [
    "squares = []\n",
    "for i in range(1,11):\n",
    "    squares.append(i**2)\n",
    "print(squares)"
   ]
  },
  {
   "cell_type": "code",
   "execution_count": 38,
   "metadata": {
    "collapsed": false
   },
   "outputs": [
    {
     "data": {
      "text/plain": [
       "[1, 4, 9, 16, 25, 36, 49, 64, 81, 100]"
      ]
     },
     "execution_count": 38,
     "metadata": {},
     "output_type": "execute_result"
    }
   ],
   "source": [
    "# lets take a look at the samething but using Comprehensions\n",
    "[i**2 for i in range(1,11)]"
   ]
  },
  {
   "cell_type": "code",
   "execution_count": 41,
   "metadata": {
    "collapsed": false
   },
   "outputs": [
    {
     "data": {
      "text/plain": [
       "[(0, 0),\n",
       " (0, 1),\n",
       " (0, 2),\n",
       " (0, 3),\n",
       " (1, 0),\n",
       " (1, 1),\n",
       " (1, 2),\n",
       " (1, 3),\n",
       " (2, 0),\n",
       " (2, 1),\n",
       " (2, 2),\n",
       " (2, 3),\n",
       " (3, 0),\n",
       " (3, 1),\n",
       " (3, 2),\n",
       " (3, 3)]"
      ]
     },
     "execution_count": 41,
     "metadata": {},
     "output_type": "execute_result"
    }
   ],
   "source": [
    "# nested loop using comprehensions\n",
    "[(row,column)for row in range(4) for column in range(4)]"
   ]
  },
  {
   "cell_type": "code",
   "execution_count": 43,
   "metadata": {
    "collapsed": false
   },
   "outputs": [
    {
     "name": "stdout",
     "output_type": "stream",
     "text": [
      "['a', 'b', 'c', 'd', 'e', 'f', 'g', 'h', 'i', 'j', 'k', 'l', 'm', 'n', 'o', 'p', 'q', 'r', 's', 't', 'u', 'v', 'w', 'x', 'y', 'z']\n"
     ]
    }
   ],
   "source": [
    "import string\n",
    "letters = [a for a in string.ascii_lowercase]\n",
    "print(letters)"
   ]
  },
  {
   "cell_type": "code",
   "execution_count": 45,
   "metadata": {
    "collapsed": false
   },
   "outputs": [
    {
     "name": "stdout",
     "output_type": "stream",
     "text": [
      "Enter a word: William\n",
      "['a', 'i', 'l', 'm']\n"
     ]
    }
   ],
   "source": [
    "# find all the letters in a word and put into alphabetical order\n",
    "import string\n",
    "word = input(\"Enter a word: \")\n",
    "letters = [a for a in string.ascii_lowercase if a in word]\n",
    "print(letters)"
   ]
  },
  {
   "cell_type": "code",
   "execution_count": 46,
   "metadata": {
    "collapsed": false
   },
   "outputs": [
    {
     "name": "stdout",
     "output_type": "stream",
     "text": [
      "{'a': 1, 'x': 2, 'i': 1, ' ': 4, 'H': 1, 'o': 1, 'e': 6, 'r': 1, 'p': 1, 'm': 2, 's': 2, 't': 2, '.': 1}\n"
     ]
    }
   ],
   "source": [
    "# dictionary comprihension\n",
    "text = \"Here is some exampe text.\"\n",
    "frequencies = {letter : text.count(letter) for letter in text }\n",
    "print(frequencies)"
   ]
  }
 ],
 "metadata": {
  "kernelspec": {
   "display_name": "Python 3",
   "language": "python",
   "name": "python3"
  },
  "language_info": {
   "codemirror_mode": {
    "name": "ipython",
    "version": 3
   },
   "file_extension": ".py",
   "mimetype": "text/x-python",
   "name": "python",
   "nbconvert_exporter": "python",
   "pygments_lexer": "ipython3",
   "version": "3.5.1"
  }
 },
 "nbformat": 4,
 "nbformat_minor": 0
}
