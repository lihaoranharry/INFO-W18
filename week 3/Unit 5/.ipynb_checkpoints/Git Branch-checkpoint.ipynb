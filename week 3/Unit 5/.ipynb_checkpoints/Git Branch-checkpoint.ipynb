{
 "cells": [
  {
   "cell_type": "markdown",
   "metadata": {},
   "source": [
    "# 1. Git Branches \n",
    "a branch is a copy of your code that you can change without affectng the \n",
    "original code. you can go back and forth."
   ]
  },
  {
   "cell_type": "code",
   "execution_count": null,
   "metadata": {
    "collapsed": true
   },
   "outputs": [],
   "source": [
    "cd 'C:\\Users\\hrli1\\Desktop\\2016 Summer\\INFO W18\\week 3\\Unit 5>'\n",
    "mkdir branch_demo\n",
    "cd .\\branch_demo\\\n",
    "touch namegame.py\n",
    "# do some coding in namegame.py\n",
    "/%\n",
    "name = input(\"Enter your name: \")\n",
    "for i in range(len(name), 0 ,-1):\n",
    "    print( name[0:i], end = \" \")\n",
    "%/\n",
    "git init  # create a new git repository \n",
    "git add *.py # this means everthing with .py should be added \n",
    "git commit -m \"Added first file\"\n",
    "# do some coding again in namegame.py\n",
    "/%\n",
    "name = input(\"Enter your name: \")\n",
    "for i in range(len(name), 0 ,-1):\n",
    "    print( name[0:i], end = \" \")\n",
    "    for j in range(i, len(name)):\n",
    "        print(\" \" * (j-i) + name[j], end=\"\")\n",
    "    print(\"\")\n",
    "%/\n",
    "git commit -a -m \"added letters that spread out\"\n",
    "# now lets creat another branch named line_arg!\n",
    "git checkout -b line_arg\n",
    "git branch  # this checks which branch am I working on right now\n",
    "/%\n",
    "import sys\n",
    "\n",
    "if len(sys.argv) > 1:  # this nice thing will pass the first thing right\n",
    "    name = sys.argv[1] # after the call of the program into the variable \n",
    "else:                  # name, if there is no, then prompt the user to input \n",
    "    name = input(\"Enter your name: \")\n",
    "\n",
    "for i in range(len(name), 0 ,-1):\n",
    "    print( name[0:i], end = \" \")\n",
    "    for j in range(i, len(name)):\n",
    "        print(\" \" * (j-i) + name[j], end=\"\")\n",
    "    print(\"\")\n",
    "%/\n",
    "git commit -a -m \"added command line input\"\n",
    "# now we like the changes and we \n",
    "# want all our changes back on our master brance, now we need to merge them\n",
    "git checkout master # we need to first go to the branch we want to merge\n",
    "                    # notice when you do this, adam noticed it and will change\n",
    "                    # the contant of the file! very cleaver\n",
    "git merge line_arg  # merge the change into the master branch! we are done!"
   ]
  }
 ],
 "metadata": {
  "kernelspec": {
   "display_name": "Python 3",
   "language": "python",
   "name": "python3"
  },
  "language_info": {
   "codemirror_mode": {
    "name": "ipython",
    "version": 3
   },
   "file_extension": ".py",
   "mimetype": "text/x-python",
   "name": "python",
   "nbconvert_exporter": "python",
   "pygments_lexer": "ipython3",
   "version": "3.5.1"
  }
 },
 "nbformat": 4,
 "nbformat_minor": 0
}
