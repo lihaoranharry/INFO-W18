{
 "cells": [
  {
   "cell_type": "markdown",
   "metadata": {},
   "source": [
    "# Jupyter Notebook\n",
    "\n",
    "Here is a *very informative* lesson on the Jupeter notebook.                   \n",
    "You can put text inside /* /* to get italic                                \n",
    "There are aloy of short cut, you can find them in the Help under Keyboard shrotcuts                             \n",
    "There are some magic command e.g. %quickref\n",
    "others like ? are usefull. e.g. ?range gives you informations about the range functions"
   ]
  },
  {
   "cell_type": "code",
   "execution_count": 2,
   "metadata": {
    "collapsed": false
   },
   "outputs": [
    {
     "name": "stdout",
     "output_type": "stream",
     "text": [
      "Hello Jupyter\n",
      "more text\n"
     ]
    }
   ],
   "source": [
    "print (\"Hello Jupyter\")\n",
    "print(\"more text\")"
   ]
  },
  {
   "cell_type": "code",
   "execution_count": 3,
   "metadata": {
    "collapsed": true
   },
   "outputs": [],
   "source": [
    "x = 5"
   ]
  },
  {
   "cell_type": "code",
   "execution_count": 5,
   "metadata": {
    "collapsed": false
   },
   "outputs": [
    {
     "name": "stdout",
     "output_type": "stream",
     "text": [
      "x = 5\n"
     ]
    }
   ],
   "source": [
    "print(\"x =\", x )"
   ]
  },
  {
   "cell_type": "code",
   "execution_count": null,
   "metadata": {
    "collapsed": true
   },
   "outputs": [],
   "source": []
  },
  {
   "cell_type": "code",
   "execution_count": 7,
   "metadata": {
    "collapsed": false
   },
   "outputs": [
    {
     "name": "stdout",
     "output_type": "stream",
     "text": [
      "Hello again\n"
     ]
    }
   ],
   "source": [
    "print(\"Hello again\")"
   ]
  },
  {
   "cell_type": "code",
   "execution_count": 9,
   "metadata": {
    "collapsed": false
   },
   "outputs": [
    {
     "name": "stdout",
     "output_type": "stream",
     "text": [
      " Volume in drive C is Windows10\n",
      " Volume Serial Number is 1626-3B4E\n",
      "\n",
      " Directory of C:\\Users\\hrli1\\Desktop\\2016 Summer\\INFO W18\\Unit 3\n",
      "\n",
      "06/12/2016  05:27 AM    <DIR>          .\n",
      "06/12/2016  05:27 AM    <DIR>          ..\n",
      "06/12/2016  05:21 AM    <DIR>          .ipynb_checkpoints\n",
      "06/12/2016  05:27 AM             1,757 Untitled.ipynb\n",
      "06/12/2016  05:19 AM            17,724 W18 Reading unit 3.docx\n",
      "               2 File(s)         19,481 bytes\n",
      "               3 Dir(s)  98,102,943,744 bytes free\n"
     ]
    }
   ],
   "source": [
    "ls"
   ]
  },
  {
   "cell_type": "code",
   "execution_count": 10,
   "metadata": {
    "collapsed": false
   },
   "outputs": [
    {
     "data": {
      "text/plain": [
       "'C:\\\\Users\\\\hrli1\\\\Desktop\\\\2016 Summer\\\\INFO W18\\\\Unit 3'"
      ]
     },
     "execution_count": 10,
     "metadata": {},
     "output_type": "execute_result"
    }
   ],
   "source": [
    "pwd"
   ]
  },
  {
   "cell_type": "code",
   "execution_count": 13,
   "metadata": {
    "collapsed": true
   },
   "outputs": [],
   "source": [
    "%quickref"
   ]
  },
  {
   "cell_type": "code",
   "execution_count": 14,
   "metadata": {
    "collapsed": true
   },
   "outputs": [],
   "source": [
    "? range"
   ]
  }
 ],
 "metadata": {
  "kernelspec": {
   "display_name": "Python 3",
   "language": "python",
   "name": "python3"
  },
  "language_info": {
   "codemirror_mode": {
    "name": "ipython",
    "version": 3
   },
   "file_extension": ".py",
   "mimetype": "text/x-python",
   "name": "python",
   "nbconvert_exporter": "python",
   "pygments_lexer": "ipython3",
   "version": "3.5.1"
  }
 },
 "nbformat": 4,
 "nbformat_minor": 0
}
