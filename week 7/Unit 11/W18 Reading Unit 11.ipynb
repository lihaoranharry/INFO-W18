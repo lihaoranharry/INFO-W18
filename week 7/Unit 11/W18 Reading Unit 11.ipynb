{
 "cells": [
  {
   "cell_type": "markdown",
   "metadata": {},
   "source": [
    "# Introducing Pandas"
   ]
  },
  {
   "cell_type": "markdown",
   "metadata": {},
   "source": [
    "- Numpy sits as the foundation of the Python Data Packages\n",
    "    - it has low level machinery that can make data crunching efficient \n",
    "    - But it would be a ton of work to perform a full data analysis using numpy arrays.\n",
    "        - you'd end up having to write procedures for common tasks from scratch \n",
    "- Pandas is a separate package that addresses this gap.\n",
    "     - it takes the power of numpy, but wraps it up in a suer-friendly package\n",
    "     - give us higer level tools to do the things we commonly do with data.\n",
    "     - a lot of the syntac is inspired by R, a very data-oriented panguage \n",
    "         - emphasizes functional programming, very clean and explict code.\n",
    "- several core types\n",
    "    - index \n",
    "        - how you label the data, access different observations \n",
    "    - series \n",
    "        - a single column of data \n",
    "        - has an index \n",
    "        - this represents a variable, perhaps measurements \n",
    "    - dataframe \n",
    "        - a combination of multiple series \n",
    "        - has an index\n",
    "        - this is the usual way we represent a dataset\n",
    "            - each column becomes a variable \n",
    "            - each row is an observation of a unit of analysis \n",
    "    \n",
    "- the key to pandas\n",
    "    - sits on top of NumPy so it is fast and efficient \n",
    "    - be patient when learning Pandas \n",
    "    - when asking questions, use pandas vocabulary\n",
    "    - be patient!"
   ]
  }
 ],
 "metadata": {
  "kernelspec": {
   "display_name": "Python 3",
   "language": "python",
   "name": "python3"
  },
  "language_info": {
   "codemirror_mode": {
    "name": "ipython",
    "version": 3
   },
   "file_extension": ".py",
   "mimetype": "text/x-python",
   "name": "python",
   "nbconvert_exporter": "python",
   "pygments_lexer": "ipython3",
   "version": "3.5.1"
  }
 },
 "nbformat": 4,
 "nbformat_minor": 0
}
