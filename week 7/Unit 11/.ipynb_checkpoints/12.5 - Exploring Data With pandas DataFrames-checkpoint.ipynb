{
 "cells": [
  {
   "cell_type": "markdown",
   "metadata": {},
   "source": [
    "# Initial Data Set Exploration With pandas DataFrames\n",
    "\n",
    "Now we will dive into our first data set and see how the features of pandas can be used for analysis. Along the way, we will encounter some real problems that you are likely to experience in your own analyses. \n",
    "\n",
    "Let’s begin by opening the file `running_data.csv`."
   ]
  },
  {
   "cell_type": "code",
   "execution_count": 43,
   "metadata": {
    "collapsed": false
   },
   "outputs": [
    {
     "name": "stdout",
     "output_type": "stream",
     "text": [
      "3.5.1 |Anaconda 4.0.0 (64-bit)| (default, Feb 16 2016, 09:49:46) [MSC v.1900 64 bit (AMD64)]\n",
      "1.10.4\n",
      "0.18.0\n"
     ]
    }
   ],
   "source": [
    "%matplotlib inline\n",
    "import sys\n",
    "print(sys.version)\n",
    "import numpy as np\n",
    "print(np.__version__)\n",
    "import pandas as pd\n",
    "print(pd.__version__)\n",
    "import matplotlib.pyplot as plt"
   ]
  },
  {
   "cell_type": "markdown",
   "metadata": {},
   "source": [
    "pandas provides a lot of functions for reading in different data types.  Each of these will read in the data as a DataFrame. We will use the `read_csv` command because we are working with a comma-separated file. However, you should know that there are a lot of other functions available. These include the following:\n",
    "\n",
    "- `read_csv`\n",
    "- `read_excel`\n",
    "- `read_hdf`\n",
    "- `read_sql`\n",
    "- `read_json`\n",
    "- `read_msgpack` (experimental)\n",
    "- `read_html`\n",
    "- `read_gbq` (experimental)\n",
    "- `read_stata`\n",
    "- `read_clipboard`\n",
    "- `read_pickle`"
   ]
  },
  {
   "cell_type": "code",
   "execution_count": 44,
   "metadata": {
    "collapsed": false
   },
   "outputs": [
    {
     "name": "stdout",
     "output_type": "stream",
     "text": [
      "<class 'pandas.core.frame.DataFrame'>\n"
     ]
    },
    {
     "data": {
      "text/html": [
       "<div>\n",
       "<table border=\"1\" class=\"dataframe\">\n",
       "  <thead>\n",
       "    <tr style=\"text-align: right;\">\n",
       "      <th></th>\n",
       "      <th>Date</th>\n",
       "      <th>Miles</th>\n",
       "      <th>Time</th>\n",
       "    </tr>\n",
       "  </thead>\n",
       "  <tbody>\n",
       "    <tr>\n",
       "      <th>0</th>\n",
       "      <td>8/2/14</td>\n",
       "      <td>1.70</td>\n",
       "      <td>NaN</td>\n",
       "    </tr>\n",
       "    <tr>\n",
       "      <th>1</th>\n",
       "      <td>8/3/14</td>\n",
       "      <td>1.40</td>\n",
       "      <td>NaN</td>\n",
       "    </tr>\n",
       "    <tr>\n",
       "      <th>2</th>\n",
       "      <td>8/4/14</td>\n",
       "      <td>2.10</td>\n",
       "      <td>NaN</td>\n",
       "    </tr>\n",
       "    <tr>\n",
       "      <th>3</th>\n",
       "      <td>8/6/14</td>\n",
       "      <td>2.38</td>\n",
       "      <td>NaN</td>\n",
       "    </tr>\n",
       "    <tr>\n",
       "      <th>4</th>\n",
       "      <td>8/7/14</td>\n",
       "      <td>2.30</td>\n",
       "      <td>NaN</td>\n",
       "    </tr>\n",
       "    <tr>\n",
       "      <th>5</th>\n",
       "      <td>8/8/14</td>\n",
       "      <td>3.40</td>\n",
       "      <td>NaN</td>\n",
       "    </tr>\n",
       "    <tr>\n",
       "      <th>6</th>\n",
       "      <td>8/9/14</td>\n",
       "      <td>2.50</td>\n",
       "      <td>NaN</td>\n",
       "    </tr>\n",
       "    <tr>\n",
       "      <th>7</th>\n",
       "      <td>8/10/14</td>\n",
       "      <td>3.36</td>\n",
       "      <td>0:28:37</td>\n",
       "    </tr>\n",
       "    <tr>\n",
       "      <th>8</th>\n",
       "      <td>8/11/14</td>\n",
       "      <td>1.67</td>\n",
       "      <td>0:13:07</td>\n",
       "    </tr>\n",
       "    <tr>\n",
       "      <th>9</th>\n",
       "      <td>8/12/14</td>\n",
       "      <td>1.42</td>\n",
       "      <td>0:10:35</td>\n",
       "    </tr>\n",
       "  </tbody>\n",
       "</table>\n",
       "</div>"
      ],
      "text/plain": [
       "      Date  Miles     Time\n",
       "0   8/2/14   1.70      NaN\n",
       "1   8/3/14   1.40      NaN\n",
       "2   8/4/14   2.10      NaN\n",
       "3   8/6/14   2.38      NaN\n",
       "4   8/7/14   2.30      NaN\n",
       "5   8/8/14   3.40      NaN\n",
       "6   8/9/14   2.50      NaN\n",
       "7  8/10/14   3.36  0:28:37\n",
       "8  8/11/14   1.67  0:13:07\n",
       "9  8/12/14   1.42  0:10:35"
      ]
     },
     "execution_count": 44,
     "metadata": {},
     "output_type": "execute_result"
    }
   ],
   "source": [
    "df = pd.read_csv('raw_running_data.csv')\n",
    "print(type(df))\n",
    "df.head(10)"
   ]
  },
  {
   "cell_type": "markdown",
   "metadata": {},
   "source": [
    "As you can see, we have read in the data and gotten a DataFrame back. Before we continue, take a look at the parameters that go into the `read_csv` function.  You will see that there are many options that we can set. We can skip rows and specify dtypes, compression, and indexes. This function could be a whole lesson by itself."
   ]
  },
  {
   "cell_type": "code",
   "execution_count": 45,
   "metadata": {
    "collapsed": false
   },
   "outputs": [],
   "source": [
    "?pd.read_csv()"
   ]
  },
  {
   "cell_type": "markdown",
   "metadata": {},
   "source": [
    "For now, remember that you have a lot of options when reading in files. You can do a lot of the same processing after you finish reading a file, but some operations are easiest to perform right at the point of reading.\n",
    "\n",
    "Let's explore the data types we have in this data set."
   ]
  },
  {
   "cell_type": "code",
   "execution_count": 46,
   "metadata": {
    "collapsed": false
   },
   "outputs": [
    {
     "data": {
      "text/plain": [
       "Date      object\n",
       "Miles    float64\n",
       "Time      object\n",
       "dtype: object"
      ]
     },
     "execution_count": 46,
     "metadata": {},
     "output_type": "execute_result"
    }
   ],
   "source": [
    "df.dtypes"
   ]
  },
  {
   "cell_type": "markdown",
   "metadata": {},
   "source": [
    "The Date column and the Time column are both of time object.  This is the most general type, and it is probably not what we really want here.  We will see how to fix this shortly.\n",
    "\n",
    "Before we do that we should know a bit more about this data. One of your instructors, Bill Chambers, recorded all of his runs from August 1, 2014, to January 1, 2015. During these several months, distance, time of the run, and the date were also recorded."
   ]
  },
  {
   "cell_type": "code",
   "execution_count": 47,
   "metadata": {
    "collapsed": false
   },
   "outputs": [
    {
     "data": {
      "text/plain": [
       "Index(['Date', 'Miles', 'Time'], dtype='object')"
      ]
     },
     "execution_count": 47,
     "metadata": {},
     "output_type": "execute_result"
    }
   ],
   "source": [
    "df.columns"
   ]
  },
  {
   "cell_type": "markdown",
   "metadata": {},
   "source": [
    "\n",
    "Now we can see our three columns here: Date, Miles, and Time. If we look back at the head command, we can also see that we have some NaN values when the time was not recorded.\n",
    "\n",
    "We can also examine our index, which is just the integers; we will want to change that later as well."
   ]
  },
  {
   "cell_type": "code",
   "execution_count": 48,
   "metadata": {
    "collapsed": false
   },
   "outputs": [
    {
     "data": {
      "text/plain": [
       "RangeIndex(start=0, stop=81, step=1)"
      ]
     },
     "execution_count": 48,
     "metadata": {},
     "output_type": "execute_result"
    }
   ],
   "source": [
    "df.index"
   ]
  },
  {
   "cell_type": "markdown",
   "metadata": {},
   "source": [
    "# Time Series Data\n",
    "\n",
    "pandas is absolutely fantastic with time data. It has great functionality that will make our Date and Time columns easy to work with. However, before we can leverage it correctly, we need to convert our columns to date/datetime types so that we can query with dates.\n",
    "\n",
    "Let's get started there. First we will manipulate the Date column."
   ]
  },
  {
   "cell_type": "code",
   "execution_count": 49,
   "metadata": {
    "collapsed": false
   },
   "outputs": [
    {
     "data": {
      "text/plain": [
       "0    8/2/14\n",
       "1    8/3/14\n",
       "2    8/4/14\n",
       "3    8/6/14\n",
       "4    8/7/14\n",
       "Name: Date, dtype: object"
      ]
     },
     "execution_count": 49,
     "metadata": {},
     "output_type": "execute_result"
    }
   ],
   "source": [
    "df['Date'].head()"
   ]
  },
  {
   "cell_type": "markdown",
   "metadata": {},
   "source": [
    "Now when we look at our date Series, we can see that the dtype is `object`. We want to change that to something that is date based, specifically `datetime64`."
   ]
  },
  {
   "cell_type": "markdown",
   "metadata": {},
   "source": [
    "Naturally there are several ways that we can fix this column, but arguably the easiest is just to read in the dates correctly when we read in the csv in the first place. Here is an updated `read_csv` statement."
   ]
  },
  {
   "cell_type": "code",
   "execution_count": 50,
   "metadata": {
    "collapsed": false
   },
   "outputs": [],
   "source": [
    "df = pd.read_csv('raw_running_data.csv', parse_dates=['Date'])"
   ]
  },
  {
   "cell_type": "code",
   "execution_count": 51,
   "metadata": {
    "collapsed": false
   },
   "outputs": [
    {
     "data": {
      "text/plain": [
       "0   2014-08-02\n",
       "1   2014-08-03\n",
       "2   2014-08-04\n",
       "3   2014-08-06\n",
       "4   2014-08-07\n",
       "Name: Date, dtype: datetime64[ns]"
      ]
     },
     "execution_count": 51,
     "metadata": {},
     "output_type": "execute_result"
    }
   ],
   "source": [
    "df.Date.head()"
   ]
  },
  {
   "cell_type": "markdown",
   "metadata": {},
   "source": [
    "As you can see, we have the correct dates now. \n",
    "\n",
    "Although pandas is pretty good at parsing dates, it will occasionally  make errors. You may have to write a custom date parser, but doing so is outside the scope of this course. The documentation is available online if you ever need to do this."
   ]
  },
  {
   "cell_type": "markdown",
   "metadata": {},
   "source": [
    "Let’s continue with our analysis.\n",
    "\n",
    "Now that our dates are parsed, let’s try to set the Dates as the index."
   ]
  },
  {
   "cell_type": "code",
   "execution_count": 52,
   "metadata": {
    "collapsed": false
   },
   "outputs": [],
   "source": [
    "df.set_index('Date', inplace=True)"
   ]
  },
  {
   "cell_type": "markdown",
   "metadata": {},
   "source": [
    "You will see I am using the `inplace=True` option. This is because pandas will typically try to return a new DataFrame rather than editing our current one. `inplace` ensures that it edits the current DataFrame instead. In most cases, I prefer to create new DataFrames (remember our discussion about the benefits of immutability), but it is good to know this is available as well."
   ]
  },
  {
   "cell_type": "markdown",
   "metadata": {},
   "source": [
    "Now that we have set our index, let's take a look at our DataFrame."
   ]
  },
  {
   "cell_type": "code",
   "execution_count": 53,
   "metadata": {
    "collapsed": false
   },
   "outputs": [
    {
     "data": {
      "text/html": [
       "<div>\n",
       "<table border=\"1\" class=\"dataframe\">\n",
       "  <thead>\n",
       "    <tr style=\"text-align: right;\">\n",
       "      <th></th>\n",
       "      <th>Miles</th>\n",
       "      <th>Time</th>\n",
       "    </tr>\n",
       "    <tr>\n",
       "      <th>Date</th>\n",
       "      <th></th>\n",
       "      <th></th>\n",
       "    </tr>\n",
       "  </thead>\n",
       "  <tbody>\n",
       "    <tr>\n",
       "      <th>2014-08-02</th>\n",
       "      <td>1.70</td>\n",
       "      <td>NaN</td>\n",
       "    </tr>\n",
       "    <tr>\n",
       "      <th>2014-08-03</th>\n",
       "      <td>1.40</td>\n",
       "      <td>NaN</td>\n",
       "    </tr>\n",
       "    <tr>\n",
       "      <th>2014-08-04</th>\n",
       "      <td>2.10</td>\n",
       "      <td>NaN</td>\n",
       "    </tr>\n",
       "    <tr>\n",
       "      <th>2014-08-06</th>\n",
       "      <td>2.38</td>\n",
       "      <td>NaN</td>\n",
       "    </tr>\n",
       "    <tr>\n",
       "      <th>2014-08-07</th>\n",
       "      <td>2.30</td>\n",
       "      <td>NaN</td>\n",
       "    </tr>\n",
       "  </tbody>\n",
       "</table>\n",
       "</div>"
      ],
      "text/plain": [
       "            Miles Time\n",
       "Date                  \n",
       "2014-08-02   1.70  NaN\n",
       "2014-08-03   1.40  NaN\n",
       "2014-08-04   2.10  NaN\n",
       "2014-08-06   2.38  NaN\n",
       "2014-08-07   2.30  NaN"
      ]
     },
     "execution_count": 53,
     "metadata": {},
     "output_type": "execute_result"
    }
   ],
   "source": [
    "df.head()"
   ]
  },
  {
   "cell_type": "markdown",
   "metadata": {},
   "source": [
    "It looks like we have correctly created a Date column and set it to work as our index.  Next, let's plot the data and see what it looks like."
   ]
  },
  {
   "cell_type": "markdown",
   "metadata": {},
   "source": [
    "## Plotting\n",
    "\n",
    "We can start by calling the `plot` method on the DataFrame."
   ]
  },
  {
   "cell_type": "code",
   "execution_count": 54,
   "metadata": {
    "collapsed": false
   },
   "outputs": [
    {
     "data": {
      "text/plain": [
       "<matplotlib.axes._subplots.AxesSubplot at 0x1da49e38748>"
      ]
     },
     "execution_count": 54,
     "metadata": {},
     "output_type": "execute_result"
    },
    {
     "data": {
      "image/png": "[encoded data removed]",
      "text/plain": [
       "<matplotlib.figure.Figure at 0x1da49e2ceb8>"
      ]
     },
     "metadata": {},
     "output_type": "display_data"
    }
   ],
   "source": [
    "df.plot()"
   ]
  },
  {
   "cell_type": "markdown",
   "metadata": {},
   "source": [
    "You will see that the `plot` method prints what it can. It does not understand what our time column is at this point, so it does not plot that. We will address that a bit later. However it understands that index is a `datetime64` object, so it assumes that we want to print the data as a time Series. It does that all automatically for us."
   ]
  },
  {
   "cell_type": "code",
   "execution_count": 55,
   "metadata": {
    "collapsed": false
   },
   "outputs": [],
   "source": [
    "?df.plot"
   ]
  },
  {
   "cell_type": "markdown",
   "metadata": {},
   "source": [
    "\n",
    "You can see there are different options when plotting our data. The default is a line chart, but we also have bar charts, area charts, or density charts (which can be used with appropriate kinds of data).\n",
    "\n",
    "Let's try out some of the other chart types."
   ]
  },
  {
   "cell_type": "code",
   "execution_count": 56,
   "metadata": {
    "collapsed": false
   },
   "outputs": [
    {
     "data": {
      "text/plain": [
       "<matplotlib.axes._subplots.AxesSubplot at 0x1da49e3a5c0>"
      ]
     },
     "execution_count": 56,
     "metadata": {},
     "output_type": "execute_result"
    },
    {
     "data": {
      "image/png": "[encoded data removed]",
      "text/plain": [
       "<matplotlib.figure.Figure at 0x1da47f933c8>"
      ]
     },
     "metadata": {},
     "output_type": "display_data"
    }
   ],
   "source": [
    "df.plot(kind='bar')"
   ]
  },
  {
   "cell_type": "code",
   "execution_count": 58,
   "metadata": {
    "collapsed": false
   },
   "outputs": [
    {
     "data": {
      "text/plain": [
       "<matplotlib.text.Text at 0x1da4a1199e8>"
      ]
     },
     "execution_count": 58,
     "metadata": {},
     "output_type": "execute_result"
    },
    {
     "data": {
      "image/png": "[encoded data removed]",
      "text/plain": [
       "<matplotlib.figure.Figure at 0x1da4a104828>"
      ]
     },
     "metadata": {},
     "output_type": "display_data"
    }
   ],
   "source": [
    "df.plot(kind='area')\n",
    "plt.ylabel(\"Count\")"
   ]
  },
  {
   "cell_type": "markdown",
   "metadata": {},
   "source": [
    "That `plt` module is `pyplot` and is a part of `matplotlib`, which we imported at the top of our notebook. You also may have noticed that we have started including the magic command `%matplotlib inline` at the top of our files. That allows us to embed matplotlib graphs in our notebooks.\n",
    "\n",
    "Let's continue with our analysis. You will notice that at this point we have a fair amount of data; however, pandas/IPython will not print it all even if we try to. This is because doing so would be troublesome for the displays. Imagine if this file were a million lines long; our system would likely crash.\n",
    "\n",
    "pandas substitutes those rows that it skips with `...`"
   ]
  },
  {
   "cell_type": "code",
   "execution_count": 59,
   "metadata": {
    "collapsed": false
   },
   "outputs": [
    {
     "data": {
      "text/html": [
       "<div>\n",
       "<table border=\"1\" class=\"dataframe\">\n",
       "  <thead>\n",
       "    <tr style=\"text-align: right;\">\n",
       "      <th></th>\n",
       "      <th>Miles</th>\n",
       "      <th>Time</th>\n",
       "    </tr>\n",
       "    <tr>\n",
       "      <th>Date</th>\n",
       "      <th></th>\n",
       "      <th></th>\n",
       "    </tr>\n",
       "  </thead>\n",
       "  <tbody>\n",
       "    <tr>\n",
       "      <th>2014-08-02</th>\n",
       "      <td>1.70</td>\n",
       "      <td>NaN</td>\n",
       "    </tr>\n",
       "    <tr>\n",
       "      <th>2014-08-03</th>\n",
       "      <td>1.40</td>\n",
       "      <td>NaN</td>\n",
       "    </tr>\n",
       "    <tr>\n",
       "      <th>2014-08-04</th>\n",
       "      <td>2.10</td>\n",
       "      <td>NaN</td>\n",
       "    </tr>\n",
       "    <tr>\n",
       "      <th>2014-08-06</th>\n",
       "      <td>2.38</td>\n",
       "      <td>NaN</td>\n",
       "    </tr>\n",
       "    <tr>\n",
       "      <th>2014-08-07</th>\n",
       "      <td>2.30</td>\n",
       "      <td>NaN</td>\n",
       "    </tr>\n",
       "    <tr>\n",
       "      <th>2014-08-08</th>\n",
       "      <td>3.40</td>\n",
       "      <td>NaN</td>\n",
       "    </tr>\n",
       "    <tr>\n",
       "      <th>2014-08-09</th>\n",
       "      <td>2.50</td>\n",
       "      <td>NaN</td>\n",
       "    </tr>\n",
       "    <tr>\n",
       "      <th>2014-08-10</th>\n",
       "      <td>3.36</td>\n",
       "      <td>0:28:37</td>\n",
       "    </tr>\n",
       "    <tr>\n",
       "      <th>2014-08-11</th>\n",
       "      <td>1.67</td>\n",
       "      <td>0:13:07</td>\n",
       "    </tr>\n",
       "    <tr>\n",
       "      <th>2014-08-12</th>\n",
       "      <td>1.42</td>\n",
       "      <td>0:10:35</td>\n",
       "    </tr>\n",
       "    <tr>\n",
       "      <th>2014-08-13</th>\n",
       "      <td>2.35</td>\n",
       "      <td>0:17:25</td>\n",
       "    </tr>\n",
       "    <tr>\n",
       "      <th>2014-08-14</th>\n",
       "      <td>0.90</td>\n",
       "      <td>0:06:16</td>\n",
       "    </tr>\n",
       "    <tr>\n",
       "      <th>2014-08-14</th>\n",
       "      <td>0.90</td>\n",
       "      <td>0:06:16</td>\n",
       "    </tr>\n",
       "    <tr>\n",
       "      <th>2014-08-15</th>\n",
       "      <td>1.78</td>\n",
       "      <td>NaN</td>\n",
       "    </tr>\n",
       "    <tr>\n",
       "      <th>2014-08-16</th>\n",
       "      <td>0.65</td>\n",
       "      <td>NaN</td>\n",
       "    </tr>\n",
       "    <tr>\n",
       "      <th>2014-08-17</th>\n",
       "      <td>1.34</td>\n",
       "      <td>NaN</td>\n",
       "    </tr>\n",
       "    <tr>\n",
       "      <th>2014-08-18</th>\n",
       "      <td>0.65</td>\n",
       "      <td>NaN</td>\n",
       "    </tr>\n",
       "    <tr>\n",
       "      <th>2014-08-19</th>\n",
       "      <td>1.37</td>\n",
       "      <td>NaN</td>\n",
       "    </tr>\n",
       "    <tr>\n",
       "      <th>2014-08-19</th>\n",
       "      <td>1.37</td>\n",
       "      <td>NaN</td>\n",
       "    </tr>\n",
       "    <tr>\n",
       "      <th>2014-08-20</th>\n",
       "      <td>1.37</td>\n",
       "      <td>0:09:33</td>\n",
       "    </tr>\n",
       "    <tr>\n",
       "      <th>2014-08-21</th>\n",
       "      <td>1.37</td>\n",
       "      <td>0:09:24</td>\n",
       "    </tr>\n",
       "    <tr>\n",
       "      <th>2014-08-22</th>\n",
       "      <td>1.37</td>\n",
       "      <td>0:09:05</td>\n",
       "    </tr>\n",
       "    <tr>\n",
       "      <th>2014-08-23</th>\n",
       "      <td>1.34</td>\n",
       "      <td>NaN</td>\n",
       "    </tr>\n",
       "    <tr>\n",
       "      <th>2014-08-24</th>\n",
       "      <td>3.00</td>\n",
       "      <td>NaN</td>\n",
       "    </tr>\n",
       "    <tr>\n",
       "      <th>2014-08-25</th>\n",
       "      <td>1.37</td>\n",
       "      <td>0:08:55</td>\n",
       "    </tr>\n",
       "    <tr>\n",
       "      <th>2014-08-25</th>\n",
       "      <td>1.34</td>\n",
       "      <td>NaN</td>\n",
       "    </tr>\n",
       "    <tr>\n",
       "      <th>2014-08-26</th>\n",
       "      <td>1.37</td>\n",
       "      <td>0:10:30</td>\n",
       "    </tr>\n",
       "    <tr>\n",
       "      <th>2014-08-27</th>\n",
       "      <td>2.50</td>\n",
       "      <td>0:25:00</td>\n",
       "    </tr>\n",
       "    <tr>\n",
       "      <th>2014-08-29</th>\n",
       "      <td>5.00</td>\n",
       "      <td>0:43:27</td>\n",
       "    </tr>\n",
       "    <tr>\n",
       "      <th>2014-09-02</th>\n",
       "      <td>2.00</td>\n",
       "      <td>NaN</td>\n",
       "    </tr>\n",
       "    <tr>\n",
       "      <th>...</th>\n",
       "      <td>...</td>\n",
       "      <td>...</td>\n",
       "    </tr>\n",
       "    <tr>\n",
       "      <th>2014-10-25</th>\n",
       "      <td>2.00</td>\n",
       "      <td>NaN</td>\n",
       "    </tr>\n",
       "    <tr>\n",
       "      <th>2014-10-31</th>\n",
       "      <td>2.01</td>\n",
       "      <td>NaN</td>\n",
       "    </tr>\n",
       "    <tr>\n",
       "      <th>2014-11-02</th>\n",
       "      <td>1.37</td>\n",
       "      <td>0:08:43</td>\n",
       "    </tr>\n",
       "    <tr>\n",
       "      <th>2014-11-03</th>\n",
       "      <td>5.30</td>\n",
       "      <td>0:39:26</td>\n",
       "    </tr>\n",
       "    <tr>\n",
       "      <th>2014-11-04</th>\n",
       "      <td>3.05</td>\n",
       "      <td>0:22:12</td>\n",
       "    </tr>\n",
       "    <tr>\n",
       "      <th>2014-11-07</th>\n",
       "      <td>5.63</td>\n",
       "      <td>0:49:05</td>\n",
       "    </tr>\n",
       "    <tr>\n",
       "      <th>2014-11-07</th>\n",
       "      <td>1.26</td>\n",
       "      <td>NaN</td>\n",
       "    </tr>\n",
       "    <tr>\n",
       "      <th>2014-11-07</th>\n",
       "      <td>1.20</td>\n",
       "      <td>NaN</td>\n",
       "    </tr>\n",
       "    <tr>\n",
       "      <th>2014-11-09</th>\n",
       "      <td>3.05</td>\n",
       "      <td>0:22:36</td>\n",
       "    </tr>\n",
       "    <tr>\n",
       "      <th>2014-11-10</th>\n",
       "      <td>1.50</td>\n",
       "      <td>0:09:00</td>\n",
       "    </tr>\n",
       "    <tr>\n",
       "      <th>2014-11-10</th>\n",
       "      <td>1.50</td>\n",
       "      <td>0:11:33</td>\n",
       "    </tr>\n",
       "    <tr>\n",
       "      <th>2014-11-10</th>\n",
       "      <td>4.00</td>\n",
       "      <td>NaN</td>\n",
       "    </tr>\n",
       "    <tr>\n",
       "      <th>2014-11-23</th>\n",
       "      <td>3.05</td>\n",
       "      <td>0:22:35</td>\n",
       "    </tr>\n",
       "    <tr>\n",
       "      <th>2014-11-27</th>\n",
       "      <td>1.00</td>\n",
       "      <td>NaN</td>\n",
       "    </tr>\n",
       "    <tr>\n",
       "      <th>2014-11-28</th>\n",
       "      <td>3.00</td>\n",
       "      <td>NaN</td>\n",
       "    </tr>\n",
       "    <tr>\n",
       "      <th>2014-12-09</th>\n",
       "      <td>2.93</td>\n",
       "      <td>0:25:00</td>\n",
       "    </tr>\n",
       "    <tr>\n",
       "      <th>2014-12-12</th>\n",
       "      <td>1.37</td>\n",
       "      <td>0:09:15</td>\n",
       "    </tr>\n",
       "    <tr>\n",
       "      <th>2014-12-13</th>\n",
       "      <td>5.30</td>\n",
       "      <td>0:43:36</td>\n",
       "    </tr>\n",
       "    <tr>\n",
       "      <th>2014-12-13</th>\n",
       "      <td>2.21</td>\n",
       "      <td>0:18:59</td>\n",
       "    </tr>\n",
       "    <tr>\n",
       "      <th>2014-12-15</th>\n",
       "      <td>6.50</td>\n",
       "      <td>0:58:43</td>\n",
       "    </tr>\n",
       "    <tr>\n",
       "      <th>2014-12-17</th>\n",
       "      <td>12.00</td>\n",
       "      <td>1:39:00</td>\n",
       "    </tr>\n",
       "    <tr>\n",
       "      <th>2014-12-19</th>\n",
       "      <td>3.10</td>\n",
       "      <td>0:26:15</td>\n",
       "    </tr>\n",
       "    <tr>\n",
       "      <th>2014-12-20</th>\n",
       "      <td>14.80</td>\n",
       "      <td>2:15:00</td>\n",
       "    </tr>\n",
       "    <tr>\n",
       "      <th>2014-12-22</th>\n",
       "      <td>3.10</td>\n",
       "      <td>0:28:00</td>\n",
       "    </tr>\n",
       "    <tr>\n",
       "      <th>2014-12-23</th>\n",
       "      <td>5.63</td>\n",
       "      <td>0:51:50</td>\n",
       "    </tr>\n",
       "    <tr>\n",
       "      <th>2014-12-24</th>\n",
       "      <td>3.05</td>\n",
       "      <td>0:25:08</td>\n",
       "    </tr>\n",
       "    <tr>\n",
       "      <th>2014-12-25</th>\n",
       "      <td>14.80</td>\n",
       "      <td>2:20:00</td>\n",
       "    </tr>\n",
       "    <tr>\n",
       "      <th>2014-12-26</th>\n",
       "      <td>5.20</td>\n",
       "      <td>NaN</td>\n",
       "    </tr>\n",
       "    <tr>\n",
       "      <th>2014-12-30</th>\n",
       "      <td>3.15</td>\n",
       "      <td>0:22:10</td>\n",
       "    </tr>\n",
       "    <tr>\n",
       "      <th>2015-01-01</th>\n",
       "      <td>26.20</td>\n",
       "      <td>4:20:43</td>\n",
       "    </tr>\n",
       "  </tbody>\n",
       "</table>\n",
       "<p>81 rows × 2 columns</p>\n",
       "</div>"
      ],
      "text/plain": [
       "            Miles     Time\n",
       "Date                      \n",
       "2014-08-02   1.70      NaN\n",
       "2014-08-03   1.40      NaN\n",
       "2014-08-04   2.10      NaN\n",
       "2014-08-06   2.38      NaN\n",
       "2014-08-07   2.30      NaN\n",
       "2014-08-08   3.40      NaN\n",
       "2014-08-09   2.50      NaN\n",
       "2014-08-10   3.36  0:28:37\n",
       "2014-08-11   1.67  0:13:07\n",
       "2014-08-12   1.42  0:10:35\n",
       "2014-08-13   2.35  0:17:25\n",
       "2014-08-14   0.90  0:06:16\n",
       "2014-08-14   0.90  0:06:16\n",
       "2014-08-15   1.78      NaN\n",
       "2014-08-16   0.65      NaN\n",
       "2014-08-17   1.34      NaN\n",
       "2014-08-18   0.65      NaN\n",
       "2014-08-19   1.37      NaN\n",
       "2014-08-19   1.37      NaN\n",
       "2014-08-20   1.37  0:09:33\n",
       "2014-08-21   1.37  0:09:24\n",
       "2014-08-22   1.37  0:09:05\n",
       "2014-08-23   1.34      NaN\n",
       "2014-08-24   3.00      NaN\n",
       "2014-08-25   1.37  0:08:55\n",
       "2014-08-25   1.34      NaN\n",
       "2014-08-26   1.37  0:10:30\n",
       "2014-08-27   2.50  0:25:00\n",
       "2014-08-29   5.00  0:43:27\n",
       "2014-09-02   2.00      NaN\n",
       "...           ...      ...\n",
       "2014-10-25   2.00      NaN\n",
       "2014-10-31   2.01      NaN\n",
       "2014-11-02   1.37  0:08:43\n",
       "2014-11-03   5.30  0:39:26\n",
       "2014-11-04   3.05  0:22:12\n",
       "2014-11-07   5.63  0:49:05\n",
       "2014-11-07   1.26      NaN\n",
       "2014-11-07   1.20      NaN\n",
       "2014-11-09   3.05  0:22:36\n",
       "2014-11-10   1.50  0:09:00\n",
       "2014-11-10   1.50  0:11:33\n",
       "2014-11-10   4.00      NaN\n",
       "2014-11-23   3.05  0:22:35\n",
       "2014-11-27   1.00      NaN\n",
       "2014-11-28   3.00      NaN\n",
       "2014-12-09   2.93  0:25:00\n",
       "2014-12-12   1.37  0:09:15\n",
       "2014-12-13   5.30  0:43:36\n",
       "2014-12-13   2.21  0:18:59\n",
       "2014-12-15   6.50  0:58:43\n",
       "2014-12-17  12.00  1:39:00\n",
       "2014-12-19   3.10  0:26:15\n",
       "2014-12-20  14.80  2:15:00\n",
       "2014-12-22   3.10  0:28:00\n",
       "2014-12-23   5.63  0:51:50\n",
       "2014-12-24   3.05  0:25:08\n",
       "2014-12-25  14.80  2:20:00\n",
       "2014-12-26   5.20      NaN\n",
       "2014-12-30   3.15  0:22:10\n",
       "2015-01-01  26.20  4:20:43\n",
       "\n",
       "[81 rows x 2 columns]"
      ]
     },
     "execution_count": 59,
     "metadata": {},
     "output_type": "execute_result"
    }
   ],
   "source": [
    "df"
   ]
  },
  {
   "cell_type": "markdown",
   "metadata": {},
   "source": [
    "Now that we have displayed the data in our DataFrame both as a graph and as a table, let’s try summarizing it a bit better. \n",
    "\n",
    "Do you remember the `describe` method for the pandas Series? We can use it for a DataFrame as well. Again, this command is going to give us some basic summary statistics about our data, including the number of observations we have, the mean, and standard deviation as well as min and max and quartiles."
   ]
  },
  {
   "cell_type": "code",
   "execution_count": 60,
   "metadata": {
    "collapsed": false
   },
   "outputs": [
    {
     "data": {
      "text/html": [
       "<div>\n",
       "<table border=\"1\" class=\"dataframe\">\n",
       "  <thead>\n",
       "    <tr style=\"text-align: right;\">\n",
       "      <th></th>\n",
       "      <th>Miles</th>\n",
       "    </tr>\n",
       "  </thead>\n",
       "  <tbody>\n",
       "    <tr>\n",
       "      <th>count</th>\n",
       "      <td>81.000000</td>\n",
       "    </tr>\n",
       "    <tr>\n",
       "      <th>mean</th>\n",
       "      <td>3.137531</td>\n",
       "    </tr>\n",
       "    <tr>\n",
       "      <th>std</th>\n",
       "      <td>3.634519</td>\n",
       "    </tr>\n",
       "    <tr>\n",
       "      <th>min</th>\n",
       "      <td>0.650000</td>\n",
       "    </tr>\n",
       "    <tr>\n",
       "      <th>25%</th>\n",
       "      <td>1.370000</td>\n",
       "    </tr>\n",
       "    <tr>\n",
       "      <th>50%</th>\n",
       "      <td>2.100000</td>\n",
       "    </tr>\n",
       "    <tr>\n",
       "      <th>75%</th>\n",
       "      <td>3.050000</td>\n",
       "    </tr>\n",
       "    <tr>\n",
       "      <th>max</th>\n",
       "      <td>26.200000</td>\n",
       "    </tr>\n",
       "  </tbody>\n",
       "</table>\n",
       "</div>"
      ],
      "text/plain": [
       "           Miles\n",
       "count  81.000000\n",
       "mean    3.137531\n",
       "std     3.634519\n",
       "min     0.650000\n",
       "25%     1.370000\n",
       "50%     2.100000\n",
       "75%     3.050000\n",
       "max    26.200000"
      ]
     },
     "execution_count": 60,
     "metadata": {},
     "output_type": "execute_result"
    }
   ],
   "source": [
    "df.describe()"
   ]
  },
  {
   "cell_type": "markdown",
   "metadata": {},
   "source": [
    "Now that we have described the data and also printed out most of the table, we should start examining the data to clean it and make sure that everything is regular.\n",
    "\n",
    "You should pause the video and explore the data on your own before we continue. There is something a bit irregular about this data, and I will give you a hint: it has to do with the dates.\n",
    "\n",
    "Go ahead and pause now.\n",
    "\n",
    "------\n",
    "\n",
    "Do you think you have found the problem?\n",
    "\n",
    "The problem is that our data is recorded on inconsistent days. You will see dates that have multiple entries and others that do not have any entry at all. \n",
    "\n",
    "For instance, let's query for November. Given what you know about programming, querying a data set to find dates that match November could be a challenge. We could imagine having to write a function to extract months, or something similar.  Because of the power of pandas, however, we simply have to pass in a string inside square brackets."
   ]
  },
  {
   "cell_type": "code",
   "execution_count": 61,
   "metadata": {
    "collapsed": false
   },
   "outputs": [
    {
     "data": {
      "text/html": [
       "<div>\n",
       "<table border=\"1\" class=\"dataframe\">\n",
       "  <thead>\n",
       "    <tr style=\"text-align: right;\">\n",
       "      <th></th>\n",
       "      <th>Miles</th>\n",
       "      <th>Time</th>\n",
       "    </tr>\n",
       "    <tr>\n",
       "      <th>Date</th>\n",
       "      <th></th>\n",
       "      <th></th>\n",
       "    </tr>\n",
       "  </thead>\n",
       "  <tbody>\n",
       "    <tr>\n",
       "      <th>2014-11-02</th>\n",
       "      <td>1.37</td>\n",
       "      <td>0:08:43</td>\n",
       "    </tr>\n",
       "    <tr>\n",
       "      <th>2014-11-03</th>\n",
       "      <td>5.30</td>\n",
       "      <td>0:39:26</td>\n",
       "    </tr>\n",
       "    <tr>\n",
       "      <th>2014-11-04</th>\n",
       "      <td>3.05</td>\n",
       "      <td>0:22:12</td>\n",
       "    </tr>\n",
       "    <tr>\n",
       "      <th>2014-11-07</th>\n",
       "      <td>5.63</td>\n",
       "      <td>0:49:05</td>\n",
       "    </tr>\n",
       "    <tr>\n",
       "      <th>2014-11-07</th>\n",
       "      <td>1.26</td>\n",
       "      <td>NaN</td>\n",
       "    </tr>\n",
       "    <tr>\n",
       "      <th>2014-11-07</th>\n",
       "      <td>1.20</td>\n",
       "      <td>NaN</td>\n",
       "    </tr>\n",
       "    <tr>\n",
       "      <th>2014-11-09</th>\n",
       "      <td>3.05</td>\n",
       "      <td>0:22:36</td>\n",
       "    </tr>\n",
       "    <tr>\n",
       "      <th>2014-11-10</th>\n",
       "      <td>1.50</td>\n",
       "      <td>0:09:00</td>\n",
       "    </tr>\n",
       "    <tr>\n",
       "      <th>2014-11-10</th>\n",
       "      <td>1.50</td>\n",
       "      <td>0:11:33</td>\n",
       "    </tr>\n",
       "    <tr>\n",
       "      <th>2014-11-10</th>\n",
       "      <td>4.00</td>\n",
       "      <td>NaN</td>\n",
       "    </tr>\n",
       "    <tr>\n",
       "      <th>2014-11-23</th>\n",
       "      <td>3.05</td>\n",
       "      <td>0:22:35</td>\n",
       "    </tr>\n",
       "    <tr>\n",
       "      <th>2014-11-27</th>\n",
       "      <td>1.00</td>\n",
       "      <td>NaN</td>\n",
       "    </tr>\n",
       "    <tr>\n",
       "      <th>2014-11-28</th>\n",
       "      <td>3.00</td>\n",
       "      <td>NaN</td>\n",
       "    </tr>\n",
       "  </tbody>\n",
       "</table>\n",
       "</div>"
      ],
      "text/plain": [
       "            Miles     Time\n",
       "Date                      \n",
       "2014-11-02   1.37  0:08:43\n",
       "2014-11-03   5.30  0:39:26\n",
       "2014-11-04   3.05  0:22:12\n",
       "2014-11-07   5.63  0:49:05\n",
       "2014-11-07   1.26      NaN\n",
       "2014-11-07   1.20      NaN\n",
       "2014-11-09   3.05  0:22:36\n",
       "2014-11-10   1.50  0:09:00\n",
       "2014-11-10   1.50  0:11:33\n",
       "2014-11-10   4.00      NaN\n",
       "2014-11-23   3.05  0:22:35\n",
       "2014-11-27   1.00      NaN\n",
       "2014-11-28   3.00      NaN"
      ]
     },
     "execution_count": 61,
     "metadata": {},
     "output_type": "execute_result"
    }
   ],
   "source": [
    "df['2014-11']"
   ]
  },
  {
   "cell_type": "markdown",
   "metadata": {},
   "source": [
    "Now that we have seen November, we can see our problem. Bill ran three times on the 7th, and he did not run at all from the 10th to the 23rd. Let's see how many total rows we have in November."
   ]
  },
  {
   "cell_type": "code",
   "execution_count": 62,
   "metadata": {
    "collapsed": false
   },
   "outputs": [
    {
     "data": {
      "text/plain": [
       "13"
      ]
     },
     "execution_count": 62,
     "metadata": {},
     "output_type": "execute_result"
    }
   ],
   "source": [
    "len(df['2014-11'])"
   ]
  },
  {
   "cell_type": "markdown",
   "metadata": {},
   "source": [
    "This kind of issue comes up quite a bit in data analysis. You might be analyzing some data, trying to get patterns out of it, and you notice some inconsistencies, then realize the data was collected in a strange way.\n",
    "\n",
    "Fortunately, as you might have guessed, pandas makes it easy to fill in these gaps.\n",
    "\n",
    "The first step for us will be to manually create the start and end dates."
   ]
  },
  {
   "cell_type": "code",
   "execution_count": 63,
   "metadata": {
    "collapsed": false
   },
   "outputs": [],
   "source": [
    "from datetime import datetime\n",
    "start = datetime(2014,8,1)\n",
    "end = datetime(2015,1,2)"
   ]
  },
  {
   "cell_type": "markdown",
   "metadata": {},
   "source": [
    "We can also just grab the start and end from the index itself."
   ]
  },
  {
   "cell_type": "code",
   "execution_count": 64,
   "metadata": {
    "collapsed": false
   },
   "outputs": [
    {
     "name": "stdout",
     "output_type": "stream",
     "text": [
      "2014-08-02 00:00:00 2015-01-01 00:00:00\n"
     ]
    }
   ],
   "source": [
    "start = df.index.min()\n",
    "end = df.index.max()\n",
    "print(start, end)"
   ]
  },
  {
   "cell_type": "markdown",
   "metadata": {},
   "source": [
    "We can also avoid importing `datetime` by just using the pandas `datetime` function, which creates a `datetime` in basically the same way."
   ]
  },
  {
   "cell_type": "code",
   "execution_count": 65,
   "metadata": {
    "collapsed": false
   },
   "outputs": [],
   "source": [
    "start = pd.datetime(2014,8,1)"
   ]
  },
  {
   "cell_type": "markdown",
   "metadata": {},
   "source": [
    "Now that we have our date range, we need to figure out a way to fill in the gaps in our current data set. There are lots of different ways to do this.  Here is one way that is relatively straightforward and easy to explain.\n",
    "\n",
    "First we will create a new DataFrame."
   ]
  },
  {
   "cell_type": "code",
   "execution_count": 66,
   "metadata": {
    "collapsed": false
   },
   "outputs": [],
   "source": [
    "d = pd.DataFrame(index=pd.date_range(start, end))"
   ]
  },
  {
   "cell_type": "code",
   "execution_count": 67,
   "metadata": {
    "collapsed": false
   },
   "outputs": [
    {
     "data": {
      "text/html": [
       "<div>\n",
       "<table border=\"1\" class=\"dataframe\">\n",
       "  <thead>\n",
       "    <tr style=\"text-align: right;\">\n",
       "      <th></th>\n",
       "    </tr>\n",
       "  </thead>\n",
       "  <tbody>\n",
       "    <tr>\n",
       "      <th>2014-08-01</th>\n",
       "    </tr>\n",
       "    <tr>\n",
       "      <th>2014-08-02</th>\n",
       "    </tr>\n",
       "    <tr>\n",
       "      <th>2014-08-03</th>\n",
       "    </tr>\n",
       "    <tr>\n",
       "      <th>2014-08-04</th>\n",
       "    </tr>\n",
       "    <tr>\n",
       "      <th>2014-08-05</th>\n",
       "    </tr>\n",
       "  </tbody>\n",
       "</table>\n",
       "</div>"
      ],
      "text/plain": [
       "Empty DataFrame\n",
       "Columns: []\n",
       "Index: [2014-08-01 00:00:00, 2014-08-02 00:00:00, 2014-08-03 00:00:00, 2014-08-04 00:00:00, 2014-08-05 00:00:00]"
      ]
     },
     "execution_count": 67,
     "metadata": {},
     "output_type": "execute_result"
    }
   ],
   "source": [
    "d.head()"
   ]
  },
  {
   "cell_type": "markdown",
   "metadata": {},
   "source": [
    "You can see that we have  our dates in the order that we want (and filled in for every day of the week)."
   ]
  },
  {
   "cell_type": "markdown",
   "metadata": {},
   "source": [
    "Now we need to join this DataFrame with our original DataFrame. We will do this with a SQL join. Below is a handy image to help you understand what we are doing."
   ]
  },
  {
   "cell_type": "markdown",
   "metadata": {},
   "source": [
    "## Joins"
   ]
  },
  {
   "cell_type": "code",
   "execution_count": 68,
   "metadata": {
    "collapsed": false
   },
   "outputs": [
    {
     "data": {
      "text/html": [
       "<img src=\"http://i.stack.imgur.com/GbJ7N.png\"/>"
      ],
      "text/plain": [
       "<IPython.core.display.Image object>"
      ]
     },
     "execution_count": 68,
     "metadata": {},
     "output_type": "execute_result"
    }
   ],
   "source": [
    "from IPython.display import Image\n",
    "Image(url='http://i.stack.imgur.com/GbJ7N.png')"
   ]
  },
  {
   "cell_type": "markdown",
   "metadata": {},
   "source": [
    "Let's go through the different ways that we can join this data. We can take our original `df` and join the new DataFrame to it."
   ]
  },
  {
   "cell_type": "code",
   "execution_count": 69,
   "metadata": {
    "collapsed": false
   },
   "outputs": [
    {
     "data": {
      "text/html": [
       "<div>\n",
       "<table border=\"1\" class=\"dataframe\">\n",
       "  <thead>\n",
       "    <tr style=\"text-align: right;\">\n",
       "      <th></th>\n",
       "      <th>Miles</th>\n",
       "      <th>Time</th>\n",
       "    </tr>\n",
       "  </thead>\n",
       "  <tbody>\n",
       "    <tr>\n",
       "      <th>2014-08-02</th>\n",
       "      <td>1.70</td>\n",
       "      <td>NaN</td>\n",
       "    </tr>\n",
       "    <tr>\n",
       "      <th>2014-08-03</th>\n",
       "      <td>1.40</td>\n",
       "      <td>NaN</td>\n",
       "    </tr>\n",
       "    <tr>\n",
       "      <th>2014-08-04</th>\n",
       "      <td>2.10</td>\n",
       "      <td>NaN</td>\n",
       "    </tr>\n",
       "    <tr>\n",
       "      <th>2014-08-06</th>\n",
       "      <td>2.38</td>\n",
       "      <td>NaN</td>\n",
       "    </tr>\n",
       "    <tr>\n",
       "      <th>2014-08-07</th>\n",
       "      <td>2.30</td>\n",
       "      <td>NaN</td>\n",
       "    </tr>\n",
       "    <tr>\n",
       "      <th>2014-08-08</th>\n",
       "      <td>3.40</td>\n",
       "      <td>NaN</td>\n",
       "    </tr>\n",
       "    <tr>\n",
       "      <th>2014-08-09</th>\n",
       "      <td>2.50</td>\n",
       "      <td>NaN</td>\n",
       "    </tr>\n",
       "    <tr>\n",
       "      <th>2014-08-10</th>\n",
       "      <td>3.36</td>\n",
       "      <td>0:28:37</td>\n",
       "    </tr>\n",
       "    <tr>\n",
       "      <th>2014-08-11</th>\n",
       "      <td>1.67</td>\n",
       "      <td>0:13:07</td>\n",
       "    </tr>\n",
       "    <tr>\n",
       "      <th>2014-08-12</th>\n",
       "      <td>1.42</td>\n",
       "      <td>0:10:35</td>\n",
       "    </tr>\n",
       "  </tbody>\n",
       "</table>\n",
       "</div>"
      ],
      "text/plain": [
       "            Miles     Time\n",
       "2014-08-02   1.70      NaN\n",
       "2014-08-03   1.40      NaN\n",
       "2014-08-04   2.10      NaN\n",
       "2014-08-06   2.38      NaN\n",
       "2014-08-07   2.30      NaN\n",
       "2014-08-08   3.40      NaN\n",
       "2014-08-09   2.50      NaN\n",
       "2014-08-10   3.36  0:28:37\n",
       "2014-08-11   1.67  0:13:07\n",
       "2014-08-12   1.42  0:10:35"
      ]
     },
     "execution_count": 69,
     "metadata": {},
     "output_type": "execute_result"
    }
   ],
   "source": [
    "df.join(d).head(10)"
   ]
  },
  {
   "cell_type": "markdown",
   "metadata": {},
   "source": [
    "We can also join our old DataFrame to the new one. You can see that if our new DataFrame is the one of reference, it will change that start date to be the start date in the new `d` DataFrame as opposed to the start date of the old DataFrame as we have above."
   ]
  },
  {
   "cell_type": "code",
   "execution_count": 70,
   "metadata": {
    "collapsed": false
   },
   "outputs": [
    {
     "data": {
      "text/html": [
       "<div>\n",
       "<table border=\"1\" class=\"dataframe\">\n",
       "  <thead>\n",
       "    <tr style=\"text-align: right;\">\n",
       "      <th></th>\n",
       "      <th>Miles</th>\n",
       "      <th>Time</th>\n",
       "    </tr>\n",
       "  </thead>\n",
       "  <tbody>\n",
       "    <tr>\n",
       "      <th>2014-08-01</th>\n",
       "      <td>NaN</td>\n",
       "      <td>NaN</td>\n",
       "    </tr>\n",
       "    <tr>\n",
       "      <th>2014-08-02</th>\n",
       "      <td>1.70</td>\n",
       "      <td>NaN</td>\n",
       "    </tr>\n",
       "    <tr>\n",
       "      <th>2014-08-03</th>\n",
       "      <td>1.40</td>\n",
       "      <td>NaN</td>\n",
       "    </tr>\n",
       "    <tr>\n",
       "      <th>2014-08-04</th>\n",
       "      <td>2.10</td>\n",
       "      <td>NaN</td>\n",
       "    </tr>\n",
       "    <tr>\n",
       "      <th>2014-08-05</th>\n",
       "      <td>NaN</td>\n",
       "      <td>NaN</td>\n",
       "    </tr>\n",
       "    <tr>\n",
       "      <th>2014-08-06</th>\n",
       "      <td>2.38</td>\n",
       "      <td>NaN</td>\n",
       "    </tr>\n",
       "    <tr>\n",
       "      <th>2014-08-07</th>\n",
       "      <td>2.30</td>\n",
       "      <td>NaN</td>\n",
       "    </tr>\n",
       "    <tr>\n",
       "      <th>2014-08-08</th>\n",
       "      <td>3.40</td>\n",
       "      <td>NaN</td>\n",
       "    </tr>\n",
       "    <tr>\n",
       "      <th>2014-08-09</th>\n",
       "      <td>2.50</td>\n",
       "      <td>NaN</td>\n",
       "    </tr>\n",
       "    <tr>\n",
       "      <th>2014-08-10</th>\n",
       "      <td>3.36</td>\n",
       "      <td>0:28:37</td>\n",
       "    </tr>\n",
       "  </tbody>\n",
       "</table>\n",
       "</div>"
      ],
      "text/plain": [
       "            Miles     Time\n",
       "2014-08-01    NaN      NaN\n",
       "2014-08-02   1.70      NaN\n",
       "2014-08-03   1.40      NaN\n",
       "2014-08-04   2.10      NaN\n",
       "2014-08-05    NaN      NaN\n",
       "2014-08-06   2.38      NaN\n",
       "2014-08-07   2.30      NaN\n",
       "2014-08-08   3.40      NaN\n",
       "2014-08-09   2.50      NaN\n",
       "2014-08-10   3.36  0:28:37"
      ]
     },
     "execution_count": 70,
     "metadata": {},
     "output_type": "execute_result"
    }
   ],
   "source": [
    "d.join(df).head(10)"
   ]
  },
  {
   "cell_type": "markdown",
   "metadata": {},
   "source": [
    "An outer join will combine it on all values in both DataFrames."
   ]
  },
  {
   "cell_type": "code",
   "execution_count": 71,
   "metadata": {
    "collapsed": false
   },
   "outputs": [
    {
     "data": {
      "text/html": [
       "<div>\n",
       "<table border=\"1\" class=\"dataframe\">\n",
       "  <thead>\n",
       "    <tr style=\"text-align: right;\">\n",
       "      <th></th>\n",
       "      <th>Miles</th>\n",
       "      <th>Time</th>\n",
       "    </tr>\n",
       "  </thead>\n",
       "  <tbody>\n",
       "    <tr>\n",
       "      <th>2014-08-01</th>\n",
       "      <td>NaN</td>\n",
       "      <td>NaN</td>\n",
       "    </tr>\n",
       "    <tr>\n",
       "      <th>2014-08-02</th>\n",
       "      <td>1.70</td>\n",
       "      <td>NaN</td>\n",
       "    </tr>\n",
       "    <tr>\n",
       "      <th>2014-08-03</th>\n",
       "      <td>1.40</td>\n",
       "      <td>NaN</td>\n",
       "    </tr>\n",
       "    <tr>\n",
       "      <th>2014-08-04</th>\n",
       "      <td>2.10</td>\n",
       "      <td>NaN</td>\n",
       "    </tr>\n",
       "    <tr>\n",
       "      <th>2014-08-05</th>\n",
       "      <td>NaN</td>\n",
       "      <td>NaN</td>\n",
       "    </tr>\n",
       "    <tr>\n",
       "      <th>2014-08-06</th>\n",
       "      <td>2.38</td>\n",
       "      <td>NaN</td>\n",
       "    </tr>\n",
       "    <tr>\n",
       "      <th>2014-08-07</th>\n",
       "      <td>2.30</td>\n",
       "      <td>NaN</td>\n",
       "    </tr>\n",
       "    <tr>\n",
       "      <th>2014-08-08</th>\n",
       "      <td>3.40</td>\n",
       "      <td>NaN</td>\n",
       "    </tr>\n",
       "    <tr>\n",
       "      <th>2014-08-09</th>\n",
       "      <td>2.50</td>\n",
       "      <td>NaN</td>\n",
       "    </tr>\n",
       "    <tr>\n",
       "      <th>2014-08-10</th>\n",
       "      <td>3.36</td>\n",
       "      <td>0:28:37</td>\n",
       "    </tr>\n",
       "    <tr>\n",
       "      <th>2014-08-11</th>\n",
       "      <td>1.67</td>\n",
       "      <td>0:13:07</td>\n",
       "    </tr>\n",
       "    <tr>\n",
       "      <th>2014-08-12</th>\n",
       "      <td>1.42</td>\n",
       "      <td>0:10:35</td>\n",
       "    </tr>\n",
       "    <tr>\n",
       "      <th>2014-08-13</th>\n",
       "      <td>2.35</td>\n",
       "      <td>0:17:25</td>\n",
       "    </tr>\n",
       "    <tr>\n",
       "      <th>2014-08-14</th>\n",
       "      <td>0.90</td>\n",
       "      <td>0:06:16</td>\n",
       "    </tr>\n",
       "    <tr>\n",
       "      <th>2014-08-14</th>\n",
       "      <td>0.90</td>\n",
       "      <td>0:06:16</td>\n",
       "    </tr>\n",
       "    <tr>\n",
       "      <th>2014-08-15</th>\n",
       "      <td>1.78</td>\n",
       "      <td>NaN</td>\n",
       "    </tr>\n",
       "    <tr>\n",
       "      <th>2014-08-16</th>\n",
       "      <td>0.65</td>\n",
       "      <td>NaN</td>\n",
       "    </tr>\n",
       "    <tr>\n",
       "      <th>2014-08-17</th>\n",
       "      <td>1.34</td>\n",
       "      <td>NaN</td>\n",
       "    </tr>\n",
       "    <tr>\n",
       "      <th>2014-08-18</th>\n",
       "      <td>0.65</td>\n",
       "      <td>NaN</td>\n",
       "    </tr>\n",
       "    <tr>\n",
       "      <th>2014-08-19</th>\n",
       "      <td>1.37</td>\n",
       "      <td>NaN</td>\n",
       "    </tr>\n",
       "    <tr>\n",
       "      <th>2014-08-19</th>\n",
       "      <td>1.37</td>\n",
       "      <td>NaN</td>\n",
       "    </tr>\n",
       "    <tr>\n",
       "      <th>2014-08-20</th>\n",
       "      <td>1.37</td>\n",
       "      <td>0:09:33</td>\n",
       "    </tr>\n",
       "    <tr>\n",
       "      <th>2014-08-21</th>\n",
       "      <td>1.37</td>\n",
       "      <td>0:09:24</td>\n",
       "    </tr>\n",
       "    <tr>\n",
       "      <th>2014-08-22</th>\n",
       "      <td>1.37</td>\n",
       "      <td>0:09:05</td>\n",
       "    </tr>\n",
       "    <tr>\n",
       "      <th>2014-08-23</th>\n",
       "      <td>1.34</td>\n",
       "      <td>NaN</td>\n",
       "    </tr>\n",
       "    <tr>\n",
       "      <th>2014-08-24</th>\n",
       "      <td>3.00</td>\n",
       "      <td>NaN</td>\n",
       "    </tr>\n",
       "    <tr>\n",
       "      <th>2014-08-25</th>\n",
       "      <td>1.37</td>\n",
       "      <td>0:08:55</td>\n",
       "    </tr>\n",
       "    <tr>\n",
       "      <th>2014-08-25</th>\n",
       "      <td>1.34</td>\n",
       "      <td>NaN</td>\n",
       "    </tr>\n",
       "    <tr>\n",
       "      <th>2014-08-26</th>\n",
       "      <td>1.37</td>\n",
       "      <td>0:10:30</td>\n",
       "    </tr>\n",
       "    <tr>\n",
       "      <th>2014-08-27</th>\n",
       "      <td>2.50</td>\n",
       "      <td>0:25:00</td>\n",
       "    </tr>\n",
       "    <tr>\n",
       "      <th>...</th>\n",
       "      <td>...</td>\n",
       "      <td>...</td>\n",
       "    </tr>\n",
       "    <tr>\n",
       "      <th>2014-12-04</th>\n",
       "      <td>NaN</td>\n",
       "      <td>NaN</td>\n",
       "    </tr>\n",
       "    <tr>\n",
       "      <th>2014-12-05</th>\n",
       "      <td>NaN</td>\n",
       "      <td>NaN</td>\n",
       "    </tr>\n",
       "    <tr>\n",
       "      <th>2014-12-06</th>\n",
       "      <td>NaN</td>\n",
       "      <td>NaN</td>\n",
       "    </tr>\n",
       "    <tr>\n",
       "      <th>2014-12-07</th>\n",
       "      <td>NaN</td>\n",
       "      <td>NaN</td>\n",
       "    </tr>\n",
       "    <tr>\n",
       "      <th>2014-12-08</th>\n",
       "      <td>NaN</td>\n",
       "      <td>NaN</td>\n",
       "    </tr>\n",
       "    <tr>\n",
       "      <th>2014-12-09</th>\n",
       "      <td>2.93</td>\n",
       "      <td>0:25:00</td>\n",
       "    </tr>\n",
       "    <tr>\n",
       "      <th>2014-12-10</th>\n",
       "      <td>NaN</td>\n",
       "      <td>NaN</td>\n",
       "    </tr>\n",
       "    <tr>\n",
       "      <th>2014-12-11</th>\n",
       "      <td>NaN</td>\n",
       "      <td>NaN</td>\n",
       "    </tr>\n",
       "    <tr>\n",
       "      <th>2014-12-12</th>\n",
       "      <td>1.37</td>\n",
       "      <td>0:09:15</td>\n",
       "    </tr>\n",
       "    <tr>\n",
       "      <th>2014-12-13</th>\n",
       "      <td>5.30</td>\n",
       "      <td>0:43:36</td>\n",
       "    </tr>\n",
       "    <tr>\n",
       "      <th>2014-12-13</th>\n",
       "      <td>2.21</td>\n",
       "      <td>0:18:59</td>\n",
       "    </tr>\n",
       "    <tr>\n",
       "      <th>2014-12-14</th>\n",
       "      <td>NaN</td>\n",
       "      <td>NaN</td>\n",
       "    </tr>\n",
       "    <tr>\n",
       "      <th>2014-12-15</th>\n",
       "      <td>6.50</td>\n",
       "      <td>0:58:43</td>\n",
       "    </tr>\n",
       "    <tr>\n",
       "      <th>2014-12-16</th>\n",
       "      <td>NaN</td>\n",
       "      <td>NaN</td>\n",
       "    </tr>\n",
       "    <tr>\n",
       "      <th>2014-12-17</th>\n",
       "      <td>12.00</td>\n",
       "      <td>1:39:00</td>\n",
       "    </tr>\n",
       "    <tr>\n",
       "      <th>2014-12-18</th>\n",
       "      <td>NaN</td>\n",
       "      <td>NaN</td>\n",
       "    </tr>\n",
       "    <tr>\n",
       "      <th>2014-12-19</th>\n",
       "      <td>3.10</td>\n",
       "      <td>0:26:15</td>\n",
       "    </tr>\n",
       "    <tr>\n",
       "      <th>2014-12-20</th>\n",
       "      <td>14.80</td>\n",
       "      <td>2:15:00</td>\n",
       "    </tr>\n",
       "    <tr>\n",
       "      <th>2014-12-21</th>\n",
       "      <td>NaN</td>\n",
       "      <td>NaN</td>\n",
       "    </tr>\n",
       "    <tr>\n",
       "      <th>2014-12-22</th>\n",
       "      <td>3.10</td>\n",
       "      <td>0:28:00</td>\n",
       "    </tr>\n",
       "    <tr>\n",
       "      <th>2014-12-23</th>\n",
       "      <td>5.63</td>\n",
       "      <td>0:51:50</td>\n",
       "    </tr>\n",
       "    <tr>\n",
       "      <th>2014-12-24</th>\n",
       "      <td>3.05</td>\n",
       "      <td>0:25:08</td>\n",
       "    </tr>\n",
       "    <tr>\n",
       "      <th>2014-12-25</th>\n",
       "      <td>14.80</td>\n",
       "      <td>2:20:00</td>\n",
       "    </tr>\n",
       "    <tr>\n",
       "      <th>2014-12-26</th>\n",
       "      <td>5.20</td>\n",
       "      <td>NaN</td>\n",
       "    </tr>\n",
       "    <tr>\n",
       "      <th>2014-12-27</th>\n",
       "      <td>NaN</td>\n",
       "      <td>NaN</td>\n",
       "    </tr>\n",
       "    <tr>\n",
       "      <th>2014-12-28</th>\n",
       "      <td>NaN</td>\n",
       "      <td>NaN</td>\n",
       "    </tr>\n",
       "    <tr>\n",
       "      <th>2014-12-29</th>\n",
       "      <td>NaN</td>\n",
       "      <td>NaN</td>\n",
       "    </tr>\n",
       "    <tr>\n",
       "      <th>2014-12-30</th>\n",
       "      <td>3.15</td>\n",
       "      <td>0:22:10</td>\n",
       "    </tr>\n",
       "    <tr>\n",
       "      <th>2014-12-31</th>\n",
       "      <td>NaN</td>\n",
       "      <td>NaN</td>\n",
       "    </tr>\n",
       "    <tr>\n",
       "      <th>2015-01-01</th>\n",
       "      <td>26.20</td>\n",
       "      <td>4:20:43</td>\n",
       "    </tr>\n",
       "  </tbody>\n",
       "</table>\n",
       "<p>167 rows × 2 columns</p>\n",
       "</div>"
      ],
      "text/plain": [
       "            Miles     Time\n",
       "2014-08-01    NaN      NaN\n",
       "2014-08-02   1.70      NaN\n",
       "2014-08-03   1.40      NaN\n",
       "2014-08-04   2.10      NaN\n",
       "2014-08-05    NaN      NaN\n",
       "2014-08-06   2.38      NaN\n",
       "2014-08-07   2.30      NaN\n",
       "2014-08-08   3.40      NaN\n",
       "2014-08-09   2.50      NaN\n",
       "2014-08-10   3.36  0:28:37\n",
       "2014-08-11   1.67  0:13:07\n",
       "2014-08-12   1.42  0:10:35\n",
       "2014-08-13   2.35  0:17:25\n",
       "2014-08-14   0.90  0:06:16\n",
       "2014-08-14   0.90  0:06:16\n",
       "2014-08-15   1.78      NaN\n",
       "2014-08-16   0.65      NaN\n",
       "2014-08-17   1.34      NaN\n",
       "2014-08-18   0.65      NaN\n",
       "2014-08-19   1.37      NaN\n",
       "2014-08-19   1.37      NaN\n",
       "2014-08-20   1.37  0:09:33\n",
       "2014-08-21   1.37  0:09:24\n",
       "2014-08-22   1.37  0:09:05\n",
       "2014-08-23   1.34      NaN\n",
       "2014-08-24   3.00      NaN\n",
       "2014-08-25   1.37  0:08:55\n",
       "2014-08-25   1.34      NaN\n",
       "2014-08-26   1.37  0:10:30\n",
       "2014-08-27   2.50  0:25:00\n",
       "...           ...      ...\n",
       "2014-12-04    NaN      NaN\n",
       "2014-12-05    NaN      NaN\n",
       "2014-12-06    NaN      NaN\n",
       "2014-12-07    NaN      NaN\n",
       "2014-12-08    NaN      NaN\n",
       "2014-12-09   2.93  0:25:00\n",
       "2014-12-10    NaN      NaN\n",
       "2014-12-11    NaN      NaN\n",
       "2014-12-12   1.37  0:09:15\n",
       "2014-12-13   5.30  0:43:36\n",
       "2014-12-13   2.21  0:18:59\n",
       "2014-12-14    NaN      NaN\n",
       "2014-12-15   6.50  0:58:43\n",
       "2014-12-16    NaN      NaN\n",
       "2014-12-17  12.00  1:39:00\n",
       "2014-12-18    NaN      NaN\n",
       "2014-12-19   3.10  0:26:15\n",
       "2014-12-20  14.80  2:15:00\n",
       "2014-12-21    NaN      NaN\n",
       "2014-12-22   3.10  0:28:00\n",
       "2014-12-23   5.63  0:51:50\n",
       "2014-12-24   3.05  0:25:08\n",
       "2014-12-25  14.80  2:20:00\n",
       "2014-12-26   5.20      NaN\n",
       "2014-12-27    NaN      NaN\n",
       "2014-12-28    NaN      NaN\n",
       "2014-12-29    NaN      NaN\n",
       "2014-12-30   3.15  0:22:10\n",
       "2014-12-31    NaN      NaN\n",
       "2015-01-01  26.20  4:20:43\n",
       "\n",
       "[167 rows x 2 columns]"
      ]
     },
     "execution_count": 71,
     "metadata": {},
     "output_type": "execute_result"
    }
   ],
   "source": [
    "df.join(d, how='outer')"
   ]
  },
  {
   "cell_type": "code",
   "execution_count": 72,
   "metadata": {
    "collapsed": false
   },
   "outputs": [],
   "source": [
    "df = df.join(d, how='outer')"
   ]
  },
  {
   "cell_type": "markdown",
   "metadata": {},
   "source": [
    "So we have performed an outer join. There are other kinds of joins like inner joins, left, and right that you can look up in the documentation.\n",
    "\n",
    "Now we have a new problem: we have some NaN values in our Miles column. Take a look at the first five values and the plot of the distances on each day."
   ]
  },
  {
   "cell_type": "code",
   "execution_count": 73,
   "metadata": {
    "collapsed": false
   },
   "outputs": [
    {
     "data": {
      "text/html": [
       "<div>\n",
       "<table border=\"1\" class=\"dataframe\">\n",
       "  <thead>\n",
       "    <tr style=\"text-align: right;\">\n",
       "      <th></th>\n",
       "      <th>Miles</th>\n",
       "      <th>Time</th>\n",
       "    </tr>\n",
       "  </thead>\n",
       "  <tbody>\n",
       "    <tr>\n",
       "      <th>2014-08-01</th>\n",
       "      <td>NaN</td>\n",
       "      <td>NaN</td>\n",
       "    </tr>\n",
       "    <tr>\n",
       "      <th>2014-08-02</th>\n",
       "      <td>1.7</td>\n",
       "      <td>NaN</td>\n",
       "    </tr>\n",
       "    <tr>\n",
       "      <th>2014-08-03</th>\n",
       "      <td>1.4</td>\n",
       "      <td>NaN</td>\n",
       "    </tr>\n",
       "    <tr>\n",
       "      <th>2014-08-04</th>\n",
       "      <td>2.1</td>\n",
       "      <td>NaN</td>\n",
       "    </tr>\n",
       "    <tr>\n",
       "      <th>2014-08-05</th>\n",
       "      <td>NaN</td>\n",
       "      <td>NaN</td>\n",
       "    </tr>\n",
       "  </tbody>\n",
       "</table>\n",
       "</div>"
      ],
      "text/plain": [
       "            Miles Time\n",
       "2014-08-01    NaN  NaN\n",
       "2014-08-02    1.7  NaN\n",
       "2014-08-03    1.4  NaN\n",
       "2014-08-04    2.1  NaN\n",
       "2014-08-05    NaN  NaN"
      ]
     },
     "execution_count": 73,
     "metadata": {},
     "output_type": "execute_result"
    }
   ],
   "source": [
    "df.head()"
   ]
  },
  {
   "cell_type": "code",
   "execution_count": 74,
   "metadata": {
    "collapsed": false
   },
   "outputs": [
    {
     "data": {
      "text/plain": [
       "<matplotlib.axes._subplots.AxesSubplot at 0x1da4a15fcf8>"
      ]
     },
     "execution_count": 74,
     "metadata": {},
     "output_type": "execute_result"
    },
    {
     "data": {
      "image/png": "[encoded data removed]",
      "text/plain": [
       "<matplotlib.figure.Figure at 0x1da4a107cc0>"
      ]
     },
     "metadata": {},
     "output_type": "display_data"
    }
   ],
   "source": [
    "df.plot()"
   ]
  },
  {
   "cell_type": "markdown",
   "metadata": {},
   "source": [
    "\n",
    "Remember that we will just use the `fillna` method to fill it in. Since we will assume Bill ran 0 miles on those days, we simply fill it with 0 and do it inplace. Now our plot looks much better."
   ]
  },
  {
   "cell_type": "code",
   "execution_count": 75,
   "metadata": {
    "collapsed": false
   },
   "outputs": [],
   "source": [
    "df.Miles.fillna(0, inplace=True)"
   ]
  },
  {
   "cell_type": "code",
   "execution_count": 76,
   "metadata": {
    "collapsed": false
   },
   "outputs": [
    {
     "data": {
      "text/html": [
       "<div>\n",
       "<table border=\"1\" class=\"dataframe\">\n",
       "  <thead>\n",
       "    <tr style=\"text-align: right;\">\n",
       "      <th></th>\n",
       "      <th>Miles</th>\n",
       "      <th>Time</th>\n",
       "    </tr>\n",
       "  </thead>\n",
       "  <tbody>\n",
       "    <tr>\n",
       "      <th>2014-08-01</th>\n",
       "      <td>0.0</td>\n",
       "      <td>NaN</td>\n",
       "    </tr>\n",
       "    <tr>\n",
       "      <th>2014-08-02</th>\n",
       "      <td>1.7</td>\n",
       "      <td>NaN</td>\n",
       "    </tr>\n",
       "    <tr>\n",
       "      <th>2014-08-03</th>\n",
       "      <td>1.4</td>\n",
       "      <td>NaN</td>\n",
       "    </tr>\n",
       "    <tr>\n",
       "      <th>2014-08-04</th>\n",
       "      <td>2.1</td>\n",
       "      <td>NaN</td>\n",
       "    </tr>\n",
       "    <tr>\n",
       "      <th>2014-08-05</th>\n",
       "      <td>0.0</td>\n",
       "      <td>NaN</td>\n",
       "    </tr>\n",
       "  </tbody>\n",
       "</table>\n",
       "</div>"
      ],
      "text/plain": [
       "            Miles Time\n",
       "2014-08-01    0.0  NaN\n",
       "2014-08-02    1.7  NaN\n",
       "2014-08-03    1.4  NaN\n",
       "2014-08-04    2.1  NaN\n",
       "2014-08-05    0.0  NaN"
      ]
     },
     "execution_count": 76,
     "metadata": {},
     "output_type": "execute_result"
    }
   ],
   "source": [
    "df.head()"
   ]
  },
  {
   "cell_type": "code",
   "execution_count": 77,
   "metadata": {
    "collapsed": false
   },
   "outputs": [
    {
     "data": {
      "text/plain": [
       "<matplotlib.axes._subplots.AxesSubplot at 0x1da4a189cf8>"
      ]
     },
     "execution_count": 77,
     "metadata": {},
     "output_type": "execute_result"
    },
    {
     "data": {
      "image/png": "[encoded data removed]",
      "text/plain": [
       "<matplotlib.figure.Figure at 0x1da4a1a4b70>"
      ]
     },
     "metadata": {},
     "output_type": "display_data"
    }
   ],
   "source": [
    "df.plot()"
   ]
  },
  {
   "cell_type": "markdown",
   "metadata": {},
   "source": [
    "We can see now that we have a continuous line from the first date to the last."
   ]
  },
  {
   "cell_type": "markdown",
   "metadata": {},
   "source": [
    "Let’s save our work thus far. We have modified this data set a bit so it is worth saving our progress for later analysis. Of course, it is important to save our notebook as well so that we can know how we changed the data.\n",
    "\n",
    "Saving data is about as easy as reading it in; we just specify the location and save a CSV. If you try and tab complete from `to`, you can see that there are numerous different file formats that we can save to. We will not cover these in detail, but they are there for you if you need them."
   ]
  },
  {
   "cell_type": "code",
   "execution_count": 78,
   "metadata": {
    "collapsed": false
   },
   "outputs": [],
   "source": [
    "df.to_csv('date_fixed_running_data.csv')"
   ]
  },
  {
   "cell_type": "markdown",
   "metadata": {},
   "source": [
    "We have covered a lot of basic data manipulation. We have cleaned up a data set and learned how to parse dates and perform basic joins along indexes. We have learned some basic plotting and basic data descriptions. We also know how to read in CSVs and save them for later."
   ]
  },
  {
   "cell_type": "markdown",
   "metadata": {},
   "source": [
    "Now that we've saved our csv, let's reimport it to continue to sharpen our skills. We will see again that pandas does not understand the dates automatically, so we need to do that manually. "
   ]
  },
  {
   "cell_type": "code",
   "execution_count": 79,
   "metadata": {
    "collapsed": false
   },
   "outputs": [
    {
     "data": {
      "text/html": [
       "<div>\n",
       "<table border=\"1\" class=\"dataframe\">\n",
       "  <thead>\n",
       "    <tr style=\"text-align: right;\">\n",
       "      <th></th>\n",
       "      <th>Unnamed: 0</th>\n",
       "      <th>Miles</th>\n",
       "      <th>Time</th>\n",
       "    </tr>\n",
       "  </thead>\n",
       "  <tbody>\n",
       "    <tr>\n",
       "      <th>0</th>\n",
       "      <td>2014-08-01</td>\n",
       "      <td>0.0</td>\n",
       "      <td>NaN</td>\n",
       "    </tr>\n",
       "    <tr>\n",
       "      <th>1</th>\n",
       "      <td>2014-08-02</td>\n",
       "      <td>1.7</td>\n",
       "      <td>NaN</td>\n",
       "    </tr>\n",
       "    <tr>\n",
       "      <th>2</th>\n",
       "      <td>2014-08-03</td>\n",
       "      <td>1.4</td>\n",
       "      <td>NaN</td>\n",
       "    </tr>\n",
       "    <tr>\n",
       "      <th>3</th>\n",
       "      <td>2014-08-04</td>\n",
       "      <td>2.1</td>\n",
       "      <td>NaN</td>\n",
       "    </tr>\n",
       "    <tr>\n",
       "      <th>4</th>\n",
       "      <td>2014-08-05</td>\n",
       "      <td>0.0</td>\n",
       "      <td>NaN</td>\n",
       "    </tr>\n",
       "  </tbody>\n",
       "</table>\n",
       "</div>"
      ],
      "text/plain": [
       "   Unnamed: 0  Miles Time\n",
       "0  2014-08-01    0.0  NaN\n",
       "1  2014-08-02    1.7  NaN\n",
       "2  2014-08-03    1.4  NaN\n",
       "3  2014-08-04    2.1  NaN\n",
       "4  2014-08-05    0.0  NaN"
      ]
     },
     "execution_count": 79,
     "metadata": {},
     "output_type": "execute_result"
    }
   ],
   "source": [
    "df = pd.read_csv('date_fixed_running_data.csv')\n",
    "df.head()"
   ]
  },
  {
   "cell_type": "markdown",
   "metadata": {},
   "source": [
    "However, when we import the data, it does not quite look the same. This is because when you save a DataFrame to a CSV, it does not label the index column."
   ]
  },
  {
   "cell_type": "code",
   "execution_count": 80,
   "metadata": {
    "collapsed": false
   },
   "outputs": [
    {
     "data": {
      "text/plain": [
       "0    2014-08-01\n",
       "1    2014-08-02\n",
       "2    2014-08-03\n",
       "3    2014-08-04\n",
       "4    2014-08-05\n",
       "Name: Unnamed: 0, dtype: object"
      ]
     },
     "execution_count": 80,
     "metadata": {},
     "output_type": "execute_result"
    }
   ],
   "source": [
    "df['Unnamed: 0'].head()"
   ]
  },
  {
   "cell_type": "markdown",
   "metadata": {},
   "source": [
    "Now our Date column is actually the ‘zero’ indexed column. When you use the `parse_dates` parameter, you can use either the column name (if available) or the column index number (counting from zero)."
   ]
  },
  {
   "cell_type": "code",
   "execution_count": 81,
   "metadata": {
    "collapsed": false
   },
   "outputs": [],
   "source": [
    "# df = pd.read_csv('../data/date_fixed_running_data.csv', parse_dates=['Date'])\n",
    "# above command fails...\n",
    "df = pd.read_csv('date_fixed_running_data.csv', parse_dates=[0])"
   ]
  },
  {
   "cell_type": "code",
   "execution_count": 82,
   "metadata": {
    "collapsed": false
   },
   "outputs": [
    {
     "data": {
      "text/html": [
       "<div>\n",
       "<table border=\"1\" class=\"dataframe\">\n",
       "  <thead>\n",
       "    <tr style=\"text-align: right;\">\n",
       "      <th></th>\n",
       "      <th>Unnamed: 0</th>\n",
       "      <th>Miles</th>\n",
       "      <th>Time</th>\n",
       "    </tr>\n",
       "  </thead>\n",
       "  <tbody>\n",
       "    <tr>\n",
       "      <th>0</th>\n",
       "      <td>2014-08-01</td>\n",
       "      <td>0.0</td>\n",
       "      <td>NaN</td>\n",
       "    </tr>\n",
       "    <tr>\n",
       "      <th>1</th>\n",
       "      <td>2014-08-02</td>\n",
       "      <td>1.7</td>\n",
       "      <td>NaN</td>\n",
       "    </tr>\n",
       "    <tr>\n",
       "      <th>2</th>\n",
       "      <td>2014-08-03</td>\n",
       "      <td>1.4</td>\n",
       "      <td>NaN</td>\n",
       "    </tr>\n",
       "    <tr>\n",
       "      <th>3</th>\n",
       "      <td>2014-08-04</td>\n",
       "      <td>2.1</td>\n",
       "      <td>NaN</td>\n",
       "    </tr>\n",
       "    <tr>\n",
       "      <th>4</th>\n",
       "      <td>2014-08-05</td>\n",
       "      <td>0.0</td>\n",
       "      <td>NaN</td>\n",
       "    </tr>\n",
       "  </tbody>\n",
       "</table>\n",
       "</div>"
      ],
      "text/plain": [
       "  Unnamed: 0  Miles Time\n",
       "0 2014-08-01    0.0  NaN\n",
       "1 2014-08-02    1.7  NaN\n",
       "2 2014-08-03    1.4  NaN\n",
       "3 2014-08-04    2.1  NaN\n",
       "4 2014-08-05    0.0  NaN"
      ]
     },
     "execution_count": 82,
     "metadata": {},
     "output_type": "execute_result"
    }
   ],
   "source": [
    "df.head()"
   ]
  },
  {
   "cell_type": "code",
   "execution_count": 83,
   "metadata": {
    "collapsed": false
   },
   "outputs": [
    {
     "data": {
      "text/plain": [
       "Unnamed: 0    datetime64[ns]\n",
       "Miles                float64\n",
       "Time                  object\n",
       "dtype: object"
      ]
     },
     "execution_count": 83,
     "metadata": {},
     "output_type": "execute_result"
    }
   ],
   "source": [
    "df.dtypes"
   ]
  },
  {
   "cell_type": "markdown",
   "metadata": {},
   "source": [
    "## Renaming Columns \n",
    "\n",
    "At this point, we have the right data type but we still have an ugly column label, so let's rename our columns. There are two common ways to do this--one simple and one a bit more fancy. The simple way is just to create the index that we want and set it to that."
   ]
  },
  {
   "cell_type": "code",
   "execution_count": 84,
   "metadata": {
    "collapsed": false
   },
   "outputs": [
    {
     "data": {
      "text/html": [
       "<div>\n",
       "<table border=\"1\" class=\"dataframe\">\n",
       "  <thead>\n",
       "    <tr style=\"text-align: right;\">\n",
       "      <th></th>\n",
       "      <th>Date</th>\n",
       "      <th>Miles</th>\n",
       "      <th>Time</th>\n",
       "    </tr>\n",
       "  </thead>\n",
       "  <tbody>\n",
       "    <tr>\n",
       "      <th>0</th>\n",
       "      <td>2014-08-01</td>\n",
       "      <td>0.0</td>\n",
       "      <td>NaN</td>\n",
       "    </tr>\n",
       "    <tr>\n",
       "      <th>1</th>\n",
       "      <td>2014-08-02</td>\n",
       "      <td>1.7</td>\n",
       "      <td>NaN</td>\n",
       "    </tr>\n",
       "    <tr>\n",
       "      <th>2</th>\n",
       "      <td>2014-08-03</td>\n",
       "      <td>1.4</td>\n",
       "      <td>NaN</td>\n",
       "    </tr>\n",
       "    <tr>\n",
       "      <th>3</th>\n",
       "      <td>2014-08-04</td>\n",
       "      <td>2.1</td>\n",
       "      <td>NaN</td>\n",
       "    </tr>\n",
       "    <tr>\n",
       "      <th>4</th>\n",
       "      <td>2014-08-05</td>\n",
       "      <td>0.0</td>\n",
       "      <td>NaN</td>\n",
       "    </tr>\n",
       "  </tbody>\n",
       "</table>\n",
       "</div>"
      ],
      "text/plain": [
       "        Date  Miles Time\n",
       "0 2014-08-01    0.0  NaN\n",
       "1 2014-08-02    1.7  NaN\n",
       "2 2014-08-03    1.4  NaN\n",
       "3 2014-08-04    2.1  NaN\n",
       "4 2014-08-05    0.0  NaN"
      ]
     },
     "execution_count": 84,
     "metadata": {},
     "output_type": "execute_result"
    }
   ],
   "source": [
    "cols = ['Date', 'Miles', 'Time']\n",
    "df.columns = cols\n",
    "df.head()"
   ]
  },
  {
   "cell_type": "markdown",
   "metadata": {},
   "source": [
    "We can also do it with a dictionary-style lookup by using the rename method."
   ]
  },
  {
   "cell_type": "code",
   "execution_count": 85,
   "metadata": {
    "collapsed": true
   },
   "outputs": [],
   "source": [
    "df.rename(columns={df.columns[0]:'Date NEW!'}, inplace=True)"
   ]
  },
  {
   "cell_type": "code",
   "execution_count": 86,
   "metadata": {
    "collapsed": false
   },
   "outputs": [
    {
     "data": {
      "text/html": [
       "<div>\n",
       "<table border=\"1\" class=\"dataframe\">\n",
       "  <thead>\n",
       "    <tr style=\"text-align: right;\">\n",
       "      <th></th>\n",
       "      <th>Date NEW!</th>\n",
       "      <th>Miles</th>\n",
       "      <th>Time</th>\n",
       "    </tr>\n",
       "  </thead>\n",
       "  <tbody>\n",
       "    <tr>\n",
       "      <th>0</th>\n",
       "      <td>2014-08-01</td>\n",
       "      <td>0.0</td>\n",
       "      <td>NaN</td>\n",
       "    </tr>\n",
       "    <tr>\n",
       "      <th>1</th>\n",
       "      <td>2014-08-02</td>\n",
       "      <td>1.7</td>\n",
       "      <td>NaN</td>\n",
       "    </tr>\n",
       "    <tr>\n",
       "      <th>2</th>\n",
       "      <td>2014-08-03</td>\n",
       "      <td>1.4</td>\n",
       "      <td>NaN</td>\n",
       "    </tr>\n",
       "    <tr>\n",
       "      <th>3</th>\n",
       "      <td>2014-08-04</td>\n",
       "      <td>2.1</td>\n",
       "      <td>NaN</td>\n",
       "    </tr>\n",
       "    <tr>\n",
       "      <th>4</th>\n",
       "      <td>2014-08-05</td>\n",
       "      <td>0.0</td>\n",
       "      <td>NaN</td>\n",
       "    </tr>\n",
       "  </tbody>\n",
       "</table>\n",
       "</div>"
      ],
      "text/plain": [
       "   Date NEW!  Miles Time\n",
       "0 2014-08-01    0.0  NaN\n",
       "1 2014-08-02    1.7  NaN\n",
       "2 2014-08-03    1.4  NaN\n",
       "3 2014-08-04    2.1  NaN\n",
       "4 2014-08-05    0.0  NaN"
      ]
     },
     "execution_count": 86,
     "metadata": {},
     "output_type": "execute_result"
    }
   ],
   "source": [
    "df.head()"
   ]
  },
  {
   "cell_type": "markdown",
   "metadata": {},
   "source": [
    "This is useful because if you have a lot of columns and you just want to rename one, you can avoid doing a lot of extra work."
   ]
  },
  {
   "cell_type": "code",
   "execution_count": 88,
   "metadata": {
    "collapsed": true
   },
   "outputs": [],
   "source": [
    "df.rename(columns={df.columns[0]:'Date'}, inplace=True)"
   ]
  },
  {
   "cell_type": "code",
   "execution_count": 89,
   "metadata": {
    "collapsed": false
   },
   "outputs": [
    {
     "data": {
      "text/html": [
       "<div>\n",
       "<table border=\"1\" class=\"dataframe\">\n",
       "  <thead>\n",
       "    <tr style=\"text-align: right;\">\n",
       "      <th></th>\n",
       "      <th>Date</th>\n",
       "      <th>Miles</th>\n",
       "      <th>Time</th>\n",
       "    </tr>\n",
       "  </thead>\n",
       "  <tbody>\n",
       "    <tr>\n",
       "      <th>0</th>\n",
       "      <td>2014-08-01</td>\n",
       "      <td>0.0</td>\n",
       "      <td>NaN</td>\n",
       "    </tr>\n",
       "    <tr>\n",
       "      <th>1</th>\n",
       "      <td>2014-08-02</td>\n",
       "      <td>1.7</td>\n",
       "      <td>NaN</td>\n",
       "    </tr>\n",
       "    <tr>\n",
       "      <th>2</th>\n",
       "      <td>2014-08-03</td>\n",
       "      <td>1.4</td>\n",
       "      <td>NaN</td>\n",
       "    </tr>\n",
       "    <tr>\n",
       "      <th>3</th>\n",
       "      <td>2014-08-04</td>\n",
       "      <td>2.1</td>\n",
       "      <td>NaN</td>\n",
       "    </tr>\n",
       "    <tr>\n",
       "      <th>4</th>\n",
       "      <td>2014-08-05</td>\n",
       "      <td>0.0</td>\n",
       "      <td>NaN</td>\n",
       "    </tr>\n",
       "  </tbody>\n",
       "</table>\n",
       "</div>"
      ],
      "text/plain": [
       "        Date  Miles Time\n",
       "0 2014-08-01    0.0  NaN\n",
       "1 2014-08-02    1.7  NaN\n",
       "2 2014-08-03    1.4  NaN\n",
       "3 2014-08-04    2.1  NaN\n",
       "4 2014-08-05    0.0  NaN"
      ]
     },
     "execution_count": 89,
     "metadata": {},
     "output_type": "execute_result"
    }
   ],
   "source": [
    "df.head()"
   ]
  },
  {
   "cell_type": "markdown",
   "metadata": {},
   "source": [
    "Once we set the index we can plot our DataFrame again.\n"
   ]
  },
  {
   "cell_type": "code",
   "execution_count": 90,
   "metadata": {
    "collapsed": false
   },
   "outputs": [
    {
     "data": {
      "text/plain": [
       "<matplotlib.axes._subplots.AxesSubplot at 0x1da4a1fcf98>"
      ]
     },
     "execution_count": 90,
     "metadata": {},
     "output_type": "execute_result"
    },
    {
     "data": {
      "image/png": "[encoded data removed]",
      "text/plain": [
       "<matplotlib.figure.Figure at 0x1da4a267940>"
      ]
     },
     "metadata": {},
     "output_type": "display_data"
    }
   ],
   "source": [
    "df.set_index('Date', inplace=True)\n",
    "df.plot()"
   ]
  },
  {
   "cell_type": "markdown",
   "metadata": {},
   "source": [
    "## Mapping Values + Manipulating Objects"
   ]
  },
  {
   "cell_type": "markdown",
   "metadata": {},
   "source": [
    "One thing we will want to do is get a breakdown of times for each run. How long on average are the runs? What is the average rate at which Bill runs?\n",
    "\n",
    "To get that, we will use a map function.  And we will do this step-by-step to make sure we get everything right.  First we will convert the running time to seconds; from there we can build up to minutes, hours, etc.\n",
    "\n",
    "Right now our times are represented as `hours:minutes:seconds`. We need to get that to seconds, and we need to think about what to do with our NaN's.  Unlike our Miles column, when we are missing a value in the Time column, it is not reasonable to assume that a run took zero time. So in this case, we want to keep `NaN` values as they are."
   ]
  },
  {
   "cell_type": "code",
   "execution_count": 93,
   "metadata": {
    "collapsed": false
   },
   "outputs": [
    {
     "name": "stdout",
     "output_type": "stream",
     "text": [
      "nan\n"
     ]
    }
   ],
   "source": [
    "raw_time_fmt = df.Time[0]\n",
    "\n",
    "def get_total_seconds(raw_time):\n",
    "    if raw_time is np.nan:\n",
    "        return np.nan # if it's NaN, leave it\n",
    "    hrs, mins, seconds = str(raw_time).split(':')\n",
    "    seconds = int(seconds) + 60 * int(mins) + 60 * 60 * int(hrs)\n",
    "    return seconds    \n",
    "print(get_total_seconds(raw_time_fmt))"
   ]
  },
  {
   "cell_type": "code",
   "execution_count": 94,
   "metadata": {
    "collapsed": true
   },
   "outputs": [],
   "source": [
    "df['Seconds'] = df.Time.map(get_total_seconds)"
   ]
  },
  {
   "cell_type": "markdown",
   "metadata": {},
   "source": [
    "Okay, let's make sure that it worked."
   ]
  },
  {
   "cell_type": "code",
   "execution_count": 95,
   "metadata": {
    "collapsed": false
   },
   "outputs": [
    {
     "data": {
      "text/html": [
       "<div>\n",
       "<table border=\"1\" class=\"dataframe\">\n",
       "  <thead>\n",
       "    <tr style=\"text-align: right;\">\n",
       "      <th></th>\n",
       "      <th>Miles</th>\n",
       "      <th>Time</th>\n",
       "      <th>Seconds</th>\n",
       "    </tr>\n",
       "    <tr>\n",
       "      <th>Date</th>\n",
       "      <th></th>\n",
       "      <th></th>\n",
       "      <th></th>\n",
       "    </tr>\n",
       "  </thead>\n",
       "  <tbody>\n",
       "    <tr>\n",
       "      <th>2014-08-01</th>\n",
       "      <td>0.00</td>\n",
       "      <td>NaN</td>\n",
       "      <td>NaN</td>\n",
       "    </tr>\n",
       "    <tr>\n",
       "      <th>2014-08-02</th>\n",
       "      <td>1.70</td>\n",
       "      <td>NaN</td>\n",
       "      <td>NaN</td>\n",
       "    </tr>\n",
       "    <tr>\n",
       "      <th>2014-08-03</th>\n",
       "      <td>1.40</td>\n",
       "      <td>NaN</td>\n",
       "      <td>NaN</td>\n",
       "    </tr>\n",
       "    <tr>\n",
       "      <th>2014-08-04</th>\n",
       "      <td>2.10</td>\n",
       "      <td>NaN</td>\n",
       "      <td>NaN</td>\n",
       "    </tr>\n",
       "    <tr>\n",
       "      <th>2014-08-05</th>\n",
       "      <td>0.00</td>\n",
       "      <td>NaN</td>\n",
       "      <td>NaN</td>\n",
       "    </tr>\n",
       "    <tr>\n",
       "      <th>2014-08-06</th>\n",
       "      <td>2.38</td>\n",
       "      <td>NaN</td>\n",
       "      <td>NaN</td>\n",
       "    </tr>\n",
       "    <tr>\n",
       "      <th>2014-08-07</th>\n",
       "      <td>2.30</td>\n",
       "      <td>NaN</td>\n",
       "      <td>NaN</td>\n",
       "    </tr>\n",
       "    <tr>\n",
       "      <th>2014-08-08</th>\n",
       "      <td>3.40</td>\n",
       "      <td>NaN</td>\n",
       "      <td>NaN</td>\n",
       "    </tr>\n",
       "    <tr>\n",
       "      <th>2014-08-09</th>\n",
       "      <td>2.50</td>\n",
       "      <td>NaN</td>\n",
       "      <td>NaN</td>\n",
       "    </tr>\n",
       "    <tr>\n",
       "      <th>2014-08-10</th>\n",
       "      <td>3.36</td>\n",
       "      <td>0:28:37</td>\n",
       "      <td>1717.0</td>\n",
       "    </tr>\n",
       "  </tbody>\n",
       "</table>\n",
       "</div>"
      ],
      "text/plain": [
       "            Miles     Time  Seconds\n",
       "Date                               \n",
       "2014-08-01   0.00      NaN      NaN\n",
       "2014-08-02   1.70      NaN      NaN\n",
       "2014-08-03   1.40      NaN      NaN\n",
       "2014-08-04   2.10      NaN      NaN\n",
       "2014-08-05   0.00      NaN      NaN\n",
       "2014-08-06   2.38      NaN      NaN\n",
       "2014-08-07   2.30      NaN      NaN\n",
       "2014-08-08   3.40      NaN      NaN\n",
       "2014-08-09   2.50      NaN      NaN\n",
       "2014-08-10   3.36  0:28:37   1717.0"
      ]
     },
     "execution_count": 95,
     "metadata": {},
     "output_type": "execute_result"
    }
   ],
   "source": [
    "df.head(10)"
   ]
  },
  {
   "cell_type": "markdown",
   "metadata": {},
   "source": [
    "Now we can get some summary statistics for these runs."
   ]
  },
  {
   "cell_type": "code",
   "execution_count": 96,
   "metadata": {
    "collapsed": false
   },
   "outputs": [
    {
     "data": {
      "text/html": [
       "<div>\n",
       "<table border=\"1\" class=\"dataframe\">\n",
       "  <thead>\n",
       "    <tr style=\"text-align: right;\">\n",
       "      <th></th>\n",
       "      <th>Miles</th>\n",
       "      <th>Seconds</th>\n",
       "    </tr>\n",
       "  </thead>\n",
       "  <tbody>\n",
       "    <tr>\n",
       "      <th>count</th>\n",
       "      <td>167.000000</td>\n",
       "      <td>52.000000</td>\n",
       "    </tr>\n",
       "    <tr>\n",
       "      <th>mean</th>\n",
       "      <td>1.521796</td>\n",
       "      <td>1901.788462</td>\n",
       "    </tr>\n",
       "    <tr>\n",
       "      <th>std</th>\n",
       "      <td>2.973174</td>\n",
       "      <td>2560.424171</td>\n",
       "    </tr>\n",
       "    <tr>\n",
       "      <th>min</th>\n",
       "      <td>0.000000</td>\n",
       "      <td>376.000000</td>\n",
       "    </tr>\n",
       "    <tr>\n",
       "      <th>25%</th>\n",
       "      <td>0.000000</td>\n",
       "      <td>583.750000</td>\n",
       "    </tr>\n",
       "    <tr>\n",
       "      <th>50%</th>\n",
       "      <td>0.000000</td>\n",
       "      <td>1343.500000</td>\n",
       "    </tr>\n",
       "    <tr>\n",
       "      <th>75%</th>\n",
       "      <td>2.005000</td>\n",
       "      <td>1743.250000</td>\n",
       "    </tr>\n",
       "    <tr>\n",
       "      <th>max</th>\n",
       "      <td>26.200000</td>\n",
       "      <td>15643.000000</td>\n",
       "    </tr>\n",
       "  </tbody>\n",
       "</table>\n",
       "</div>"
      ],
      "text/plain": [
       "            Miles       Seconds\n",
       "count  167.000000     52.000000\n",
       "mean     1.521796   1901.788462\n",
       "std      2.973174   2560.424171\n",
       "min      0.000000    376.000000\n",
       "25%      0.000000    583.750000\n",
       "50%      0.000000   1343.500000\n",
       "75%      2.005000   1743.250000\n",
       "max     26.200000  15643.000000"
      ]
     },
     "execution_count": 96,
     "metadata": {},
     "output_type": "execute_result"
    }
   ],
   "source": [
    "df.describe()"
   ]
  },
  {
   "cell_type": "markdown",
   "metadata": {},
   "source": [
    "This is a nice example of how `np.NaN` is a useful feature in pandas. When we call the `describe` method, we get numerical answers.  Unlike NumPy, pandas ignores the missing values. \n",
    "\n",
    "If we were to fill in seconds with 0 for missing values in the Time column, it would greatly skew our statistics.  Let's take a look at how much things would change if we did that."
   ]
  },
  {
   "cell_type": "code",
   "execution_count": 97,
   "metadata": {
    "collapsed": false
   },
   "outputs": [
    {
     "data": {
      "text/html": [
       "<div>\n",
       "<table border=\"1\" class=\"dataframe\">\n",
       "  <thead>\n",
       "    <tr style=\"text-align: right;\">\n",
       "      <th></th>\n",
       "      <th>Miles</th>\n",
       "      <th>Seconds</th>\n",
       "    </tr>\n",
       "  </thead>\n",
       "  <tbody>\n",
       "    <tr>\n",
       "      <th>count</th>\n",
       "      <td>167.000000</td>\n",
       "      <td>167.000000</td>\n",
       "    </tr>\n",
       "    <tr>\n",
       "      <th>mean</th>\n",
       "      <td>1.521796</td>\n",
       "      <td>592.173653</td>\n",
       "    </tr>\n",
       "    <tr>\n",
       "      <th>std</th>\n",
       "      <td>2.973174</td>\n",
       "      <td>1671.620140</td>\n",
       "    </tr>\n",
       "    <tr>\n",
       "      <th>min</th>\n",
       "      <td>0.000000</td>\n",
       "      <td>0.000000</td>\n",
       "    </tr>\n",
       "    <tr>\n",
       "      <th>25%</th>\n",
       "      <td>0.000000</td>\n",
       "      <td>0.000000</td>\n",
       "    </tr>\n",
       "    <tr>\n",
       "      <th>50%</th>\n",
       "      <td>0.000000</td>\n",
       "      <td>0.000000</td>\n",
       "    </tr>\n",
       "    <tr>\n",
       "      <th>75%</th>\n",
       "      <td>2.005000</td>\n",
       "      <td>559.500000</td>\n",
       "    </tr>\n",
       "    <tr>\n",
       "      <th>max</th>\n",
       "      <td>26.200000</td>\n",
       "      <td>15643.000000</td>\n",
       "    </tr>\n",
       "  </tbody>\n",
       "</table>\n",
       "</div>"
      ],
      "text/plain": [
       "            Miles       Seconds\n",
       "count  167.000000    167.000000\n",
       "mean     1.521796    592.173653\n",
       "std      2.973174   1671.620140\n",
       "min      0.000000      0.000000\n",
       "25%      0.000000      0.000000\n",
       "50%      0.000000      0.000000\n",
       "75%      2.005000    559.500000\n",
       "max     26.200000  15643.000000"
      ]
     },
     "execution_count": 97,
     "metadata": {},
     "output_type": "execute_result"
    }
   ],
   "source": [
    "df.fillna(0).describe()"
   ]
  },
  {
   "cell_type": "markdown",
   "metadata": {},
   "source": [
    "As you can see, the results are very different. Always be careful when you are filling in empty values or removing them.\n",
    "\n",
    "Now that we have seconds it would be useful to see minutes too. It can be hard to think in seconds. So let's add a new column.\n",
    "\n",
    "We will do that with a simple `map` function.  This function will take each second count and divide it by 60."
   ]
  },
  {
   "cell_type": "code",
   "execution_count": 98,
   "metadata": {
    "collapsed": true
   },
   "outputs": [],
   "source": [
    "df['Minutes'] = df['Seconds'].map(lambda x: x / 60)"
   ]
  },
  {
   "cell_type": "code",
   "execution_count": 99,
   "metadata": {
    "collapsed": false
   },
   "outputs": [
    {
     "data": {
      "text/html": [
       "<div>\n",
       "<table border=\"1\" class=\"dataframe\">\n",
       "  <thead>\n",
       "    <tr style=\"text-align: right;\">\n",
       "      <th></th>\n",
       "      <th>Miles</th>\n",
       "      <th>Seconds</th>\n",
       "      <th>Minutes</th>\n",
       "    </tr>\n",
       "  </thead>\n",
       "  <tbody>\n",
       "    <tr>\n",
       "      <th>count</th>\n",
       "      <td>167.000000</td>\n",
       "      <td>52.000000</td>\n",
       "      <td>52.000000</td>\n",
       "    </tr>\n",
       "    <tr>\n",
       "      <th>mean</th>\n",
       "      <td>1.521796</td>\n",
       "      <td>1901.788462</td>\n",
       "      <td>31.696474</td>\n",
       "    </tr>\n",
       "    <tr>\n",
       "      <th>std</th>\n",
       "      <td>2.973174</td>\n",
       "      <td>2560.424171</td>\n",
       "      <td>42.673736</td>\n",
       "    </tr>\n",
       "    <tr>\n",
       "      <th>min</th>\n",
       "      <td>0.000000</td>\n",
       "      <td>376.000000</td>\n",
       "      <td>6.266667</td>\n",
       "    </tr>\n",
       "    <tr>\n",
       "      <th>25%</th>\n",
       "      <td>0.000000</td>\n",
       "      <td>583.750000</td>\n",
       "      <td>9.729167</td>\n",
       "    </tr>\n",
       "    <tr>\n",
       "      <th>50%</th>\n",
       "      <td>0.000000</td>\n",
       "      <td>1343.500000</td>\n",
       "      <td>22.391667</td>\n",
       "    </tr>\n",
       "    <tr>\n",
       "      <th>75%</th>\n",
       "      <td>2.005000</td>\n",
       "      <td>1743.250000</td>\n",
       "      <td>29.054167</td>\n",
       "    </tr>\n",
       "    <tr>\n",
       "      <th>max</th>\n",
       "      <td>26.200000</td>\n",
       "      <td>15643.000000</td>\n",
       "      <td>260.716667</td>\n",
       "    </tr>\n",
       "  </tbody>\n",
       "</table>\n",
       "</div>"
      ],
      "text/plain": [
       "            Miles       Seconds     Minutes\n",
       "count  167.000000     52.000000   52.000000\n",
       "mean     1.521796   1901.788462   31.696474\n",
       "std      2.973174   2560.424171   42.673736\n",
       "min      0.000000    376.000000    6.266667\n",
       "25%      0.000000    583.750000    9.729167\n",
       "50%      0.000000   1343.500000   22.391667\n",
       "75%      2.005000   1743.250000   29.054167\n",
       "max     26.200000  15643.000000  260.716667"
      ]
     },
     "execution_count": 99,
     "metadata": {},
     "output_type": "execute_result"
    }
   ],
   "source": [
    "df.describe()"
   ]
  },
  {
   "cell_type": "markdown",
   "metadata": {},
   "source": [
    "We can see that the average run is around 30 minutes, but there is a lot of deviation from the mean, so a lot of runs are shorter and some are much longer. We can confirm that by looking at the percentiles as well. Let's plot the data to see if we can learn a bit more."
   ]
  },
  {
   "cell_type": "markdown",
   "metadata": {},
   "source": [
    "## Plotting"
   ]
  },
  {
   "cell_type": "markdown",
   "metadata": {},
   "source": [
    "\n",
    "\n",
    "We are going to plot Miles and Minutes together in a scatter plot."
   ]
  },
  {
   "cell_type": "code",
   "execution_count": 100,
   "metadata": {
    "collapsed": false
   },
   "outputs": [
    {
     "data": {
      "text/plain": [
       "<matplotlib.axes._subplots.AxesSubplot at 0x1da4a2a87f0>"
      ]
     },
     "execution_count": 100,
     "metadata": {},
     "output_type": "execute_result"
    },
    {
     "data": {
      "image/png": "[encoded data removed]",
      "text/plain": [
       "<matplotlib.figure.Figure at 0x1da4a2b5898>"
      ]
     },
     "metadata": {},
     "output_type": "display_data"
    }
   ],
   "source": [
    "df.plot(x='Miles', y='Minutes', kind='scatter')"
   ]
  },
  {
   "cell_type": "markdown",
   "metadata": {},
   "source": [
    "We get a graph that's remarkably linear. (No, this data is not fake; it is actually like that.)\n",
    "\n",
    "One common test for linear relationship is to see how correlated the variables are.  We can do this with the `corr` method."
   ]
  },
  {
   "cell_type": "code",
   "execution_count": 101,
   "metadata": {
    "collapsed": false
   },
   "outputs": [
    {
     "data": {
      "text/html": [
       "<div>\n",
       "<table border=\"1\" class=\"dataframe\">\n",
       "  <thead>\n",
       "    <tr style=\"text-align: right;\">\n",
       "      <th></th>\n",
       "      <th>Miles</th>\n",
       "      <th>Seconds</th>\n",
       "      <th>Minutes</th>\n",
       "    </tr>\n",
       "  </thead>\n",
       "  <tbody>\n",
       "    <tr>\n",
       "      <th>Miles</th>\n",
       "      <td>1.000000</td>\n",
       "      <td>0.997203</td>\n",
       "      <td>0.997203</td>\n",
       "    </tr>\n",
       "    <tr>\n",
       "      <th>Seconds</th>\n",
       "      <td>0.997203</td>\n",
       "      <td>1.000000</td>\n",
       "      <td>1.000000</td>\n",
       "    </tr>\n",
       "    <tr>\n",
       "      <th>Minutes</th>\n",
       "      <td>0.997203</td>\n",
       "      <td>1.000000</td>\n",
       "      <td>1.000000</td>\n",
       "    </tr>\n",
       "  </tbody>\n",
       "</table>\n",
       "</div>"
      ],
      "text/plain": [
       "            Miles   Seconds   Minutes\n",
       "Miles    1.000000  0.997203  0.997203\n",
       "Seconds  0.997203  1.000000  1.000000\n",
       "Minutes  0.997203  1.000000  1.000000"
      ]
     },
     "execution_count": 101,
     "metadata": {},
     "output_type": "execute_result"
    }
   ],
   "source": [
    "df.corr()"
   ]
  },
  {
   "cell_type": "markdown",
   "metadata": {},
   "source": [
    "We can see that miles and time are very tightly correlated.  By default, `corr` computes the Pearson correlation coefficients.  There are two other correlation methods that you can use: kendall Tau and Spearman rank correlation. These are probably less applicable in this context, but it is good to know that they are there. All you have to do is pass in the method name.\n"
   ]
  },
  {
   "cell_type": "code",
   "execution_count": 102,
   "metadata": {
    "collapsed": false
   },
   "outputs": [
    {
     "data": {
      "text/html": [
       "<div>\n",
       "<table border=\"1\" class=\"dataframe\">\n",
       "  <thead>\n",
       "    <tr style=\"text-align: right;\">\n",
       "      <th></th>\n",
       "      <th>Miles</th>\n",
       "      <th>Seconds</th>\n",
       "      <th>Minutes</th>\n",
       "    </tr>\n",
       "  </thead>\n",
       "  <tbody>\n",
       "    <tr>\n",
       "      <th>Miles</th>\n",
       "      <td>1.000000</td>\n",
       "      <td>0.997203</td>\n",
       "      <td>0.997203</td>\n",
       "    </tr>\n",
       "    <tr>\n",
       "      <th>Seconds</th>\n",
       "      <td>0.997203</td>\n",
       "      <td>1.000000</td>\n",
       "      <td>1.000000</td>\n",
       "    </tr>\n",
       "    <tr>\n",
       "      <th>Minutes</th>\n",
       "      <td>0.997203</td>\n",
       "      <td>1.000000</td>\n",
       "      <td>1.000000</td>\n",
       "    </tr>\n",
       "  </tbody>\n",
       "</table>\n",
       "</div>"
      ],
      "text/plain": [
       "            Miles   Seconds   Minutes\n",
       "Miles    1.000000  0.997203  0.997203\n",
       "Seconds  0.997203  1.000000  1.000000\n",
       "Minutes  0.997203  1.000000  1.000000"
      ]
     },
     "execution_count": 102,
     "metadata": {},
     "output_type": "execute_result"
    }
   ],
   "source": [
    "df.corr(method=\"pearson\")"
   ]
  },
  {
   "cell_type": "markdown",
   "metadata": {},
   "source": [
    "Now let’s see a box plot. Box plots are common tools used by data scientists to get a sense for the distribution of a variable. This is also called a box and whisker plot. It shows several outliers as well as the mean and percentiles.\n",
    "\n",
    "Think of this like a graphical version of the `describe` method. We can see that most of Bill's runs are below an hour except for a couple that are much longer."
   ]
  },
  {
   "cell_type": "code",
   "execution_count": 103,
   "metadata": {
    "collapsed": false
   },
   "outputs": [
    {
     "data": {
      "text/plain": [
       "<matplotlib.axes._subplots.AxesSubplot at 0x1da4a2fb5c0>"
      ]
     },
     "execution_count": 103,
     "metadata": {},
     "output_type": "execute_result"
    },
    {
     "data": {
      "image/png": "[encoded data removed]",
      "text/plain": [
       "<matplotlib.figure.Figure at 0x1da4a2ee128>"
      ]
     },
     "metadata": {},
     "output_type": "display_data"
    }
   ],
   "source": [
    "df.boxplot('Minutes', return_type='axes')"
   ]
  },
  {
   "cell_type": "markdown",
   "metadata": {},
   "source": [
    "\n",
    "Now let's add a new column: minutes per mile. Because all of our Series are the same length, we can just divide one by the other to get that number.\n"
   ]
  },
  {
   "cell_type": "code",
   "execution_count": 104,
   "metadata": {
    "collapsed": false
   },
   "outputs": [
    {
     "data": {
      "text/plain": [
       "Date\n",
       "2014-08-01          NaN\n",
       "2014-08-02          NaN\n",
       "2014-08-03          NaN\n",
       "2014-08-04          NaN\n",
       "2014-08-05          NaN\n",
       "2014-08-06          NaN\n",
       "2014-08-07          NaN\n",
       "2014-08-08          NaN\n",
       "2014-08-09          NaN\n",
       "2014-08-10     8.516865\n",
       "2014-08-11     7.854291\n",
       "2014-08-12     7.453052\n",
       "2014-08-13     7.411348\n",
       "2014-08-14     6.962963\n",
       "2014-08-14     6.962963\n",
       "2014-08-15          NaN\n",
       "2014-08-16          NaN\n",
       "2014-08-17          NaN\n",
       "2014-08-18          NaN\n",
       "2014-08-19          NaN\n",
       "2014-08-19          NaN\n",
       "2014-08-20     6.970803\n",
       "2014-08-21     6.861314\n",
       "2014-08-22     6.630170\n",
       "2014-08-23          NaN\n",
       "2014-08-24          NaN\n",
       "2014-08-25     6.508516\n",
       "2014-08-25          NaN\n",
       "2014-08-26     7.664234\n",
       "2014-08-27    10.000000\n",
       "                ...    \n",
       "2014-12-04          NaN\n",
       "2014-12-05          NaN\n",
       "2014-12-06          NaN\n",
       "2014-12-07          NaN\n",
       "2014-12-08          NaN\n",
       "2014-12-09     8.532423\n",
       "2014-12-10          NaN\n",
       "2014-12-11          NaN\n",
       "2014-12-12     6.751825\n",
       "2014-12-13     8.226415\n",
       "2014-12-13     8.589744\n",
       "2014-12-14          NaN\n",
       "2014-12-15     9.033333\n",
       "2014-12-16          NaN\n",
       "2014-12-17     8.250000\n",
       "2014-12-18          NaN\n",
       "2014-12-19     8.467742\n",
       "2014-12-20     9.121622\n",
       "2014-12-21          NaN\n",
       "2014-12-22     9.032258\n",
       "2014-12-23     9.206631\n",
       "2014-12-24     8.240437\n",
       "2014-12-25     9.459459\n",
       "2014-12-26          NaN\n",
       "2014-12-27          NaN\n",
       "2014-12-28          NaN\n",
       "2014-12-29          NaN\n",
       "2014-12-30     7.037037\n",
       "2014-12-31          NaN\n",
       "2015-01-01     9.951018\n",
       "dtype: float64"
      ]
     },
     "execution_count": 104,
     "metadata": {},
     "output_type": "execute_result"
    }
   ],
   "source": [
    "df.Minutes/df.Miles"
   ]
  },
  {
   "cell_type": "markdown",
   "metadata": {},
   "source": [
    "Of course, a lot of those values will be `NaN` because of division, but that's no problem; we only want the result for the times that we have recorded anyway."
   ]
  },
  {
   "cell_type": "code",
   "execution_count": 105,
   "metadata": {
    "collapsed": true
   },
   "outputs": [],
   "source": [
    "df['Min_per_mile'] = df['Minutes'] / df['Miles']"
   ]
  },
  {
   "cell_type": "code",
   "execution_count": 106,
   "metadata": {
    "collapsed": false
   },
   "outputs": [
    {
     "data": {
      "text/html": [
       "<div>\n",
       "<table border=\"1\" class=\"dataframe\">\n",
       "  <thead>\n",
       "    <tr style=\"text-align: right;\">\n",
       "      <th></th>\n",
       "      <th>Miles</th>\n",
       "      <th>Seconds</th>\n",
       "      <th>Minutes</th>\n",
       "      <th>Min_per_mile</th>\n",
       "    </tr>\n",
       "  </thead>\n",
       "  <tbody>\n",
       "    <tr>\n",
       "      <th>count</th>\n",
       "      <td>167.000000</td>\n",
       "      <td>52.000000</td>\n",
       "      <td>52.000000</td>\n",
       "      <td>52.000000</td>\n",
       "    </tr>\n",
       "    <tr>\n",
       "      <th>mean</th>\n",
       "      <td>1.521796</td>\n",
       "      <td>1901.788462</td>\n",
       "      <td>31.696474</td>\n",
       "      <td>7.725297</td>\n",
       "    </tr>\n",
       "    <tr>\n",
       "      <th>std</th>\n",
       "      <td>2.973174</td>\n",
       "      <td>2560.424171</td>\n",
       "      <td>42.673736</td>\n",
       "      <td>0.954475</td>\n",
       "    </tr>\n",
       "    <tr>\n",
       "      <th>min</th>\n",
       "      <td>0.000000</td>\n",
       "      <td>376.000000</td>\n",
       "      <td>6.266667</td>\n",
       "      <td>6.000000</td>\n",
       "    </tr>\n",
       "    <tr>\n",
       "      <th>25%</th>\n",
       "      <td>0.000000</td>\n",
       "      <td>583.750000</td>\n",
       "      <td>9.729167</td>\n",
       "      <td>7.020479</td>\n",
       "    </tr>\n",
       "    <tr>\n",
       "      <th>50%</th>\n",
       "      <td>0.000000</td>\n",
       "      <td>1343.500000</td>\n",
       "      <td>22.391667</td>\n",
       "      <td>7.533333</td>\n",
       "    </tr>\n",
       "    <tr>\n",
       "      <th>75%</th>\n",
       "      <td>2.005000</td>\n",
       "      <td>1743.250000</td>\n",
       "      <td>29.054167</td>\n",
       "      <td>8.480023</td>\n",
       "    </tr>\n",
       "    <tr>\n",
       "      <th>max</th>\n",
       "      <td>26.200000</td>\n",
       "      <td>15643.000000</td>\n",
       "      <td>260.716667</td>\n",
       "      <td>10.000000</td>\n",
       "    </tr>\n",
       "  </tbody>\n",
       "</table>\n",
       "</div>"
      ],
      "text/plain": [
       "            Miles       Seconds     Minutes  Min_per_mile\n",
       "count  167.000000     52.000000   52.000000     52.000000\n",
       "mean     1.521796   1901.788462   31.696474      7.725297\n",
       "std      2.973174   2560.424171   42.673736      0.954475\n",
       "min      0.000000    376.000000    6.266667      6.000000\n",
       "25%      0.000000    583.750000    9.729167      7.020479\n",
       "50%      0.000000   1343.500000   22.391667      7.533333\n",
       "75%      2.005000   1743.250000   29.054167      8.480023\n",
       "max     26.200000  15643.000000  260.716667     10.000000"
      ]
     },
     "execution_count": 106,
     "metadata": {},
     "output_type": "execute_result"
    }
   ],
   "source": [
    "df.describe()"
   ]
  },
  {
   "cell_type": "markdown",
   "metadata": {},
   "source": [
    "Now that we have `described` that data, let's take a look at the graph. How does the speed change with respect to the number of miles run?"
   ]
  },
  {
   "cell_type": "code",
   "execution_count": 107,
   "metadata": {
    "collapsed": false
   },
   "outputs": [
    {
     "data": {
      "text/plain": [
       "<matplotlib.text.Text at 0x1da4a3bb080>"
      ]
     },
     "execution_count": 107,
     "metadata": {},
     "output_type": "execute_result"
    },
    {
     "data": {
      "image/png": "[encoded data removed]",
      "text/plain": [
       "<matplotlib.figure.Figure at 0x1da49fe7f60>"
      ]
     },
     "metadata": {},
     "output_type": "display_data"
    }
   ],
   "source": [
    "df.plot(x='Miles', y='Min_per_mile', kind='scatter')\n",
    "plt.ylabel(\"Minutes / Mile\")"
   ]
  },
  {
   "cell_type": "markdown",
   "metadata": {},
   "source": [
    "Now we can see that there is a high degree of variability in the shorter distances, but that does seem to be a general increasing trend in the data."
   ]
  },
  {
   "cell_type": "markdown",
   "metadata": {},
   "source": [
    "\n",
    "Let’s see a histogram of the speeds. \n",
    "Histograms are a great way of representing the distribution of a continuous variable like minutes per mile.\n"
   ]
  },
  {
   "cell_type": "code",
   "execution_count": 108,
   "metadata": {
    "collapsed": false
   },
   "outputs": [
    {
     "data": {
      "text/plain": [
       "array([[<matplotlib.axes._subplots.AxesSubplot object at 0x000001DA49FD3908>]], dtype=object)"
      ]
     },
     "execution_count": 108,
     "metadata": {},
     "output_type": "execute_result"
    },
    {
     "data": {
      "image/png": "[encoded data removed]",
      "text/plain": [
       "<matplotlib.figure.Figure at 0x1da4a267d68>"
      ]
     },
     "metadata": {},
     "output_type": "display_data"
    }
   ],
   "source": [
    "df.hist('Min_per_mile')"
   ]
  },
  {
   "cell_type": "markdown",
   "metadata": {},
   "source": [
    "\n",
    "This distribution seems pretty centered around the 7- to 7.5-minute range. Histograms are `binning` information, so let's see if we can get a bit more detail by specifying the size of the bins.\n"
   ]
  },
  {
   "cell_type": "code",
   "execution_count": 109,
   "metadata": {
    "collapsed": false
   },
   "outputs": [
    {
     "data": {
      "text/plain": [
       "array([[<matplotlib.axes._subplots.AxesSubplot object at 0x000001DA4A42BC88>]], dtype=object)"
      ]
     },
     "execution_count": 109,
     "metadata": {},
     "output_type": "execute_result"
    },
    {
     "data": {
      "image/png": "[encoded data removed]",
      "text/plain": [
       "<matplotlib.figure.Figure at 0x1da4a48ed30>"
      ]
     },
     "metadata": {},
     "output_type": "display_data"
    }
   ],
   "source": [
    "df.hist('Min_per_mile',bins=20)"
   ]
  },
  {
   "cell_type": "markdown",
   "metadata": {},
   "source": [
    "Clearly this version provides a lot more information. We can see how consistent Bill's speed is; there really is not that much variability. This could just be a result of the distances that were run or the courses Bill chose to run.\n",
    "\n",
    "This graph is worth saving for later analysis; let's tidy it up and save it. We can change the limits on each of the axes as well as the title--whether we want a grid, etc. Matplotlib is very flexible."
   ]
  },
  {
   "cell_type": "code",
   "execution_count": 110,
   "metadata": {
    "collapsed": false
   },
   "outputs": [
    {
     "data": {
      "image/png": "[encoded data removed]",
      "text/plain": [
       "<matplotlib.figure.Figure at 0x1da4b4e5eb8>"
      ]
     },
     "metadata": {},
     "output_type": "display_data"
    }
   ],
   "source": [
    "df.hist('Min_per_mile',bins=20, figsize=(10,8))\n",
    "plt.xlim((5, 11))\n",
    "plt.ylim((0, 12))\n",
    "plt.title(\"Minutes Per Mile Histogram\")\n",
    "plt.grid(False)\n",
    "plt.savefig('minutes_per_mile_histogram.png')"
   ]
  },
  {
   "cell_type": "markdown",
   "metadata": {},
   "source": [
    "## Time Series, Continued: Rolling Calculations\n",
    "\n",
    "With time series we can also see rolling changes over time. For example, on a week-by-week basis, what is the rolling average of the number of miles that Bill is running? There are a lot of different types of smoothing functions you can use to reduce noise and visualize the underlying trend in the data."
   ]
  },
  {
   "cell_type": "code",
   "execution_count": 111,
   "metadata": {
    "collapsed": false
   },
   "outputs": [
    {
     "data": {
      "text/plain": [
       "Date\n",
       "2014-08-01    0.0\n",
       "2014-08-02    1.7\n",
       "2014-08-03    1.4\n",
       "2014-08-04    2.1\n",
       "2014-08-05    0.0\n",
       "Name: Miles, dtype: float64"
      ]
     },
     "execution_count": 111,
     "metadata": {},
     "output_type": "execute_result"
    }
   ],
   "source": [
    "df.Miles.head()"
   ]
  },
  {
   "cell_type": "markdown",
   "metadata": {},
   "source": [
    "Here’s a standard plot of our Miles again, just a line over time. "
   ]
  },
  {
   "cell_type": "code",
   "execution_count": 112,
   "metadata": {
    "collapsed": false
   },
   "outputs": [
    {
     "data": {
      "text/plain": [
       "<matplotlib.axes._subplots.AxesSubplot at 0x1da4b576cf8>"
      ]
     },
     "execution_count": 112,
     "metadata": {},
     "output_type": "execute_result"
    },
    {
     "data": {
      "image/png": "[encoded data removed]",
      "text/plain": [
       "<matplotlib.figure.Figure at 0x1da4b4f8f98>"
      ]
     },
     "metadata": {},
     "output_type": "display_data"
    }
   ],
   "source": [
    "df['Miles'].plot()"
   ]
  },
  {
   "cell_type": "markdown",
   "metadata": {},
   "source": [
    "If we want to add another line to this graph, we can do that by just calling another plot command in that same cell.\n",
    "\n",
    "Let’s take a look at the miles versus the rolling average of the miles per week. We can do that with the `pd.rolling_mean`, and all we have to do is pass in the given DataFrame column (or Series depending on how you think about it) and the time chunk.\n"
   ]
  },
  {
   "cell_type": "code",
   "execution_count": 114,
   "metadata": {
    "collapsed": false
   },
   "outputs": [
    {
     "name": "stderr",
     "output_type": "stream",
     "text": [
      "C:\\Anaconda3\\lib\\site-packages\\ipykernel\\__main__.py:2: FutureWarning: pd.rolling_mean is deprecated for Series and will be removed in a future version, replace with \n",
      "\tSeries.rolling(center=False,window=7).mean()\n",
      "  from ipykernel import kernelapp as app\n"
     ]
    },
    {
     "data": {
      "text/plain": [
       "<matplotlib.axes._subplots.AxesSubplot at 0x1da4b6402e8>"
      ]
     },
     "execution_count": 114,
     "metadata": {},
     "output_type": "execute_result"
    },
    {
     "data": {
      "image/png": "[encoded data removed]",
      "text/plain": [
       "<matplotlib.figure.Figure at 0x1da4b685710>"
      ]
     },
     "metadata": {},
     "output_type": "display_data"
    }
   ],
   "source": [
    "df['Miles'].plot()\n",
    "pd.rolling_mean(df['Miles'], 7).plot()"
   ]
  },
  {
   "cell_type": "markdown",
   "metadata": {},
   "source": [
    "We can do the same with the rolling standard deviation or sum."
   ]
  },
  {
   "cell_type": "code",
   "execution_count": 115,
   "metadata": {
    "collapsed": false
   },
   "outputs": [
    {
     "name": "stderr",
     "output_type": "stream",
     "text": [
      "C:\\Anaconda3\\lib\\site-packages\\ipykernel\\__main__.py:2: FutureWarning: pd.rolling_std is deprecated for Series and will be removed in a future version, replace with \n",
      "\tSeries.rolling(center=False,window=7).std()\n",
      "  from ipykernel import kernelapp as app\n"
     ]
    },
    {
     "data": {
      "text/plain": [
       "<matplotlib.axes._subplots.AxesSubplot at 0x1da4b6a7080>"
      ]
     },
     "execution_count": 115,
     "metadata": {},
     "output_type": "execute_result"
    },
    {
     "data": {
      "image/png": "[encoded data removed]",
      "text/plain": [
       "<matplotlib.figure.Figure at 0x1da4b6b90f0>"
      ]
     },
     "metadata": {},
     "output_type": "display_data"
    }
   ],
   "source": [
    "df['Miles'].plot()\n",
    "pd.rolling_std(df['Miles'], 7).plot()"
   ]
  },
  {
   "cell_type": "code",
   "execution_count": 116,
   "metadata": {
    "collapsed": false
   },
   "outputs": [
    {
     "name": "stderr",
     "output_type": "stream",
     "text": [
      "C:\\Anaconda3\\lib\\site-packages\\ipykernel\\__main__.py:2: FutureWarning: pd.rolling_sum is deprecated for Series and will be removed in a future version, replace with \n",
      "\tSeries.rolling(center=False,window=7).sum()\n",
      "  from ipykernel import kernelapp as app\n"
     ]
    },
    {
     "data": {
      "text/plain": [
       "<matplotlib.axes._subplots.AxesSubplot at 0x1da4b6de2e8>"
      ]
     },
     "execution_count": 116,
     "metadata": {},
     "output_type": "execute_result"
    },
    {
     "data": {
      "image/png": "[encoded data removed]",
      "text/plain": [
       "<matplotlib.figure.Figure at 0x1da4b7585f8>"
      ]
     },
     "metadata": {},
     "output_type": "display_data"
    }
   ],
   "source": [
    "df['Miles'].plot()\n",
    "pd.rolling_sum(df['Miles'], 7).plot()"
   ]
  },
  {
   "cell_type": "markdown",
   "metadata": {},
   "source": [
    "We can see how different that rolling sum looks at the end. That's because Bill was preparing to run a marathon on January 1st, so he had to start increasing the number of miles."
   ]
  },
  {
   "cell_type": "markdown",
   "metadata": {},
   "source": [
    "## Querying DateTime Indexes"
   ]
  },
  {
   "cell_type": "markdown",
   "metadata": {},
   "source": [
    "One of the great benefits of DateTime indexes is that you can query them very naturally. If we want to get all of Bill's runs in October of 2014, we just enter that as a string."
   ]
  },
  {
   "cell_type": "code",
   "execution_count": 117,
   "metadata": {
    "collapsed": false
   },
   "outputs": [
    {
     "data": {
      "text/plain": [
       "DatetimeIndex(['2014-08-01', '2014-08-02', '2014-08-03', '2014-08-04',\n",
       "               '2014-08-05', '2014-08-06', '2014-08-07', '2014-08-08',\n",
       "               '2014-08-09', '2014-08-10',\n",
       "               ...\n",
       "               '2014-12-23', '2014-12-24', '2014-12-25', '2014-12-26',\n",
       "               '2014-12-27', '2014-12-28', '2014-12-29', '2014-12-30',\n",
       "               '2014-12-31', '2015-01-01'],\n",
       "              dtype='datetime64[ns]', name='Date', length=167, freq=None)"
      ]
     },
     "execution_count": 117,
     "metadata": {},
     "output_type": "execute_result"
    }
   ],
   "source": [
    "df.index"
   ]
  },
  {
   "cell_type": "code",
   "execution_count": 118,
   "metadata": {
    "collapsed": false,
    "scrolled": true
   },
   "outputs": [
    {
     "data": {
      "text/html": [
       "<div>\n",
       "<table border=\"1\" class=\"dataframe\">\n",
       "  <thead>\n",
       "    <tr style=\"text-align: right;\">\n",
       "      <th></th>\n",
       "      <th>Miles</th>\n",
       "      <th>Time</th>\n",
       "      <th>Seconds</th>\n",
       "      <th>Minutes</th>\n",
       "      <th>Min_per_mile</th>\n",
       "    </tr>\n",
       "    <tr>\n",
       "      <th>Date</th>\n",
       "      <th></th>\n",
       "      <th></th>\n",
       "      <th></th>\n",
       "      <th></th>\n",
       "      <th></th>\n",
       "    </tr>\n",
       "  </thead>\n",
       "  <tbody>\n",
       "    <tr>\n",
       "      <th>2014-10-01</th>\n",
       "      <td>0.00</td>\n",
       "      <td>NaN</td>\n",
       "      <td>NaN</td>\n",
       "      <td>NaN</td>\n",
       "      <td>NaN</td>\n",
       "    </tr>\n",
       "    <tr>\n",
       "      <th>2014-10-02</th>\n",
       "      <td>0.00</td>\n",
       "      <td>NaN</td>\n",
       "      <td>NaN</td>\n",
       "      <td>NaN</td>\n",
       "      <td>NaN</td>\n",
       "    </tr>\n",
       "    <tr>\n",
       "      <th>2014-10-03</th>\n",
       "      <td>0.00</td>\n",
       "      <td>NaN</td>\n",
       "      <td>NaN</td>\n",
       "      <td>NaN</td>\n",
       "      <td>NaN</td>\n",
       "    </tr>\n",
       "    <tr>\n",
       "      <th>2014-10-04</th>\n",
       "      <td>4.63</td>\n",
       "      <td>0:40:00</td>\n",
       "      <td>2400.0</td>\n",
       "      <td>40.000000</td>\n",
       "      <td>8.639309</td>\n",
       "    </tr>\n",
       "    <tr>\n",
       "      <th>2014-10-04</th>\n",
       "      <td>1.87</td>\n",
       "      <td>NaN</td>\n",
       "      <td>NaN</td>\n",
       "      <td>NaN</td>\n",
       "      <td>NaN</td>\n",
       "    </tr>\n",
       "    <tr>\n",
       "      <th>2014-10-04</th>\n",
       "      <td>4.08</td>\n",
       "      <td>0:33:00</td>\n",
       "      <td>1980.0</td>\n",
       "      <td>33.000000</td>\n",
       "      <td>8.088235</td>\n",
       "    </tr>\n",
       "    <tr>\n",
       "      <th>2014-10-05</th>\n",
       "      <td>0.00</td>\n",
       "      <td>NaN</td>\n",
       "      <td>NaN</td>\n",
       "      <td>NaN</td>\n",
       "      <td>NaN</td>\n",
       "    </tr>\n",
       "    <tr>\n",
       "      <th>2014-10-06</th>\n",
       "      <td>0.00</td>\n",
       "      <td>NaN</td>\n",
       "      <td>NaN</td>\n",
       "      <td>NaN</td>\n",
       "      <td>NaN</td>\n",
       "    </tr>\n",
       "    <tr>\n",
       "      <th>2014-10-07</th>\n",
       "      <td>0.00</td>\n",
       "      <td>NaN</td>\n",
       "      <td>NaN</td>\n",
       "      <td>NaN</td>\n",
       "      <td>NaN</td>\n",
       "    </tr>\n",
       "    <tr>\n",
       "      <th>2014-10-08</th>\n",
       "      <td>0.00</td>\n",
       "      <td>NaN</td>\n",
       "      <td>NaN</td>\n",
       "      <td>NaN</td>\n",
       "      <td>NaN</td>\n",
       "    </tr>\n",
       "    <tr>\n",
       "      <th>2014-10-09</th>\n",
       "      <td>0.00</td>\n",
       "      <td>NaN</td>\n",
       "      <td>NaN</td>\n",
       "      <td>NaN</td>\n",
       "      <td>NaN</td>\n",
       "    </tr>\n",
       "    <tr>\n",
       "      <th>2014-10-10</th>\n",
       "      <td>0.00</td>\n",
       "      <td>NaN</td>\n",
       "      <td>NaN</td>\n",
       "      <td>NaN</td>\n",
       "      <td>NaN</td>\n",
       "    </tr>\n",
       "    <tr>\n",
       "      <th>2014-10-11</th>\n",
       "      <td>0.00</td>\n",
       "      <td>NaN</td>\n",
       "      <td>NaN</td>\n",
       "      <td>NaN</td>\n",
       "      <td>NaN</td>\n",
       "    </tr>\n",
       "    <tr>\n",
       "      <th>2014-10-12</th>\n",
       "      <td>3.05</td>\n",
       "      <td>0:22:37</td>\n",
       "      <td>1357.0</td>\n",
       "      <td>22.616667</td>\n",
       "      <td>7.415301</td>\n",
       "    </tr>\n",
       "    <tr>\n",
       "      <th>2014-10-13</th>\n",
       "      <td>0.00</td>\n",
       "      <td>NaN</td>\n",
       "      <td>NaN</td>\n",
       "      <td>NaN</td>\n",
       "      <td>NaN</td>\n",
       "    </tr>\n",
       "    <tr>\n",
       "      <th>2014-10-14</th>\n",
       "      <td>1.37</td>\n",
       "      <td>0:09:05</td>\n",
       "      <td>545.0</td>\n",
       "      <td>9.083333</td>\n",
       "      <td>6.630170</td>\n",
       "    </tr>\n",
       "    <tr>\n",
       "      <th>2014-10-15</th>\n",
       "      <td>0.00</td>\n",
       "      <td>NaN</td>\n",
       "      <td>NaN</td>\n",
       "      <td>NaN</td>\n",
       "      <td>NaN</td>\n",
       "    </tr>\n",
       "    <tr>\n",
       "      <th>2014-10-16</th>\n",
       "      <td>0.00</td>\n",
       "      <td>NaN</td>\n",
       "      <td>NaN</td>\n",
       "      <td>NaN</td>\n",
       "      <td>NaN</td>\n",
       "    </tr>\n",
       "    <tr>\n",
       "      <th>2014-10-17</th>\n",
       "      <td>0.00</td>\n",
       "      <td>NaN</td>\n",
       "      <td>NaN</td>\n",
       "      <td>NaN</td>\n",
       "      <td>NaN</td>\n",
       "    </tr>\n",
       "    <tr>\n",
       "      <th>2014-10-18</th>\n",
       "      <td>1.50</td>\n",
       "      <td>0:09:40</td>\n",
       "      <td>580.0</td>\n",
       "      <td>9.666667</td>\n",
       "      <td>6.444444</td>\n",
       "    </tr>\n",
       "    <tr>\n",
       "      <th>2014-10-18</th>\n",
       "      <td>1.50</td>\n",
       "      <td>NaN</td>\n",
       "      <td>NaN</td>\n",
       "      <td>NaN</td>\n",
       "      <td>NaN</td>\n",
       "    </tr>\n",
       "    <tr>\n",
       "      <th>2014-10-18</th>\n",
       "      <td>1.37</td>\n",
       "      <td>NaN</td>\n",
       "      <td>NaN</td>\n",
       "      <td>NaN</td>\n",
       "      <td>NaN</td>\n",
       "    </tr>\n",
       "    <tr>\n",
       "      <th>2014-10-19</th>\n",
       "      <td>0.00</td>\n",
       "      <td>NaN</td>\n",
       "      <td>NaN</td>\n",
       "      <td>NaN</td>\n",
       "      <td>NaN</td>\n",
       "    </tr>\n",
       "    <tr>\n",
       "      <th>2014-10-20</th>\n",
       "      <td>1.37</td>\n",
       "      <td>0:08:36</td>\n",
       "      <td>516.0</td>\n",
       "      <td>8.600000</td>\n",
       "      <td>6.277372</td>\n",
       "    </tr>\n",
       "    <tr>\n",
       "      <th>2014-10-21</th>\n",
       "      <td>0.00</td>\n",
       "      <td>NaN</td>\n",
       "      <td>NaN</td>\n",
       "      <td>NaN</td>\n",
       "      <td>NaN</td>\n",
       "    </tr>\n",
       "    <tr>\n",
       "      <th>2014-10-22</th>\n",
       "      <td>0.00</td>\n",
       "      <td>NaN</td>\n",
       "      <td>NaN</td>\n",
       "      <td>NaN</td>\n",
       "      <td>NaN</td>\n",
       "    </tr>\n",
       "    <tr>\n",
       "      <th>2014-10-23</th>\n",
       "      <td>0.00</td>\n",
       "      <td>NaN</td>\n",
       "      <td>NaN</td>\n",
       "      <td>NaN</td>\n",
       "      <td>NaN</td>\n",
       "    </tr>\n",
       "    <tr>\n",
       "      <th>2014-10-24</th>\n",
       "      <td>0.00</td>\n",
       "      <td>NaN</td>\n",
       "      <td>NaN</td>\n",
       "      <td>NaN</td>\n",
       "      <td>NaN</td>\n",
       "    </tr>\n",
       "    <tr>\n",
       "      <th>2014-10-25</th>\n",
       "      <td>2.00</td>\n",
       "      <td>NaN</td>\n",
       "      <td>NaN</td>\n",
       "      <td>NaN</td>\n",
       "      <td>NaN</td>\n",
       "    </tr>\n",
       "    <tr>\n",
       "      <th>2014-10-26</th>\n",
       "      <td>0.00</td>\n",
       "      <td>NaN</td>\n",
       "      <td>NaN</td>\n",
       "      <td>NaN</td>\n",
       "      <td>NaN</td>\n",
       "    </tr>\n",
       "    <tr>\n",
       "      <th>2014-10-27</th>\n",
       "      <td>0.00</td>\n",
       "      <td>NaN</td>\n",
       "      <td>NaN</td>\n",
       "      <td>NaN</td>\n",
       "      <td>NaN</td>\n",
       "    </tr>\n",
       "    <tr>\n",
       "      <th>2014-10-28</th>\n",
       "      <td>0.00</td>\n",
       "      <td>NaN</td>\n",
       "      <td>NaN</td>\n",
       "      <td>NaN</td>\n",
       "      <td>NaN</td>\n",
       "    </tr>\n",
       "    <tr>\n",
       "      <th>2014-10-29</th>\n",
       "      <td>0.00</td>\n",
       "      <td>NaN</td>\n",
       "      <td>NaN</td>\n",
       "      <td>NaN</td>\n",
       "      <td>NaN</td>\n",
       "    </tr>\n",
       "    <tr>\n",
       "      <th>2014-10-30</th>\n",
       "      <td>0.00</td>\n",
       "      <td>NaN</td>\n",
       "      <td>NaN</td>\n",
       "      <td>NaN</td>\n",
       "      <td>NaN</td>\n",
       "    </tr>\n",
       "    <tr>\n",
       "      <th>2014-10-31</th>\n",
       "      <td>2.01</td>\n",
       "      <td>NaN</td>\n",
       "      <td>NaN</td>\n",
       "      <td>NaN</td>\n",
       "      <td>NaN</td>\n",
       "    </tr>\n",
       "  </tbody>\n",
       "</table>\n",
       "</div>"
      ],
      "text/plain": [
       "            Miles     Time  Seconds    Minutes  Min_per_mile\n",
       "Date                                                        \n",
       "2014-10-01   0.00      NaN      NaN        NaN           NaN\n",
       "2014-10-02   0.00      NaN      NaN        NaN           NaN\n",
       "2014-10-03   0.00      NaN      NaN        NaN           NaN\n",
       "2014-10-04   4.63  0:40:00   2400.0  40.000000      8.639309\n",
       "2014-10-04   1.87      NaN      NaN        NaN           NaN\n",
       "2014-10-04   4.08  0:33:00   1980.0  33.000000      8.088235\n",
       "2014-10-05   0.00      NaN      NaN        NaN           NaN\n",
       "2014-10-06   0.00      NaN      NaN        NaN           NaN\n",
       "2014-10-07   0.00      NaN      NaN        NaN           NaN\n",
       "2014-10-08   0.00      NaN      NaN        NaN           NaN\n",
       "2014-10-09   0.00      NaN      NaN        NaN           NaN\n",
       "2014-10-10   0.00      NaN      NaN        NaN           NaN\n",
       "2014-10-11   0.00      NaN      NaN        NaN           NaN\n",
       "2014-10-12   3.05  0:22:37   1357.0  22.616667      7.415301\n",
       "2014-10-13   0.00      NaN      NaN        NaN           NaN\n",
       "2014-10-14   1.37  0:09:05    545.0   9.083333      6.630170\n",
       "2014-10-15   0.00      NaN      NaN        NaN           NaN\n",
       "2014-10-16   0.00      NaN      NaN        NaN           NaN\n",
       "2014-10-17   0.00      NaN      NaN        NaN           NaN\n",
       "2014-10-18   1.50  0:09:40    580.0   9.666667      6.444444\n",
       "2014-10-18   1.50      NaN      NaN        NaN           NaN\n",
       "2014-10-18   1.37      NaN      NaN        NaN           NaN\n",
       "2014-10-19   0.00      NaN      NaN        NaN           NaN\n",
       "2014-10-20   1.37  0:08:36    516.0   8.600000      6.277372\n",
       "2014-10-21   0.00      NaN      NaN        NaN           NaN\n",
       "2014-10-22   0.00      NaN      NaN        NaN           NaN\n",
       "2014-10-23   0.00      NaN      NaN        NaN           NaN\n",
       "2014-10-24   0.00      NaN      NaN        NaN           NaN\n",
       "2014-10-25   2.00      NaN      NaN        NaN           NaN\n",
       "2014-10-26   0.00      NaN      NaN        NaN           NaN\n",
       "2014-10-27   0.00      NaN      NaN        NaN           NaN\n",
       "2014-10-28   0.00      NaN      NaN        NaN           NaN\n",
       "2014-10-29   0.00      NaN      NaN        NaN           NaN\n",
       "2014-10-30   0.00      NaN      NaN        NaN           NaN\n",
       "2014-10-31   2.01      NaN      NaN        NaN           NaN"
      ]
     },
     "execution_count": 118,
     "metadata": {},
     "output_type": "execute_result"
    }
   ],
   "source": [
    "df['2014-10']"
   ]
  },
  {
   "cell_type": "markdown",
   "metadata": {},
   "source": [
    "\n",
    "If we want to get runs from November to December, we can do that using slice notation.\n"
   ]
  },
  {
   "cell_type": "code",
   "execution_count": 78,
   "metadata": {
    "collapsed": false,
    "scrolled": true
   },
   "outputs": [
    {
     "data": {
      "text/html": [
       "<div>\n",
       "<table border=\"1\" class=\"dataframe\">\n",
       "  <thead>\n",
       "    <tr style=\"text-align: right;\">\n",
       "      <th></th>\n",
       "      <th>Miles</th>\n",
       "      <th>Time</th>\n",
       "      <th>Seconds</th>\n",
       "      <th>Minutes</th>\n",
       "      <th>Min_per_mile</th>\n",
       "    </tr>\n",
       "    <tr>\n",
       "      <th>Date</th>\n",
       "      <th></th>\n",
       "      <th></th>\n",
       "      <th></th>\n",
       "      <th></th>\n",
       "      <th></th>\n",
       "    </tr>\n",
       "  </thead>\n",
       "  <tbody>\n",
       "    <tr>\n",
       "      <th>2014-11-01</th>\n",
       "      <td>0.00</td>\n",
       "      <td>NaN</td>\n",
       "      <td>NaN</td>\n",
       "      <td>NaN</td>\n",
       "      <td>NaN</td>\n",
       "    </tr>\n",
       "    <tr>\n",
       "      <th>2014-11-02</th>\n",
       "      <td>1.37</td>\n",
       "      <td>0:08:43</td>\n",
       "      <td>523</td>\n",
       "      <td>8.716667</td>\n",
       "      <td>6.362530</td>\n",
       "    </tr>\n",
       "    <tr>\n",
       "      <th>2014-11-03</th>\n",
       "      <td>5.30</td>\n",
       "      <td>0:39:26</td>\n",
       "      <td>2366</td>\n",
       "      <td>39.433333</td>\n",
       "      <td>7.440252</td>\n",
       "    </tr>\n",
       "    <tr>\n",
       "      <th>2014-11-04</th>\n",
       "      <td>3.05</td>\n",
       "      <td>0:22:12</td>\n",
       "      <td>1332</td>\n",
       "      <td>22.200000</td>\n",
       "      <td>7.278689</td>\n",
       "    </tr>\n",
       "    <tr>\n",
       "      <th>2014-11-05</th>\n",
       "      <td>0.00</td>\n",
       "      <td>NaN</td>\n",
       "      <td>NaN</td>\n",
       "      <td>NaN</td>\n",
       "      <td>NaN</td>\n",
       "    </tr>\n",
       "    <tr>\n",
       "      <th>2014-11-06</th>\n",
       "      <td>0.00</td>\n",
       "      <td>NaN</td>\n",
       "      <td>NaN</td>\n",
       "      <td>NaN</td>\n",
       "      <td>NaN</td>\n",
       "    </tr>\n",
       "    <tr>\n",
       "      <th>2014-11-07</th>\n",
       "      <td>5.63</td>\n",
       "      <td>0:49:05</td>\n",
       "      <td>2945</td>\n",
       "      <td>49.083333</td>\n",
       "      <td>8.718176</td>\n",
       "    </tr>\n",
       "    <tr>\n",
       "      <th>2014-11-07</th>\n",
       "      <td>1.26</td>\n",
       "      <td>NaN</td>\n",
       "      <td>NaN</td>\n",
       "      <td>NaN</td>\n",
       "      <td>NaN</td>\n",
       "    </tr>\n",
       "    <tr>\n",
       "      <th>2014-11-07</th>\n",
       "      <td>1.20</td>\n",
       "      <td>NaN</td>\n",
       "      <td>NaN</td>\n",
       "      <td>NaN</td>\n",
       "      <td>NaN</td>\n",
       "    </tr>\n",
       "    <tr>\n",
       "      <th>2014-11-08</th>\n",
       "      <td>0.00</td>\n",
       "      <td>NaN</td>\n",
       "      <td>NaN</td>\n",
       "      <td>NaN</td>\n",
       "      <td>NaN</td>\n",
       "    </tr>\n",
       "    <tr>\n",
       "      <th>2014-11-09</th>\n",
       "      <td>3.05</td>\n",
       "      <td>0:22:36</td>\n",
       "      <td>1356</td>\n",
       "      <td>22.600000</td>\n",
       "      <td>7.409836</td>\n",
       "    </tr>\n",
       "    <tr>\n",
       "      <th>2014-11-10</th>\n",
       "      <td>1.50</td>\n",
       "      <td>0:09:00</td>\n",
       "      <td>540</td>\n",
       "      <td>9.000000</td>\n",
       "      <td>6.000000</td>\n",
       "    </tr>\n",
       "    <tr>\n",
       "      <th>2014-11-10</th>\n",
       "      <td>1.50</td>\n",
       "      <td>0:11:33</td>\n",
       "      <td>693</td>\n",
       "      <td>11.550000</td>\n",
       "      <td>7.700000</td>\n",
       "    </tr>\n",
       "    <tr>\n",
       "      <th>2014-11-10</th>\n",
       "      <td>4.00</td>\n",
       "      <td>NaN</td>\n",
       "      <td>NaN</td>\n",
       "      <td>NaN</td>\n",
       "      <td>NaN</td>\n",
       "    </tr>\n",
       "    <tr>\n",
       "      <th>2014-11-11</th>\n",
       "      <td>0.00</td>\n",
       "      <td>NaN</td>\n",
       "      <td>NaN</td>\n",
       "      <td>NaN</td>\n",
       "      <td>NaN</td>\n",
       "    </tr>\n",
       "    <tr>\n",
       "      <th>2014-11-12</th>\n",
       "      <td>0.00</td>\n",
       "      <td>NaN</td>\n",
       "      <td>NaN</td>\n",
       "      <td>NaN</td>\n",
       "      <td>NaN</td>\n",
       "    </tr>\n",
       "    <tr>\n",
       "      <th>2014-11-13</th>\n",
       "      <td>0.00</td>\n",
       "      <td>NaN</td>\n",
       "      <td>NaN</td>\n",
       "      <td>NaN</td>\n",
       "      <td>NaN</td>\n",
       "    </tr>\n",
       "    <tr>\n",
       "      <th>2014-11-14</th>\n",
       "      <td>0.00</td>\n",
       "      <td>NaN</td>\n",
       "      <td>NaN</td>\n",
       "      <td>NaN</td>\n",
       "      <td>NaN</td>\n",
       "    </tr>\n",
       "    <tr>\n",
       "      <th>2014-11-15</th>\n",
       "      <td>0.00</td>\n",
       "      <td>NaN</td>\n",
       "      <td>NaN</td>\n",
       "      <td>NaN</td>\n",
       "      <td>NaN</td>\n",
       "    </tr>\n",
       "    <tr>\n",
       "      <th>2014-11-16</th>\n",
       "      <td>0.00</td>\n",
       "      <td>NaN</td>\n",
       "      <td>NaN</td>\n",
       "      <td>NaN</td>\n",
       "      <td>NaN</td>\n",
       "    </tr>\n",
       "    <tr>\n",
       "      <th>2014-11-17</th>\n",
       "      <td>0.00</td>\n",
       "      <td>NaN</td>\n",
       "      <td>NaN</td>\n",
       "      <td>NaN</td>\n",
       "      <td>NaN</td>\n",
       "    </tr>\n",
       "    <tr>\n",
       "      <th>2014-11-18</th>\n",
       "      <td>0.00</td>\n",
       "      <td>NaN</td>\n",
       "      <td>NaN</td>\n",
       "      <td>NaN</td>\n",
       "      <td>NaN</td>\n",
       "    </tr>\n",
       "    <tr>\n",
       "      <th>2014-11-19</th>\n",
       "      <td>0.00</td>\n",
       "      <td>NaN</td>\n",
       "      <td>NaN</td>\n",
       "      <td>NaN</td>\n",
       "      <td>NaN</td>\n",
       "    </tr>\n",
       "    <tr>\n",
       "      <th>2014-11-20</th>\n",
       "      <td>0.00</td>\n",
       "      <td>NaN</td>\n",
       "      <td>NaN</td>\n",
       "      <td>NaN</td>\n",
       "      <td>NaN</td>\n",
       "    </tr>\n",
       "    <tr>\n",
       "      <th>2014-11-21</th>\n",
       "      <td>0.00</td>\n",
       "      <td>NaN</td>\n",
       "      <td>NaN</td>\n",
       "      <td>NaN</td>\n",
       "      <td>NaN</td>\n",
       "    </tr>\n",
       "    <tr>\n",
       "      <th>2014-11-22</th>\n",
       "      <td>0.00</td>\n",
       "      <td>NaN</td>\n",
       "      <td>NaN</td>\n",
       "      <td>NaN</td>\n",
       "      <td>NaN</td>\n",
       "    </tr>\n",
       "    <tr>\n",
       "      <th>2014-11-23</th>\n",
       "      <td>3.05</td>\n",
       "      <td>0:22:35</td>\n",
       "      <td>1355</td>\n",
       "      <td>22.583333</td>\n",
       "      <td>7.404372</td>\n",
       "    </tr>\n",
       "    <tr>\n",
       "      <th>2014-11-24</th>\n",
       "      <td>0.00</td>\n",
       "      <td>NaN</td>\n",
       "      <td>NaN</td>\n",
       "      <td>NaN</td>\n",
       "      <td>NaN</td>\n",
       "    </tr>\n",
       "    <tr>\n",
       "      <th>2014-11-25</th>\n",
       "      <td>0.00</td>\n",
       "      <td>NaN</td>\n",
       "      <td>NaN</td>\n",
       "      <td>NaN</td>\n",
       "      <td>NaN</td>\n",
       "    </tr>\n",
       "    <tr>\n",
       "      <th>2014-11-26</th>\n",
       "      <td>0.00</td>\n",
       "      <td>NaN</td>\n",
       "      <td>NaN</td>\n",
       "      <td>NaN</td>\n",
       "      <td>NaN</td>\n",
       "    </tr>\n",
       "    <tr>\n",
       "      <th>...</th>\n",
       "      <td>...</td>\n",
       "      <td>...</td>\n",
       "      <td>...</td>\n",
       "      <td>...</td>\n",
       "      <td>...</td>\n",
       "    </tr>\n",
       "    <tr>\n",
       "      <th>2014-12-03</th>\n",
       "      <td>0.00</td>\n",
       "      <td>NaN</td>\n",
       "      <td>NaN</td>\n",
       "      <td>NaN</td>\n",
       "      <td>NaN</td>\n",
       "    </tr>\n",
       "    <tr>\n",
       "      <th>2014-12-04</th>\n",
       "      <td>0.00</td>\n",
       "      <td>NaN</td>\n",
       "      <td>NaN</td>\n",
       "      <td>NaN</td>\n",
       "      <td>NaN</td>\n",
       "    </tr>\n",
       "    <tr>\n",
       "      <th>2014-12-05</th>\n",
       "      <td>0.00</td>\n",
       "      <td>NaN</td>\n",
       "      <td>NaN</td>\n",
       "      <td>NaN</td>\n",
       "      <td>NaN</td>\n",
       "    </tr>\n",
       "    <tr>\n",
       "      <th>2014-12-06</th>\n",
       "      <td>0.00</td>\n",
       "      <td>NaN</td>\n",
       "      <td>NaN</td>\n",
       "      <td>NaN</td>\n",
       "      <td>NaN</td>\n",
       "    </tr>\n",
       "    <tr>\n",
       "      <th>2014-12-07</th>\n",
       "      <td>0.00</td>\n",
       "      <td>NaN</td>\n",
       "      <td>NaN</td>\n",
       "      <td>NaN</td>\n",
       "      <td>NaN</td>\n",
       "    </tr>\n",
       "    <tr>\n",
       "      <th>2014-12-08</th>\n",
       "      <td>0.00</td>\n",
       "      <td>NaN</td>\n",
       "      <td>NaN</td>\n",
       "      <td>NaN</td>\n",
       "      <td>NaN</td>\n",
       "    </tr>\n",
       "    <tr>\n",
       "      <th>2014-12-09</th>\n",
       "      <td>2.93</td>\n",
       "      <td>0:25:00</td>\n",
       "      <td>1500</td>\n",
       "      <td>25.000000</td>\n",
       "      <td>8.532423</td>\n",
       "    </tr>\n",
       "    <tr>\n",
       "      <th>2014-12-10</th>\n",
       "      <td>0.00</td>\n",
       "      <td>NaN</td>\n",
       "      <td>NaN</td>\n",
       "      <td>NaN</td>\n",
       "      <td>NaN</td>\n",
       "    </tr>\n",
       "    <tr>\n",
       "      <th>2014-12-11</th>\n",
       "      <td>0.00</td>\n",
       "      <td>NaN</td>\n",
       "      <td>NaN</td>\n",
       "      <td>NaN</td>\n",
       "      <td>NaN</td>\n",
       "    </tr>\n",
       "    <tr>\n",
       "      <th>2014-12-12</th>\n",
       "      <td>1.37</td>\n",
       "      <td>0:09:15</td>\n",
       "      <td>555</td>\n",
       "      <td>9.250000</td>\n",
       "      <td>6.751825</td>\n",
       "    </tr>\n",
       "    <tr>\n",
       "      <th>2014-12-13</th>\n",
       "      <td>5.30</td>\n",
       "      <td>0:43:36</td>\n",
       "      <td>2616</td>\n",
       "      <td>43.600000</td>\n",
       "      <td>8.226415</td>\n",
       "    </tr>\n",
       "    <tr>\n",
       "      <th>2014-12-13</th>\n",
       "      <td>2.21</td>\n",
       "      <td>0:18:59</td>\n",
       "      <td>1139</td>\n",
       "      <td>18.983333</td>\n",
       "      <td>8.589744</td>\n",
       "    </tr>\n",
       "    <tr>\n",
       "      <th>2014-12-14</th>\n",
       "      <td>0.00</td>\n",
       "      <td>NaN</td>\n",
       "      <td>NaN</td>\n",
       "      <td>NaN</td>\n",
       "      <td>NaN</td>\n",
       "    </tr>\n",
       "    <tr>\n",
       "      <th>2014-12-15</th>\n",
       "      <td>6.50</td>\n",
       "      <td>0:58:43</td>\n",
       "      <td>3523</td>\n",
       "      <td>58.716667</td>\n",
       "      <td>9.033333</td>\n",
       "    </tr>\n",
       "    <tr>\n",
       "      <th>2014-12-16</th>\n",
       "      <td>0.00</td>\n",
       "      <td>NaN</td>\n",
       "      <td>NaN</td>\n",
       "      <td>NaN</td>\n",
       "      <td>NaN</td>\n",
       "    </tr>\n",
       "    <tr>\n",
       "      <th>2014-12-17</th>\n",
       "      <td>12.00</td>\n",
       "      <td>1:39:00</td>\n",
       "      <td>5940</td>\n",
       "      <td>99.000000</td>\n",
       "      <td>8.250000</td>\n",
       "    </tr>\n",
       "    <tr>\n",
       "      <th>2014-12-18</th>\n",
       "      <td>0.00</td>\n",
       "      <td>NaN</td>\n",
       "      <td>NaN</td>\n",
       "      <td>NaN</td>\n",
       "      <td>NaN</td>\n",
       "    </tr>\n",
       "    <tr>\n",
       "      <th>2014-12-19</th>\n",
       "      <td>3.10</td>\n",
       "      <td>0:26:15</td>\n",
       "      <td>1575</td>\n",
       "      <td>26.250000</td>\n",
       "      <td>8.467742</td>\n",
       "    </tr>\n",
       "    <tr>\n",
       "      <th>2014-12-20</th>\n",
       "      <td>14.80</td>\n",
       "      <td>2:15:00</td>\n",
       "      <td>8100</td>\n",
       "      <td>135.000000</td>\n",
       "      <td>9.121622</td>\n",
       "    </tr>\n",
       "    <tr>\n",
       "      <th>2014-12-21</th>\n",
       "      <td>0.00</td>\n",
       "      <td>NaN</td>\n",
       "      <td>NaN</td>\n",
       "      <td>NaN</td>\n",
       "      <td>NaN</td>\n",
       "    </tr>\n",
       "    <tr>\n",
       "      <th>2014-12-22</th>\n",
       "      <td>3.10</td>\n",
       "      <td>0:28:00</td>\n",
       "      <td>1680</td>\n",
       "      <td>28.000000</td>\n",
       "      <td>9.032258</td>\n",
       "    </tr>\n",
       "    <tr>\n",
       "      <th>2014-12-23</th>\n",
       "      <td>5.63</td>\n",
       "      <td>0:51:50</td>\n",
       "      <td>3110</td>\n",
       "      <td>51.833333</td>\n",
       "      <td>9.206631</td>\n",
       "    </tr>\n",
       "    <tr>\n",
       "      <th>2014-12-24</th>\n",
       "      <td>3.05</td>\n",
       "      <td>0:25:08</td>\n",
       "      <td>1508</td>\n",
       "      <td>25.133333</td>\n",
       "      <td>8.240437</td>\n",
       "    </tr>\n",
       "    <tr>\n",
       "      <th>2014-12-25</th>\n",
       "      <td>14.80</td>\n",
       "      <td>2:20:00</td>\n",
       "      <td>8400</td>\n",
       "      <td>140.000000</td>\n",
       "      <td>9.459459</td>\n",
       "    </tr>\n",
       "    <tr>\n",
       "      <th>2014-12-26</th>\n",
       "      <td>5.20</td>\n",
       "      <td>NaN</td>\n",
       "      <td>NaN</td>\n",
       "      <td>NaN</td>\n",
       "      <td>NaN</td>\n",
       "    </tr>\n",
       "    <tr>\n",
       "      <th>2014-12-27</th>\n",
       "      <td>0.00</td>\n",
       "      <td>NaN</td>\n",
       "      <td>NaN</td>\n",
       "      <td>NaN</td>\n",
       "      <td>NaN</td>\n",
       "    </tr>\n",
       "    <tr>\n",
       "      <th>2014-12-28</th>\n",
       "      <td>0.00</td>\n",
       "      <td>NaN</td>\n",
       "      <td>NaN</td>\n",
       "      <td>NaN</td>\n",
       "      <td>NaN</td>\n",
       "    </tr>\n",
       "    <tr>\n",
       "      <th>2014-12-29</th>\n",
       "      <td>0.00</td>\n",
       "      <td>NaN</td>\n",
       "      <td>NaN</td>\n",
       "      <td>NaN</td>\n",
       "      <td>NaN</td>\n",
       "    </tr>\n",
       "    <tr>\n",
       "      <th>2014-12-30</th>\n",
       "      <td>3.15</td>\n",
       "      <td>0:22:10</td>\n",
       "      <td>1330</td>\n",
       "      <td>22.166667</td>\n",
       "      <td>7.037037</td>\n",
       "    </tr>\n",
       "    <tr>\n",
       "      <th>2014-12-31</th>\n",
       "      <td>0.00</td>\n",
       "      <td>NaN</td>\n",
       "      <td>NaN</td>\n",
       "      <td>NaN</td>\n",
       "      <td>NaN</td>\n",
       "    </tr>\n",
       "  </tbody>\n",
       "</table>\n",
       "<p>66 rows × 5 columns</p>\n",
       "</div>"
      ],
      "text/plain": [
       "            Miles     Time  Seconds     Minutes  Min_per_mile\n",
       "Date                                                         \n",
       "2014-11-01   0.00      NaN      NaN         NaN           NaN\n",
       "2014-11-02   1.37  0:08:43      523    8.716667      6.362530\n",
       "2014-11-03   5.30  0:39:26     2366   39.433333      7.440252\n",
       "2014-11-04   3.05  0:22:12     1332   22.200000      7.278689\n",
       "2014-11-05   0.00      NaN      NaN         NaN           NaN\n",
       "2014-11-06   0.00      NaN      NaN         NaN           NaN\n",
       "2014-11-07   5.63  0:49:05     2945   49.083333      8.718176\n",
       "2014-11-07   1.26      NaN      NaN         NaN           NaN\n",
       "2014-11-07   1.20      NaN      NaN         NaN           NaN\n",
       "2014-11-08   0.00      NaN      NaN         NaN           NaN\n",
       "2014-11-09   3.05  0:22:36     1356   22.600000      7.409836\n",
       "2014-11-10   1.50  0:09:00      540    9.000000      6.000000\n",
       "2014-11-10   1.50  0:11:33      693   11.550000      7.700000\n",
       "2014-11-10   4.00      NaN      NaN         NaN           NaN\n",
       "2014-11-11   0.00      NaN      NaN         NaN           NaN\n",
       "2014-11-12   0.00      NaN      NaN         NaN           NaN\n",
       "2014-11-13   0.00      NaN      NaN         NaN           NaN\n",
       "2014-11-14   0.00      NaN      NaN         NaN           NaN\n",
       "2014-11-15   0.00      NaN      NaN         NaN           NaN\n",
       "2014-11-16   0.00      NaN      NaN         NaN           NaN\n",
       "2014-11-17   0.00      NaN      NaN         NaN           NaN\n",
       "2014-11-18   0.00      NaN      NaN         NaN           NaN\n",
       "2014-11-19   0.00      NaN      NaN         NaN           NaN\n",
       "2014-11-20   0.00      NaN      NaN         NaN           NaN\n",
       "2014-11-21   0.00      NaN      NaN         NaN           NaN\n",
       "2014-11-22   0.00      NaN      NaN         NaN           NaN\n",
       "2014-11-23   3.05  0:22:35     1355   22.583333      7.404372\n",
       "2014-11-24   0.00      NaN      NaN         NaN           NaN\n",
       "2014-11-25   0.00      NaN      NaN         NaN           NaN\n",
       "2014-11-26   0.00      NaN      NaN         NaN           NaN\n",
       "...           ...      ...      ...         ...           ...\n",
       "2014-12-03   0.00      NaN      NaN         NaN           NaN\n",
       "2014-12-04   0.00      NaN      NaN         NaN           NaN\n",
       "2014-12-05   0.00      NaN      NaN         NaN           NaN\n",
       "2014-12-06   0.00      NaN      NaN         NaN           NaN\n",
       "2014-12-07   0.00      NaN      NaN         NaN           NaN\n",
       "2014-12-08   0.00      NaN      NaN         NaN           NaN\n",
       "2014-12-09   2.93  0:25:00     1500   25.000000      8.532423\n",
       "2014-12-10   0.00      NaN      NaN         NaN           NaN\n",
       "2014-12-11   0.00      NaN      NaN         NaN           NaN\n",
       "2014-12-12   1.37  0:09:15      555    9.250000      6.751825\n",
       "2014-12-13   5.30  0:43:36     2616   43.600000      8.226415\n",
       "2014-12-13   2.21  0:18:59     1139   18.983333      8.589744\n",
       "2014-12-14   0.00      NaN      NaN         NaN           NaN\n",
       "2014-12-15   6.50  0:58:43     3523   58.716667      9.033333\n",
       "2014-12-16   0.00      NaN      NaN         NaN           NaN\n",
       "2014-12-17  12.00  1:39:00     5940   99.000000      8.250000\n",
       "2014-12-18   0.00      NaN      NaN         NaN           NaN\n",
       "2014-12-19   3.10  0:26:15     1575   26.250000      8.467742\n",
       "2014-12-20  14.80  2:15:00     8100  135.000000      9.121622\n",
       "2014-12-21   0.00      NaN      NaN         NaN           NaN\n",
       "2014-12-22   3.10  0:28:00     1680   28.000000      9.032258\n",
       "2014-12-23   5.63  0:51:50     3110   51.833333      9.206631\n",
       "2014-12-24   3.05  0:25:08     1508   25.133333      8.240437\n",
       "2014-12-25  14.80  2:20:00     8400  140.000000      9.459459\n",
       "2014-12-26   5.20      NaN      NaN         NaN           NaN\n",
       "2014-12-27   0.00      NaN      NaN         NaN           NaN\n",
       "2014-12-28   0.00      NaN      NaN         NaN           NaN\n",
       "2014-12-29   0.00      NaN      NaN         NaN           NaN\n",
       "2014-12-30   3.15  0:22:10     1330   22.166667      7.037037\n",
       "2014-12-31   0.00      NaN      NaN         NaN           NaN\n",
       "\n",
       "[66 rows x 5 columns]"
      ]
     },
     "execution_count": 78,
     "metadata": {},
     "output_type": "execute_result"
    }
   ],
   "source": [
    "df['2014-11':'2014-12']"
   ]
  },
  {
   "cell_type": "markdown",
   "metadata": {},
   "source": [
    "\n",
    "How do you think we might go from November to January 1, 2015?\n",
    "\n",
    "Give it a try and see if you can figure it out.\n"
   ]
  },
  {
   "cell_type": "code",
   "execution_count": 79,
   "metadata": {
    "collapsed": false
   },
   "outputs": [
    {
     "data": {
      "text/plain": [
       "<matplotlib.axes._subplots.AxesSubplot at 0x109684ef0>"
      ]
     },
     "execution_count": 79,
     "metadata": {},
     "output_type": "execute_result"
    },
    {
     "data": {
      "image/png": "[encoded data removed]",
      "text/plain": [
       "<matplotlib.figure.Figure at 0x10978a908>"
      ]
     },
     "metadata": {},
     "output_type": "display_data"
    }
   ],
   "source": [
    "df['2014-11':'2015-1-1']['Miles'].plot()"
   ]
  },
  {
   "cell_type": "markdown",
   "metadata": {},
   "source": [
    "\n",
    "We can specify a series this way, but we cannot specify a specific date to get a specific date’s run. \n"
   ]
  },
  {
   "cell_type": "code",
   "execution_count": 80,
   "metadata": {
    "collapsed": false
   },
   "outputs": [],
   "source": [
    "# will error\n",
    "# df['2014-8-12']"
   ]
  },
  {
   "cell_type": "markdown",
   "metadata": {},
   "source": [
    "To do that we need to use `loc`, which returns the value at that index location."
   ]
  },
  {
   "cell_type": "code",
   "execution_count": 81,
   "metadata": {
    "collapsed": false
   },
   "outputs": [
    {
     "data": {
      "text/plain": [
       "Miles               1.42\n",
       "Time             0:10:35\n",
       "Seconds              635\n",
       "Minutes         10.58333\n",
       "Min_per_mile    7.453052\n",
       "Name: 2014-08-12 00:00:00, dtype: object"
      ]
     },
     "execution_count": 81,
     "metadata": {},
     "output_type": "execute_result"
    }
   ],
   "source": [
    "df.loc['2014-8-12']"
   ]
  },
  {
   "cell_type": "markdown",
   "metadata": {},
   "source": [
    "This is a good time to save our work so that we don’t have to redo everything next time we want to keep working with our data. We could save to CSV like we did before, but let's look at all the different ways you can save to a file.\n",
    "\n",
    "Let’s save our data first to a CSV, then as an html page (which will give us a table view)."
   ]
  },
  {
   "cell_type": "code",
   "execution_count": 82,
   "metadata": {
    "collapsed": true
   },
   "outputs": [],
   "source": [
    "df.to_csv('../data/date_fixed_running_data_with_time.csv')\n",
    "df.to_html('../data/date_fixed_running_data_with_time.html')"
   ]
  },
  {
   "cell_type": "markdown",
   "metadata": {},
   "source": [
    "We may also want to save as a JSON file.  One thing to note, however, is that JSON files want unique indexes (because they will become the keys), so we must give our DataFrame a new index. We can do this by resetting our index."
   ]
  },
  {
   "cell_type": "code",
   "execution_count": 83,
   "metadata": {
    "collapsed": false
   },
   "outputs": [],
   "source": [
    "# will error\n",
    "# df.to_json(\"../data/date_fixed_running_data_with_time.json\")"
   ]
  },
  {
   "cell_type": "code",
   "execution_count": 84,
   "metadata": {
    "collapsed": true
   },
   "outputs": [],
   "source": [
    "df.reset_index().to_json(\"../data/date_fixed_running_data_with_time.json\")"
   ]
  },
  {
   "cell_type": "markdown",
   "metadata": {},
   "source": [
    "There is a lot more you can do with datetime indexing, but we have managed to cover a lot of basic operations.\n",
    "\n",
    "At this point, you should start to feel familiar with the pandas `matplotlib` workflow. It is really powerful and what data scientists around the world are working with right now."
   ]
  },
  {
   "cell_type": "markdown",
   "metadata": {},
   "source": [
    "Next, we will explore some of the more sophisticated analysis techniques that we can use including filtering, dropping rows, and grouping. Let's  start by reading in our data again."
   ]
  },
  {
   "cell_type": "code",
   "execution_count": 110,
   "metadata": {
    "collapsed": true
   },
   "outputs": [],
   "source": [
    "df = pd.read_csv('../data/date_fixed_running_data_with_time.csv', parse_dates=['Date'], usecols=list(range(0,6)))"
   ]
  },
  {
   "cell_type": "code",
   "execution_count": 111,
   "metadata": {
    "collapsed": false
   },
   "outputs": [
    {
     "data": {
      "text/plain": [
       "Date            datetime64[ns]\n",
       "Miles                  float64\n",
       "Time                    object\n",
       "Seconds                float64\n",
       "Minutes                float64\n",
       "Min_per_mile           float64\n",
       "dtype: object"
      ]
     },
     "execution_count": 111,
     "metadata": {},
     "output_type": "execute_result"
    }
   ],
   "source": [
    "df.dtypes"
   ]
  },
  {
   "cell_type": "code",
   "execution_count": 112,
   "metadata": {
    "collapsed": false
   },
   "outputs": [
    {
     "data": {
      "text/html": [
       "<div>\n",
       "<table border=\"1\" class=\"dataframe\">\n",
       "  <thead>\n",
       "    <tr style=\"text-align: right;\">\n",
       "      <th></th>\n",
       "      <th>Date</th>\n",
       "      <th>Miles</th>\n",
       "      <th>Time</th>\n",
       "      <th>Seconds</th>\n",
       "      <th>Minutes</th>\n",
       "      <th>Min_per_mile</th>\n",
       "    </tr>\n",
       "  </thead>\n",
       "  <tbody>\n",
       "    <tr>\n",
       "      <th>0</th>\n",
       "      <td>2014-08-01</td>\n",
       "      <td>0.0</td>\n",
       "      <td>NaN</td>\n",
       "      <td>NaN</td>\n",
       "      <td>NaN</td>\n",
       "      <td>NaN</td>\n",
       "    </tr>\n",
       "    <tr>\n",
       "      <th>1</th>\n",
       "      <td>2014-08-02</td>\n",
       "      <td>1.7</td>\n",
       "      <td>NaN</td>\n",
       "      <td>NaN</td>\n",
       "      <td>NaN</td>\n",
       "      <td>NaN</td>\n",
       "    </tr>\n",
       "    <tr>\n",
       "      <th>2</th>\n",
       "      <td>2014-08-03</td>\n",
       "      <td>1.4</td>\n",
       "      <td>NaN</td>\n",
       "      <td>NaN</td>\n",
       "      <td>NaN</td>\n",
       "      <td>NaN</td>\n",
       "    </tr>\n",
       "    <tr>\n",
       "      <th>3</th>\n",
       "      <td>2014-08-04</td>\n",
       "      <td>2.1</td>\n",
       "      <td>NaN</td>\n",
       "      <td>NaN</td>\n",
       "      <td>NaN</td>\n",
       "      <td>NaN</td>\n",
       "    </tr>\n",
       "    <tr>\n",
       "      <th>4</th>\n",
       "      <td>2014-08-05</td>\n",
       "      <td>0.0</td>\n",
       "      <td>NaN</td>\n",
       "      <td>NaN</td>\n",
       "      <td>NaN</td>\n",
       "      <td>NaN</td>\n",
       "    </tr>\n",
       "  </tbody>\n",
       "</table>\n",
       "</div>"
      ],
      "text/plain": [
       "        Date  Miles Time  Seconds  Minutes  Min_per_mile\n",
       "0 2014-08-01    0.0  NaN      NaN      NaN           NaN\n",
       "1 2014-08-02    1.7  NaN      NaN      NaN           NaN\n",
       "2 2014-08-03    1.4  NaN      NaN      NaN           NaN\n",
       "3 2014-08-04    2.1  NaN      NaN      NaN           NaN\n",
       "4 2014-08-05    0.0  NaN      NaN      NaN           NaN"
      ]
     },
     "execution_count": 112,
     "metadata": {},
     "output_type": "execute_result"
    }
   ],
   "source": [
    "df.sort(inplace=True)\n",
    "df.head()"
   ]
  },
  {
   "cell_type": "markdown",
   "metadata": {},
   "source": [
    "First, let's see some basic statistics. We have seen how to get summary statistics for the entire data set; now let's look at how to get them for individual columns. We are also going to focus on answering real questions of this data: What is really going on behind the scenes?\n",
    "\n",
    "Let's answer some direct questions. What are the longest and shortest runs by time and distance?"
   ]
  },
  {
   "cell_type": "code",
   "execution_count": 88,
   "metadata": {
    "collapsed": false
   },
   "outputs": [
    {
     "data": {
      "text/plain": [
       "260.71666666666664"
      ]
     },
     "execution_count": 88,
     "metadata": {},
     "output_type": "execute_result"
    }
   ],
   "source": [
    "df.Minutes.max()"
   ]
  },
  {
   "cell_type": "code",
   "execution_count": 89,
   "metadata": {
    "collapsed": false
   },
   "outputs": [
    {
     "data": {
      "text/plain": [
       "26.2"
      ]
     },
     "execution_count": 89,
     "metadata": {},
     "output_type": "execute_result"
    }
   ],
   "source": [
    "df.Miles.max()"
   ]
  },
  {
   "cell_type": "code",
   "execution_count": 114,
   "metadata": {
    "collapsed": false
   },
   "outputs": [
    {
     "data": {
      "text/plain": [
       "0.0"
      ]
     },
     "execution_count": 114,
     "metadata": {},
     "output_type": "execute_result"
    }
   ],
   "source": [
    "df.Miles.min()"
   ]
  },
  {
   "cell_type": "code",
   "execution_count": 113,
   "metadata": {
    "collapsed": false
   },
   "outputs": [
    {
     "data": {
      "text/plain": [
       "6.2666666666666675"
      ]
     },
     "execution_count": 113,
     "metadata": {},
     "output_type": "execute_result"
    }
   ],
   "source": [
    "df.Minutes.min()"
   ]
  },
  {
   "cell_type": "markdown",
   "metadata": {},
   "source": [
    "We should ignore the blank values. (Remember how we filled them in with zero for the miles?)"
   ]
  },
  {
   "cell_type": "code",
   "execution_count": 92,
   "metadata": {
    "collapsed": false
   },
   "outputs": [
    {
     "data": {
      "text/plain": [
       "0.65"
      ]
     },
     "execution_count": 92,
     "metadata": {},
     "output_type": "execute_result"
    }
   ],
   "source": [
    "df.Miles[df.Miles > 0].min()"
   ]
  },
  {
   "cell_type": "markdown",
   "metadata": {},
   "source": [
    "What about getting the most common running distances excluding the times when there was no running?"
   ]
  },
  {
   "cell_type": "code",
   "execution_count": 93,
   "metadata": {
    "collapsed": false
   },
   "outputs": [
    {
     "data": {
      "text/plain": [
       "1.3700000000000001"
      ]
     },
     "execution_count": 93,
     "metadata": {},
     "output_type": "execute_result"
    }
   ],
   "source": [
    "df.Miles[df.Miles > 0].value_counts().index[0]"
   ]
  },
  {
   "cell_type": "markdown",
   "metadata": {},
   "source": [
    "Bill runs a specific route, so we know that he has done it a fair amount. Let's plot a graph of the cumulative running distance in the data set."
   ]
  },
  {
   "cell_type": "code",
   "execution_count": 94,
   "metadata": {
    "collapsed": false
   },
   "outputs": [
    {
     "data": {
      "text/plain": [
       "<matplotlib.text.Text at 0x109aa4080>"
      ]
     },
     "execution_count": 94,
     "metadata": {},
     "output_type": "execute_result"
    },
    {
     "data": {
      "image/png": "[encoded data removed]",
      "text/plain": [
       "<matplotlib.figure.Figure at 0x109a8cf98>"
      ]
     },
     "metadata": {},
     "output_type": "display_data"
    }
   ],
   "source": [
    "df.Miles.cumsum().plot()\n",
    "plt.xlabel(\"Day Number\")\n",
    "plt.ylabel(\"Distance\")"
   ]
  },
  {
   "cell_type": "markdown",
   "metadata": {},
   "source": [
    "What about the cumulative total running time?"
   ]
  },
  {
   "cell_type": "code",
   "execution_count": 115,
   "metadata": {
    "collapsed": false
   },
   "outputs": [
    {
     "data": {
      "text/plain": [
       "<matplotlib.axes._subplots.AxesSubplot at 0x1090210b8>"
      ]
     },
     "execution_count": 115,
     "metadata": {},
     "output_type": "execute_result"
    },
    {
     "data": {
      "image/png": "[encoded data removed]",
      "text/plain": [
       "<matplotlib.figure.Figure at 0x109d0ff98>"
      ]
     },
     "metadata": {},
     "output_type": "display_data"
    }
   ],
   "source": [
    "(df.Minutes.fillna(0).cumsum() / 60).plot()"
   ]
  },
  {
   "cell_type": "markdown",
   "metadata": {},
   "source": [
    "Another interesting question we could ask is what days of the week Bill commonly goes for runs. Is he faster on certain days, or does his speed improve over time relative to the distance that he is running?\n",
    "\n",
    "We can get days of weeks by formatting the strings.  This is a handy method to remember, and we can put it in a map to apply it to our entire Date column."
   ]
  },
  {
   "cell_type": "code",
   "execution_count": 96,
   "metadata": {
    "collapsed": false
   },
   "outputs": [
    {
     "data": {
      "text/plain": [
       "'Friday'"
      ]
     },
     "execution_count": 96,
     "metadata": {},
     "output_type": "execute_result"
    }
   ],
   "source": [
    "df.Date[0].strftime(\"%A\")"
   ]
  },
  {
   "cell_type": "code",
   "execution_count": 97,
   "metadata": {
    "collapsed": false
   },
   "outputs": [
    {
     "data": {
      "text/plain": [
       "0      Friday\n",
       "1    Saturday\n",
       "2      Sunday\n",
       "3      Monday\n",
       "4     Tuesday\n",
       "Name: Date, dtype: object"
      ]
     },
     "execution_count": 97,
     "metadata": {},
     "output_type": "execute_result"
    }
   ],
   "source": [
    "df.Date.map(lambda x: x.strftime(\"%A\")).head()"
   ]
  },
  {
   "cell_type": "markdown",
   "metadata": {},
   "source": [
    "We know that is working, so let's just set it to a new column."
   ]
  },
  {
   "cell_type": "code",
   "execution_count": 116,
   "metadata": {
    "collapsed": true
   },
   "outputs": [],
   "source": [
    "df['Day_of_week'] = df.Date.map(lambda x: x.strftime(\"%A\"))"
   ]
  },
  {
   "cell_type": "code",
   "execution_count": 117,
   "metadata": {
    "collapsed": false
   },
   "outputs": [
    {
     "data": {
      "text/html": [
       "<div>\n",
       "<table border=\"1\" class=\"dataframe\">\n",
       "  <thead>\n",
       "    <tr style=\"text-align: right;\">\n",
       "      <th></th>\n",
       "      <th>Date</th>\n",
       "      <th>Miles</th>\n",
       "      <th>Time</th>\n",
       "      <th>Seconds</th>\n",
       "      <th>Minutes</th>\n",
       "      <th>Min_per_mile</th>\n",
       "      <th>Day_of_week</th>\n",
       "    </tr>\n",
       "  </thead>\n",
       "  <tbody>\n",
       "    <tr>\n",
       "      <th>0</th>\n",
       "      <td>2014-08-01</td>\n",
       "      <td>0.0</td>\n",
       "      <td>NaN</td>\n",
       "      <td>NaN</td>\n",
       "      <td>NaN</td>\n",
       "      <td>NaN</td>\n",
       "      <td>Friday</td>\n",
       "    </tr>\n",
       "    <tr>\n",
       "      <th>1</th>\n",
       "      <td>2014-08-02</td>\n",
       "      <td>1.7</td>\n",
       "      <td>NaN</td>\n",
       "      <td>NaN</td>\n",
       "      <td>NaN</td>\n",
       "      <td>NaN</td>\n",
       "      <td>Saturday</td>\n",
       "    </tr>\n",
       "    <tr>\n",
       "      <th>2</th>\n",
       "      <td>2014-08-03</td>\n",
       "      <td>1.4</td>\n",
       "      <td>NaN</td>\n",
       "      <td>NaN</td>\n",
       "      <td>NaN</td>\n",
       "      <td>NaN</td>\n",
       "      <td>Sunday</td>\n",
       "    </tr>\n",
       "    <tr>\n",
       "      <th>3</th>\n",
       "      <td>2014-08-04</td>\n",
       "      <td>2.1</td>\n",
       "      <td>NaN</td>\n",
       "      <td>NaN</td>\n",
       "      <td>NaN</td>\n",
       "      <td>NaN</td>\n",
       "      <td>Monday</td>\n",
       "    </tr>\n",
       "    <tr>\n",
       "      <th>4</th>\n",
       "      <td>2014-08-05</td>\n",
       "      <td>0.0</td>\n",
       "      <td>NaN</td>\n",
       "      <td>NaN</td>\n",
       "      <td>NaN</td>\n",
       "      <td>NaN</td>\n",
       "      <td>Tuesday</td>\n",
       "    </tr>\n",
       "  </tbody>\n",
       "</table>\n",
       "</div>"
      ],
      "text/plain": [
       "        Date  Miles Time  Seconds  Minutes  Min_per_mile Day_of_week\n",
       "0 2014-08-01    0.0  NaN      NaN      NaN           NaN      Friday\n",
       "1 2014-08-02    1.7  NaN      NaN      NaN           NaN    Saturday\n",
       "2 2014-08-03    1.4  NaN      NaN      NaN           NaN      Sunday\n",
       "3 2014-08-04    2.1  NaN      NaN      NaN           NaN      Monday\n",
       "4 2014-08-05    0.0  NaN      NaN      NaN           NaN     Tuesday"
      ]
     },
     "execution_count": 117,
     "metadata": {},
     "output_type": "execute_result"
    }
   ],
   "source": [
    "df.head()"
   ]
  },
  {
   "cell_type": "markdown",
   "metadata": {},
   "source": [
    "Let's see if we can distinguish anything unique about certain days of the week.  A good way to visualize this type of data would be using a bar graph.  We might begin by looking at the total number of runs on each day."
   ]
  },
  {
   "cell_type": "code",
   "execution_count": 118,
   "metadata": {
    "collapsed": false
   },
   "outputs": [
    {
     "data": {
      "text/plain": [
       "<matplotlib.axes._subplots.AxesSubplot at 0x109d20dd8>"
      ]
     },
     "execution_count": 118,
     "metadata": {},
     "output_type": "execute_result"
    },
    {
     "data": {
      "image/png": "[encoded data removed]",
      "text/plain": [
       "<matplotlib.figure.Figure at 0x109d2cbe0>"
      ]
     },
     "metadata": {},
     "output_type": "display_data"
    }
   ],
   "source": [
    "df[df.Miles > 0].Day_of_week.value_counts().plot(kind='bar')"
   ]
  },
  {
   "cell_type": "markdown",
   "metadata": {},
   "source": [
    "We can see that in this sample that Bill runs more on Fridays, Saturdays, and Mondays than the other days. Some interesting patterns might emerge if we dig deeper, but all that this gives us is the cumulative count for each day of the week. In order for us to get at the actual summary statistics for these days, we will have to create a group. We could just manually filter out one day of the week at a time, but that is extremely inefficient. Let's approach it computationally.\n",
    "\n",
    "Let's create a grouping using the day of the week as a key. First let's remove the Time column since we already have minutes and  seconds."
   ]
  },
  {
   "cell_type": "markdown",
   "metadata": {},
   "source": [
    "## Removing Columns\n",
    "\n",
    "Removing columns is obviously something that you should understand, so let's look at some different techniques for doing it. First we can use the `del` keyword."
   ]
  },
  {
   "cell_type": "code",
   "execution_count": 119,
   "metadata": {
    "collapsed": true
   },
   "outputs": [],
   "source": [
    "del(df['Time'])"
   ]
  },
  {
   "cell_type": "markdown",
   "metadata": {},
   "source": [
    "This will delete it inplace, which we can confirm if we look at our columns now."
   ]
  },
  {
   "cell_type": "code",
   "execution_count": 120,
   "metadata": {
    "collapsed": false
   },
   "outputs": [
    {
     "data": {
      "text/plain": [
       "Index(['Date', 'Miles', 'Seconds', 'Minutes', 'Min_per_mile', 'Day_of_week'], dtype='object')"
      ]
     },
     "execution_count": 120,
     "metadata": {},
     "output_type": "execute_result"
    }
   ],
   "source": [
    "df.columns"
   ]
  },
  {
   "cell_type": "markdown",
   "metadata": {},
   "source": [
    "We can also use the drop method to drop a column. Let's see how that would work with the Seconds column. You will notice that we have to specify an axis (because we can drop a row as well)."
   ]
  },
  {
   "cell_type": "code",
   "execution_count": 121,
   "metadata": {
    "collapsed": false
   },
   "outputs": [
    {
     "data": {
      "text/html": [
       "<div>\n",
       "<table border=\"1\" class=\"dataframe\">\n",
       "  <thead>\n",
       "    <tr style=\"text-align: right;\">\n",
       "      <th></th>\n",
       "      <th>Date</th>\n",
       "      <th>Miles</th>\n",
       "      <th>Minutes</th>\n",
       "      <th>Min_per_mile</th>\n",
       "      <th>Day_of_week</th>\n",
       "    </tr>\n",
       "  </thead>\n",
       "  <tbody>\n",
       "    <tr>\n",
       "      <th>0</th>\n",
       "      <td>2014-08-01</td>\n",
       "      <td>0.0</td>\n",
       "      <td>NaN</td>\n",
       "      <td>NaN</td>\n",
       "      <td>Friday</td>\n",
       "    </tr>\n",
       "    <tr>\n",
       "      <th>1</th>\n",
       "      <td>2014-08-02</td>\n",
       "      <td>1.7</td>\n",
       "      <td>NaN</td>\n",
       "      <td>NaN</td>\n",
       "      <td>Saturday</td>\n",
       "    </tr>\n",
       "    <tr>\n",
       "      <th>2</th>\n",
       "      <td>2014-08-03</td>\n",
       "      <td>1.4</td>\n",
       "      <td>NaN</td>\n",
       "      <td>NaN</td>\n",
       "      <td>Sunday</td>\n",
       "    </tr>\n",
       "    <tr>\n",
       "      <th>3</th>\n",
       "      <td>2014-08-04</td>\n",
       "      <td>2.1</td>\n",
       "      <td>NaN</td>\n",
       "      <td>NaN</td>\n",
       "      <td>Monday</td>\n",
       "    </tr>\n",
       "    <tr>\n",
       "      <th>4</th>\n",
       "      <td>2014-08-05</td>\n",
       "      <td>0.0</td>\n",
       "      <td>NaN</td>\n",
       "      <td>NaN</td>\n",
       "      <td>Tuesday</td>\n",
       "    </tr>\n",
       "  </tbody>\n",
       "</table>\n",
       "</div>"
      ],
      "text/plain": [
       "        Date  Miles  Minutes  Min_per_mile Day_of_week\n",
       "0 2014-08-01    0.0      NaN           NaN      Friday\n",
       "1 2014-08-02    1.7      NaN           NaN    Saturday\n",
       "2 2014-08-03    1.4      NaN           NaN      Sunday\n",
       "3 2014-08-04    2.1      NaN           NaN      Monday\n",
       "4 2014-08-05    0.0      NaN           NaN     Tuesday"
      ]
     },
     "execution_count": 121,
     "metadata": {},
     "output_type": "execute_result"
    }
   ],
   "source": [
    "df.drop('Seconds',axis=1).head()"
   ]
  },
  {
   "cell_type": "markdown",
   "metadata": {},
   "source": [
    "We can also use drop to drop a specific row by specifying the 0 axis."
   ]
  },
  {
   "cell_type": "code",
   "execution_count": 104,
   "metadata": {
    "collapsed": false
   },
   "outputs": [
    {
     "data": {
      "text/html": [
       "<div>\n",
       "<table border=\"1\" class=\"dataframe\">\n",
       "  <thead>\n",
       "    <tr style=\"text-align: right;\">\n",
       "      <th></th>\n",
       "      <th>0</th>\n",
       "      <th>1</th>\n",
       "    </tr>\n",
       "  </thead>\n",
       "  <tbody>\n",
       "    <tr>\n",
       "      <th>0</th>\n",
       "      <td>0</td>\n",
       "      <td>1</td>\n",
       "    </tr>\n",
       "    <tr>\n",
       "      <th>1</th>\n",
       "      <td>2</td>\n",
       "      <td>3</td>\n",
       "    </tr>\n",
       "  </tbody>\n",
       "</table>\n",
       "</div>"
      ],
      "text/plain": [
       "   0  1\n",
       "0  0  1\n",
       "1  2  3"
      ]
     },
     "execution_count": 104,
     "metadata": {},
     "output_type": "execute_result"
    }
   ],
   "source": [
    "tempdf = pd.DataFrame(np.arange(4).reshape(2,2))\n",
    "tempdf"
   ]
  },
  {
   "cell_type": "code",
   "execution_count": 105,
   "metadata": {
    "collapsed": false
   },
   "outputs": [
    {
     "data": {
      "text/html": [
       "<div>\n",
       "<table border=\"1\" class=\"dataframe\">\n",
       "  <thead>\n",
       "    <tr style=\"text-align: right;\">\n",
       "      <th></th>\n",
       "      <th>0</th>\n",
       "      <th>1</th>\n",
       "    </tr>\n",
       "  </thead>\n",
       "  <tbody>\n",
       "    <tr>\n",
       "      <th>0</th>\n",
       "      <td>0</td>\n",
       "      <td>1</td>\n",
       "    </tr>\n",
       "  </tbody>\n",
       "</table>\n",
       "</div>"
      ],
      "text/plain": [
       "   0  1\n",
       "0  0  1"
      ]
     },
     "execution_count": 105,
     "metadata": {},
     "output_type": "execute_result"
    }
   ],
   "source": [
    "tempdf.drop(1,axis=0)"
   ]
  },
  {
   "cell_type": "markdown",
   "metadata": {},
   "source": [
    "Now that we have taken that brief stop off at dropping rows, let's get back to dropping columns. Another method is to pop out a column that will return that column as a Series and happen `inplace`. "
   ]
  },
  {
   "cell_type": "code",
   "execution_count": 122,
   "metadata": {
    "collapsed": false
   },
   "outputs": [
    {
     "data": {
      "text/plain": [
       "0   NaN\n",
       "1   NaN\n",
       "2   NaN\n",
       "3   NaN\n",
       "4   NaN\n",
       "Name: Seconds, dtype: float64"
      ]
     },
     "execution_count": 122,
     "metadata": {},
     "output_type": "execute_result"
    }
   ],
   "source": [
    "df.pop('Seconds').head()"
   ]
  },
  {
   "cell_type": "code",
   "execution_count": 123,
   "metadata": {
    "collapsed": false
   },
   "outputs": [
    {
     "data": {
      "text/html": [
       "<div>\n",
       "<table border=\"1\" class=\"dataframe\">\n",
       "  <thead>\n",
       "    <tr style=\"text-align: right;\">\n",
       "      <th></th>\n",
       "      <th>Date</th>\n",
       "      <th>Miles</th>\n",
       "      <th>Minutes</th>\n",
       "      <th>Min_per_mile</th>\n",
       "      <th>Day_of_week</th>\n",
       "    </tr>\n",
       "  </thead>\n",
       "  <tbody>\n",
       "    <tr>\n",
       "      <th>0</th>\n",
       "      <td>2014-08-01</td>\n",
       "      <td>0.0</td>\n",
       "      <td>NaN</td>\n",
       "      <td>NaN</td>\n",
       "      <td>Friday</td>\n",
       "    </tr>\n",
       "    <tr>\n",
       "      <th>1</th>\n",
       "      <td>2014-08-02</td>\n",
       "      <td>1.7</td>\n",
       "      <td>NaN</td>\n",
       "      <td>NaN</td>\n",
       "      <td>Saturday</td>\n",
       "    </tr>\n",
       "    <tr>\n",
       "      <th>2</th>\n",
       "      <td>2014-08-03</td>\n",
       "      <td>1.4</td>\n",
       "      <td>NaN</td>\n",
       "      <td>NaN</td>\n",
       "      <td>Sunday</td>\n",
       "    </tr>\n",
       "    <tr>\n",
       "      <th>3</th>\n",
       "      <td>2014-08-04</td>\n",
       "      <td>2.1</td>\n",
       "      <td>NaN</td>\n",
       "      <td>NaN</td>\n",
       "      <td>Monday</td>\n",
       "    </tr>\n",
       "    <tr>\n",
       "      <th>4</th>\n",
       "      <td>2014-08-05</td>\n",
       "      <td>0.0</td>\n",
       "      <td>NaN</td>\n",
       "      <td>NaN</td>\n",
       "      <td>Tuesday</td>\n",
       "    </tr>\n",
       "  </tbody>\n",
       "</table>\n",
       "</div>"
      ],
      "text/plain": [
       "        Date  Miles  Minutes  Min_per_mile Day_of_week\n",
       "0 2014-08-01    0.0      NaN           NaN      Friday\n",
       "1 2014-08-02    1.7      NaN           NaN    Saturday\n",
       "2 2014-08-03    1.4      NaN           NaN      Sunday\n",
       "3 2014-08-04    2.1      NaN           NaN      Monday\n",
       "4 2014-08-05    0.0      NaN           NaN     Tuesday"
      ]
     },
     "execution_count": 123,
     "metadata": {},
     "output_type": "execute_result"
    }
   ],
   "source": [
    "df.head()"
   ]
  },
  {
   "cell_type": "markdown",
   "metadata": {},
   "source": [
    "## Groups\n",
    "\n",
    "Now that we have made our data set a bit more manageable, we are ready to do some groupings. This is an extremely powerful part of pandas and one that you will use much of the time.\n",
    "\n",
    "pandas follows the split-apply-combine style of data analysis.\n",
    "\n",
    "Many data analysis problems involve the application of a split-apply-combine strategy, where one breaks up a big problem into manageable pieces, operates on each piece independently, and then puts all the pieces back together. It was created by Hadley Wickham, who is a developer that works on the R programming language. He has written a great deal of extremely popular libraries. Here's a paper on the split-apply-combine strategy: http://www.jstatsoft.org/v40/i01/paper\n"
   ]
  },
  {
   "cell_type": "markdown",
   "metadata": {},
   "source": [
    "In our problem, we want to analyze each day of the week to see if there are any differences in the types of running that Bill does each day.  We will start by grouping our data set by weekday. This basically creates a dictionary of the data where the key is the weekday and the value is the dataframe of all those values.\n",
    "\n",
    "First let's explore the hard way of doing this; then we will do it in the correct way."
   ]
  },
  {
   "cell_type": "code",
   "execution_count": 108,
   "metadata": {
    "collapsed": false
   },
   "outputs": [
    {
     "name": "stdout",
     "output_type": "stream",
     "text": [
      "Friday\n",
      "          Date  Miles    Minutes  Min_per_mile Day_of_week\n",
      "0   2014-08-01   0.00        NaN           NaN      Friday\n",
      "7   2014-08-08   3.40        NaN           NaN      Friday\n",
      "15  2014-08-15   1.78        NaN           NaN      Friday\n",
      "23  2014-08-22   1.37   9.083333      6.630170      Friday\n",
      "31  2014-08-29   5.00  43.450000      8.690000      Friday\n",
      "38  2014-09-05   3.05  23.833333      7.814208      Friday\n",
      "45  2014-09-12   3.05  23.766667      7.792350      Friday\n",
      "52  2014-09-19   1.37   9.750000      7.116788      Friday\n",
      "59  2014-09-26   0.00        NaN           NaN      Friday\n",
      "67  2014-10-03   0.00        NaN           NaN      Friday\n",
      "76  2014-10-10   0.00        NaN           NaN      Friday\n",
      "83  2014-10-17   0.00        NaN           NaN      Friday\n",
      "92  2014-10-24   0.00        NaN           NaN      Friday\n",
      "99  2014-10-31   2.01        NaN           NaN      Friday\n",
      "106 2014-11-07   5.63  49.083333      8.718176      Friday\n",
      "107 2014-11-07   1.26        NaN           NaN      Friday\n",
      "108 2014-11-07   1.20        NaN           NaN      Friday\n",
      "117 2014-11-14   0.00        NaN           NaN      Friday\n",
      "124 2014-11-21   0.00        NaN           NaN      Friday\n",
      "131 2014-11-28   3.00        NaN           NaN      Friday\n",
      "138 2014-12-05   0.00        NaN           NaN      Friday\n",
      "145 2014-12-12   1.37   9.250000      6.751825      Friday\n",
      "153 2014-12-19   3.10  26.250000      8.467742      Friday\n",
      "160 2014-12-26   5.20        NaN           NaN      Friday\n"
     ]
    }
   ],
   "source": [
    "for dow in df.Day_of_week.unique():\n",
    "    print(dow)\n",
    "    print(df[df.Day_of_week == dow])\n",
    "    break"
   ]
  },
  {
   "cell_type": "markdown",
   "metadata": {},
   "source": [
    "This is clearly an ugly way to do this. It is inefficient and error prone because there is state involved.\n",
    "\n",
    "Let's do it in the pandas way, which is much simpler and more intuitive. The pandas way is to create a grouping object that has some special properties. However, before doing that we will filter out some of the zero values because they will throw off our analysis."
   ]
  },
  {
   "cell_type": "code",
   "execution_count": 133,
   "metadata": {
    "collapsed": true
   },
   "outputs": [],
   "source": [
    "df['Miles'] = df.Miles[df.Miles > 0]"
   ]
  },
  {
   "cell_type": "markdown",
   "metadata": {},
   "source": [
    "Notice that this replaces the zeros with NaNs."
   ]
  },
  {
   "cell_type": "code",
   "execution_count": 134,
   "metadata": {
    "collapsed": false
   },
   "outputs": [
    {
     "data": {
      "text/plain": [
       "0        NaN\n",
       "1       1.70\n",
       "2       1.40\n",
       "3       2.10\n",
       "4        NaN\n",
       "5       2.38\n",
       "6       2.30\n",
       "7       3.40\n",
       "8       2.50\n",
       "9       3.36\n",
       "10      1.67\n",
       "11      1.42\n",
       "12      2.35\n",
       "13      0.90\n",
       "14      0.90\n",
       "15      1.78\n",
       "16      0.65\n",
       "17      1.34\n",
       "18      0.65\n",
       "19      1.37\n",
       "20      1.37\n",
       "21      1.37\n",
       "22      1.37\n",
       "23      1.37\n",
       "24      1.34\n",
       "25      3.00\n",
       "26      1.37\n",
       "27      1.34\n",
       "28      1.37\n",
       "29      2.50\n",
       "       ...  \n",
       "137      NaN\n",
       "138      NaN\n",
       "139      NaN\n",
       "140      NaN\n",
       "141      NaN\n",
       "142     2.93\n",
       "143      NaN\n",
       "144      NaN\n",
       "145     1.37\n",
       "146     5.30\n",
       "147     2.21\n",
       "148      NaN\n",
       "149     6.50\n",
       "150      NaN\n",
       "151    12.00\n",
       "152      NaN\n",
       "153     3.10\n",
       "154    14.80\n",
       "155      NaN\n",
       "156     3.10\n",
       "157     5.63\n",
       "158     3.05\n",
       "159    14.80\n",
       "160     5.20\n",
       "161      NaN\n",
       "162      NaN\n",
       "163      NaN\n",
       "164     3.15\n",
       "165      NaN\n",
       "166    26.20\n",
       "Name: Miles, dtype: float64"
      ]
     },
     "execution_count": 134,
     "metadata": {},
     "output_type": "execute_result"
    }
   ],
   "source": [
    "df.Miles"
   ]
  },
  {
   "cell_type": "markdown",
   "metadata": {},
   "source": [
    "Now for the `groupby` method."
   ]
  },
  {
   "cell_type": "code",
   "execution_count": 108,
   "metadata": {
    "collapsed": false
   },
   "outputs": [
    {
     "name": "stdout",
     "output_type": "stream",
     "text": [
      "<pandas.core.groupby.DataFrameGroupBy object at 0x109b37208>\n"
     ]
    }
   ],
   "source": [
    "dows = df.groupby('Day_of_week')\n",
    "print(dows)"
   ]
  },
  {
   "cell_type": "markdown",
   "metadata": {},
   "source": [
    "This will basically create day-name chunks of the data and treat those as individual DataFrames. We really just took one DataFrame and made it into seven. Let's get some information from those now.\n",
    "\n",
    "We can get the size of each one by using the size command. This tells us how many items are in each category. The count will give us the count of each column, by group, in the data."
   ]
  },
  {
   "cell_type": "code",
   "execution_count": 109,
   "metadata": {
    "collapsed": false
   },
   "outputs": [
    {
     "data": {
      "text/plain": [
       "Day_of_week\n",
       "Friday       24\n",
       "Monday       25\n",
       "Saturday     27\n",
       "Sunday       23\n",
       "Thursday     23\n",
       "Tuesday      23\n",
       "Wednesday    22\n",
       "dtype: int64"
      ]
     },
     "execution_count": 109,
     "metadata": {},
     "output_type": "execute_result"
    }
   ],
   "source": [
    "dows.size()"
   ]
  },
  {
   "cell_type": "code",
   "execution_count": 110,
   "metadata": {
    "collapsed": false
   },
   "outputs": [
    {
     "data": {
      "text/html": [
       "<div>\n",
       "<table border=\"1\" class=\"dataframe\">\n",
       "  <thead>\n",
       "    <tr style=\"text-align: right;\">\n",
       "      <th></th>\n",
       "      <th>Date</th>\n",
       "      <th>Miles</th>\n",
       "      <th>Minutes</th>\n",
       "      <th>Min_per_mile</th>\n",
       "    </tr>\n",
       "    <tr>\n",
       "      <th>Day_of_week</th>\n",
       "      <th></th>\n",
       "      <th></th>\n",
       "      <th></th>\n",
       "      <th></th>\n",
       "    </tr>\n",
       "  </thead>\n",
       "  <tbody>\n",
       "    <tr>\n",
       "      <th>Friday</th>\n",
       "      <td>24</td>\n",
       "      <td>15</td>\n",
       "      <td>8</td>\n",
       "      <td>8</td>\n",
       "    </tr>\n",
       "    <tr>\n",
       "      <th>Monday</th>\n",
       "      <td>25</td>\n",
       "      <td>14</td>\n",
       "      <td>10</td>\n",
       "      <td>10</td>\n",
       "    </tr>\n",
       "    <tr>\n",
       "      <th>Saturday</th>\n",
       "      <td>27</td>\n",
       "      <td>14</td>\n",
       "      <td>6</td>\n",
       "      <td>6</td>\n",
       "    </tr>\n",
       "    <tr>\n",
       "      <th>Sunday</th>\n",
       "      <td>23</td>\n",
       "      <td>11</td>\n",
       "      <td>8</td>\n",
       "      <td>8</td>\n",
       "    </tr>\n",
       "    <tr>\n",
       "      <th>Thursday</th>\n",
       "      <td>23</td>\n",
       "      <td>8</td>\n",
       "      <td>5</td>\n",
       "      <td>5</td>\n",
       "    </tr>\n",
       "    <tr>\n",
       "      <th>Tuesday</th>\n",
       "      <td>23</td>\n",
       "      <td>11</td>\n",
       "      <td>8</td>\n",
       "      <td>8</td>\n",
       "    </tr>\n",
       "    <tr>\n",
       "      <th>Wednesday</th>\n",
       "      <td>22</td>\n",
       "      <td>8</td>\n",
       "      <td>7</td>\n",
       "      <td>7</td>\n",
       "    </tr>\n",
       "  </tbody>\n",
       "</table>\n",
       "</div>"
      ],
      "text/plain": [
       "             Date  Miles  Minutes  Min_per_mile\n",
       "Day_of_week                                    \n",
       "Friday         24     15        8             8\n",
       "Monday         25     14       10            10\n",
       "Saturday       27     14        6             6\n",
       "Sunday         23     11        8             8\n",
       "Thursday       23      8        5             5\n",
       "Tuesday        23     11        8             8\n",
       "Wednesday      22      8        7             7"
      ]
     },
     "execution_count": 110,
     "metadata": {},
     "output_type": "execute_result"
    }
   ],
   "source": [
    "dows.count()"
   ]
  },
  {
   "cell_type": "markdown",
   "metadata": {},
   "source": [
    "Now we have our groups and we can start doing groupwise analysis. \n",
    "\n",
    "This means that we can start answering questions such as \"What is the average speed per weekday?\" or \"What is the total miles run per weekday?\""
   ]
  },
  {
   "cell_type": "code",
   "execution_count": 111,
   "metadata": {
    "collapsed": false
   },
   "outputs": [
    {
     "data": {
      "text/html": [
       "<div>\n",
       "<table border=\"1\" class=\"dataframe\">\n",
       "  <thead>\n",
       "    <tr style=\"text-align: right;\">\n",
       "      <th></th>\n",
       "      <th>Miles</th>\n",
       "      <th>Minutes</th>\n",
       "      <th>Min_per_mile</th>\n",
       "    </tr>\n",
       "    <tr>\n",
       "      <th>Day_of_week</th>\n",
       "      <th></th>\n",
       "      <th></th>\n",
       "      <th></th>\n",
       "    </tr>\n",
       "  </thead>\n",
       "  <tbody>\n",
       "    <tr>\n",
       "      <th>Friday</th>\n",
       "      <td>2.786000</td>\n",
       "      <td>24.308333</td>\n",
       "      <td>7.747657</td>\n",
       "    </tr>\n",
       "    <tr>\n",
       "      <th>Monday</th>\n",
       "      <td>2.607143</td>\n",
       "      <td>22.243333</td>\n",
       "      <td>7.463291</td>\n",
       "    </tr>\n",
       "    <tr>\n",
       "      <th>Saturday</th>\n",
       "      <td>3.246429</td>\n",
       "      <td>46.708333</td>\n",
       "      <td>8.184961</td>\n",
       "    </tr>\n",
       "    <tr>\n",
       "      <th>Sunday</th>\n",
       "      <td>2.422727</td>\n",
       "      <td>19.762500</td>\n",
       "      <td>7.463840</td>\n",
       "    </tr>\n",
       "    <tr>\n",
       "      <th>Thursday</th>\n",
       "      <td>6.315000</td>\n",
       "      <td>84.530000</td>\n",
       "      <td>8.039543</td>\n",
       "    </tr>\n",
       "    <tr>\n",
       "      <th>Tuesday</th>\n",
       "      <td>2.428182</td>\n",
       "      <td>21.770833</td>\n",
       "      <td>7.659706</td>\n",
       "    </tr>\n",
       "    <tr>\n",
       "      <th>Wednesday</th>\n",
       "      <td>3.315000</td>\n",
       "      <td>28.021429</td>\n",
       "      <td>7.829348</td>\n",
       "    </tr>\n",
       "  </tbody>\n",
       "</table>\n",
       "</div>"
      ],
      "text/plain": [
       "                Miles    Minutes  Min_per_mile\n",
       "Day_of_week                                   \n",
       "Friday       2.786000  24.308333      7.747657\n",
       "Monday       2.607143  22.243333      7.463291\n",
       "Saturday     3.246429  46.708333      8.184961\n",
       "Sunday       2.422727  19.762500      7.463840\n",
       "Thursday     6.315000  84.530000      8.039543\n",
       "Tuesday      2.428182  21.770833      7.659706\n",
       "Wednesday    3.315000  28.021429      7.829348"
      ]
     },
     "execution_count": 111,
     "metadata": {},
     "output_type": "execute_result"
    }
   ],
   "source": [
    "dows.mean()"
   ]
  },
  {
   "cell_type": "code",
   "execution_count": 112,
   "metadata": {
    "collapsed": false
   },
   "outputs": [
    {
     "data": {
      "text/html": [
       "<div>\n",
       "<table border=\"1\" class=\"dataframe\">\n",
       "  <thead>\n",
       "    <tr style=\"text-align: right;\">\n",
       "      <th></th>\n",
       "      <th>Miles</th>\n",
       "      <th>Minutes</th>\n",
       "      <th>Min_per_mile</th>\n",
       "    </tr>\n",
       "    <tr>\n",
       "      <th>Day_of_week</th>\n",
       "      <th></th>\n",
       "      <th></th>\n",
       "      <th></th>\n",
       "    </tr>\n",
       "  </thead>\n",
       "  <tbody>\n",
       "    <tr>\n",
       "      <th>Friday</th>\n",
       "      <td>41.79</td>\n",
       "      <td>194.466667</td>\n",
       "      <td>61.981259</td>\n",
       "    </tr>\n",
       "    <tr>\n",
       "      <th>Monday</th>\n",
       "      <td>36.50</td>\n",
       "      <td>222.433333</td>\n",
       "      <td>74.632908</td>\n",
       "    </tr>\n",
       "    <tr>\n",
       "      <th>Saturday</th>\n",
       "      <td>45.45</td>\n",
       "      <td>280.250000</td>\n",
       "      <td>49.109769</td>\n",
       "    </tr>\n",
       "    <tr>\n",
       "      <th>Sunday</th>\n",
       "      <td>26.65</td>\n",
       "      <td>158.100000</td>\n",
       "      <td>59.710723</td>\n",
       "    </tr>\n",
       "    <tr>\n",
       "      <th>Thursday</th>\n",
       "      <td>50.52</td>\n",
       "      <td>422.650000</td>\n",
       "      <td>40.197717</td>\n",
       "    </tr>\n",
       "    <tr>\n",
       "      <th>Tuesday</th>\n",
       "      <td>26.71</td>\n",
       "      <td>174.166667</td>\n",
       "      <td>61.277645</td>\n",
       "    </tr>\n",
       "    <tr>\n",
       "      <th>Wednesday</th>\n",
       "      <td>26.52</td>\n",
       "      <td>196.150000</td>\n",
       "      <td>54.805434</td>\n",
       "    </tr>\n",
       "  </tbody>\n",
       "</table>\n",
       "</div>"
      ],
      "text/plain": [
       "             Miles     Minutes  Min_per_mile\n",
       "Day_of_week                                 \n",
       "Friday       41.79  194.466667     61.981259\n",
       "Monday       36.50  222.433333     74.632908\n",
       "Saturday     45.45  280.250000     49.109769\n",
       "Sunday       26.65  158.100000     59.710723\n",
       "Thursday     50.52  422.650000     40.197717\n",
       "Tuesday      26.71  174.166667     61.277645\n",
       "Wednesday    26.52  196.150000     54.805434"
      ]
     },
     "execution_count": 112,
     "metadata": {},
     "output_type": "execute_result"
    }
   ],
   "source": [
    "dows.sum()"
   ]
  },
  {
   "cell_type": "markdown",
   "metadata": {},
   "source": [
    "In this case, the total number of miles run on each day is interesting; note the high values for Thursday, Friday, and Saturday.  The Min_per_mile column doesn't mean very much because we are adding together minutes per mile for different runs (and the number of runs being added is not the same for each day).\n",
    "\n",
    "We can also get access to the summary statistics from here."
   ]
  },
  {
   "cell_type": "code",
   "execution_count": 113,
   "metadata": {
    "collapsed": false,
    "scrolled": true
   },
   "outputs": [
    {
     "data": {
      "text/html": [
       "<div>\n",
       "<table border=\"1\" class=\"dataframe\">\n",
       "  <thead>\n",
       "    <tr style=\"text-align: right;\">\n",
       "      <th></th>\n",
       "      <th></th>\n",
       "      <th>Miles</th>\n",
       "      <th>Min_per_mile</th>\n",
       "      <th>Minutes</th>\n",
       "    </tr>\n",
       "    <tr>\n",
       "      <th>Day_of_week</th>\n",
       "      <th></th>\n",
       "      <th></th>\n",
       "      <th></th>\n",
       "      <th></th>\n",
       "    </tr>\n",
       "  </thead>\n",
       "  <tbody>\n",
       "    <tr>\n",
       "      <th rowspan=\"8\" valign=\"top\">Friday</th>\n",
       "      <th>count</th>\n",
       "      <td>15.000000</td>\n",
       "      <td>8.000000</td>\n",
       "      <td>8.000000</td>\n",
       "    </tr>\n",
       "    <tr>\n",
       "      <th>mean</th>\n",
       "      <td>2.786000</td>\n",
       "      <td>7.747657</td>\n",
       "      <td>24.308333</td>\n",
       "    </tr>\n",
       "    <tr>\n",
       "      <th>std</th>\n",
       "      <td>1.510718</td>\n",
       "      <td>0.844590</td>\n",
       "      <td>15.376198</td>\n",
       "    </tr>\n",
       "    <tr>\n",
       "      <th>min</th>\n",
       "      <td>1.200000</td>\n",
       "      <td>6.630170</td>\n",
       "      <td>9.083333</td>\n",
       "    </tr>\n",
       "    <tr>\n",
       "      <th>25%</th>\n",
       "      <td>1.370000</td>\n",
       "      <td>7.025547</td>\n",
       "      <td>9.625000</td>\n",
       "    </tr>\n",
       "    <tr>\n",
       "      <th>50%</th>\n",
       "      <td>3.000000</td>\n",
       "      <td>7.803279</td>\n",
       "      <td>23.800000</td>\n",
       "    </tr>\n",
       "    <tr>\n",
       "      <th>75%</th>\n",
       "      <td>3.250000</td>\n",
       "      <td>8.523306</td>\n",
       "      <td>30.550000</td>\n",
       "    </tr>\n",
       "    <tr>\n",
       "      <th>max</th>\n",
       "      <td>5.630000</td>\n",
       "      <td>8.718176</td>\n",
       "      <td>49.083333</td>\n",
       "    </tr>\n",
       "    <tr>\n",
       "      <th rowspan=\"8\" valign=\"top\">Monday</th>\n",
       "      <th>count</th>\n",
       "      <td>14.000000</td>\n",
       "      <td>10.000000</td>\n",
       "      <td>10.000000</td>\n",
       "    </tr>\n",
       "    <tr>\n",
       "      <th>mean</th>\n",
       "      <td>2.607143</td>\n",
       "      <td>7.463291</td>\n",
       "      <td>22.243333</td>\n",
       "    </tr>\n",
       "    <tr>\n",
       "      <th>std</th>\n",
       "      <td>1.688538</td>\n",
       "      <td>1.037698</td>\n",
       "      <td>16.318699</td>\n",
       "    </tr>\n",
       "    <tr>\n",
       "      <th>min</th>\n",
       "      <td>0.650000</td>\n",
       "      <td>6.000000</td>\n",
       "      <td>8.600000</td>\n",
       "    </tr>\n",
       "    <tr>\n",
       "      <th>25%</th>\n",
       "      <td>1.402500</td>\n",
       "      <td>6.677835</td>\n",
       "      <td>9.637500</td>\n",
       "    </tr>\n",
       "    <tr>\n",
       "      <th>50%</th>\n",
       "      <td>1.885000</td>\n",
       "      <td>7.520672</td>\n",
       "      <td>17.516667</td>\n",
       "    </tr>\n",
       "    <tr>\n",
       "      <th>75%</th>\n",
       "      <td>3.087500</td>\n",
       "      <td>7.815719</td>\n",
       "      <td>26.795833</td>\n",
       "    </tr>\n",
       "    <tr>\n",
       "      <th>max</th>\n",
       "      <td>6.500000</td>\n",
       "      <td>9.033333</td>\n",
       "      <td>58.716667</td>\n",
       "    </tr>\n",
       "    <tr>\n",
       "      <th rowspan=\"8\" valign=\"top\">Saturday</th>\n",
       "      <th>count</th>\n",
       "      <td>14.000000</td>\n",
       "      <td>6.000000</td>\n",
       "      <td>6.000000</td>\n",
       "    </tr>\n",
       "    <tr>\n",
       "      <th>mean</th>\n",
       "      <td>3.246429</td>\n",
       "      <td>8.184961</td>\n",
       "      <td>46.708333</td>\n",
       "    </tr>\n",
       "    <tr>\n",
       "      <th>std</th>\n",
       "      <td>3.592504</td>\n",
       "      <td>0.926076</td>\n",
       "      <td>45.119311</td>\n",
       "    </tr>\n",
       "    <tr>\n",
       "      <th>min</th>\n",
       "      <td>0.650000</td>\n",
       "      <td>6.444444</td>\n",
       "      <td>9.666667</td>\n",
       "    </tr>\n",
       "    <tr>\n",
       "      <th>25%</th>\n",
       "      <td>1.500000</td>\n",
       "      <td>8.122780</td>\n",
       "      <td>22.487500</td>\n",
       "    </tr>\n",
       "    <tr>\n",
       "      <th>50%</th>\n",
       "      <td>1.935000</td>\n",
       "      <td>8.408079</td>\n",
       "      <td>36.500000</td>\n",
       "    </tr>\n",
       "    <tr>\n",
       "      <th>75%</th>\n",
       "      <td>3.685000</td>\n",
       "      <td>8.626918</td>\n",
       "      <td>42.700000</td>\n",
       "    </tr>\n",
       "    <tr>\n",
       "      <th>max</th>\n",
       "      <td>14.800000</td>\n",
       "      <td>9.121622</td>\n",
       "      <td>135.000000</td>\n",
       "    </tr>\n",
       "    <tr>\n",
       "      <th rowspan=\"8\" valign=\"top\">Sunday</th>\n",
       "      <th>count</th>\n",
       "      <td>11.000000</td>\n",
       "      <td>8.000000</td>\n",
       "      <td>8.000000</td>\n",
       "    </tr>\n",
       "    <tr>\n",
       "      <th>mean</th>\n",
       "      <td>2.422727</td>\n",
       "      <td>7.463840</td>\n",
       "      <td>19.762500</td>\n",
       "    </tr>\n",
       "    <tr>\n",
       "      <th>std</th>\n",
       "      <td>1.000241</td>\n",
       "      <td>0.578829</td>\n",
       "      <td>8.282836</td>\n",
       "    </tr>\n",
       "    <tr>\n",
       "      <th>min</th>\n",
       "      <td>1.340000</td>\n",
       "      <td>6.362530</td>\n",
       "      <td>8.716667</td>\n",
       "    </tr>\n",
       "    <tr>\n",
       "      <th>25%</th>\n",
       "      <td>1.450000</td>\n",
       "      <td>7.408470</td>\n",
       "      <td>11.300000</td>\n",
       "    </tr>\n",
       "    <tr>\n",
       "      <th>50%</th>\n",
       "      <td>3.000000</td>\n",
       "      <td>7.474317</td>\n",
       "      <td>22.591667</td>\n",
       "    </tr>\n",
       "    <tr>\n",
       "      <th>75%</th>\n",
       "      <td>3.050000</td>\n",
       "      <td>7.533788</td>\n",
       "      <td>24.116667</td>\n",
       "    </tr>\n",
       "    <tr>\n",
       "      <th>max</th>\n",
       "      <td>4.030000</td>\n",
       "      <td>8.516865</td>\n",
       "      <td>30.366667</td>\n",
       "    </tr>\n",
       "    <tr>\n",
       "      <th rowspan=\"8\" valign=\"top\">Thursday</th>\n",
       "      <th>count</th>\n",
       "      <td>8.000000</td>\n",
       "      <td>5.000000</td>\n",
       "      <td>5.000000</td>\n",
       "    </tr>\n",
       "    <tr>\n",
       "      <th>mean</th>\n",
       "      <td>6.315000</td>\n",
       "      <td>8.039543</td>\n",
       "      <td>84.530000</td>\n",
       "    </tr>\n",
       "    <tr>\n",
       "      <th>std</th>\n",
       "      <td>9.300811</td>\n",
       "      <td>1.531027</td>\n",
       "      <td>114.032318</td>\n",
       "    </tr>\n",
       "    <tr>\n",
       "      <th>min</th>\n",
       "      <td>0.900000</td>\n",
       "      <td>6.861314</td>\n",
       "      <td>6.266667</td>\n",
       "    </tr>\n",
       "    <tr>\n",
       "      <th>25%</th>\n",
       "      <td>0.975000</td>\n",
       "      <td>6.962963</td>\n",
       "      <td>6.266667</td>\n",
       "    </tr>\n",
       "    <tr>\n",
       "      <th>50%</th>\n",
       "      <td>1.835000</td>\n",
       "      <td>6.962963</td>\n",
       "      <td>9.400000</td>\n",
       "    </tr>\n",
       "    <tr>\n",
       "      <th>75%</th>\n",
       "      <td>5.987500</td>\n",
       "      <td>9.459459</td>\n",
       "      <td>140.000000</td>\n",
       "    </tr>\n",
       "    <tr>\n",
       "      <th>max</th>\n",
       "      <td>26.200000</td>\n",
       "      <td>9.951018</td>\n",
       "      <td>260.716667</td>\n",
       "    </tr>\n",
       "    <tr>\n",
       "      <th rowspan=\"8\" valign=\"top\">Tuesday</th>\n",
       "      <th>count</th>\n",
       "      <td>11.000000</td>\n",
       "      <td>8.000000</td>\n",
       "      <td>8.000000</td>\n",
       "    </tr>\n",
       "    <tr>\n",
       "      <th>mean</th>\n",
       "      <td>2.428182</td>\n",
       "      <td>7.659706</td>\n",
       "      <td>21.770833</td>\n",
       "    </tr>\n",
       "    <tr>\n",
       "      <th>std</th>\n",
       "      <td>1.321990</td>\n",
       "      <td>0.830158</td>\n",
       "      <td>13.777549</td>\n",
       "    </tr>\n",
       "    <tr>\n",
       "      <th>min</th>\n",
       "      <td>1.370000</td>\n",
       "      <td>6.630170</td>\n",
       "      <td>9.083333</td>\n",
       "    </tr>\n",
       "    <tr>\n",
       "      <th>25%</th>\n",
       "      <td>1.370000</td>\n",
       "      <td>7.218276</td>\n",
       "      <td>10.562500</td>\n",
       "    </tr>\n",
       "    <tr>\n",
       "      <th>50%</th>\n",
       "      <td>2.000000</td>\n",
       "      <td>7.464231</td>\n",
       "      <td>22.183333</td>\n",
       "    </tr>\n",
       "    <tr>\n",
       "      <th>75%</th>\n",
       "      <td>3.050000</td>\n",
       "      <td>7.881281</td>\n",
       "      <td>23.350000</td>\n",
       "    </tr>\n",
       "    <tr>\n",
       "      <th>max</th>\n",
       "      <td>5.630000</td>\n",
       "      <td>9.206631</td>\n",
       "      <td>51.833333</td>\n",
       "    </tr>\n",
       "    <tr>\n",
       "      <th rowspan=\"8\" valign=\"top\">Wednesday</th>\n",
       "      <th>count</th>\n",
       "      <td>8.000000</td>\n",
       "      <td>7.000000</td>\n",
       "      <td>7.000000</td>\n",
       "    </tr>\n",
       "    <tr>\n",
       "      <th>mean</th>\n",
       "      <td>3.315000</td>\n",
       "      <td>7.829348</td>\n",
       "      <td>28.021429</td>\n",
       "    </tr>\n",
       "    <tr>\n",
       "      <th>std</th>\n",
       "      <td>3.562291</td>\n",
       "      <td>1.142713</td>\n",
       "      <td>32.039394</td>\n",
       "    </tr>\n",
       "    <tr>\n",
       "      <th>min</th>\n",
       "      <td>1.370000</td>\n",
       "      <td>6.532847</td>\n",
       "      <td>8.950000</td>\n",
       "    </tr>\n",
       "    <tr>\n",
       "      <th>25%</th>\n",
       "      <td>1.467500</td>\n",
       "      <td>7.185401</td>\n",
       "      <td>10.325000</td>\n",
       "    </tr>\n",
       "    <tr>\n",
       "      <th>50%</th>\n",
       "      <td>2.365000</td>\n",
       "      <td>7.411348</td>\n",
       "      <td>17.416667</td>\n",
       "    </tr>\n",
       "    <tr>\n",
       "      <th>75%</th>\n",
       "      <td>2.637500</td>\n",
       "      <td>8.245219</td>\n",
       "      <td>25.066667</td>\n",
       "    </tr>\n",
       "    <tr>\n",
       "      <th>max</th>\n",
       "      <td>12.000000</td>\n",
       "      <td>10.000000</td>\n",
       "      <td>99.000000</td>\n",
       "    </tr>\n",
       "  </tbody>\n",
       "</table>\n",
       "</div>"
      ],
      "text/plain": [
       "                       Miles  Min_per_mile     Minutes\n",
       "Day_of_week                                           \n",
       "Friday      count  15.000000      8.000000    8.000000\n",
       "            mean    2.786000      7.747657   24.308333\n",
       "            std     1.510718      0.844590   15.376198\n",
       "            min     1.200000      6.630170    9.083333\n",
       "            25%     1.370000      7.025547    9.625000\n",
       "            50%     3.000000      7.803279   23.800000\n",
       "            75%     3.250000      8.523306   30.550000\n",
       "            max     5.630000      8.718176   49.083333\n",
       "Monday      count  14.000000     10.000000   10.000000\n",
       "            mean    2.607143      7.463291   22.243333\n",
       "            std     1.688538      1.037698   16.318699\n",
       "            min     0.650000      6.000000    8.600000\n",
       "            25%     1.402500      6.677835    9.637500\n",
       "            50%     1.885000      7.520672   17.516667\n",
       "            75%     3.087500      7.815719   26.795833\n",
       "            max     6.500000      9.033333   58.716667\n",
       "Saturday    count  14.000000      6.000000    6.000000\n",
       "            mean    3.246429      8.184961   46.708333\n",
       "            std     3.592504      0.926076   45.119311\n",
       "            min     0.650000      6.444444    9.666667\n",
       "            25%     1.500000      8.122780   22.487500\n",
       "            50%     1.935000      8.408079   36.500000\n",
       "            75%     3.685000      8.626918   42.700000\n",
       "            max    14.800000      9.121622  135.000000\n",
       "Sunday      count  11.000000      8.000000    8.000000\n",
       "            mean    2.422727      7.463840   19.762500\n",
       "            std     1.000241      0.578829    8.282836\n",
       "            min     1.340000      6.362530    8.716667\n",
       "            25%     1.450000      7.408470   11.300000\n",
       "            50%     3.000000      7.474317   22.591667\n",
       "            75%     3.050000      7.533788   24.116667\n",
       "            max     4.030000      8.516865   30.366667\n",
       "Thursday    count   8.000000      5.000000    5.000000\n",
       "            mean    6.315000      8.039543   84.530000\n",
       "            std     9.300811      1.531027  114.032318\n",
       "            min     0.900000      6.861314    6.266667\n",
       "            25%     0.975000      6.962963    6.266667\n",
       "            50%     1.835000      6.962963    9.400000\n",
       "            75%     5.987500      9.459459  140.000000\n",
       "            max    26.200000      9.951018  260.716667\n",
       "Tuesday     count  11.000000      8.000000    8.000000\n",
       "            mean    2.428182      7.659706   21.770833\n",
       "            std     1.321990      0.830158   13.777549\n",
       "            min     1.370000      6.630170    9.083333\n",
       "            25%     1.370000      7.218276   10.562500\n",
       "            50%     2.000000      7.464231   22.183333\n",
       "            75%     3.050000      7.881281   23.350000\n",
       "            max     5.630000      9.206631   51.833333\n",
       "Wednesday   count   8.000000      7.000000    7.000000\n",
       "            mean    3.315000      7.829348   28.021429\n",
       "            std     3.562291      1.142713   32.039394\n",
       "            min     1.370000      6.532847    8.950000\n",
       "            25%     1.467500      7.185401   10.325000\n",
       "            50%     2.365000      7.411348   17.416667\n",
       "            75%     2.637500      8.245219   25.066667\n",
       "            max    12.000000     10.000000   99.000000"
      ]
     },
     "execution_count": 113,
     "metadata": {},
     "output_type": "execute_result"
    }
   ],
   "source": [
    "dows.describe()"
   ]
  },
  {
   "cell_type": "markdown",
   "metadata": {},
   "source": [
    "We do not always have to store the groupby object in a variable; we can also just chain these commands together to do quick exploratory analysis."
   ]
  },
  {
   "cell_type": "code",
   "execution_count": 114,
   "metadata": {
    "collapsed": false
   },
   "outputs": [
    {
     "data": {
      "text/html": [
       "<div>\n",
       "<table border=\"1\" class=\"dataframe\">\n",
       "  <thead>\n",
       "    <tr style=\"text-align: right;\">\n",
       "      <th></th>\n",
       "      <th>Miles</th>\n",
       "      <th>Minutes</th>\n",
       "      <th>Min_per_mile</th>\n",
       "    </tr>\n",
       "    <tr>\n",
       "      <th>Day_of_week</th>\n",
       "      <th></th>\n",
       "      <th></th>\n",
       "      <th></th>\n",
       "    </tr>\n",
       "  </thead>\n",
       "  <tbody>\n",
       "    <tr>\n",
       "      <th>Friday</th>\n",
       "      <td>2.786000</td>\n",
       "      <td>24.308333</td>\n",
       "      <td>7.747657</td>\n",
       "    </tr>\n",
       "    <tr>\n",
       "      <th>Monday</th>\n",
       "      <td>2.607143</td>\n",
       "      <td>22.243333</td>\n",
       "      <td>7.463291</td>\n",
       "    </tr>\n",
       "    <tr>\n",
       "      <th>Saturday</th>\n",
       "      <td>3.246429</td>\n",
       "      <td>46.708333</td>\n",
       "      <td>8.184961</td>\n",
       "    </tr>\n",
       "    <tr>\n",
       "      <th>Sunday</th>\n",
       "      <td>2.422727</td>\n",
       "      <td>19.762500</td>\n",
       "      <td>7.463840</td>\n",
       "    </tr>\n",
       "    <tr>\n",
       "      <th>Thursday</th>\n",
       "      <td>6.315000</td>\n",
       "      <td>84.530000</td>\n",
       "      <td>8.039543</td>\n",
       "    </tr>\n",
       "    <tr>\n",
       "      <th>Tuesday</th>\n",
       "      <td>2.428182</td>\n",
       "      <td>21.770833</td>\n",
       "      <td>7.659706</td>\n",
       "    </tr>\n",
       "    <tr>\n",
       "      <th>Wednesday</th>\n",
       "      <td>3.315000</td>\n",
       "      <td>28.021429</td>\n",
       "      <td>7.829348</td>\n",
       "    </tr>\n",
       "  </tbody>\n",
       "</table>\n",
       "</div>"
      ],
      "text/plain": [
       "                Miles    Minutes  Min_per_mile\n",
       "Day_of_week                                   \n",
       "Friday       2.786000  24.308333      7.747657\n",
       "Monday       2.607143  22.243333      7.463291\n",
       "Saturday     3.246429  46.708333      8.184961\n",
       "Sunday       2.422727  19.762500      7.463840\n",
       "Thursday     6.315000  84.530000      8.039543\n",
       "Tuesday      2.428182  21.770833      7.659706\n",
       "Wednesday    3.315000  28.021429      7.829348"
      ]
     },
     "execution_count": 114,
     "metadata": {},
     "output_type": "execute_result"
    }
   ],
   "source": [
    "df.groupby('Day_of_week').mean()"
   ]
  },
  {
   "cell_type": "code",
   "execution_count": 115,
   "metadata": {
    "collapsed": false
   },
   "outputs": [
    {
     "data": {
      "text/html": [
       "<div>\n",
       "<table border=\"1\" class=\"dataframe\">\n",
       "  <thead>\n",
       "    <tr style=\"text-align: right;\">\n",
       "      <th></th>\n",
       "      <th>Miles</th>\n",
       "      <th>Minutes</th>\n",
       "      <th>Min_per_mile</th>\n",
       "    </tr>\n",
       "    <tr>\n",
       "      <th>Day_of_week</th>\n",
       "      <th></th>\n",
       "      <th></th>\n",
       "      <th></th>\n",
       "    </tr>\n",
       "  </thead>\n",
       "  <tbody>\n",
       "    <tr>\n",
       "      <th>Friday</th>\n",
       "      <td>1.510718</td>\n",
       "      <td>15.376198</td>\n",
       "      <td>0.844590</td>\n",
       "    </tr>\n",
       "    <tr>\n",
       "      <th>Monday</th>\n",
       "      <td>1.688538</td>\n",
       "      <td>16.318699</td>\n",
       "      <td>1.037698</td>\n",
       "    </tr>\n",
       "    <tr>\n",
       "      <th>Saturday</th>\n",
       "      <td>3.592504</td>\n",
       "      <td>45.119311</td>\n",
       "      <td>0.926076</td>\n",
       "    </tr>\n",
       "    <tr>\n",
       "      <th>Sunday</th>\n",
       "      <td>1.000241</td>\n",
       "      <td>8.282836</td>\n",
       "      <td>0.578829</td>\n",
       "    </tr>\n",
       "    <tr>\n",
       "      <th>Thursday</th>\n",
       "      <td>9.300811</td>\n",
       "      <td>114.032318</td>\n",
       "      <td>1.531027</td>\n",
       "    </tr>\n",
       "    <tr>\n",
       "      <th>Tuesday</th>\n",
       "      <td>1.321990</td>\n",
       "      <td>13.777549</td>\n",
       "      <td>0.830158</td>\n",
       "    </tr>\n",
       "    <tr>\n",
       "      <th>Wednesday</th>\n",
       "      <td>3.562291</td>\n",
       "      <td>32.039394</td>\n",
       "      <td>1.142713</td>\n",
       "    </tr>\n",
       "  </tbody>\n",
       "</table>\n",
       "</div>"
      ],
      "text/plain": [
       "                Miles     Minutes  Min_per_mile\n",
       "Day_of_week                                    \n",
       "Friday       1.510718   15.376198      0.844590\n",
       "Monday       1.688538   16.318699      1.037698\n",
       "Saturday     3.592504   45.119311      0.926076\n",
       "Sunday       1.000241    8.282836      0.578829\n",
       "Thursday     9.300811  114.032318      1.531027\n",
       "Tuesday      1.321990   13.777549      0.830158\n",
       "Wednesday    3.562291   32.039394      1.142713"
      ]
     },
     "execution_count": 115,
     "metadata": {},
     "output_type": "execute_result"
    }
   ],
   "source": [
    "df.groupby('Day_of_week').std()"
   ]
  },
  {
   "cell_type": "markdown",
   "metadata": {},
   "source": [
    "We can also iterate through the groups in a straightforward way because the groupby is iterable. The iterable provides tuples of name (string) and group (DataFrame)."
   ]
  },
  {
   "cell_type": "code",
   "execution_count": 116,
   "metadata": {
    "collapsed": false
   },
   "outputs": [
    {
     "name": "stdout",
     "output_type": "stream",
     "text": [
      "Friday\n",
      "         Date  Miles    Minutes  Min_per_mile Day_of_week\n",
      "0  2014-08-01    NaN        NaN           NaN      Friday\n",
      "7  2014-08-08   3.40        NaN           NaN      Friday\n",
      "15 2014-08-15   1.78        NaN           NaN      Friday\n",
      "23 2014-08-22   1.37   9.083333       6.63017      Friday\n",
      "31 2014-08-29   5.00  43.450000       8.69000      Friday\n",
      "Monday\n",
      "         Date  Miles    Minutes  Min_per_mile Day_of_week\n",
      "3  2014-08-04   2.10        NaN           NaN      Monday\n",
      "10 2014-08-11   1.67  13.116667      7.854291      Monday\n",
      "18 2014-08-18   0.65        NaN           NaN      Monday\n",
      "26 2014-08-25   1.37   8.916667      6.508516      Monday\n",
      "27 2014-08-25   1.34        NaN           NaN      Monday\n",
      "Saturday\n",
      "         Date  Miles  Minutes  Min_per_mile Day_of_week\n",
      "1  2014-08-02   1.70      NaN           NaN    Saturday\n",
      "8  2014-08-09   2.50      NaN           NaN    Saturday\n",
      "16 2014-08-16   0.65      NaN           NaN    Saturday\n",
      "24 2014-08-23   1.34      NaN           NaN    Saturday\n",
      "32 2014-08-30    NaN      NaN           NaN    Saturday\n",
      "Sunday\n",
      "         Date  Miles    Minutes  Min_per_mile Day_of_week\n",
      "2  2014-08-03   1.40        NaN           NaN      Sunday\n",
      "9  2014-08-10   3.36  28.616667      8.516865      Sunday\n",
      "17 2014-08-17   1.34        NaN           NaN      Sunday\n",
      "25 2014-08-24   3.00        NaN           NaN      Sunday\n",
      "33 2014-08-31    NaN        NaN           NaN      Sunday\n",
      "Thursday\n",
      "         Date  Miles   Minutes  Min_per_mile Day_of_week\n",
      "6  2014-08-07   2.30       NaN           NaN    Thursday\n",
      "13 2014-08-14   0.90  6.266667      6.962963    Thursday\n",
      "14 2014-08-14   0.90  6.266667      6.962963    Thursday\n",
      "22 2014-08-21   1.37  9.400000      6.861314    Thursday\n",
      "30 2014-08-28    NaN       NaN           NaN    Thursday\n",
      "Tuesday\n",
      "         Date  Miles    Minutes  Min_per_mile Day_of_week\n",
      "4  2014-08-05    NaN        NaN           NaN     Tuesday\n",
      "11 2014-08-12   1.42  10.583333      7.453052     Tuesday\n",
      "19 2014-08-19   1.37        NaN           NaN     Tuesday\n",
      "20 2014-08-19   1.37        NaN           NaN     Tuesday\n",
      "28 2014-08-26   1.37  10.500000      7.664234     Tuesday\n",
      "Wednesday\n",
      "         Date  Miles    Minutes  Min_per_mile Day_of_week\n",
      "5  2014-08-06   2.38        NaN           NaN   Wednesday\n",
      "12 2014-08-13   2.35  17.416667      7.411348   Wednesday\n",
      "21 2014-08-20   1.37   9.550000      6.970803   Wednesday\n",
      "29 2014-08-27   2.50  25.000000     10.000000   Wednesday\n",
      "36 2014-09-03    NaN        NaN           NaN   Wednesday\n"
     ]
    }
   ],
   "source": [
    "for name, group in dows:\n",
    "    print(name)\n",
    "    print(group.head())"
   ]
  },
  {
   "cell_type": "markdown",
   "metadata": {},
   "source": [
    "We can also get specific groups using the `get_group` method."
   ]
  },
  {
   "cell_type": "code",
   "execution_count": 117,
   "metadata": {
    "collapsed": false
   },
   "outputs": [
    {
     "data": {
      "text/html": [
       "<div>\n",
       "<table border=\"1\" class=\"dataframe\">\n",
       "  <thead>\n",
       "    <tr style=\"text-align: right;\">\n",
       "      <th></th>\n",
       "      <th>Date</th>\n",
       "      <th>Miles</th>\n",
       "      <th>Min_per_mile</th>\n",
       "      <th>Minutes</th>\n",
       "    </tr>\n",
       "  </thead>\n",
       "  <tbody>\n",
       "    <tr>\n",
       "      <th>0</th>\n",
       "      <td>2014-08-01</td>\n",
       "      <td>NaN</td>\n",
       "      <td>NaN</td>\n",
       "      <td>NaN</td>\n",
       "    </tr>\n",
       "    <tr>\n",
       "      <th>7</th>\n",
       "      <td>2014-08-08</td>\n",
       "      <td>3.40</td>\n",
       "      <td>NaN</td>\n",
       "      <td>NaN</td>\n",
       "    </tr>\n",
       "    <tr>\n",
       "      <th>15</th>\n",
       "      <td>2014-08-15</td>\n",
       "      <td>1.78</td>\n",
       "      <td>NaN</td>\n",
       "      <td>NaN</td>\n",
       "    </tr>\n",
       "    <tr>\n",
       "      <th>23</th>\n",
       "      <td>2014-08-22</td>\n",
       "      <td>1.37</td>\n",
       "      <td>6.63017</td>\n",
       "      <td>9.083333</td>\n",
       "    </tr>\n",
       "    <tr>\n",
       "      <th>31</th>\n",
       "      <td>2014-08-29</td>\n",
       "      <td>5.00</td>\n",
       "      <td>8.69000</td>\n",
       "      <td>43.450000</td>\n",
       "    </tr>\n",
       "  </tbody>\n",
       "</table>\n",
       "</div>"
      ],
      "text/plain": [
       "         Date  Miles  Min_per_mile    Minutes\n",
       "0  2014-08-01    NaN           NaN        NaN\n",
       "7  2014-08-08   3.40           NaN        NaN\n",
       "15 2014-08-15   1.78           NaN        NaN\n",
       "23 2014-08-22   1.37       6.63017   9.083333\n",
       "31 2014-08-29   5.00       8.69000  43.450000"
      ]
     },
     "execution_count": 117,
     "metadata": {},
     "output_type": "execute_result"
    }
   ],
   "source": [
    "dows.get_group('Friday').head()"
   ]
  },
  {
   "cell_type": "markdown",
   "metadata": {},
   "source": [
    "Another command that you should be familiar with is the `agg` method. This performs an operation on each sub-DataFrame. For example, we can get counts (or total number of rows) with the `len` aggregation."
   ]
  },
  {
   "cell_type": "code",
   "execution_count": 118,
   "metadata": {
    "collapsed": false
   },
   "outputs": [
    {
     "data": {
      "text/plain": [
       "Day_of_week\n",
       "Friday       24\n",
       "Monday       25\n",
       "Saturday     27\n",
       "Sunday       23\n",
       "Thursday     23\n",
       "Tuesday      23\n",
       "Wednesday    22\n",
       "Name: Miles, dtype: float64"
      ]
     },
     "execution_count": 118,
     "metadata": {},
     "output_type": "execute_result"
    }
   ],
   "source": [
    "dows.agg(lambda x: len(x))['Miles']"
   ]
  },
  {
   "cell_type": "markdown",
   "metadata": {},
   "source": [
    "This is probably one of the more powerful functions available in pandas because you can write your own functions. We will be doing this later on in the course as well. We can achieve this same method by just appending a Count column with the scalar value of one, then getting the sum."
   ]
  },
  {
   "cell_type": "code",
   "execution_count": 119,
   "metadata": {
    "collapsed": false
   },
   "outputs": [
    {
     "data": {
      "text/html": [
       "<div>\n",
       "<table border=\"1\" class=\"dataframe\">\n",
       "  <thead>\n",
       "    <tr style=\"text-align: right;\">\n",
       "      <th></th>\n",
       "      <th>Date</th>\n",
       "      <th>Miles</th>\n",
       "      <th>Minutes</th>\n",
       "      <th>Min_per_mile</th>\n",
       "      <th>Day_of_week</th>\n",
       "      <th>Count</th>\n",
       "    </tr>\n",
       "  </thead>\n",
       "  <tbody>\n",
       "    <tr>\n",
       "      <th>0</th>\n",
       "      <td>2014-08-01</td>\n",
       "      <td>NaN</td>\n",
       "      <td>NaN</td>\n",
       "      <td>NaN</td>\n",
       "      <td>Friday</td>\n",
       "      <td>1</td>\n",
       "    </tr>\n",
       "    <tr>\n",
       "      <th>1</th>\n",
       "      <td>2014-08-02</td>\n",
       "      <td>1.70</td>\n",
       "      <td>NaN</td>\n",
       "      <td>NaN</td>\n",
       "      <td>Saturday</td>\n",
       "      <td>1</td>\n",
       "    </tr>\n",
       "    <tr>\n",
       "      <th>2</th>\n",
       "      <td>2014-08-03</td>\n",
       "      <td>1.40</td>\n",
       "      <td>NaN</td>\n",
       "      <td>NaN</td>\n",
       "      <td>Sunday</td>\n",
       "      <td>1</td>\n",
       "    </tr>\n",
       "    <tr>\n",
       "      <th>3</th>\n",
       "      <td>2014-08-04</td>\n",
       "      <td>2.10</td>\n",
       "      <td>NaN</td>\n",
       "      <td>NaN</td>\n",
       "      <td>Monday</td>\n",
       "      <td>1</td>\n",
       "    </tr>\n",
       "    <tr>\n",
       "      <th>4</th>\n",
       "      <td>2014-08-05</td>\n",
       "      <td>NaN</td>\n",
       "      <td>NaN</td>\n",
       "      <td>NaN</td>\n",
       "      <td>Tuesday</td>\n",
       "      <td>1</td>\n",
       "    </tr>\n",
       "    <tr>\n",
       "      <th>5</th>\n",
       "      <td>2014-08-06</td>\n",
       "      <td>2.38</td>\n",
       "      <td>NaN</td>\n",
       "      <td>NaN</td>\n",
       "      <td>Wednesday</td>\n",
       "      <td>1</td>\n",
       "    </tr>\n",
       "    <tr>\n",
       "      <th>6</th>\n",
       "      <td>2014-08-07</td>\n",
       "      <td>2.30</td>\n",
       "      <td>NaN</td>\n",
       "      <td>NaN</td>\n",
       "      <td>Thursday</td>\n",
       "      <td>1</td>\n",
       "    </tr>\n",
       "    <tr>\n",
       "      <th>7</th>\n",
       "      <td>2014-08-08</td>\n",
       "      <td>3.40</td>\n",
       "      <td>NaN</td>\n",
       "      <td>NaN</td>\n",
       "      <td>Friday</td>\n",
       "      <td>1</td>\n",
       "    </tr>\n",
       "    <tr>\n",
       "      <th>8</th>\n",
       "      <td>2014-08-09</td>\n",
       "      <td>2.50</td>\n",
       "      <td>NaN</td>\n",
       "      <td>NaN</td>\n",
       "      <td>Saturday</td>\n",
       "      <td>1</td>\n",
       "    </tr>\n",
       "    <tr>\n",
       "      <th>9</th>\n",
       "      <td>2014-08-10</td>\n",
       "      <td>3.36</td>\n",
       "      <td>28.616667</td>\n",
       "      <td>8.516865</td>\n",
       "      <td>Sunday</td>\n",
       "      <td>1</td>\n",
       "    </tr>\n",
       "  </tbody>\n",
       "</table>\n",
       "</div>"
      ],
      "text/plain": [
       "        Date  Miles    Minutes  Min_per_mile Day_of_week  Count\n",
       "0 2014-08-01    NaN        NaN           NaN      Friday      1\n",
       "1 2014-08-02   1.70        NaN           NaN    Saturday      1\n",
       "2 2014-08-03   1.40        NaN           NaN      Sunday      1\n",
       "3 2014-08-04   2.10        NaN           NaN      Monday      1\n",
       "4 2014-08-05    NaN        NaN           NaN     Tuesday      1\n",
       "5 2014-08-06   2.38        NaN           NaN   Wednesday      1\n",
       "6 2014-08-07   2.30        NaN           NaN    Thursday      1\n",
       "7 2014-08-08   3.40        NaN           NaN      Friday      1\n",
       "8 2014-08-09   2.50        NaN           NaN    Saturday      1\n",
       "9 2014-08-10   3.36  28.616667      8.516865      Sunday      1"
      ]
     },
     "execution_count": 119,
     "metadata": {},
     "output_type": "execute_result"
    }
   ],
   "source": [
    "df['Count'] = 1\n",
    "df.head(10)"
   ]
  },
  {
   "cell_type": "code",
   "execution_count": 120,
   "metadata": {
    "collapsed": false
   },
   "outputs": [
    {
     "data": {
      "text/html": [
       "<div>\n",
       "<table border=\"1\" class=\"dataframe\">\n",
       "  <thead>\n",
       "    <tr style=\"text-align: right;\">\n",
       "      <th></th>\n",
       "      <th>Miles</th>\n",
       "      <th>Minutes</th>\n",
       "      <th>Min_per_mile</th>\n",
       "      <th>Count</th>\n",
       "    </tr>\n",
       "    <tr>\n",
       "      <th>Day_of_week</th>\n",
       "      <th></th>\n",
       "      <th></th>\n",
       "      <th></th>\n",
       "      <th></th>\n",
       "    </tr>\n",
       "  </thead>\n",
       "  <tbody>\n",
       "    <tr>\n",
       "      <th>Friday</th>\n",
       "      <td>41.79</td>\n",
       "      <td>194.466667</td>\n",
       "      <td>61.981259</td>\n",
       "      <td>24</td>\n",
       "    </tr>\n",
       "    <tr>\n",
       "      <th>Monday</th>\n",
       "      <td>36.50</td>\n",
       "      <td>222.433333</td>\n",
       "      <td>74.632908</td>\n",
       "      <td>25</td>\n",
       "    </tr>\n",
       "    <tr>\n",
       "      <th>Saturday</th>\n",
       "      <td>45.45</td>\n",
       "      <td>280.250000</td>\n",
       "      <td>49.109769</td>\n",
       "      <td>27</td>\n",
       "    </tr>\n",
       "    <tr>\n",
       "      <th>Sunday</th>\n",
       "      <td>26.65</td>\n",
       "      <td>158.100000</td>\n",
       "      <td>59.710723</td>\n",
       "      <td>23</td>\n",
       "    </tr>\n",
       "    <tr>\n",
       "      <th>Thursday</th>\n",
       "      <td>50.52</td>\n",
       "      <td>422.650000</td>\n",
       "      <td>40.197717</td>\n",
       "      <td>23</td>\n",
       "    </tr>\n",
       "    <tr>\n",
       "      <th>Tuesday</th>\n",
       "      <td>26.71</td>\n",
       "      <td>174.166667</td>\n",
       "      <td>61.277645</td>\n",
       "      <td>23</td>\n",
       "    </tr>\n",
       "    <tr>\n",
       "      <th>Wednesday</th>\n",
       "      <td>26.52</td>\n",
       "      <td>196.150000</td>\n",
       "      <td>54.805434</td>\n",
       "      <td>22</td>\n",
       "    </tr>\n",
       "  </tbody>\n",
       "</table>\n",
       "</div>"
      ],
      "text/plain": [
       "             Miles     Minutes  Min_per_mile  Count\n",
       "Day_of_week                                        \n",
       "Friday       41.79  194.466667     61.981259     24\n",
       "Monday       36.50  222.433333     74.632908     25\n",
       "Saturday     45.45  280.250000     49.109769     27\n",
       "Sunday       26.65  158.100000     59.710723     23\n",
       "Thursday     50.52  422.650000     40.197717     23\n",
       "Tuesday      26.71  174.166667     61.277645     23\n",
       "Wednesday    26.52  196.150000     54.805434     22"
      ]
     },
     "execution_count": 120,
     "metadata": {},
     "output_type": "execute_result"
    }
   ],
   "source": [
    "df.groupby('Day_of_week').sum()"
   ]
  },
  {
   "cell_type": "markdown",
   "metadata": {},
   "source": [
    "Notice how the Count column gives us exactly the same counts we had before.\n",
    "\n",
    "We have covered a lot of foundational pandas techniques, including filtering, graphing, and grouping.  Take some time to practice these techniques on your own.  A solid grasp of these basics will help you tremendously as you go on to study more advanced data analysis using Python."
   ]
  }
 ],
 "metadata": {
  "kernelspec": {
   "display_name": "Python 3",
   "language": "python",
   "name": "python3"
  },
  "language_info": {
   "codemirror_mode": {
    "name": "ipython",
    "version": 3
   },
   "file_extension": ".py",
   "mimetype": "text/x-python",
   "name": "python",
   "nbconvert_exporter": "python",
   "pygments_lexer": "ipython3",
   "version": "3.5.1"
  }
 },
 "nbformat": 4,
 "nbformat_minor": 0
}
