{
 "cells": [
  {
   "cell_type": "markdown",
   "metadata": {},
   "source": [
    "# Modules and Packages "
   ]
  },
  {
   "cell_type": "markdown",
   "metadata": {},
   "source": [
    "Programs:\n",
    "    you have been weirring a series of \"mini programs\"\n",
    "    \n",
    "    you can save the Python snippets into a regular text file, add the \".py\" extension, and run it on the command line.\n",
    "    \n",
    "        e.g. python test.py\n",
    "        \n",
    "    you can get command line arguments by importing sys and using the argv list.\n",
    "        e.g. import sys\n",
    "              print ('Program Arguments: ', sys.argv)"
   ]
  },
  {
   "cell_type": "markdown",
   "metadata": {},
   "source": [
    "## Modules\n",
    "Modules are contained in a single Pyhon file and contains all of the variables.\n",
    "functions, and classes that you can use in an external program \n",
    "\n",
    "you will be able to interact with the module as if the code was pasted right on top of your code, with a caveat \n",
    "\n",
    "e.g. \n",
    "\n",
    "    import sys\n",
    "    print('Program Arguments: ', sys.argv)\n",
    "    \n",
    "    we have imported a module called sys that we wanted to add to our code. we import the sys module to use functionality implemented in sys.py.\n",
    "    \n",
    "    The caveat is that in order to prevent naming conflicts, in order to access anything in the sys module, you will need to prefic the varibale/function/class with sys; i.e., sys.argv, even though in th file sys.py the variabe \"argv\" is a global variable "
   ]
  },
  {
   "cell_type": "markdown",
   "metadata": {},
   "source": [
    "## Packages \n",
    "- A directory that contains a collection of modules.\n",
    "- Packages are a great way to organize modules that are related to each other.\n",
    "- Packages are essentially directories that have a special empty fiile named \"\\_init\\_.py\".\n",
    "\n",
    "e.g.\n",
    "import numpy.matlib\n",
    "- in this example \"numpy\" is the package and matlib is the module within the package numpy.\n",
    "- the package \"numpy\" has an empty file named \"\\_init\\_.py\" that tells Python that numpy is a package.\n"
   ]
  },
  {
   "cell_type": "markdown",
   "metadata": {},
   "source": [
    "# Modules and the Import Statement"
   ]
  },
  {
   "cell_type": "markdown",
   "metadata": {},
   "source": [
    "## Standalone Programs "
   ]
  },
  {
   "cell_type": "code",
   "execution_count": 9,
   "metadata": {
    "collapsed": false
   },
   "outputs": [
    {
     "name": "stdout",
     "output_type": "stream",
     "text": [
      "Hello World, revisited\n"
     ]
    }
   ],
   "source": [
    "!python helloworld.py"
   ]
  },
  {
   "cell_type": "code",
   "execution_count": 7,
   "metadata": {
    "collapsed": false
   },
   "outputs": [
    {
     "name": "stdout",
     "output_type": "stream",
     "text": [
      "# helloworld.py\n",
      "#\n",
      "# This is our first python script rum from the command line as a stand alone\n",
      "# application\n",
      "\n",
      "print(\"Hello World, revisited\")\n"
     ]
    }
   ],
   "source": [
    "!cat helloworld.py"
   ]
  },
  {
   "cell_type": "code",
   "execution_count": 15,
   "metadata": {
    "collapsed": false
   },
   "outputs": [
    {
     "name": "stdout",
     "output_type": "stream",
     "text": [
      "# showarguments.py\n",
      "#\n",
      "# Prints out the program arguments that have been passed into this standalone\n",
      "# application\n",
      "\n",
      "import sys # We need to import the sys module in order to gain access to the arguments\n",
      "\n",
      "print(\"Program argument:\" , sys.argv)\n"
     ]
    }
   ],
   "source": [
    "!cat showarguments.py"
   ]
  },
  {
   "cell_type": "code",
   "execution_count": 16,
   "metadata": {
    "collapsed": false
   },
   "outputs": [
    {
     "name": "stdout",
     "output_type": "stream",
     "text": [
      "Program argument: ['showarguments.py']\n"
     ]
    }
   ],
   "source": [
    "!python showarguments.py "
   ]
  },
  {
   "cell_type": "code",
   "execution_count": 18,
   "metadata": {
    "collapsed": false
   },
   "outputs": [
    {
     "name": "stdout",
     "output_type": "stream",
     "text": [
      "Program argument: ['showarguments.py', 'firstArg', 'secondArg', 'thirdArg']\n"
     ]
    }
   ],
   "source": [
    "!python showarguments.py firstArg secondArg thirdArg"
   ]
  },
  {
   "cell_type": "markdown",
   "metadata": {},
   "source": [
    "## Modules and the import stetement"
   ]
  },
  {
   "cell_type": "code",
   "execution_count": 25,
   "metadata": {
    "collapsed": false
   },
   "outputs": [
    {
     "name": "stdout",
     "output_type": "stream",
     "text": [
      "# weatherman.py\n",
      "#\n",
      "#Provides the current forecasr for the weather in Berkeley, California\n",
      "\n",
      "from urllib.request import urlopen\n",
      "import json\n",
      "\n",
      "def get_report():\n",
      "    \"\"\"\n",
      "    Returns the current forecast of Berkeley right now\n",
      "    \"\"\"\n",
      "    response = urlopen(\n",
      "        'http://api.openweathermap.org/data/2.5/weather?q=Berkeley,ca&appid=7dc34849d7e8b6fbdcb3f12454c92e88')\n",
      "        rawWeatherData = response.read().decode(\"utf-8\")\n",
      "        weatherData = json.loads(rawWeatherData)\n",
      "\n",
      "        forecast = \"Berkeley, CA Forecast: \" + weatherData[\"weather\"][0][\"main\"]\n",
      "        return forecast\n"
     ]
    }
   ],
   "source": [
    "!cat weatherman.py"
   ]
  },
  {
   "cell_type": "code",
   "execution_count": 27,
   "metadata": {
    "collapsed": false
   },
   "outputs": [
    {
     "name": "stdout",
     "output_type": "stream",
     "text": [
      "Berkeley, CA Forecast: Drizzle\n"
     ]
    }
   ],
   "source": [
    "import weatherman\n",
    "\n",
    "print(weatherman.get_report())"
   ]
  },
  {
   "cell_type": "markdown",
   "metadata": {},
   "source": [
    "## 1. Import a specific function directly from he external module"
   ]
  },
  {
   "cell_type": "code",
   "execution_count": 29,
   "metadata": {
    "collapsed": false
   },
   "outputs": [
    {
     "name": "stdout",
     "output_type": "stream",
     "text": [
      "Berkeley, CA Forecast: Mist\n"
     ]
    }
   ],
   "source": [
    "# we import this specific function that we need directly from the weatherman \n",
    "# module, notice we do not need to write weatherman in front of it when we call\n",
    "# it, but you should be careful if two different modules have the same name \n",
    "from weatherman import get_report\n",
    "print(get_report())"
   ]
  },
  {
   "cell_type": "markdown",
   "metadata": {},
   "source": [
    "## 2. Import the module name to avoid naming conflicts"
   ]
  },
  {
   "cell_type": "code",
   "execution_count": 32,
   "metadata": {
    "collapsed": false
   },
   "outputs": [
    {
     "name": "stdout",
     "output_type": "stream",
     "text": [
      "Berkeley, CA Forecast: Mist\n"
     ]
    }
   ],
   "source": [
    "import weatherman\n",
    "print(weatherman.get_report())"
   ]
  },
  {
   "cell_type": "markdown",
   "metadata": {},
   "source": [
    "## 3. import only what you want from a module by renaming the function"
   ]
  },
  {
   "cell_type": "code",
   "execution_count": 34,
   "metadata": {
    "collapsed": false
   },
   "outputs": [
    {
     "name": "stdout",
     "output_type": "stream",
     "text": [
      "Berkeley, CA Forecast: Mist\n"
     ]
    }
   ],
   "source": [
    "from weatherman import get_report as do_it\n",
    "print(do_it())"
   ]
  },
  {
   "cell_type": "markdown",
   "metadata": {},
   "source": [
    "## Note on Module Search Path"
   ]
  },
  {
   "cell_type": "code",
   "execution_count": 36,
   "metadata": {
    "collapsed": false
   },
   "outputs": [
    {
     "name": "stdout",
     "output_type": "stream",
     "text": [
      "\n",
      "C:\\Anaconda3\\python35.zip\n",
      "C:\\Anaconda3\\DLLs\n",
      "C:\\Anaconda3\\lib\n",
      "C:\\Anaconda3\n",
      "c:\\anaconda3\\lib\\site-packages\\setuptools-20.3-py3.5.egg\n",
      "C:\\Anaconda3\\lib\\site-packages\n",
      "C:\\Anaconda3\\lib\\site-packages\\Sphinx-1.3.5-py3.5.egg\n",
      "C:\\Anaconda3\\lib\\site-packages\\win32\n",
      "C:\\Anaconda3\\lib\\site-packages\\win32\\lib\n",
      "C:\\Anaconda3\\lib\\site-packages\\Pythonwin\n",
      "C:\\Anaconda3\\lib\\site-packages\\IPython\\extensions\n",
      "C:\\Users\\hrli1\\.ipython\n"
     ]
    }
   ],
   "source": [
    "import sys\n",
    "for place in sys.path:\n",
    "    print(place)"
   ]
  },
  {
   "cell_type": "markdown",
   "metadata": {},
   "source": [
    "# Packages "
   ]
  },
  {
   "cell_type": "code",
   "execution_count": 40,
   "metadata": {
    "collapsed": false
   },
   "outputs": [
    {
     "name": "stdout",
     "output_type": "stream",
     "text": [
      "# daily.py\n",
      "# \n",
      "# Provides the weather for Berkeley, CA for today\n",
      "\n",
      "from urllib.request import urlopen\n",
      "import json\n",
      "\n",
      "def forecast():\n",
      "    \"\"\"\n",
      "    Returns the daily weather for Berkeley, CA\n",
      "    \"\"\"\n",
      "    response = urlopen('http://api.openweathermap.org/data/2.5/forecast/daily?q=Berkeley&mode=json&units=Imperial&cnt=1&appid=7dc34849d7e8b6fbdcb3f12454c92e88')\n",
      "    rawWeatherData = response.read().decode(\"utf-8\")\n",
      "    weatherData = json.loads(rawWeatherData)\n",
      "\n",
      "    forecastStr = \"Forecast for Berkeley, CA: \" + weatherData[\"list\"][0][\"weather\"][0][\"main\"] + \"\\n\" \\\n",
      "        \"Current Temp: \" + str(weatherData[\"list\"][0][\"temp\"][\"day\"]) + \" degrees \\n\"  \\\n",
      "        \"High Temp: \" + str(weatherData[\"list\"][0][\"temp\"][\"max\"]) + \" degrees \\n\" \\\n",
      "        \"Low Temp: \" + str(weatherData[\"list\"][0][\"temp\"][\"min\"]) + \" degrees\"\n",
      "\n",
      "    return forecastStr\n"
     ]
    }
   ],
   "source": [
    "!cat weather/daily.py"
   ]
  },
  {
   "cell_type": "code",
   "execution_count": 41,
   "metadata": {
    "collapsed": false
   },
   "outputs": [
    {
     "name": "stdout",
     "output_type": "stream",
     "text": [
      "# weekly.py\n",
      "# \n",
      "# Provides the weather for Berkeley, CA for the week\n",
      "\n",
      "from urllib.request import urlopen\n",
      "import json\n",
      "import datetime\n",
      "\n",
      "def forecast():\n",
      "    \"\"\"\n",
      "    Returns the daily weather for Berkeley, CA\n",
      "    \"\"\"\n",
      "    response = urlopen('http://api.openweathermap.org/data/2.5/forecast/daily?q=Berkeley&mode=json&units=Imperial&cnt=7&appid=7dc34849d7e8b6fbdcb3f12454c92e88')\n",
      "    rawWeatherDataList = response.read().decode(\"utf-8\")\n",
      "    weatherDataList = json.loads(rawWeatherDataList)\n",
      "\n",
      "    forecastStr = \"\"\n",
      "    for i in range(7):\n",
      "        forecastStr += _daily_forecast(weatherDataList[\"list\"][i]) + \"\\n\\n\"\n",
      "\n",
      "    forecastStr = forecastStr[:-2] # Remove the two newlines at the end \n",
      "    return forecastStr\n",
      "\n",
      "\n",
      "def _daily_forecast(weatherData):\n",
      "    \"\"\"\n",
      "    Helper function that prints a single day's forecast\n",
      "    \"\"\"\n",
      "\n",
      "    # Using python datetime support to convert a timestamp into a full date\n",
      "    \n",
      "    # First need to define the UTC offset for Berkeley, CA (UTC - 8:00) (not daylight savings time)\n",
      "    current_utc_offset = -datetime.timedelta(hours=8)\n",
      "\n",
      "    # Next we create a timezone based on the utc offset for Pacific Standard Time\n",
      "    current_timezone = datetime.timezone(current_utc_offset)\n",
      "\n",
      "    # Last we create a datetime object based on the timestamp provided by the response, and\n",
      "    # we localize the timezone to represent Pacific Standard Time \n",
      "    current_datetime = datetime.datetime.fromtimestamp(weatherData[\"dt\"], current_timezone)\n",
      "\n",
      "    # Printing of the forecast\n",
      "    \n",
      "    # Note we use strftime to format how we would like to print out the datetime\n",
      "    forecastStr = \"Forecast for Berkeley, CA on \" + current_datetime.strftime(\"%A, %B %d, %Y %H:%M %p\") + \" local time\\n\" \\\n",
      "    \"Weather: \"  + weatherData[\"weather\"][0][\"main\"] + \"\\n\" \\\n",
      "    \"Current Temp: \" + str(weatherData[\"temp\"][\"day\"]) + \" degrees \\n\"  \\\n",
      "    \"High Temp: \" + str(weatherData[\"temp\"][\"max\"]) + \" degrees \\n\" \\\n",
      "    \"Low Temp: \" + str(weatherData[\"temp\"][\"min\"]) + \" degrees\"\n",
      "\n",
      "    return forecastStr\n"
     ]
    }
   ],
   "source": [
    "!cat weather/weekly.py"
   ]
  },
  {
   "cell_type": "code",
   "execution_count": 42,
   "metadata": {
    "collapsed": true
   },
   "outputs": [],
   "source": [
    "!touch weather/__init__.py"
   ]
  },
  {
   "cell_type": "code",
   "execution_count": 43,
   "metadata": {
    "collapsed": false
   },
   "outputs": [
    {
     "name": "stdout",
     "output_type": "stream",
     "text": [
      "Daily\n",
      "Forecast for Berkeley, CA: Clear\n",
      "Current Temp: 64.24 degrees \n",
      "High Temp: 64.24 degrees \n",
      "Low Temp: 55.45 degrees\n",
      "\n",
      "Weekly\n",
      "Forecast for Berkeley, CA on Saturday, June 25, 2016 12:00 PM local time\n",
      "Weather: Clear\n",
      "Current Temp: 64.24 degrees \n",
      "High Temp: 64.24 degrees \n",
      "Low Temp: 55.45 degrees\n",
      "\n",
      "Forecast for Berkeley, CA on Sunday, June 26, 2016 12:00 PM local time\n",
      "Weather: Clear\n",
      "Current Temp: 89.04 degrees \n",
      "High Temp: 89.28 degrees \n",
      "Low Temp: 54.09 degrees\n",
      "\n",
      "Forecast for Berkeley, CA on Monday, June 27, 2016 12:00 PM local time\n",
      "Weather: Clear\n",
      "Current Temp: 90.14 degrees \n",
      "High Temp: 91.15 degrees \n",
      "Low Temp: 55.4 degrees\n",
      "\n",
      "Forecast for Berkeley, CA on Tuesday, June 28, 2016 12:00 PM local time\n",
      "Weather: Clouds\n",
      "Current Temp: 86.13 degrees \n",
      "High Temp: 93.69 degrees \n",
      "Low Temp: 61.38 degrees\n",
      "\n",
      "Forecast for Berkeley, CA on Wednesday, June 29, 2016 12:00 PM local time\n",
      "Weather: Clear\n",
      "Current Temp: 83.1 degrees \n",
      "High Temp: 91.89 degrees \n",
      "Low Temp: 61.61 degrees\n",
      "\n",
      "Forecast for Berkeley, CA on Thursday, June 30, 2016 12:00 PM local time\n",
      "Weather: Clear\n",
      "Current Temp: 86.77 degrees \n",
      "High Temp: 94.44 degrees \n",
      "Low Temp: 59.2 degrees\n",
      "\n",
      "Forecast for Berkeley, CA on Friday, July 01, 2016 12:00 PM local time\n",
      "Weather: Clear\n",
      "Current Temp: 83.95 degrees \n",
      "High Temp: 90.81 degrees \n",
      "Low Temp: 58.5 degrees\n"
     ]
    }
   ],
   "source": [
    "from weather import daily,weekly\n",
    "print(\"Daily\")\n",
    "print(daily.forecast())\n",
    "print()\n",
    "print(\"Weekly\")\n",
    "print(weekly.forecast())"
   ]
  },
  {
   "cell_type": "code",
   "execution_count": 45,
   "metadata": {
    "collapsed": false
   },
   "outputs": [
    {
     "name": "stdout",
     "output_type": "stream",
     "text": [
      "Daily\n",
      "Forecast for Berkeley, CA: Clear\n",
      "Current Temp: 64.24 degrees \n",
      "High Temp: 64.24 degrees \n",
      "Low Temp: 55.45 degrees\n",
      "\n",
      "Weekly\n",
      "Forecast for Berkeley, CA on Saturday, June 25, 2016 12:00 PM local time\n",
      "Weather: Clear\n",
      "Current Temp: 64.24 degrees \n",
      "High Temp: 64.24 degrees \n",
      "Low Temp: 55.45 degrees\n",
      "\n",
      "Forecast for Berkeley, CA on Sunday, June 26, 2016 12:00 PM local time\n",
      "Weather: Clear\n",
      "Current Temp: 89.04 degrees \n",
      "High Temp: 89.28 degrees \n",
      "Low Temp: 54.09 degrees\n",
      "\n",
      "Forecast for Berkeley, CA on Monday, June 27, 2016 12:00 PM local time\n",
      "Weather: Clear\n",
      "Current Temp: 90.14 degrees \n",
      "High Temp: 91.15 degrees \n",
      "Low Temp: 55.4 degrees\n",
      "\n",
      "Forecast for Berkeley, CA on Tuesday, June 28, 2016 12:00 PM local time\n",
      "Weather: Clouds\n",
      "Current Temp: 86.13 degrees \n",
      "High Temp: 93.69 degrees \n",
      "Low Temp: 61.38 degrees\n",
      "\n",
      "Forecast for Berkeley, CA on Wednesday, June 29, 2016 12:00 PM local time\n",
      "Weather: Clear\n",
      "Current Temp: 83.1 degrees \n",
      "High Temp: 91.89 degrees \n",
      "Low Temp: 61.61 degrees\n",
      "\n",
      "Forecast for Berkeley, CA on Thursday, June 30, 2016 12:00 PM local time\n",
      "Weather: Clear\n",
      "Current Temp: 86.77 degrees \n",
      "High Temp: 94.44 degrees \n",
      "Low Temp: 59.2 degrees\n",
      "\n",
      "Forecast for Berkeley, CA on Friday, July 01, 2016 12:00 PM local time\n",
      "Weather: Clear\n",
      "Current Temp: 83.95 degrees \n",
      "High Temp: 90.81 degrees \n",
      "Low Temp: 58.5 degrees\n"
     ]
    }
   ],
   "source": [
    "from weather.daily import forecast as daily_forecast\n",
    "from weather.weekly import forecast as weekly_forecast\n",
    "print(\"Daily\")\n",
    "print(daily_forecast())\n",
    "print()\n",
    "print(\"Weekly\")\n",
    "print(weekly_forecast())"
   ]
  },
  {
   "cell_type": "markdown",
   "metadata": {},
   "source": [
    "## Note on datetimes in Python 3"
   ]
  },
  {
   "cell_type": "code",
   "execution_count": 57,
   "metadata": {
    "collapsed": false
   },
   "outputs": [
    {
     "name": "stdout",
     "output_type": "stream",
     "text": [
      "Forecast for Berkeley, CA on Saturday, August 22, 2015, 11:16 AM local time\n",
      "\n"
     ]
    }
   ],
   "source": [
    "import datetime \n",
    "\n",
    "weatherData = {}\n",
    "weatherData[\"dt\"] = 1440270976\n",
    "\n",
    "current_utc_offset = -datetime.timedelta(hours=8)\n",
    "\n",
    "current_timezone = datetime.timezone(current_utc_offset)\n",
    "\n",
    "current_datetime = datetime.datetime.fromtimestamp(weatherData[\"dt\"],current_timezone)\n",
    "\n",
    "forecastStr = \"Forecast for Berkeley, CA on \"+current_datetime.strftime(\"%A, %B %d, %Y, %H:%M %p\")+ \" local time\\n\"\n",
    "\n",
    "print(forecastStr)\n"
   ]
  },
  {
   "cell_type": "markdown",
   "metadata": {},
   "source": [
    "# Python Standard Library"
   ]
  },
  {
   "cell_type": "markdown",
   "metadata": {},
   "source": [
    "## Handling KeyErrors automatically using setdefault"
   ]
  },
  {
   "cell_type": "code",
   "execution_count": 59,
   "metadata": {
    "collapsed": false
   },
   "outputs": [
    {
     "ename": "KeyError",
     "evalue": "'Carbon'",
     "output_type": "error",
     "traceback": [
      "\u001b[1;31m---------------------------------------------------------------------------\u001b[0m",
      "\u001b[1;31mKeyError\u001b[0m                                  Traceback (most recent call last)",
      "\u001b[1;32m<ipython-input-59-fe3a730bccc8>\u001b[0m in \u001b[0;36m<module>\u001b[1;34m()\u001b[0m\n\u001b[0;32m      1\u001b[0m \u001b[0mperiodic_table\u001b[0m \u001b[1;33m=\u001b[0m \u001b[1;33m{\u001b[0m\u001b[1;34m'Hydrogen'\u001b[0m\u001b[1;33m:\u001b[0m\u001b[1;36m1\u001b[0m\u001b[1;33m,\u001b[0m\u001b[1;34m'Helium'\u001b[0m\u001b[1;33m:\u001b[0m\u001b[1;36m2\u001b[0m\u001b[1;33m}\u001b[0m\u001b[1;33m\u001b[0m\u001b[0m\n\u001b[1;32m----> 2\u001b[1;33m \u001b[0mperiodic_table\u001b[0m\u001b[1;33m[\u001b[0m\u001b[1;34m'Carbon'\u001b[0m\u001b[1;33m]\u001b[0m\u001b[1;33m\u001b[0m\u001b[0m\n\u001b[0m",
      "\u001b[1;31mKeyError\u001b[0m: 'Carbon'"
     ]
    }
   ],
   "source": [
    "periodic_table = {'Hydrogen':1,'Helium':2}\n",
    "periodic_table['Carbon']"
   ]
  },
  {
   "cell_type": "code",
   "execution_count": 63,
   "metadata": {
    "collapsed": false
   },
   "outputs": [
    {
     "name": "stdout",
     "output_type": "stream",
     "text": [
      "1\n",
      "2\n",
      "{'Carbon': 12, 'Helium': 2, 'Hydrogen': 1}\n"
     ]
    }
   ],
   "source": [
    "print(periodic_table.setdefault('Hydrogen',12))\n",
    "print(periodic_table.setdefault('Helium',12))\n",
    "periodic_table.setdefault('Carbon',12)\n",
    "print(periodic_table)"
   ]
  },
  {
   "cell_type": "markdown",
   "metadata": {},
   "source": [
    "## Create a dictionary with a default value using defaultdic()"
   ]
  },
  {
   "cell_type": "code",
   "execution_count": 65,
   "metadata": {
    "collapsed": true
   },
   "outputs": [],
   "source": [
    "from collections import defaultdict\n",
    "\n",
    "def not_an_element():\n",
    "    return int()\n",
    "\n",
    "no_error_periodic_table = defaultdict(not_an_element)\n",
    "\n",
    "no_error_periodic_table['Hydrogen'] = 1\n",
    "no_error_periodic_table['Helium'] = 2"
   ]
  },
  {
   "cell_type": "code",
   "execution_count": 68,
   "metadata": {
    "collapsed": false
   },
   "outputs": [
    {
     "name": "stdout",
     "output_type": "stream",
     "text": [
      "1\n",
      "2\n",
      "0\n"
     ]
    }
   ],
   "source": [
    "print(no_error_periodic_table['Hydrogen'])\n",
    "print(no_error_periodic_table['Helium'])\n",
    "print(no_error_periodic_table['Blastium'])"
   ]
  },
  {
   "cell_type": "code",
   "execution_count": 78,
   "metadata": {
    "collapsed": false
   },
   "outputs": [
    {
     "name": "stdout",
     "output_type": "stream",
     "text": [
      "Cornell University Press 2\n",
      "Frog Books 1\n",
      "Husband Press 1\n",
      "Cambridge University Press 1\n",
      "Indiana University Press 1\n",
      "Psychology Press 2\n",
      "Genealogical Publishing Com 1\n",
      "Springer Science & Business Media 1\n",
      "ProQuest 1\n",
      "Jones & Bartlett Learning 1\n",
      "Courier Corporation 1\n",
      "Lexington Books 1\n",
      "University of Chicago Press 1\n",
      "Arcadia Publishing 1\n",
      "McFarland 1\n",
      "Transaction Publishers 2\n",
      "Oxford University Press on Demand 1\n",
      "Penn State Press 1\n",
      "Univ of California Press 3\n",
      "North Atlantic Books 1\n",
      "Basic Books 1\n",
      "Princeton Architectural Press 1\n",
      "Johnston Press 1\n",
      "None 11\n",
      "Oxford University Press, USA 1\n"
     ]
    }
   ],
   "source": [
    "from collections import defaultdict\n",
    "from urllib.request import urlopen\n",
    "import json\n",
    "\n",
    "response = urlopen('https://www.googleapis.com/books/v1/volumes?q=berkeley&maxResults=40')\n",
    "rawData = response.read().decode(\"utf-8\")\n",
    "book_data = json.loads(rawData)\n",
    "\n",
    "publisher_counter = defaultdict(int)\n",
    "\n",
    "for item in book_data['items']:\n",
    "    publisher = item[\"volumeInfo\"].setdefault(\"publisher\", \"None\")\n",
    "    publisher_counter[publisher] += 1\n",
    "\n",
    "for publisher, count in publisher_counter.items():\n",
    "    print(publisher,count)\n",
    "    \n",
    "    "
   ]
  },
  {
   "cell_type": "code",
   "execution_count": 81,
   "metadata": {
    "collapsed": false
   },
   "outputs": [
    {
     "data": {
      "text/plain": [
       "99999"
      ]
     },
     "execution_count": 81,
     "metadata": {},
     "output_type": "execute_result"
    }
   ],
   "source": [
    "no_error_periodic_table = defaultdict(lambda: 99999)\n",
    "no_error_periodic_table['Hydrogen'] = 1\n",
    "no_error_periodic_table['Helium'] = 2\n",
    "no_error_periodic_table['Blastium']"
   ]
  },
  {
   "cell_type": "markdown",
   "metadata": {},
   "source": [
    "## Count items with Counter()"
   ]
  },
  {
   "cell_type": "code",
   "execution_count": 86,
   "metadata": {
    "collapsed": false
   },
   "outputs": [
    {
     "name": "stdout",
     "output_type": "stream",
     "text": [
      "Counter({'None': 11, 'Univ of California Press': 3, 'Cornell University Press': 2, 'Psychology Press': 2, 'Transaction Publishers': 2, 'Frog Books': 1, 'Husband Press': 1, 'Cambridge University Press': 1, 'Indiana University Press': 1, 'Genealogical Publishing Com': 1, 'Springer Science & Business Media': 1, 'ProQuest': 1, 'Jones & Bartlett Learning': 1, 'Courier Corporation': 1, 'Lexington Books': 1, 'University of Chicago Press': 1, 'Arcadia Publishing': 1, 'McFarland': 1, 'Oxford University Press on Demand': 1, 'Penn State Press': 1, 'North Atlantic Books': 1, 'Basic Books': 1, 'Princeton Architectural Press': 1, 'Johnston Press': 1, 'Oxford University Press, USA': 1})\n"
     ]
    }
   ],
   "source": [
    "from collections import Counter\n",
    "from urllib.request import urlopen\n",
    "import json\n",
    "\n",
    "response = urlopen('https://www.googleapis.com/books/v1/volumes?q=berkeley&maxResults=40')\n",
    "rawData = response.read().decode(\"utf-8\")\n",
    "book_data = json.loads(rawData)\n",
    "\n",
    "berkeley_list = list()\n",
    "for item in book_data['items']:\n",
    "    berkeley_list.append(item[\"volumeInfo\"].setdefault(\"publisher\", \"None\"))\n",
    "\n",
    "berkeley_counter = Counter(berkeley_list)\n",
    "print(berkeley_counter)"
   ]
  },
  {
   "cell_type": "code",
   "execution_count": 88,
   "metadata": {
    "collapsed": false
   },
   "outputs": [
    {
     "data": {
      "text/plain": [
       "[('None', 11),\n",
       " ('Univ of California Press', 3),\n",
       " ('Cornell University Press', 2)]"
      ]
     },
     "execution_count": 88,
     "metadata": {},
     "output_type": "execute_result"
    }
   ],
   "source": [
    "berkeley_counter.most_common(3)"
   ]
  },
  {
   "cell_type": "code",
   "execution_count": 89,
   "metadata": {
    "collapsed": false
   },
   "outputs": [
    {
     "name": "stdout",
     "output_type": "stream",
     "text": [
      "Counter({'None': 16, 'Stanford University Press': 6, 'Cambridge University Press': 3, 'Oxford University Press on Demand': 2, 'John Wiley & Sons': 2, 'California State Library': 1, 'Columbia University Press': 1, \"McGill-Queen's Press - MQUP\": 1, 'IndyPublish.com': 1, 'New York Review of Books': 1, 'Sports Publishing LLC': 1, 'Jessica Kingsley Publishers': 1, 'MIT Press': 1, 'Princeton Architectural Press': 1, 'Hogarth': 1, 'Courier Corporation': 1})\n"
     ]
    }
   ],
   "source": [
    "from collections import Counter\n",
    "from urllib.request import urlopen\n",
    "import json\n",
    "\n",
    "response = urlopen('https://www.googleapis.com/books/v1/volumes?q=stanford&maxResults=40')\n",
    "rawData = response.read().decode(\"utf-8\")\n",
    "book_data = json.loads(rawData)\n",
    "\n",
    "stanford_list = list()\n",
    "for item in book_data['items']:\n",
    "    stanford_list.append(item[\"volumeInfo\"].setdefault(\"publisher\", \"None\"))\n",
    "\n",
    "stanford_counter = Counter(stanford_list)\n",
    "print(stanford_counter)"
   ]
  },
  {
   "cell_type": "code",
   "execution_count": 91,
   "metadata": {
    "collapsed": false
   },
   "outputs": [
    {
     "data": {
      "text/plain": [
       "Counter({'Arcadia Publishing': 1,\n",
       "         'Basic Books': 1,\n",
       "         'California State Library': 1,\n",
       "         'Cambridge University Press': 4,\n",
       "         'Columbia University Press': 1,\n",
       "         'Cornell University Press': 2,\n",
       "         'Courier Corporation': 2,\n",
       "         'Frog Books': 1,\n",
       "         'Genealogical Publishing Com': 1,\n",
       "         'Hogarth': 1,\n",
       "         'Husband Press': 1,\n",
       "         'Indiana University Press': 1,\n",
       "         'IndyPublish.com': 1,\n",
       "         'Jessica Kingsley Publishers': 1,\n",
       "         'John Wiley & Sons': 2,\n",
       "         'Johnston Press': 1,\n",
       "         'Jones & Bartlett Learning': 1,\n",
       "         'Lexington Books': 1,\n",
       "         'MIT Press': 1,\n",
       "         'McFarland': 1,\n",
       "         \"McGill-Queen's Press - MQUP\": 1,\n",
       "         'New York Review of Books': 1,\n",
       "         'None': 27,\n",
       "         'North Atlantic Books': 1,\n",
       "         'Oxford University Press on Demand': 3,\n",
       "         'Oxford University Press, USA': 1,\n",
       "         'Penn State Press': 1,\n",
       "         'Princeton Architectural Press': 2,\n",
       "         'ProQuest': 1,\n",
       "         'Psychology Press': 2,\n",
       "         'Sports Publishing LLC': 1,\n",
       "         'Springer Science & Business Media': 1,\n",
       "         'Stanford University Press': 6,\n",
       "         'Transaction Publishers': 2,\n",
       "         'Univ of California Press': 3,\n",
       "         'University of Chicago Press': 1})"
      ]
     },
     "execution_count": 91,
     "metadata": {},
     "output_type": "execute_result"
    }
   ],
   "source": [
    "berkeley_counter + stanford_counter"
   ]
  },
  {
   "cell_type": "code",
   "execution_count": 94,
   "metadata": {
    "collapsed": false
   },
   "outputs": [
    {
     "data": {
      "text/plain": [
       "Counter({'Cambridge University Press': 1,\n",
       "         'Courier Corporation': 1,\n",
       "         'None': 11,\n",
       "         'Oxford University Press on Demand': 1,\n",
       "         'Princeton Architectural Press': 1})"
      ]
     },
     "execution_count": 94,
     "metadata": {},
     "output_type": "execute_result"
    }
   ],
   "source": [
    "berkeley_counter & stanford_counter"
   ]
  },
  {
   "cell_type": "code",
   "execution_count": 96,
   "metadata": {
    "collapsed": false
   },
   "outputs": [
    {
     "data": {
      "text/plain": [
       "Counter({'Arcadia Publishing': 1,\n",
       "         'Basic Books': 1,\n",
       "         'California State Library': 1,\n",
       "         'Cambridge University Press': 3,\n",
       "         'Columbia University Press': 1,\n",
       "         'Cornell University Press': 2,\n",
       "         'Courier Corporation': 1,\n",
       "         'Frog Books': 1,\n",
       "         'Genealogical Publishing Com': 1,\n",
       "         'Hogarth': 1,\n",
       "         'Husband Press': 1,\n",
       "         'Indiana University Press': 1,\n",
       "         'IndyPublish.com': 1,\n",
       "         'Jessica Kingsley Publishers': 1,\n",
       "         'John Wiley & Sons': 2,\n",
       "         'Johnston Press': 1,\n",
       "         'Jones & Bartlett Learning': 1,\n",
       "         'Lexington Books': 1,\n",
       "         'MIT Press': 1,\n",
       "         'McFarland': 1,\n",
       "         \"McGill-Queen's Press - MQUP\": 1,\n",
       "         'New York Review of Books': 1,\n",
       "         'None': 16,\n",
       "         'North Atlantic Books': 1,\n",
       "         'Oxford University Press on Demand': 2,\n",
       "         'Oxford University Press, USA': 1,\n",
       "         'Penn State Press': 1,\n",
       "         'Princeton Architectural Press': 1,\n",
       "         'ProQuest': 1,\n",
       "         'Psychology Press': 2,\n",
       "         'Sports Publishing LLC': 1,\n",
       "         'Springer Science & Business Media': 1,\n",
       "         'Stanford University Press': 6,\n",
       "         'Transaction Publishers': 2,\n",
       "         'Univ of California Press': 3,\n",
       "         'University of Chicago Press': 1})"
      ]
     },
     "execution_count": 96,
     "metadata": {},
     "output_type": "execute_result"
    }
   ],
   "source": [
    "berkeley_counter | stanford_counter\n",
    "# | is or "
   ]
  },
  {
   "cell_type": "markdown",
   "metadata": {},
   "source": [
    "## Ordering dictionaries with OrderedDict()"
   ]
  },
  {
   "cell_type": "code",
   "execution_count": 97,
   "metadata": {
    "collapsed": false
   },
   "outputs": [
    {
     "name": "stdout",
     "output_type": "stream",
     "text": [
      "Cornell University Press\n",
      "Frog Books\n",
      "Husband Press\n",
      "Cambridge University Press\n",
      "Indiana University Press\n",
      "Psychology Press\n",
      "Genealogical Publishing Com\n",
      "Springer Science & Business Media\n",
      "ProQuest\n",
      "Jones & Bartlett Learning\n",
      "Courier Corporation\n",
      "Lexington Books\n",
      "University of Chicago Press\n",
      "Arcadia Publishing\n",
      "McFarland\n",
      "Transaction Publishers\n",
      "Oxford University Press on Demand\n",
      "Penn State Press\n",
      "Univ of California Press\n",
      "North Atlantic Books\n",
      "Basic Books\n",
      "Princeton Architectural Press\n",
      "Johnston Press\n",
      "None\n",
      "Oxford University Press, USA\n"
     ]
    }
   ],
   "source": [
    "from collections import OrderedDict\n",
    "berkeley_publishers = OrderedDict(berkeley_counter)\n",
    "for publisher in berkeley_publishers:\n",
    "    print(publisher)"
   ]
  },
  {
   "cell_type": "markdown",
   "metadata": {},
   "source": [
    "## Using deques "
   ]
  },
  {
   "cell_type": "code",
   "execution_count": 101,
   "metadata": {
    "collapsed": false
   },
   "outputs": [
    {
     "name": "stdout",
     "output_type": "stream",
     "text": [
      "['None', 'Univ of California Press', 'Cornell University Press', 'Psychology Press', 'Transaction Publishers', 'Frog Books', 'Husband Press', 'Cambridge University Press', 'Indiana University Press', 'Genealogical Publishing Com', 'Springer Science & Business Media', 'ProQuest', 'Jones & Bartlett Learning', 'Courier Corporation', 'Lexington Books', 'University of Chicago Press', 'Arcadia Publishing', 'McFarland', 'Oxford University Press on Demand', 'Penn State Press', 'North Atlantic Books', 'Basic Books', 'Princeton Architectural Press', 'Johnston Press', 'Oxford University Press, USA']\n"
     ]
    }
   ],
   "source": [
    "berkeley_publisher_list_ordered = list()\n",
    "for key, value in berkeley_counter.most_common():\n",
    "    berkeley_publisher_list_ordered.append(key)\n",
    "print(berkeley_publisher_list_ordered)"
   ]
  },
  {
   "cell_type": "code",
   "execution_count": 104,
   "metadata": {
    "collapsed": false
   },
   "outputs": [
    {
     "name": "stdout",
     "output_type": "stream",
     "text": [
      "deque(['Univ of California Press', 'Cornell University Press', 'Psychology Press', 'Transaction Publishers', 'Frog Books', 'Husband Press', 'Cambridge University Press', 'Indiana University Press', 'Genealogical Publishing Com', 'Springer Science & Business Media', 'ProQuest', 'Jones & Bartlett Learning', 'Courier Corporation', 'Lexington Books', 'University of Chicago Press', 'Arcadia Publishing', 'McFarland', 'Oxford University Press on Demand', 'Penn State Press', 'North Atlantic Books', 'Basic Books', 'Princeton Architectural Press'])\n"
     ]
    }
   ],
   "source": [
    "from collections import deque\n",
    "berkeley_publisher_list_ordered_deque = deque(berkeley_publisher_list_ordered)\n",
    "berkeley_publisher_list_ordered_deque.pop()\n",
    "berkeley_publisher_list_ordered_deque.popleft()\n",
    "print(berkeley_publisher_list_ordered_deque)"
   ]
  },
  {
   "cell_type": "markdown",
   "metadata": {},
   "source": [
    "## Pretty print with pprint"
   ]
  },
  {
   "cell_type": "code",
   "execution_count": 107,
   "metadata": {
    "collapsed": false
   },
   "outputs": [
    {
     "name": "stdout",
     "output_type": "stream",
     "text": [
      "['None',\n",
      " 'Univ of California Press',\n",
      " 'Cornell University Press',\n",
      " 'Psychology Press',\n",
      " 'Transaction Publishers',\n",
      " 'Frog Books',\n",
      " 'Husband Press',\n",
      " 'Cambridge University Press',\n",
      " 'Indiana University Press',\n",
      " 'Genealogical Publishing Com',\n",
      " 'Springer Science & Business Media',\n",
      " 'ProQuest',\n",
      " 'Jones & Bartlett Learning',\n",
      " 'Courier Corporation',\n",
      " 'Lexington Books',\n",
      " 'University of Chicago Press',\n",
      " 'Arcadia Publishing',\n",
      " 'McFarland',\n",
      " 'Oxford University Press on Demand',\n",
      " 'Penn State Press',\n",
      " 'North Atlantic Books',\n",
      " 'Basic Books',\n",
      " 'Princeton Architectural Press',\n",
      " 'Johnston Press']\n"
     ]
    }
   ],
   "source": [
    "from pprint import pprint\n",
    "pprint(berkeley_publisher_list_ordered)"
   ]
  },
  {
   "cell_type": "markdown",
   "metadata": {},
   "source": [
    "## Note on installing third party packages "
   ]
  },
  {
   "cell_type": "code",
   "execution_count": 109,
   "metadata": {
    "collapsed": false
   },
   "outputs": [
    {
     "ename": "SyntaxError",
     "evalue": "invalid syntax (<ipython-input-109-d8d590b65ae3>, line 1)",
     "output_type": "error",
     "traceback": [
      "\u001b[1;36m  File \u001b[1;32m\"<ipython-input-109-d8d590b65ae3>\"\u001b[1;36m, line \u001b[1;32m1\u001b[0m\n\u001b[1;33m    pip install [package_name]\u001b[0m\n\u001b[1;37m              ^\u001b[0m\n\u001b[1;31mSyntaxError\u001b[0m\u001b[1;31m:\u001b[0m invalid syntax\n"
     ]
    }
   ],
   "source": [
    "pip install [package_name]"
   ]
  }
 ],
 "metadata": {
  "kernelspec": {
   "display_name": "Python 3",
   "language": "python",
   "name": "python3"
  },
  "language_info": {
   "codemirror_mode": {
    "name": "ipython",
    "version": 3
   },
   "file_extension": ".py",
   "mimetype": "text/x-python",
   "name": "python",
   "nbconvert_exporter": "python",
   "pygments_lexer": "ipython3",
   "version": "3.5.1"
  }
 },
 "nbformat": 4,
 "nbformat_minor": 0
}
