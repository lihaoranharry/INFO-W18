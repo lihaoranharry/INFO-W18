{
 "cells": [
  {
   "cell_type": "markdown",
   "metadata": {},
   "source": [
    "# Modules and Packages "
   ]
  },
  {
   "cell_type": "markdown",
   "metadata": {},
   "source": [
    "Programs:\n",
    "    you have been weirring a series of \"mini programs\"\n",
    "    \n",
    "    you can save the Python snippets into a regular text file, add the \".py\" extension, and run it on the command line.\n",
    "    \n",
    "        e.g. python test.py\n",
    "        \n",
    "    you can get command line arguments by importing sys and using the argv list.\n",
    "        e.g. import sys\n",
    "              print ('Program Arguments: ', sys.argv)"
   ]
  },
  {
   "cell_type": "markdown",
   "metadata": {},
   "source": [
    "## Modules\n",
    "Modules are contained in a single Pyhon file and contains all of the variables.\n",
    "functions, and classes that you can use in an external program \n",
    "\n",
    "you will be able to interact with the module as if the code was pasted right on top of your code, with a caveat \n",
    "\n",
    "e.g. \n",
    "\n",
    "    import sys\n",
    "    print('Program Arguments: ', sys.argv)\n",
    "    \n",
    "    we have imported a module called sys that we wanted to add to our code. we import the sys module to use functionality implemented in sys.py.\n",
    "    \n",
    "    The caveat is that in order to prevent naming conflicts, in order to access anything in the sys module, you will need to prefic the varibale/function/class with sys; i.e., sys.argv, even though in th file sys.py the variabe \"argv\" is a global variable "
   ]
  },
  {
   "cell_type": "markdown",
   "metadata": {},
   "source": [
    "## Packages \n",
    "- A directory that contains a collection of modules.\n",
    "- Packages are a great way to organize modules that are related to each other.\n",
    "- Packages are essentially directories that have a special empty fiile named \"\\_init\\_.py\".\n",
    "\n",
    "e.g.\n",
    "import numpy.matlib\n",
    "- in this example \"numpy\" is the package and matlib is the module within the package numpy.\n",
    "- the package \"numpy\" has an empty file named \"\\_init\\_.py\" that tells Python that numpy is a package.\n"
   ]
  },
  {
   "cell_type": "markdown",
   "metadata": {},
   "source": [
    "# Modules and the Import Statement"
   ]
  },
  {
   "cell_type": "markdown",
   "metadata": {},
   "source": [
    "## Standalone Programs "
   ]
  },
  {
   "cell_type": "code",
   "execution_count": 9,
   "metadata": {
    "collapsed": false
   },
   "outputs": [
    {
     "name": "stdout",
     "output_type": "stream",
     "text": [
      "Hello World, revisited\n"
     ]
    }
   ],
   "source": [
    "!python helloworld.py"
   ]
  },
  {
   "cell_type": "code",
   "execution_count": 7,
   "metadata": {
    "collapsed": false
   },
   "outputs": [
    {
     "name": "stdout",
     "output_type": "stream",
     "text": [
      "# helloworld.py\n",
      "#\n",
      "# This is our first python script rum from the command line as a stand alone\n",
      "# application\n",
      "\n",
      "print(\"Hello World, revisited\")\n"
     ]
    }
   ],
   "source": [
    "!cat helloworld.py"
   ]
  },
  {
   "cell_type": "code",
   "execution_count": 15,
   "metadata": {
    "collapsed": false
   },
   "outputs": [
    {
     "name": "stdout",
     "output_type": "stream",
     "text": [
      "# showarguments.py\n",
      "#\n",
      "# Prints out the program arguments that have been passed into this standalone\n",
      "# application\n",
      "\n",
      "import sys # We need to import the sys module in order to gain access to the arguments\n",
      "\n",
      "print(\"Program argument:\" , sys.argv)\n"
     ]
    }
   ],
   "source": [
    "!cat showarguments.py"
   ]
  },
  {
   "cell_type": "code",
   "execution_count": 16,
   "metadata": {
    "collapsed": false
   },
   "outputs": [
    {
     "name": "stdout",
     "output_type": "stream",
     "text": [
      "Program argument: ['showarguments.py']\n"
     ]
    }
   ],
   "source": [
    "!python showarguments.py "
   ]
  },
  {
   "cell_type": "code",
   "execution_count": 18,
   "metadata": {
    "collapsed": false
   },
   "outputs": [
    {
     "name": "stdout",
     "output_type": "stream",
     "text": [
      "Program argument: ['showarguments.py', 'firstArg', 'secondArg', 'thirdArg']\n"
     ]
    }
   ],
   "source": [
    "!python showarguments.py firstArg secondArg thirdArg"
   ]
  },
  {
   "cell_type": "markdown",
   "metadata": {},
   "source": [
    "## Modules and the import stetement"
   ]
  },
  {
   "cell_type": "code",
   "execution_count": 25,
   "metadata": {
    "collapsed": false
   },
   "outputs": [
    {
     "name": "stdout",
     "output_type": "stream",
     "text": [
      "# weatherman.py\n",
      "#\n",
      "#Provides the current forecasr for the weather in Berkeley, California\n",
      "\n",
      "from urllib.request import urlopen\n",
      "import json\n",
      "\n",
      "def get_report():\n",
      "    \"\"\"\n",
      "    Returns the current forecast of Berkeley right now\n",
      "    \"\"\"\n",
      "    response = urlopen(\n",
      "        'http://api.openweathermap.org/data/2.5/weather?q=Berkeley,ca&appid=7dc34849d7e8b6fbdcb3f12454c92e88')\n",
      "        rawWeatherData = response.read().decode(\"utf-8\")\n",
      "        weatherData = json.loads(rawWeatherData)\n",
      "\n",
      "        forecast = \"Berkeley, CA Forecast: \" + weatherData[\"weather\"][0][\"main\"]\n",
      "        return forecast\n"
     ]
    }
   ],
   "source": [
    "!cat weatherman.py"
   ]
  },
  {
   "cell_type": "code",
   "execution_count": 27,
   "metadata": {
    "collapsed": false
   },
   "outputs": [
    {
     "name": "stdout",
     "output_type": "stream",
     "text": [
      "Berkeley, CA Forecast: Drizzle\n"
     ]
    }
   ],
   "source": [
    "import weatherman\n",
    "\n",
    "print(weatherman.get_report())"
   ]
  },
  {
   "cell_type": "markdown",
   "metadata": {},
   "source": [
    "## 1. Import a specific function directly from he external module"
   ]
  },
  {
   "cell_type": "code",
   "execution_count": 29,
   "metadata": {
    "collapsed": false
   },
   "outputs": [
    {
     "name": "stdout",
     "output_type": "stream",
     "text": [
      "Berkeley, CA Forecast: Mist\n"
     ]
    }
   ],
   "source": [
    "# we import this specific function that we need directly from the weatherman \n",
    "# module, notice we do not need to write weatherman in front of it when we call\n",
    "# it, but you should be careful if two different modules have the same name \n",
    "from weatherman import get_report\n",
    "print(get_report())"
   ]
  },
  {
   "cell_type": "markdown",
   "metadata": {},
   "source": [
    "## 2. Import the module name to avoid naming conflicts"
   ]
  },
  {
   "cell_type": "code",
   "execution_count": 32,
   "metadata": {
    "collapsed": false
   },
   "outputs": [
    {
     "name": "stdout",
     "output_type": "stream",
     "text": [
      "Berkeley, CA Forecast: Mist\n"
     ]
    }
   ],
   "source": [
    "import weatherman\n",
    "print(weatherman.get_report())"
   ]
  },
  {
   "cell_type": "markdown",
   "metadata": {},
   "source": [
    "## 3. import only what you want from a module by renaming the function"
   ]
  },
  {
   "cell_type": "code",
   "execution_count": 34,
   "metadata": {
    "collapsed": false
   },
   "outputs": [
    {
     "name": "stdout",
     "output_type": "stream",
     "text": [
      "Berkeley, CA Forecast: Mist\n"
     ]
    }
   ],
   "source": [
    "from weatherman import get_report as do_it\n",
    "print(do_it())"
   ]
  },
  {
   "cell_type": "markdown",
   "metadata": {},
   "source": [
    "## Note on Module Search Path"
   ]
  },
  {
   "cell_type": "code",
   "execution_count": 36,
   "metadata": {
    "collapsed": false
   },
   "outputs": [
    {
     "name": "stdout",
     "output_type": "stream",
     "text": [
      "\n",
      "C:\\Anaconda3\\python35.zip\n",
      "C:\\Anaconda3\\DLLs\n",
      "C:\\Anaconda3\\lib\n",
      "C:\\Anaconda3\n",
      "c:\\anaconda3\\lib\\site-packages\\setuptools-20.3-py3.5.egg\n",
      "C:\\Anaconda3\\lib\\site-packages\n",
      "C:\\Anaconda3\\lib\\site-packages\\Sphinx-1.3.5-py3.5.egg\n",
      "C:\\Anaconda3\\lib\\site-packages\\win32\n",
      "C:\\Anaconda3\\lib\\site-packages\\win32\\lib\n",
      "C:\\Anaconda3\\lib\\site-packages\\Pythonwin\n",
      "C:\\Anaconda3\\lib\\site-packages\\IPython\\extensions\n",
      "C:\\Users\\hrli1\\.ipython\n"
     ]
    }
   ],
   "source": [
    "import sys\n",
    "for place in sys.path:\n",
    "    print(place)"
   ]
  },
  {
   "cell_type": "markdown",
   "metadata": {},
   "source": [
    "# Packages "
   ]
  },
  {
   "cell_type": "code",
   "execution_count": 40,
   "metadata": {
    "collapsed": false
   },
   "outputs": [
    {
     "name": "stdout",
     "output_type": "stream",
     "text": [
      "# daily.py\n",
      "# \n",
      "# Provides the weather for Berkeley, CA for today\n",
      "\n",
      "from urllib.request import urlopen\n",
      "import json\n",
      "\n",
      "def forecast():\n",
      "    \"\"\"\n",
      "    Returns the daily weather for Berkeley, CA\n",
      "    \"\"\"\n",
      "    response = urlopen('http://api.openweathermap.org/data/2.5/forecast/daily?q=Berkeley&mode=json&units=Imperial&cnt=1&appid=7dc34849d7e8b6fbdcb3f12454c92e88')\n",
      "    rawWeatherData = response.read().decode(\"utf-8\")\n",
      "    weatherData = json.loads(rawWeatherData)\n",
      "\n",
      "    forecastStr = \"Forecast for Berkeley, CA: \" + weatherData[\"list\"][0][\"weather\"][0][\"main\"] + \"\\n\" \\\n",
      "        \"Current Temp: \" + str(weatherData[\"list\"][0][\"temp\"][\"day\"]) + \" degrees \\n\"  \\\n",
      "        \"High Temp: \" + str(weatherData[\"list\"][0][\"temp\"][\"max\"]) + \" degrees \\n\" \\\n",
      "        \"Low Temp: \" + str(weatherData[\"list\"][0][\"temp\"][\"min\"]) + \" degrees\"\n",
      "\n",
      "    return forecastStr\n"
     ]
    }
   ],
   "source": [
    "!cat weather/daily.py"
   ]
  },
  {
   "cell_type": "code",
   "execution_count": 41,
   "metadata": {
    "collapsed": false
   },
   "outputs": [
    {
     "name": "stdout",
     "output_type": "stream",
     "text": [
      "# weekly.py\n",
      "# \n",
      "# Provides the weather for Berkeley, CA for the week\n",
      "\n",
      "from urllib.request import urlopen\n",
      "import json\n",
      "import datetime\n",
      "\n",
      "def forecast():\n",
      "    \"\"\"\n",
      "    Returns the daily weather for Berkeley, CA\n",
      "    \"\"\"\n",
      "    response = urlopen('http://api.openweathermap.org/data/2.5/forecast/daily?q=Berkeley&mode=json&units=Imperial&cnt=7&appid=7dc34849d7e8b6fbdcb3f12454c92e88')\n",
      "    rawWeatherDataList = response.read().decode(\"utf-8\")\n",
      "    weatherDataList = json.loads(rawWeatherDataList)\n",
      "\n",
      "    forecastStr = \"\"\n",
      "    for i in range(7):\n",
      "        forecastStr += _daily_forecast(weatherDataList[\"list\"][i]) + \"\\n\\n\"\n",
      "\n",
      "    forecastStr = forecastStr[:-2] # Remove the two newlines at the end \n",
      "    return forecastStr\n",
      "\n",
      "\n",
      "def _daily_forecast(weatherData):\n",
      "    \"\"\"\n",
      "    Helper function that prints a single day's forecast\n",
      "    \"\"\"\n",
      "\n",
      "    # Using python datetime support to convert a timestamp into a full date\n",
      "    \n",
      "    # First need to define the UTC offset for Berkeley, CA (UTC - 8:00) (not daylight savings time)\n",
      "    current_utc_offset = -datetime.timedelta(hours=8)\n",
      "\n",
      "    # Next we create a timezone based on the utc offset for Pacific Standard Time\n",
      "    current_timezone = datetime.timezone(current_utc_offset)\n",
      "\n",
      "    # Last we create a datetime object based on the timestamp provided by the response, and\n",
      "    # we localize the timezone to represent Pacific Standard Time \n",
      "    current_datetime = datetime.datetime.fromtimestamp(weatherData[\"dt\"], current_timezone)\n",
      "\n",
      "    # Printing of the forecast\n",
      "    \n",
      "    # Note we use strftime to format how we would like to print out the datetime\n",
      "    forecastStr = \"Forecast for Berkeley, CA on \" + current_datetime.strftime(\"%A, %B %d, %Y %H:%M %p\") + \" local time\\n\" \\\n",
      "    \"Weather: \"  + weatherData[\"weather\"][0][\"main\"] + \"\\n\" \\\n",
      "    \"Current Temp: \" + str(weatherData[\"temp\"][\"day\"]) + \" degrees \\n\"  \\\n",
      "    \"High Temp: \" + str(weatherData[\"temp\"][\"max\"]) + \" degrees \\n\" \\\n",
      "    \"Low Temp: \" + str(weatherData[\"temp\"][\"min\"]) + \" degrees\"\n",
      "\n",
      "    return forecastStr\n"
     ]
    }
   ],
   "source": [
    "!cat weather/weekly.py"
   ]
  },
  {
   "cell_type": "code",
   "execution_count": 42,
   "metadata": {
    "collapsed": true
   },
   "outputs": [],
   "source": [
    "!touch weather/__init__.py"
   ]
  },
  {
   "cell_type": "code",
   "execution_count": 43,
   "metadata": {
    "collapsed": false
   },
   "outputs": [
    {
     "name": "stdout",
     "output_type": "stream",
     "text": [
      "Daily\n",
      "Forecast for Berkeley, CA: Clear\n",
      "Current Temp: 64.24 degrees \n",
      "High Temp: 64.24 degrees \n",
      "Low Temp: 55.45 degrees\n",
      "\n",
      "Weekly\n",
      "Forecast for Berkeley, CA on Saturday, June 25, 2016 12:00 PM local time\n",
      "Weather: Clear\n",
      "Current Temp: 64.24 degrees \n",
      "High Temp: 64.24 degrees \n",
      "Low Temp: 55.45 degrees\n",
      "\n",
      "Forecast for Berkeley, CA on Sunday, June 26, 2016 12:00 PM local time\n",
      "Weather: Clear\n",
      "Current Temp: 89.04 degrees \n",
      "High Temp: 89.28 degrees \n",
      "Low Temp: 54.09 degrees\n",
      "\n",
      "Forecast for Berkeley, CA on Monday, June 27, 2016 12:00 PM local time\n",
      "Weather: Clear\n",
      "Current Temp: 90.14 degrees \n",
      "High Temp: 91.15 degrees \n",
      "Low Temp: 55.4 degrees\n",
      "\n",
      "Forecast for Berkeley, CA on Tuesday, June 28, 2016 12:00 PM local time\n",
      "Weather: Clouds\n",
      "Current Temp: 86.13 degrees \n",
      "High Temp: 93.69 degrees \n",
      "Low Temp: 61.38 degrees\n",
      "\n",
      "Forecast for Berkeley, CA on Wednesday, June 29, 2016 12:00 PM local time\n",
      "Weather: Clear\n",
      "Current Temp: 83.1 degrees \n",
      "High Temp: 91.89 degrees \n",
      "Low Temp: 61.61 degrees\n",
      "\n",
      "Forecast for Berkeley, CA on Thursday, June 30, 2016 12:00 PM local time\n",
      "Weather: Clear\n",
      "Current Temp: 86.77 degrees \n",
      "High Temp: 94.44 degrees \n",
      "Low Temp: 59.2 degrees\n",
      "\n",
      "Forecast for Berkeley, CA on Friday, July 01, 2016 12:00 PM local time\n",
      "Weather: Clear\n",
      "Current Temp: 83.95 degrees \n",
      "High Temp: 90.81 degrees \n",
      "Low Temp: 58.5 degrees\n"
     ]
    }
   ],
   "source": [
    "from weather import daily,weekly\n",
    "print(\"Daily\")\n",
    "print(daily.forecast())\n",
    "print()\n",
    "print(\"Weekly\")\n",
    "print(weekly.forecast())"
   ]
  },
  {
   "cell_type": "code",
   "execution_count": 45,
   "metadata": {
    "collapsed": false
   },
   "outputs": [
    {
     "name": "stdout",
     "output_type": "stream",
     "text": [
      "Daily\n",
      "Forecast for Berkeley, CA: Clear\n",
      "Current Temp: 64.24 degrees \n",
      "High Temp: 64.24 degrees \n",
      "Low Temp: 55.45 degrees\n",
      "\n",
      "Weekly\n",
      "Forecast for Berkeley, CA on Saturday, June 25, 2016 12:00 PM local time\n",
      "Weather: Clear\n",
      "Current Temp: 64.24 degrees \n",
      "High Temp: 64.24 degrees \n",
      "Low Temp: 55.45 degrees\n",
      "\n",
      "Forecast for Berkeley, CA on Sunday, June 26, 2016 12:00 PM local time\n",
      "Weather: Clear\n",
      "Current Temp: 89.04 degrees \n",
      "High Temp: 89.28 degrees \n",
      "Low Temp: 54.09 degrees\n",
      "\n",
      "Forecast for Berkeley, CA on Monday, June 27, 2016 12:00 PM local time\n",
      "Weather: Clear\n",
      "Current Temp: 90.14 degrees \n",
      "High Temp: 91.15 degrees \n",
      "Low Temp: 55.4 degrees\n",
      "\n",
      "Forecast for Berkeley, CA on Tuesday, June 28, 2016 12:00 PM local time\n",
      "Weather: Clouds\n",
      "Current Temp: 86.13 degrees \n",
      "High Temp: 93.69 degrees \n",
      "Low Temp: 61.38 degrees\n",
      "\n",
      "Forecast for Berkeley, CA on Wednesday, June 29, 2016 12:00 PM local time\n",
      "Weather: Clear\n",
      "Current Temp: 83.1 degrees \n",
      "High Temp: 91.89 degrees \n",
      "Low Temp: 61.61 degrees\n",
      "\n",
      "Forecast for Berkeley, CA on Thursday, June 30, 2016 12:00 PM local time\n",
      "Weather: Clear\n",
      "Current Temp: 86.77 degrees \n",
      "High Temp: 94.44 degrees \n",
      "Low Temp: 59.2 degrees\n",
      "\n",
      "Forecast for Berkeley, CA on Friday, July 01, 2016 12:00 PM local time\n",
      "Weather: Clear\n",
      "Current Temp: 83.95 degrees \n",
      "High Temp: 90.81 degrees \n",
      "Low Temp: 58.5 degrees\n"
     ]
    }
   ],
   "source": [
    "from weather.daily import forecast as daily_forecast\n",
    "from weather.weekly import forecast as weekly_forecast\n",
    "print(\"Daily\")\n",
    "print(daily_forecast())\n",
    "print()\n",
    "print(\"Weekly\")\n",
    "print(weekly_forecast())"
   ]
  },
  {
   "cell_type": "markdown",
   "metadata": {},
   "source": [
    "## Note on datetimes in Python 3"
   ]
  },
  {
   "cell_type": "code",
   "execution_count": 53,
   "metadata": {
    "collapsed": false
   },
   "outputs": [
    {
     "name": "stdout",
     "output_type": "stream",
     "text": [
      "Forecast for Berkeley, CA on Saturday, August,22, 2015, 11:16 AM local time\n",
      "\n"
     ]
    }
   ],
   "source": [
    "import datetime \n",
    "\n",
    "weatherData = {}\n",
    "weatherData[\"dt\"] = 1440270976\n",
    "\n",
    "current_utc_offset = -datetime.timedelta(hours=8)\n",
    "\n",
    "current_timezone = datetime.timezone(current_utc_offset)\n",
    "\n",
    "current_datetime = datetime.datetime.fromtimestamp(weatherData[\"dt\"],current_timezone)\n",
    "\n",
    "forecastStr = \"Forecast for Berkeley, CA on \"+current_datetime.strftime(\"%A, %B,%d, %Y, %H:%M %p\")+ \" local time\\n\"\n",
    "\n",
    "print(forecastStr)\n"
   ]
  },
  {
   "cell_type": "code",
   "execution_count": null,
   "metadata": {
    "collapsed": true
   },
   "outputs": [],
   "source": []
  }
 ],
 "metadata": {
  "kernelspec": {
   "display_name": "Python 3",
   "language": "python",
   "name": "python3"
  },
  "language_info": {
   "codemirror_mode": {
    "name": "ipython",
    "version": 3
   },
   "file_extension": ".py",
   "mimetype": "text/x-python",
   "name": "python",
   "nbconvert_exporter": "python",
   "pygments_lexer": "ipython3",
   "version": "3.5.1"
  }
 },
 "nbformat": 4,
 "nbformat_minor": 0
}
