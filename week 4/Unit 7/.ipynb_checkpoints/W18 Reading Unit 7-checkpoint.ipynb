{
 "cells": [
  {
   "cell_type": "markdown",
   "metadata": {
    "collapsed": true
   },
   "source": [
    "# Classes "
   ]
  },
  {
   "cell_type": "markdown",
   "metadata": {},
   "source": [
    "## Classes Introduction "
   ]
  },
  {
   "cell_type": "markdown",
   "metadata": {},
   "source": [
    "To solve hard problems effectively, we need powerful and specialized data structures \n",
    "\n",
    "    For inits and strs, to lists, sets and dicts.\n",
    "    \n",
    "    we've seen how these different types can help us solve problems effectively\n",
    "Now we'll see how you can cerate your own classes/types in Python\n",
    "\n",
    "Why create your own types?\n",
    "    \n",
    "    Can be more complicated than built in types \n",
    "    \n",
    "    Can be tailored to specific tasks\n",
    "    \n",
    "    Don't jusr store data-classes can interact with each other and perform extensve computations\n",
    "    \n",
    "    In fact, most large scale software development is object oriented, meaning most of what developers actually do is design new types \n",
    "    \n",
    "what exactly is a type, and how it relate to objects?\n",
    "\n",
    "    a class/type is a template for making objects. It defines methods and other attributes shared by all objects it creates.\n",
    "    \n",
    "    an object is an instance of class. Each instance shares (many of) the same behaviors, but is filled with its onw, possibly unique, data.\n",
    "   \n",
    "Attibutes\n",
    "    \n",
    "    when we create a class, we have to decide what outward behaviors we want its instances to share\n",
    "    \n",
    "    these outward behaviors are what we call attributes \n",
    "    \n",
    "        they include methods as well s other data \n",
    "     \n",
    "     e.g. a student object might contain:\n",
    "         \n",
    "         Methods: s.add_calss(), s.get_gpa(),...\n",
    "         \n",
    "         Data: s.first_name, s.last_name ,..."
   ]
  },
  {
   "cell_type": "markdown",
   "metadata": {},
   "source": [
    "##  Classes "
   ]
  },
  {
   "cell_type": "code",
   "execution_count": 1,
   "metadata": {
    "collapsed": true
   },
   "outputs": [],
   "source": [
    "class Drone:\n",
    "    \"\"\"A representation of a drone aircraft\"\"\""
   ]
  },
  {
   "cell_type": "code",
   "execution_count": 4,
   "metadata": {
    "collapsed": true
   },
   "outputs": [],
   "source": [
    "?Drone\n",
    "# to check what this is "
   ]
  },
  {
   "cell_type": "code",
   "execution_count": 8,
   "metadata": {
    "collapsed": false
   },
   "outputs": [
    {
     "name": "stdout",
     "output_type": "stream",
     "text": [
      "d1 has type <class '__main__.Drone'> d2 has type <class '__main__.Drone'>\n"
     ]
    }
   ],
   "source": [
    "d1 = Drone()\n",
    "d2 = Drone()\n",
    "print(\"d1 has type\", type(d1), \"d2 has type\", type(d2))"
   ]
  },
  {
   "cell_type": "markdown",
   "metadata": {},
   "source": [
    "### Data Attributes"
   ]
  },
  {
   "cell_type": "code",
   "execution_count": 22,
   "metadata": {
    "collapsed": true
   },
   "outputs": [],
   "source": [
    "# first way is to do it manually \n",
    "Drone.power_system = \"Battery\"\n",
    "# this is a class attribute, we give the whole class Drone an attribute \n",
    "# called \"Battery\""
   ]
  },
  {
   "cell_type": "code",
   "execution_count": 23,
   "metadata": {
    "collapsed": false
   },
   "outputs": [
    {
     "name": "stdout",
     "output_type": "stream",
     "text": [
      "Battery\n",
      "Battery\n",
      "Battery\n"
     ]
    }
   ],
   "source": [
    "# Therefore, all the instances of the class will have the attribute Battery\n",
    "# under power_system\n",
    "print(d1.power_system)\n",
    "print(d2.power_system)\n",
    "print(Drone.power_system)"
   ]
  },
  {
   "cell_type": "code",
   "execution_count": 24,
   "metadata": {
    "collapsed": true
   },
   "outputs": [],
   "source": [
    " d1.power_system = \"Gasoline\"\n",
    "# now we give d1 an attribute called power_system"
   ]
  },
  {
   "cell_type": "code",
   "execution_count": 56,
   "metadata": {
    "collapsed": false
   },
   "outputs": [
    {
     "name": "stdout",
     "output_type": "stream",
     "text": [
      "dream\n",
      "battery\n",
      "battery\n"
     ]
    }
   ],
   "source": [
    "print(d1.power_system)\n",
    "print(d2.power_system)\n",
    "print(Drone.power_system)"
   ]
  },
  {
   "cell_type": "code",
   "execution_count": 27,
   "metadata": {
    "collapsed": true
   },
   "outputs": [],
   "source": [
    "# now let's give the objects some more attributes called altitude\n",
    "d1.altitude = 100\n",
    "d2.altitude = 150"
   ]
  },
  {
   "cell_type": "code",
   "execution_count": 29,
   "metadata": {
    "collapsed": false
   },
   "outputs": [
    {
     "name": "stdout",
     "output_type": "stream",
     "text": [
      "100\n",
      "150\n"
     ]
    }
   ],
   "source": [
    "print(d1.altitude)\n",
    "print(d2.altitude)"
   ]
  },
  {
   "cell_type": "code",
   "execution_count": 30,
   "metadata": {
    "collapsed": false
   },
   "outputs": [
    {
     "data": {
      "text/plain": [
       "['__class__',\n",
       " '__delattr__',\n",
       " '__dict__',\n",
       " '__dir__',\n",
       " '__doc__',\n",
       " '__eq__',\n",
       " '__format__',\n",
       " '__ge__',\n",
       " '__getattribute__',\n",
       " '__gt__',\n",
       " '__hash__',\n",
       " '__init__',\n",
       " '__le__',\n",
       " '__lt__',\n",
       " '__module__',\n",
       " '__ne__',\n",
       " '__new__',\n",
       " '__reduce__',\n",
       " '__reduce_ex__',\n",
       " '__repr__',\n",
       " '__setattr__',\n",
       " '__sizeof__',\n",
       " '__str__',\n",
       " '__subclasshook__',\n",
       " '__weakref__',\n",
       " 'altitude',\n",
       " 'power_system']"
      ]
     },
     "execution_count": 30,
     "metadata": {},
     "output_type": "execute_result"
    }
   ],
   "source": [
    "dir(d1)\n",
    "# this will check what are the attributes the this object have "
   ]
  },
  {
   "cell_type": "code",
   "execution_count": 32,
   "metadata": {
    "collapsed": false
   },
   "outputs": [
    {
     "data": {
      "text/plain": [
       "__main__.Drone"
      ]
     },
     "execution_count": 32,
     "metadata": {},
     "output_type": "execute_result"
    }
   ],
   "source": [
    "# let's check some of the built in attributs \n",
    "#(notice these built in attributrs start and end with __ )\n",
    "d1.__class__"
   ]
  },
  {
   "cell_type": "code",
   "execution_count": 34,
   "metadata": {
    "collapsed": false
   },
   "outputs": [
    {
     "data": {
      "text/plain": [
       "{'altitude': 100, 'power_system': 'Gasoline'}"
      ]
     },
     "execution_count": 34,
     "metadata": {},
     "output_type": "execute_result"
    }
   ],
   "source": [
    "# let's check another built in attributs, the dictionary\n",
    "d1.__dict__"
   ]
  },
  {
   "cell_type": "markdown",
   "metadata": {},
   "source": [
    "### Using the Class Definition"
   ]
  },
  {
   "cell_type": "code",
   "execution_count": 36,
   "metadata": {
    "collapsed": true
   },
   "outputs": [],
   "source": [
    "\n",
    "class Drone:    #defines a class \n",
    "    \n",
    "    power_ststem = \"battery\"    # this is a class attribute because it is \n",
    "                                # insied the class definition\n",
    "    def fly(self):     \n",
    "        return \"The frone is flying\""
   ]
  },
  {
   "cell_type": "code",
   "execution_count": 37,
   "metadata": {
    "collapsed": false
   },
   "outputs": [
    {
     "name": "stdout",
     "output_type": "stream",
     "text": [
      "The frone is flying\n"
     ]
    }
   ],
   "source": [
    "d = Drone()   # create a drone instance \n",
    "print(d.fly())"
   ]
  },
  {
   "cell_type": "code",
   "execution_count": 44,
   "metadata": {
    "collapsed": true
   },
   "outputs": [],
   "source": [
    "class Drone:    #defines a class \n",
    "    \n",
    "    power_system = \"battery\"    # this is a class attribute because it is \n",
    "                                # insied the class definition\n",
    "    def fly(self):              # this self means the instance specificly\n",
    "                                # we can therefore, use it to call the class\n",
    "                                # attributes\n",
    "        return \"The \" + self.power_system + \"-power drone is flying\""
   ]
  },
  {
   "cell_type": "code",
   "execution_count": 47,
   "metadata": {
    "collapsed": false
   },
   "outputs": [
    {
     "name": "stdout",
     "output_type": "stream",
     "text": [
      "The battery-power drone is flying\n"
     ]
    }
   ],
   "source": [
    "d = Drone()   # create a drone instance \n",
    "print(d.fly())"
   ]
  },
  {
   "cell_type": "code",
   "execution_count": 50,
   "metadata": {
    "collapsed": false
   },
   "outputs": [
    {
     "name": "stdout",
     "output_type": "stream",
     "text": [
      "The dream-power drone is flying\n",
      "The battery-power drone is flying\n"
     ]
    }
   ],
   "source": [
    "d1 = Drone()\n",
    "d2 = Drone()\n",
    "d1.power_system = \"dream\"\n",
    "# notice we never create a d2.power_system\n",
    "print(d1.fly())   # we have the def function \n",
    "print(d2.fly())   # python will check to see if there is a class attribute if\n",
    "                  # does not have a instance attribute"
   ]
  },
  {
   "cell_type": "code",
   "execution_count": 55,
   "metadata": {
    "collapsed": false
   },
   "outputs": [
    {
     "name": "stdout",
     "output_type": "stream",
     "text": [
      "The battery-power drone is flying at an altitude of 0\n",
      "The battery-power drone is flying at an altitude of 100\n"
     ]
    }
   ],
   "source": [
    "class Drone:    #defines a class \n",
    "    \n",
    "    power_system = \"battery\"    # this is a class attribute because it is \n",
    "                                # insied the class definition\n",
    "    def fly(self):              # this self means the instance specificly\n",
    "                                # we can therefore, use it to call the class\n",
    "                                # attributes\n",
    "        print( \"The \" + self.power_system + \n",
    "              \"-power drone is flying at an altitude of \" + str(self.altitude))\n",
    "    \n",
    "    def ascend(self,change):    # whatever the argument is we need to shif \n",
    "                                # it after the self!\n",
    "                                # also, notice, you dont need to use self, \n",
    "                                # you can use whatever you want, just change\n",
    "                                # everything from self to what you want.\n",
    "        self.altitude += change\n",
    "\n",
    "d = Drone()\n",
    "d.altitude = 0\n",
    "d.fly()\n",
    "d.ascend(100)\n",
    "d.fly()"
   ]
  },
  {
   "cell_type": "markdown",
   "metadata": {},
   "source": [
    "### Initializing a class"
   ]
  },
  {
   "cell_type": "code",
   "execution_count": 60,
   "metadata": {
    "collapsed": false
   },
   "outputs": [
    {
     "ename": "AttributeError",
     "evalue": "'Drone' object has no attribute 'altitude'",
     "output_type": "error",
     "traceback": [
      "\u001b[1;31m---------------------------------------------------------------------------\u001b[0m",
      "\u001b[1;31mAttributeError\u001b[0m                            Traceback (most recent call last)",
      "\u001b[1;32m<ipython-input-60-45665b218e11>\u001b[0m in \u001b[0;36m<module>\u001b[1;34m()\u001b[0m\n\u001b[0;32m      9\u001b[0m \u001b[0md1\u001b[0m \u001b[1;33m=\u001b[0m \u001b[0mDrone\u001b[0m\u001b[1;33m(\u001b[0m\u001b[1;33m)\u001b[0m\u001b[1;33m\u001b[0m\u001b[0m\n\u001b[0;32m     10\u001b[0m \u001b[1;31m#d1.altitude = 0\u001b[0m\u001b[1;33m\u001b[0m\u001b[1;33m\u001b[0m\u001b[0m\n\u001b[1;32m---> 11\u001b[1;33m \u001b[0md1\u001b[0m\u001b[1;33m.\u001b[0m\u001b[0mfly\u001b[0m\u001b[1;33m(\u001b[0m\u001b[1;33m)\u001b[0m\u001b[1;33m\u001b[0m\u001b[0m\n\u001b[0m\u001b[0;32m     12\u001b[0m \u001b[0md1\u001b[0m\u001b[1;33m.\u001b[0m\u001b[0mascend\u001b[0m\u001b[1;33m(\u001b[0m\u001b[1;36m100\u001b[0m\u001b[1;33m)\u001b[0m\u001b[1;33m\u001b[0m\u001b[0m\n\u001b[0;32m     13\u001b[0m \u001b[0md1\u001b[0m\u001b[1;33m.\u001b[0m\u001b[0mfly\u001b[0m\u001b[1;33m(\u001b[0m\u001b[1;33m)\u001b[0m\u001b[1;33m\u001b[0m\u001b[0m\n",
      "\u001b[1;32m<ipython-input-60-45665b218e11>\u001b[0m in \u001b[0;36mfly\u001b[1;34m(self)\u001b[0m\n\u001b[0;32m      2\u001b[0m \u001b[1;33m\u001b[0m\u001b[0m\n\u001b[0;32m      3\u001b[0m     \u001b[1;32mdef\u001b[0m \u001b[0mfly\u001b[0m\u001b[1;33m(\u001b[0m\u001b[0mself\u001b[0m\u001b[1;33m)\u001b[0m\u001b[1;33m:\u001b[0m\u001b[1;33m\u001b[0m\u001b[0m\n\u001b[1;32m----> 4\u001b[1;33m         \u001b[0mprint\u001b[0m\u001b[1;33m(\u001b[0m \u001b[1;34m\"The drone is flying at\"\u001b[0m\u001b[1;33m,\u001b[0m \u001b[0mself\u001b[0m\u001b[1;33m.\u001b[0m\u001b[0maltitude\u001b[0m\u001b[1;33m,\u001b[0m\u001b[1;34m\"feet.\"\u001b[0m\u001b[1;33m)\u001b[0m\u001b[1;33m\u001b[0m\u001b[0m\n\u001b[0m\u001b[0;32m      5\u001b[0m \u001b[1;33m\u001b[0m\u001b[0m\n\u001b[0;32m      6\u001b[0m     \u001b[1;32mdef\u001b[0m \u001b[0mascend\u001b[0m\u001b[1;33m(\u001b[0m\u001b[0mself\u001b[0m\u001b[1;33m,\u001b[0m\u001b[0mchange\u001b[0m\u001b[1;33m)\u001b[0m\u001b[1;33m:\u001b[0m\u001b[1;33m\u001b[0m\u001b[0m\n",
      "\u001b[1;31mAttributeError\u001b[0m: 'Drone' object has no attribute 'altitude'"
     ]
    }
   ],
   "source": [
    "class Drone:    #defines a class \n",
    "    \n",
    "    def fly(self):\n",
    "        print( \"The drone is flying at\", self.altitude,\"feet.\")\n",
    "    \n",
    "    def ascend(self,change):    \n",
    "        self.altitude += change\n",
    "\n",
    "d1 = Drone()\n",
    "#d1.altitude = 0\n",
    "d1.fly()\n",
    "d1.ascend(100)\n",
    "d1.fly()"
   ]
  },
  {
   "cell_type": "code",
   "execution_count": 67,
   "metadata": {
    "collapsed": false
   },
   "outputs": [
    {
     "name": "stdout",
     "output_type": "stream",
     "text": [
      "The drone is flying at 100 feet.\n",
      "The drone is flying at 200 feet.\n",
      "The drone is flying at 0 feet.\n"
     ]
    }
   ],
   "source": [
    "class Drone:    #defines a class \n",
    "    \n",
    "    def __init__(self,altitude = 0):   #initializing the instance \n",
    "                                        # set = 0 gives it a default value\n",
    "        self.altitude = altitude\n",
    "    \n",
    "    def fly(self):\n",
    "        print( \"The drone is flying at\", self.altitude,\"feet.\")\n",
    "    \n",
    "    def ascend(self,change):    \n",
    "        self.altitude += change\n",
    "\n",
    "d1 = Drone(100)\n",
    "#d1.altitude = 0\n",
    "d1.fly()\n",
    "d1.ascend(100)\n",
    "d1.fly()\n",
    "d2 = Drone()\n",
    "#d2.altitude = 0\n",
    "d2.fly()"
   ]
  },
  {
   "cell_type": "markdown",
   "metadata": {},
   "source": [
    "### Countring with Data Attributes"
   ]
  },
  {
   "cell_type": "code",
   "execution_count": 2,
   "metadata": {
    "collapsed": false
   },
   "outputs": [
    {
     "name": "stdout",
     "output_type": "stream",
     "text": [
      "Number of drones:  1\n",
      "d1 ascend count 0\n",
      "The drone is flying at 100 feet.\n",
      "d1 ascend count 2\n",
      "The drone is flying at 300 feet.\n",
      "The drone is flying at 0 feet.\n",
      "Number of drones:  2\n",
      "The drone is flying at 0 feet.\n",
      "Number of drones:  2\n"
     ]
    }
   ],
   "source": [
    "class Drone:    #defines a class \n",
    "    \n",
    "    num_drones = 0\n",
    "    \n",
    "    def __init__(self,altitude = 0):   #initializing the instance \n",
    "                                        # set = 0 gives it a default value\n",
    "        self.altitude = altitude\n",
    "        self.ascend_count = 0\n",
    "        Drone.num_drones += 1\n",
    "    def fly(self):\n",
    "        print( \"The drone is flying at\", self.altitude,\"feet.\")\n",
    "    \n",
    "    def ascend(self,change):    \n",
    "        self.altitude += change\n",
    "        self.ascend_count += 1\n",
    "\n",
    "d1 = Drone(100)\n",
    "print(\"Number of drones: \",Drone.num_drones)\n",
    "print(\"d1 ascend count\", d1.ascend_count)\n",
    "d1.fly()\n",
    "d1.ascend(100)\n",
    "d1.ascend(100)\n",
    "print(\"d1 ascend count\", d1.ascend_count)\n",
    "d1.fly()\n",
    "d2 = Drone()\n",
    "d2.fly()\n",
    "print(\"Number of drones: \",d1.num_drones)\n",
    "d2.fly()\n",
    "print(\"Number of drones: \",d1.num_drones)"
   ]
  },
  {
   "cell_type": "markdown",
   "metadata": {},
   "source": [
    "### Direct Access versus Getters and Setters"
   ]
  },
  {
   "cell_type": "code",
   "execution_count": 3,
   "metadata": {
    "collapsed": false
   },
   "outputs": [
    {
     "name": "stdout",
     "output_type": "stream",
     "text": [
      "The Drone's altitude is 100\n",
      "The Drone's altitude is 300\n"
     ]
    }
   ],
   "source": [
    "class Drone:    \n",
    "    \n",
    "    num_drones = 0\n",
    "    \n",
    "    def __init__(self,altitude = 0):   \n",
    "        self.altitude = altitude\n",
    "        self.ascend_count = 0\n",
    "        Drone.num_drones += 1\n",
    "    \n",
    "    def fly(self):\n",
    "        print( \"The drone is flying at\", self.altitude,\"feet.\")\n",
    "    \n",
    "    def ascend(self,change):    \n",
    "        self.altitude += change\n",
    "        self.ascend_count += 1\n",
    "\n",
    "d1 = Drone(100)\n",
    "print(\"The Drone's altitude is\",d1.altitude)\n",
    "d1.altitude = 300\n",
    "print(\"The Drone's altitude is\",d1.altitude)"
   ]
  },
  {
   "cell_type": "code",
   "execution_count": 7,
   "metadata": {
    "collapsed": false
   },
   "outputs": [
    {
     "name": "stdout",
     "output_type": "stream",
     "text": [
      "The Drone's altitude is 100\n",
      "The Drone's altitude is 300\n"
     ]
    }
   ],
   "source": [
    "# Getters and Setters method\n",
    "class Drone:    \n",
    "    \n",
    "    num_drones = 0\n",
    "    \n",
    "    def __init__(self,altitude = 0):   \n",
    "        self.altitude = altitude\n",
    "        self.ascend_count = 0\n",
    "        Drone.num_drones += 1\n",
    "    \n",
    "    def fly(self):\n",
    "        print( \"The drone is flying at\", self.altitude,\"feet.\")\n",
    "    \n",
    "    def ascend(self,change):    \n",
    "        self.altitude += change\n",
    "        self.ascend_count += 1\n",
    "    \n",
    "    def get_altitude(self):\n",
    "        return self.altitude\n",
    "    \n",
    "    def set_altitude(self,new_altitude):\n",
    "        self.altitude = new_altitude\n",
    "\n",
    "d1 = Drone(100)\n",
    "print(\"The Drone's altitude is\",d1.get_altitude())\n",
    "d1.set_altitude(300)\n",
    "print(\"The Drone's altitude is\",d1.get_altitude())"
   ]
  },
  {
   "cell_type": "code",
   "execution_count": 9,
   "metadata": {
    "collapsed": false
   },
   "outputs": [
    {
     "name": "stdout",
     "output_type": "stream",
     "text": [
      "The Drone's altitude is 100\n"
     ]
    },
    {
     "ename": "Exception",
     "evalue": "Drone cannot have a negative altitude",
     "output_type": "error",
     "traceback": [
      "\u001b[1;31m---------------------------------------------------------------------------\u001b[0m",
      "\u001b[1;31mException\u001b[0m                                 Traceback (most recent call last)",
      "\u001b[1;32m<ipython-input-9-9a373ec4926a>\u001b[0m in \u001b[0;36m<module>\u001b[1;34m()\u001b[0m\n\u001b[0;32m     28\u001b[0m \u001b[0md1\u001b[0m \u001b[1;33m=\u001b[0m \u001b[0mDrone\u001b[0m\u001b[1;33m(\u001b[0m\u001b[1;36m100\u001b[0m\u001b[1;33m)\u001b[0m\u001b[1;33m\u001b[0m\u001b[0m\n\u001b[0;32m     29\u001b[0m \u001b[0mprint\u001b[0m\u001b[1;33m(\u001b[0m\u001b[1;34m\"The Drone's altitude is\"\u001b[0m\u001b[1;33m,\u001b[0m\u001b[0md1\u001b[0m\u001b[1;33m.\u001b[0m\u001b[0mget_altitude\u001b[0m\u001b[1;33m(\u001b[0m\u001b[1;33m)\u001b[0m\u001b[1;33m)\u001b[0m\u001b[1;33m\u001b[0m\u001b[0m\n\u001b[1;32m---> 30\u001b[1;33m \u001b[0md1\u001b[0m\u001b[1;33m.\u001b[0m\u001b[0mset_altitude\u001b[0m\u001b[1;33m(\u001b[0m\u001b[1;33m-\u001b[0m\u001b[1;36m1\u001b[0m\u001b[1;33m)\u001b[0m\u001b[1;33m\u001b[0m\u001b[0m\n\u001b[0m\u001b[0;32m     31\u001b[0m \u001b[0mprint\u001b[0m\u001b[1;33m(\u001b[0m\u001b[1;34m\"The Drone's altitude is\"\u001b[0m\u001b[1;33m,\u001b[0m\u001b[0md1\u001b[0m\u001b[1;33m.\u001b[0m\u001b[0mget_altitude\u001b[0m\u001b[1;33m(\u001b[0m\u001b[1;33m)\u001b[0m\u001b[1;33m)\u001b[0m\u001b[1;33m\u001b[0m\u001b[0m\n",
      "\u001b[1;32m<ipython-input-9-9a373ec4926a>\u001b[0m in \u001b[0;36mset_altitude\u001b[1;34m(self, new_altitude)\u001b[0m\n\u001b[0;32m     22\u001b[0m     \u001b[1;32mdef\u001b[0m \u001b[0mset_altitude\u001b[0m\u001b[1;33m(\u001b[0m\u001b[0mself\u001b[0m\u001b[1;33m,\u001b[0m\u001b[0mnew_altitude\u001b[0m\u001b[1;33m)\u001b[0m\u001b[1;33m:\u001b[0m\u001b[1;33m\u001b[0m\u001b[0m\n\u001b[0;32m     23\u001b[0m         \u001b[1;32mif\u001b[0m \u001b[0mnew_altitude\u001b[0m \u001b[1;33m<\u001b[0m \u001b[1;36m0\u001b[0m\u001b[1;33m:\u001b[0m\u001b[1;33m\u001b[0m\u001b[0m\n\u001b[1;32m---> 24\u001b[1;33m             \u001b[1;32mraise\u001b[0m \u001b[0mException\u001b[0m\u001b[1;33m(\u001b[0m\u001b[1;34m\"Drone cannot have a negative altitude\"\u001b[0m\u001b[1;33m)\u001b[0m\u001b[1;33m\u001b[0m\u001b[0m\n\u001b[0m\u001b[0;32m     25\u001b[0m         \u001b[0mself\u001b[0m\u001b[1;33m.\u001b[0m\u001b[0maltitude\u001b[0m \u001b[1;33m=\u001b[0m \u001b[0mnew_altitude\u001b[0m\u001b[1;33m\u001b[0m\u001b[0m\n\u001b[0;32m     26\u001b[0m \u001b[1;33m\u001b[0m\u001b[0m\n",
      "\u001b[1;31mException\u001b[0m: Drone cannot have a negative altitude"
     ]
    }
   ],
   "source": [
    "# Getters and Setters method\n",
    "\n",
    "class Drone:    \n",
    "    \n",
    "    num_drones = 0\n",
    "    \n",
    "    def __init__(self,altitude = 0):   \n",
    "        self.altitude = altitude\n",
    "        self.ascend_count = 0\n",
    "        Drone.num_drones += 1\n",
    "    \n",
    "    def fly(self):\n",
    "        print( \"The drone is flying at\", self.altitude,\"feet.\")\n",
    "    \n",
    "    def ascend(self,change):    \n",
    "        self.altitude += change\n",
    "        self.ascend_count += 1\n",
    "    \n",
    "    def get_altitude(self):\n",
    "        return self.altitude\n",
    "    \n",
    "    def set_altitude(self,new_altitude):\n",
    "        if new_altitude < 0:\n",
    "            raise Exception(\"Drone cannot have a negative altitude\")\n",
    "        self.altitude = new_altitude\n",
    "        \n",
    "\n",
    "d1 = Drone(100)\n",
    "print(\"The Drone's altitude is\",d1.get_altitude())\n",
    "d1.set_altitude(-1)\n",
    "print(\"The Drone's altitude is\",d1.get_altitude())"
   ]
  },
  {
   "cell_type": "code",
   "execution_count": 11,
   "metadata": {
    "collapsed": false
   },
   "outputs": [
    {
     "name": "stdout",
     "output_type": "stream",
     "text": [
      "The Drone's altitude is 100\n",
      "The Drone's altitude is -10\n"
     ]
    }
   ],
   "source": [
    "# Getters and Setters method\n",
    "\n",
    "class Drone:    \n",
    "    \n",
    "    num_drones = 0\n",
    "    \n",
    "    def __init__(self,altitude = 0):   \n",
    "        self.altitude = altitude\n",
    "        self.ascend_count = 0\n",
    "        Drone.num_drones += 1\n",
    "    \n",
    "    def fly(self):\n",
    "        print( \"The drone is flying at\", self.altitude,\"feet.\")\n",
    "    \n",
    "    def ascend(self,change):    \n",
    "        self.altitude += change\n",
    "        self.ascend_count += 1\n",
    "    \n",
    "    def get_altitude(self):\n",
    "        return self.altitude\n",
    "    \n",
    "    def set_altitude(self,new_altitude):\n",
    "        if new_altitude < 0:\n",
    "            raise Exception(\"Drone cannot have a negative altitude\")\n",
    "        self.altitude = new_altitude\n",
    "        \n",
    "\n",
    "d1 = Drone(100)\n",
    "print(\"The Drone's altitude is\",d1.get_altitude())\n",
    "d1.set_altitude(300)\n",
    "d1.altitude = -10    ################ How can we prevent this ?\n",
    "print(\"The Drone's altitude is\",d1.get_altitude())"
   ]
  },
  {
   "cell_type": "markdown",
   "metadata": {},
   "source": [
    "### Hidden attributes"
   ]
  },
  {
   "cell_type": "code",
   "execution_count": 16,
   "metadata": {
    "collapsed": false
   },
   "outputs": [
    {
     "name": "stdout",
     "output_type": "stream",
     "text": [
      "The Drone's altitude is 100\n"
     ]
    },
    {
     "ename": "AttributeError",
     "evalue": "'Drone' object has no attribute 'altitude'",
     "output_type": "error",
     "traceback": [
      "\u001b[1;31m---------------------------------------------------------------------------\u001b[0m",
      "\u001b[1;31mAttributeError\u001b[0m                            Traceback (most recent call last)",
      "\u001b[1;32m<ipython-input-16-4f4ba7cd2320>\u001b[0m in \u001b[0;36m<module>\u001b[1;34m()\u001b[0m\n\u001b[0;32m     30\u001b[0m \u001b[0mprint\u001b[0m\u001b[1;33m(\u001b[0m\u001b[1;34m\"The Drone's altitude is\"\u001b[0m\u001b[1;33m,\u001b[0m\u001b[0md1\u001b[0m\u001b[1;33m.\u001b[0m\u001b[0mget_altitude\u001b[0m\u001b[1;33m(\u001b[0m\u001b[1;33m)\u001b[0m\u001b[1;33m)\u001b[0m\u001b[1;33m\u001b[0m\u001b[0m\n\u001b[0;32m     31\u001b[0m \u001b[0md1\u001b[0m\u001b[1;33m.\u001b[0m\u001b[0mset_altitude\u001b[0m\u001b[1;33m(\u001b[0m\u001b[1;36m300\u001b[0m\u001b[1;33m)\u001b[0m\u001b[1;33m\u001b[0m\u001b[0m\n\u001b[1;32m---> 32\u001b[1;33m \u001b[0mprint\u001b[0m\u001b[1;33m(\u001b[0m\u001b[1;34m\"The drone's altitude is \"\u001b[0m\u001b[1;33m,\u001b[0m \u001b[0md1\u001b[0m\u001b[1;33m.\u001b[0m\u001b[0maltitude\u001b[0m\u001b[1;33m)\u001b[0m \u001b[1;31m# this will however gives an\u001b[0m\u001b[1;33m\u001b[0m\u001b[0m\n\u001b[0m\u001b[0;32m     33\u001b[0m                                                \u001b[1;31m# error\u001b[0m\u001b[1;33m\u001b[0m\u001b[1;33m\u001b[0m\u001b[0m\n\u001b[0;32m     34\u001b[0m \u001b[0mprint\u001b[0m\u001b[1;33m(\u001b[0m\u001b[1;34m\"The Drone's altitude is\"\u001b[0m\u001b[1;33m,\u001b[0m\u001b[0md1\u001b[0m\u001b[1;33m.\u001b[0m\u001b[0mget_altitude\u001b[0m\u001b[1;33m(\u001b[0m\u001b[1;33m)\u001b[0m\u001b[1;33m)\u001b[0m\u001b[1;33m\u001b[0m\u001b[0m\n",
      "\u001b[1;31mAttributeError\u001b[0m: 'Drone' object has no attribute 'altitude'"
     ]
    }
   ],
   "source": [
    "# we solve the problem by using hidden attributes\n",
    "# if I want to make an attribute into a hidden one, add to __\n",
    "\n",
    "class Drone:    \n",
    "    \n",
    "    num_drones = 0\n",
    "    \n",
    "    def __init__(self,altitude = 0):   \n",
    "        self.__altitude = altitude\n",
    "        self.ascend_count = 0\n",
    "        Drone.num_drones += 1\n",
    "    \n",
    "    def fly(self):\n",
    "        print( \"The drone is flying at\", self.__altitude,\"feet.\")\n",
    "    \n",
    "    def ascend(self,change):    \n",
    "        self.__altitude += change\n",
    "        self.ascend_count += 1\n",
    "    \n",
    "    def get_altitude(self):\n",
    "        return self.__altitude\n",
    "    \n",
    "    def set_altitude(self,new_altitude):\n",
    "        if new_altitude < 0:\n",
    "            raise Exception(\"Drone cannot have a negative altitude\")\n",
    "        self.__altitude = new_altitude\n",
    "        \n",
    "\n",
    "d1 = Drone(100)\n",
    "print(\"The Drone's altitude is\",d1.get_altitude())\n",
    "d1.set_altitude(300)\n",
    "print(\"The drone's altitude is \", d1.altitude) # this will however gives an\n",
    "                                               # error\n",
    "print(\"The Drone's altitude is\",d1.get_altitude())"
   ]
  },
  {
   "cell_type": "markdown",
   "metadata": {},
   "source": [
    "### Overriding Hidden Attributes"
   ]
  },
  {
   "cell_type": "code",
   "execution_count": 20,
   "metadata": {
    "collapsed": false
   },
   "outputs": [
    {
     "name": "stdout",
     "output_type": "stream",
     "text": [
      "The Drone's altitude is 100\n",
      "The drone's altitude is  300\n",
      "The Drone's altitude is 300\n"
     ]
    }
   ],
   "source": [
    "# we solve the problem by using hidden attributes\n",
    "# if I want to make an attribute into a hidden one, add to __\n",
    "\n",
    "class Drone:    \n",
    "    \n",
    "    num_drones = 0\n",
    "    \n",
    "    def __init__(self,altitude = 0):   \n",
    "        self.__altitude = altitude\n",
    "        self.ascend_count = 0\n",
    "        Drone.num_drones += 1\n",
    "    \n",
    "    def fly(self):\n",
    "        print( \"The drone is flying at\", self.__altitude,\"feet.\")\n",
    "    \n",
    "    def ascend(self,change):    \n",
    "        self.__altitude += change\n",
    "        self.ascend_count += 1\n",
    "    \n",
    "    def get_altitude(self):\n",
    "        return self.__altitude\n",
    "    \n",
    "    def set_altitude(self,new_altitude):\n",
    "        if new_altitude < 0:\n",
    "            raise Exception(\"Drone cannot have a negative altitude\")\n",
    "        self.__altitude = new_altitude\n",
    "        \n",
    "\n",
    "d1 = Drone(100)\n",
    "print(\"The Drone's altitude is\",d1.get_altitude())\n",
    "d1._Drone__altitude = 300   #_classname__attribute  OVERRIDING!!\n",
    "print(\"The drone's altitude is \", d1._Drone__altitude) #_classname__attribute\n",
    "print(\"The Drone's altitude is\",d1.get_altitude())"
   ]
  },
  {
   "cell_type": "markdown",
   "metadata": {},
   "source": [
    "### Class Odds and Ends"
   ]
  },
  {
   "cell_type": "markdown",
   "metadata": {},
   "source": [
    "#### Properties "
   ]
  },
  {
   "cell_type": "code",
   "execution_count": 22,
   "metadata": {
    "collapsed": false
   },
   "outputs": [
    {
     "name": "stdout",
     "output_type": "stream",
     "text": [
      "The Drone's altitude is 100\n",
      "The Drone's altitude is 300\n"
     ]
    }
   ],
   "source": [
    "class Drone:\n",
    "    def __init__(self,altitude = 0):\n",
    "        self.altitude=altitude\n",
    "        self.ascend_count = 0\n",
    "    def fly(self):\n",
    "        print(\"The drone is flying at\", self.altitude,\"feet.\")\n",
    "    def ascend(self,change):\n",
    "        self.altitude += change\n",
    "        self.ascend_count += 1\n",
    "d1 = Drone(100)\n",
    "print(\"The Drone's altitude is\", d1.altitude)\n",
    "d1.altitude = 300\n",
    "print(\"The Drone's altitude is\", d1.altitude)"
   ]
  },
  {
   "cell_type": "code",
   "execution_count": 24,
   "metadata": {
    "collapsed": false
   },
   "outputs": [
    {
     "name": "stdout",
     "output_type": "stream",
     "text": [
      "The Drone's altitude is 100\n",
      "The Drone's altitude is 300\n"
     ]
    }
   ],
   "source": [
    "class Drone:\n",
    "    def __init__(self,altitude = 0):\n",
    "        self.__altitude = altitude\n",
    "        self.ascend_count = 0\n",
    "        \n",
    "    def fly(self):\n",
    "        print(\"The drone is flying at\", self.__altitude,\"feet.\")\n",
    "        \n",
    "    def ascend(self,change):\n",
    "        self.__altitude += change\n",
    "        self.ascend_count += 1\n",
    "        \n",
    "    def get_altitude(self):\n",
    "        return self.__altitude\n",
    "    \n",
    "    def set_altitude(self, new_altitude):\n",
    "        if new_altitude < 0:\n",
    "            raise Exception(\"Drone cannot have a negative altitude.\")\n",
    "        self.__altitude = new_altitude\n",
    "    \n",
    "    altitude = property(get_altitude,set_altitude)\n",
    "\n",
    "d1 = Drone(100)\n",
    "print(\"The Drone's altitude is\", d1.altitude)\n",
    "\n",
    "d1.altitude = 300\n",
    "print(\"The Drone's altitude is\", d1.altitude)\n",
    "\n"
   ]
  },
  {
   "cell_type": "code",
   "execution_count": 25,
   "metadata": {
    "collapsed": false
   },
   "outputs": [
    {
     "ename": "Exception",
     "evalue": "Drone cannot have a negative altitude.",
     "output_type": "error",
     "traceback": [
      "\u001b[1;31m---------------------------------------------------------------------------\u001b[0m",
      "\u001b[1;31mException\u001b[0m                                 Traceback (most recent call last)",
      "\u001b[1;32m<ipython-input-25-0611421cea68>\u001b[0m in \u001b[0;36m<module>\u001b[1;34m()\u001b[0m\n\u001b[1;32m----> 1\u001b[1;33m \u001b[0md1\u001b[0m\u001b[1;33m.\u001b[0m\u001b[0maltitude\u001b[0m \u001b[1;33m=\u001b[0m \u001b[1;33m-\u001b[0m\u001b[1;36m10\u001b[0m\u001b[1;33m\u001b[0m\u001b[0m\n\u001b[0m",
      "\u001b[1;32m<ipython-input-24-cddab28ae739>\u001b[0m in \u001b[0;36mset_altitude\u001b[1;34m(self, new_altitude)\u001b[0m\n\u001b[0;32m     16\u001b[0m     \u001b[1;32mdef\u001b[0m \u001b[0mset_altitude\u001b[0m\u001b[1;33m(\u001b[0m\u001b[0mself\u001b[0m\u001b[1;33m,\u001b[0m \u001b[0mnew_altitude\u001b[0m\u001b[1;33m)\u001b[0m\u001b[1;33m:\u001b[0m\u001b[1;33m\u001b[0m\u001b[0m\n\u001b[0;32m     17\u001b[0m         \u001b[1;32mif\u001b[0m \u001b[0mnew_altitude\u001b[0m \u001b[1;33m<\u001b[0m \u001b[1;36m0\u001b[0m\u001b[1;33m:\u001b[0m\u001b[1;33m\u001b[0m\u001b[0m\n\u001b[1;32m---> 18\u001b[1;33m             \u001b[1;32mraise\u001b[0m \u001b[0mException\u001b[0m\u001b[1;33m(\u001b[0m\u001b[1;34m\"Drone cannot have a negative altitude.\"\u001b[0m\u001b[1;33m)\u001b[0m\u001b[1;33m\u001b[0m\u001b[0m\n\u001b[0m\u001b[0;32m     19\u001b[0m         \u001b[0mself\u001b[0m\u001b[1;33m.\u001b[0m\u001b[0m__altitude\u001b[0m \u001b[1;33m=\u001b[0m \u001b[0mnew_altitude\u001b[0m\u001b[1;33m\u001b[0m\u001b[0m\n\u001b[0;32m     20\u001b[0m \u001b[1;33m\u001b[0m\u001b[0m\n",
      "\u001b[1;31mException\u001b[0m: Drone cannot have a negative altitude."
     ]
    }
   ],
   "source": [
    "d1.altitude = -10"
   ]
  },
  {
   "cell_type": "code",
   "execution_count": 28,
   "metadata": {
    "collapsed": false
   },
   "outputs": [
    {
     "name": "stdout",
     "output_type": "stream",
     "text": [
      "The Drone's altitude is 100\n",
      "The Drone's altitude is 300\n"
     ]
    },
    {
     "ename": "Exception",
     "evalue": "Drone cannot have a negative altitude.",
     "output_type": "error",
     "traceback": [
      "\u001b[1;31m---------------------------------------------------------------------------\u001b[0m",
      "\u001b[1;31mException\u001b[0m                                 Traceback (most recent call last)",
      "\u001b[1;32m<ipython-input-28-219880794b0f>\u001b[0m in \u001b[0;36m<module>\u001b[1;34m()\u001b[0m\n\u001b[0;32m     28\u001b[0m \u001b[0mprint\u001b[0m\u001b[1;33m(\u001b[0m\u001b[1;34m\"The Drone's altitude is\"\u001b[0m\u001b[1;33m,\u001b[0m \u001b[0md1\u001b[0m\u001b[1;33m.\u001b[0m\u001b[0maltitude\u001b[0m\u001b[1;33m)\u001b[0m\u001b[1;33m\u001b[0m\u001b[0m\n\u001b[0;32m     29\u001b[0m \u001b[1;33m\u001b[0m\u001b[0m\n\u001b[1;32m---> 30\u001b[1;33m \u001b[0md1\u001b[0m\u001b[1;33m.\u001b[0m\u001b[0maltitude\u001b[0m \u001b[1;33m=\u001b[0m \u001b[1;33m-\u001b[0m\u001b[1;36m10\u001b[0m\u001b[1;33m\u001b[0m\u001b[0m\n\u001b[0m",
      "\u001b[1;32m<ipython-input-28-219880794b0f>\u001b[0m in \u001b[0;36maltitude\u001b[1;34m(self, new_altitude)\u001b[0m\n\u001b[0;32m     18\u001b[0m     \u001b[1;32mdef\u001b[0m \u001b[0maltitude\u001b[0m\u001b[1;33m(\u001b[0m\u001b[0mself\u001b[0m\u001b[1;33m,\u001b[0m \u001b[0mnew_altitude\u001b[0m\u001b[1;33m)\u001b[0m\u001b[1;33m:\u001b[0m\u001b[1;33m\u001b[0m\u001b[0m\n\u001b[0;32m     19\u001b[0m         \u001b[1;32mif\u001b[0m \u001b[0mnew_altitude\u001b[0m \u001b[1;33m<\u001b[0m \u001b[1;36m0\u001b[0m\u001b[1;33m:\u001b[0m\u001b[1;33m\u001b[0m\u001b[0m\n\u001b[1;32m---> 20\u001b[1;33m             \u001b[1;32mraise\u001b[0m \u001b[0mException\u001b[0m\u001b[1;33m(\u001b[0m\u001b[1;34m\"Drone cannot have a negative altitude.\"\u001b[0m\u001b[1;33m)\u001b[0m\u001b[1;33m\u001b[0m\u001b[0m\n\u001b[0m\u001b[0;32m     21\u001b[0m         \u001b[0mself\u001b[0m\u001b[1;33m.\u001b[0m\u001b[0m__altitude\u001b[0m \u001b[1;33m=\u001b[0m \u001b[0mnew_altitude\u001b[0m\u001b[1;33m\u001b[0m\u001b[0m\n\u001b[0;32m     22\u001b[0m \u001b[1;33m\u001b[0m\u001b[0m\n",
      "\u001b[1;31mException\u001b[0m: Drone cannot have a negative altitude."
     ]
    }
   ],
   "source": [
    "class Drone:\n",
    "    def __init__(self,altitude = 0):\n",
    "        self.__altitude = altitude\n",
    "        self.ascend_count = 0\n",
    "        \n",
    "    def fly(self):\n",
    "        print(\"The drone is flying at\", self.__altitude,\"feet.\")\n",
    "        \n",
    "    def ascend(self,change):\n",
    "        self.__altitude += change\n",
    "        self.ascend_count += 1\n",
    "        \n",
    "    @property\n",
    "    def altitude(self):\n",
    "        return self.__altitude\n",
    "    \n",
    "    @altitude.setter\n",
    "    def altitude(self, new_altitude):\n",
    "        if new_altitude < 0:\n",
    "            raise Exception(\"Drone cannot have a negative altitude.\")\n",
    "        self.__altitude = new_altitude\n",
    "    \n",
    "\n",
    "d1 = Drone(100)\n",
    "print(\"The Drone's altitude is\", d1.altitude)\n",
    "\n",
    "d1.altitude = 300\n",
    "print(\"The Drone's altitude is\", d1.altitude)\n",
    "\n",
    "d1.altitude = -10\n"
   ]
  },
  {
   "cell_type": "markdown",
   "metadata": {},
   "source": [
    "## Class Methods and Static Methods "
   ]
  },
  {
   "cell_type": "code",
   "execution_count": 31,
   "metadata": {
    "collapsed": false
   },
   "outputs": [
    {
     "name": "stdout",
     "output_type": "stream",
     "text": [
      "<class '__main__.Drone'>\n"
     ]
    }
   ],
   "source": [
    "class Drone:\n",
    "    \n",
    "    def __init__(self,altitude = 0):\n",
    "        self.altitude = altitude\n",
    "        self.ascend_count = 0\n",
    "        \n",
    "    def fly(self):\n",
    "        print(\"The drone is flying at\", self.altitude,\"feet.\")\n",
    "        \n",
    "    def ascend(self,change):\n",
    "        self.altitude += change\n",
    "        self.ascend_count += 1\n",
    "    \n",
    "    @classmethod\n",
    "    def print_class(cls):\n",
    "        print(cls)\n",
    "d1 = Drone(100)\n",
    "d1.print_class()"
   ]
  },
  {
   "cell_type": "code",
   "execution_count": 32,
   "metadata": {
    "collapsed": false
   },
   "outputs": [
    {
     "name": "stdout",
     "output_type": "stream",
     "text": [
      "<class '__main__.Drone'>\n"
     ]
    }
   ],
   "source": [
    "Drone.print_class()"
   ]
  },
  {
   "cell_type": "code",
   "execution_count": 36,
   "metadata": {
    "collapsed": false
   },
   "outputs": [
    {
     "name": "stdout",
     "output_type": "stream",
     "text": [
      "1\n",
      "2\n"
     ]
    }
   ],
   "source": [
    "class Drone:\n",
    "    __num_drones = 0\n",
    "    \n",
    "    def __init__(self,altitude = 0):\n",
    "        self.altitude = altitude\n",
    "        self.ascend_count = 0\n",
    "        Drone.__num_drones +=1\n",
    "        \n",
    "    def fly(self):\n",
    "        print(\"The drone is flying at\", self.altitude,\"feet.\")\n",
    "        \n",
    "    def ascend(self,change):\n",
    "        self.altitude += change\n",
    "        self.ascend_count += 1\n",
    "    @classmethod\n",
    "    def get_num_drones(cls):\n",
    "        return cls.__num_drones\n",
    "d1 = Drone(100)\n",
    "print(d1.get_num_drones())\n",
    "d2 = Drone(200)\n",
    "print(d2.get_num_drones())"
   ]
  },
  {
   "cell_type": "code",
   "execution_count": 37,
   "metadata": {
    "collapsed": false
   },
   "outputs": [
    {
     "name": "stdout",
     "output_type": "stream",
     "text": [
      "656.168\n"
     ]
    }
   ],
   "source": [
    "class Drone:\n",
    "    __num_drones = 0\n",
    "    \n",
    "    def __init__(self,altitude = 0):\n",
    "        self.altitude = altitude\n",
    "        self.ascend_count = 0\n",
    "        Drone.__num_drones +=1\n",
    "        \n",
    "    def fly(self):\n",
    "        print(\"The drone is flying at\", self.altitude,\"feet.\")\n",
    "        \n",
    "    def ascend(self,change):\n",
    "        self.altitude += change\n",
    "        self.ascend_count += 1\n",
    "    @classmethod\n",
    "    def get_num_drones(cls):\n",
    "        return cls.__num_drones\n",
    "    \n",
    "    @staticmethod \n",
    "    def feet_from_meters(meters):\n",
    "        return meters * 3.28084\n",
    "    \n",
    "d1 = Drone(100)\n",
    "d1.altitude = Drone.feet_from_meters(200)\n",
    "print(d1.altitude)"
   ]
  }
 ],
 "metadata": {
  "kernelspec": {
   "display_name": "Python 3",
   "language": "python",
   "name": "python3"
  },
  "language_info": {
   "codemirror_mode": {
    "name": "ipython",
    "version": 3
   },
   "file_extension": ".py",
   "mimetype": "text/x-python",
   "name": "python",
   "nbconvert_exporter": "python",
   "pygments_lexer": "ipython3",
   "version": "3.5.1"
  }
 },
 "nbformat": 4,
 "nbformat_minor": 0
}
